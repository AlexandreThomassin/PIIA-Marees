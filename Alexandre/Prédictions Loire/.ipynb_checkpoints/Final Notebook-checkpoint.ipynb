{
 "cells": [
  {
   "cell_type": "code",
   "execution_count": 1,
   "id": "8a425900",
   "metadata": {},
   "outputs": [
    {
     "name": "stderr",
     "output_type": "stream",
     "text": [
      "2023-02-20 15:35:18.942441: I tensorflow/core/platform/cpu_feature_guard.cc:193] This TensorFlow binary is optimized with oneAPI Deep Neural Network Library (oneDNN) to use the following CPU instructions in performance-critical operations:  AVX2 FMA\n",
      "To enable them in other operations, rebuild TensorFlow with the appropriate compiler flags.\n",
      "2023-02-20 15:35:19.843404: E tensorflow/stream_executor/cuda/cuda_blas.cc:2981] Unable to register cuBLAS factory: Attempting to register factory for plugin cuBLAS when one has already been registered\n",
      "2023-02-20 15:35:22.283341: W tensorflow/stream_executor/platform/default/dso_loader.cc:64] Could not load dynamic library 'libnvinfer.so.7'; dlerror: libnvinfer.so.7: cannot open shared object file: No such file or directory; LD_LIBRARY_PATH: /usr/lib/cuda-11.7/lib64:\n",
      "2023-02-20 15:35:22.293359: W tensorflow/stream_executor/platform/default/dso_loader.cc:64] Could not load dynamic library 'libnvinfer_plugin.so.7'; dlerror: libnvinfer_plugin.so.7: cannot open shared object file: No such file or directory; LD_LIBRARY_PATH: /usr/lib/cuda-11.7/lib64:\n",
      "2023-02-20 15:35:22.293477: W tensorflow/compiler/tf2tensorrt/utils/py_utils.cc:38] TF-TRT Warning: Cannot dlopen some TensorRT libraries. If you would like to use Nvidia GPU with TensorRT, please make sure the missing libraries mentioned above are installed properly.\n"
     ]
    }
   ],
   "source": [
    "import pandas as pd\n",
    "from matplotlib import pyplot as plt\n",
    "import numpy as np\n",
    "import tensorflow as tf\n",
    "import IPython\n",
    "import IPython.display"
   ]
  },
  {
   "cell_type": "markdown",
   "id": "2b437457",
   "metadata": {},
   "source": [
    "## Récupération des données"
   ]
  },
  {
   "cell_type": "code",
   "execution_count": 2,
   "id": "c8200c8e",
   "metadata": {},
   "outputs": [
    {
     "name": "stdout",
     "output_type": "stream",
     "text": [
      "                        Date  NSAL Hauteur (t-96)  NSAL Hauteur (t-95)  \\\n",
      "96       2012-01-01 08:00:00                 4.68                 4.64   \n",
      "97       2012-01-01 08:05:00                 4.64                 4.61   \n",
      "98       2012-01-01 08:10:00                 4.61                 4.57   \n",
      "99       2012-01-01 08:15:00                 4.57                 4.54   \n",
      "100      2012-01-01 08:20:00                 4.54                 4.51   \n",
      "...                      ...                  ...                  ...   \n",
      "1050176  2022-12-31 22:45:00                 5.23                 5.21   \n",
      "1050177  2022-12-31 22:50:00                 5.21                 5.19   \n",
      "1050178  2022-12-31 22:55:00                 5.19                 5.16   \n",
      "1050179  2022-12-31 23:00:00                 5.16                 5.13   \n",
      "1050180  2022-12-31 23:05:00                 5.13                 5.10   \n",
      "\n",
      "         NSAL Hauteur (t-94)  NSAL Hauteur (t-93)  NSAL Hauteur (t-92)  \\\n",
      "96                      4.61                 4.57                 4.54   \n",
      "97                      4.57                 4.54                 4.51   \n",
      "98                      4.54                 4.51                 4.48   \n",
      "99                      4.51                 4.48                 4.45   \n",
      "100                     4.48                 4.45                 4.43   \n",
      "...                      ...                  ...                  ...   \n",
      "1050176                 5.19                 5.16                 5.13   \n",
      "1050177                 5.16                 5.13                 5.10   \n",
      "1050178                 5.13                 5.10                 5.06   \n",
      "1050179                 5.10                 5.06                 5.03   \n",
      "1050180                 5.06                 5.03                 5.00   \n",
      "\n",
      "         NSAL Hauteur (t-91)  NSAL Hauteur (t-90)  NSAL Hauteur (t-89)  \\\n",
      "96                      4.51                 4.48                 4.45   \n",
      "97                      4.48                 4.45                 4.43   \n",
      "98                      4.45                 4.43                 4.40   \n",
      "99                      4.43                 4.40                 4.38   \n",
      "100                     4.40                 4.38                 4.36   \n",
      "...                      ...                  ...                  ...   \n",
      "1050176                 5.10                 5.06                 5.03   \n",
      "1050177                 5.06                 5.03                 5.00   \n",
      "1050178                 5.03                 5.00                 4.96   \n",
      "1050179                 5.00                 4.96                 4.92   \n",
      "1050180                 4.96                 4.92                 4.88   \n",
      "\n",
      "         NSAL Hauteur (t-88)  ...  NSAL Hauteur (t-10)  NSAL Hauteur (t-9)  \\\n",
      "96                      4.43  ...                 3.41                3.54   \n",
      "97                      4.40  ...                 3.54                3.67   \n",
      "98                      4.38  ...                 3.67                3.79   \n",
      "99                      4.36  ...                 3.79                3.89   \n",
      "100                     4.33  ...                 3.89                4.00   \n",
      "...                      ...  ...                  ...                 ...   \n",
      "1050176                 5.00  ...                 4.57                4.64   \n",
      "1050177                 4.96  ...                 4.64                4.71   \n",
      "1050178                 4.92  ...                 4.71                4.76   \n",
      "1050179                 4.88  ...                 4.76                4.83   \n",
      "1050180                 4.84  ...                 4.83                4.90   \n",
      "\n",
      "         NSAL Hauteur (t-8)  NSAL Hauteur (t-7)  NSAL Hauteur (t-6)  \\\n",
      "96                     3.67                3.79                3.89   \n",
      "97                     3.79                3.89                4.00   \n",
      "98                     3.89                4.00                4.11   \n",
      "99                     4.00                4.11                4.22   \n",
      "100                    4.11                4.22                4.35   \n",
      "...                     ...                 ...                 ...   \n",
      "1050176                4.71                4.76                4.83   \n",
      "1050177                4.76                4.83                4.90   \n",
      "1050178                4.83                4.90                4.96   \n",
      "1050179                4.90                4.96                5.03   \n",
      "1050180                4.96                5.03                5.09   \n",
      "\n",
      "         NSAL Hauteur (t-5)  NSAL Hauteur (t-4)  NSAL Hauteur (t-3)  \\\n",
      "96                     4.00                4.11                4.22   \n",
      "97                     4.11                4.22                4.35   \n",
      "98                     4.22                4.35                4.45   \n",
      "99                     4.35                4.45                4.54   \n",
      "100                    4.45                4.54                4.64   \n",
      "...                     ...                 ...                 ...   \n",
      "1050176                4.90                4.96                5.03   \n",
      "1050177                4.96                5.03                5.09   \n",
      "1050178                5.03                5.09                5.16   \n",
      "1050179                5.09                5.16                5.22   \n",
      "1050180                5.16                5.22                5.29   \n",
      "\n",
      "         NSAL Hauteur (t-2)  NSAL Hauteur (t-1)  \n",
      "96                     4.35                4.45  \n",
      "97                     4.45                4.54  \n",
      "98                     4.54                4.64  \n",
      "99                     4.64                4.73  \n",
      "100                    4.73                4.84  \n",
      "...                     ...                 ...  \n",
      "1050176                5.09                5.16  \n",
      "1050177                5.16                5.22  \n",
      "1050178                5.22                5.29  \n",
      "1050179                5.29                5.34  \n",
      "1050180                5.34                5.38  \n",
      "\n",
      "[990062 rows x 97 columns]\n"
     ]
    },
    {
     "data": {
      "text/plain": [
       "96         2012-01-01 08:00:00\n",
       "97         2012-01-01 08:05:00\n",
       "98         2012-01-01 08:10:00\n",
       "99         2012-01-01 08:15:00\n",
       "100        2012-01-01 08:20:00\n",
       "                  ...         \n",
       "1050176    2022-12-31 22:45:00\n",
       "1050177    2022-12-31 22:50:00\n",
       "1050178    2022-12-31 22:55:00\n",
       "1050179    2022-12-31 23:00:00\n",
       "1050180    2022-12-31 23:05:00\n",
       "Name: Date, Length: 990062, dtype: object"
      ]
     },
     "execution_count": 2,
     "metadata": {},
     "output_type": "execute_result"
    }
   ],
   "source": [
    "columns = [\"Date\", \"Heure\", \"SG Hauteur\", \"SG Ectype\", \"SG Q\", \"SN Hauteur\", \"SN Ectype\", \"SN Q\",\n",
    "          \"Montoir Hauteur\", \"Montoir Ectype\", \"Montoir Q\", \"Paimboeuf Hauteur\", \"Paimboeuf Ectype\", \"Paimboeuf Q\",\n",
    "          \"Cordemais Hauteur\", \"Cordemais Ectype\", \"Cordemais Q\", \"LP Hauteur\", \"LP Ectype\", \"LP Q\",\n",
    "          \"NUB Hauteur\", \"NUB Ectype\", \"NUB Q\", \"NSAL Hauteur\", \"NSAL Ectype\", \"NSAL Q\", \"SG Patm\", \"Nantes Patm\"]\n",
    "\n",
    "chunks = pd.read_csv(\"Datas/X_tides.csv\", index_col=0, chunksize = 1e6, iterator = True, low_memory = False)\n",
    "X = pd.DataFrame()\n",
    "for chunk in chunks:\n",
    "    X = pd.concat((X,chunk))\n",
    "\n",
    "print(X)\n",
    "X.pop('Date')"
   ]
  },
  {
   "cell_type": "code",
   "execution_count": 3,
   "id": "d6535043",
   "metadata": {},
   "outputs": [
    {
     "name": "stdout",
     "output_type": "stream",
     "text": [
      "                        Date  NSAL Hauteur (t)  NSAL Hauteur (t+1)  \\\n",
      "96       2012-01-01 08:00:00              4.54                4.64   \n",
      "97       2012-01-01 08:05:00              4.64                4.73   \n",
      "98       2012-01-01 08:10:00              4.73                4.84   \n",
      "99       2012-01-01 08:15:00              4.84                4.92   \n",
      "100      2012-01-01 08:20:00              4.92                4.99   \n",
      "...                      ...               ...                 ...   \n",
      "1050176  2022-12-31 22:45:00              5.22                5.29   \n",
      "1050177  2022-12-31 22:50:00              5.29                5.34   \n",
      "1050178  2022-12-31 22:55:00              5.34                5.38   \n",
      "1050179  2022-12-31 23:00:00              5.38                5.43   \n",
      "1050180  2022-12-31 23:05:00              5.43                5.49   \n",
      "\n",
      "         NSAL Hauteur (t+2)  NSAL Hauteur (t+3)  NSAL Hauteur (t+4)  \\\n",
      "96                     4.73                4.84                4.92   \n",
      "97                     4.84                4.92                4.99   \n",
      "98                     4.92                4.99                5.07   \n",
      "99                     4.99                5.07                5.13   \n",
      "100                    5.07                5.13                5.20   \n",
      "...                     ...                 ...                 ...   \n",
      "1050176                5.34                5.38                5.43   \n",
      "1050177                5.38                5.43                5.49   \n",
      "1050178                5.43                5.49                5.54   \n",
      "1050179                5.49                5.54                5.58   \n",
      "1050180                5.54                5.58                5.62   \n",
      "\n",
      "         NSAL Hauteur (t+5)  NSAL Hauteur (t+6)  NSAL Hauteur (t+7)  \\\n",
      "96                     4.99                5.07                5.13   \n",
      "97                     5.07                5.13                5.20   \n",
      "98                     5.13                5.20                5.25   \n",
      "99                     5.20                5.25                5.32   \n",
      "100                    5.25                5.32                5.39   \n",
      "...                     ...                 ...                 ...   \n",
      "1050176                5.49                5.54                5.58   \n",
      "1050177                5.54                5.58                5.62   \n",
      "1050178                5.58                5.62                5.64   \n",
      "1050179                5.62                5.64                5.66   \n",
      "1050180                5.64                5.66                5.68   \n",
      "\n",
      "         NSAL Hauteur (t+8)  NSAL Hauteur (t+9)  NSAL Hauteur (t+10)  \\\n",
      "96                     5.20                5.25                 5.32   \n",
      "97                     5.25                5.32                 5.39   \n",
      "98                     5.32                5.39                 5.45   \n",
      "99                     5.39                5.45                 5.51   \n",
      "100                    5.45                5.51                 5.55   \n",
      "...                     ...                 ...                  ...   \n",
      "1050176                5.62                5.64                 5.66   \n",
      "1050177                5.64                5.66                 5.68   \n",
      "1050178                5.66                5.68                 5.70   \n",
      "1050179                5.68                5.70                 5.70   \n",
      "1050180                5.70                5.70                 5.70   \n",
      "\n",
      "         NSAL Hauteur (t+11)  \n",
      "96                      5.39  \n",
      "97                      5.45  \n",
      "98                      5.51  \n",
      "99                      5.55  \n",
      "100                     5.60  \n",
      "...                      ...  \n",
      "1050176                 5.68  \n",
      "1050177                 5.70  \n",
      "1050178                 5.70  \n",
      "1050179                 5.70  \n",
      "1050180                 5.71  \n",
      "\n",
      "[990062 rows x 13 columns]\n"
     ]
    },
    {
     "data": {
      "text/plain": [
       "96         2012-01-01 08:00:00\n",
       "97         2012-01-01 08:05:00\n",
       "98         2012-01-01 08:10:00\n",
       "99         2012-01-01 08:15:00\n",
       "100        2012-01-01 08:20:00\n",
       "                  ...         \n",
       "1050176    2022-12-31 22:45:00\n",
       "1050177    2022-12-31 22:50:00\n",
       "1050178    2022-12-31 22:55:00\n",
       "1050179    2022-12-31 23:00:00\n",
       "1050180    2022-12-31 23:05:00\n",
       "Name: Date, Length: 990062, dtype: object"
      ]
     },
     "execution_count": 3,
     "metadata": {},
     "output_type": "execute_result"
    }
   ],
   "source": [
    "chunks = pd.read_csv(\"Datas/Y_tides.csv\", index_col=0, chunksize = 1e6, iterator = True, low_memory = False)\n",
    "Y = pd.DataFrame()\n",
    "for chunk in chunks:\n",
    "    Y = pd.concat((Y,chunk))\n",
    "\n",
    "print(Y)\n",
    "Y.pop('Date')"
   ]
  },
  {
   "cell_type": "markdown",
   "id": "72098433",
   "metadata": {},
   "source": [
    "### Longueur d'entrée et de sortie"
   ]
  },
  {
   "cell_type": "code",
   "execution_count": 4,
   "id": "2635e9b9",
   "metadata": {},
   "outputs": [],
   "source": [
    "# Ces longueurs sont définies par les fichiers .csv\n",
    "input_length = 96\n",
    "output_length = 12"
   ]
  },
  {
   "cell_type": "markdown",
   "id": "424944fb",
   "metadata": {},
   "source": [
    "### Réorganisation des données"
   ]
  },
  {
   "cell_type": "code",
   "execution_count": 5,
   "id": "abeaa61f",
   "metadata": {},
   "outputs": [
    {
     "name": "stdout",
     "output_type": "stream",
     "text": [
      "Number of features : 1\n",
      "Number of Label : 1\n"
     ]
    }
   ],
   "source": [
    "# Input features\n",
    "Nb_features = int(X.shape[1]/input_length)\n",
    "print(f\"Number of features : {Nb_features}\")\n",
    "\n",
    "Nb_labels = int(Y.shape[1]/output_length)\n",
    "print(f\"Number of Label : {Nb_labels}\")"
   ]
  },
  {
   "cell_type": "code",
   "execution_count": 6,
   "id": "fc4a8211",
   "metadata": {},
   "outputs": [
    {
     "name": "stdout",
     "output_type": "stream",
     "text": [
      "<bound method NDFrame.head of          NSAL Hauteur (t-96)  NSAL Hauteur (t-95)  NSAL Hauteur (t-94)  \\\n",
      "96                      4.68                 4.64                 4.61   \n",
      "97                      4.64                 4.61                 4.57   \n",
      "98                      4.61                 4.57                 4.54   \n",
      "99                      4.57                 4.54                 4.51   \n",
      "100                     4.54                 4.51                 4.48   \n",
      "...                      ...                  ...                  ...   \n",
      "1050176                 5.23                 5.21                 5.19   \n",
      "1050177                 5.21                 5.19                 5.16   \n",
      "1050178                 5.19                 5.16                 5.13   \n",
      "1050179                 5.16                 5.13                 5.10   \n",
      "1050180                 5.13                 5.10                 5.06   \n",
      "\n",
      "         NSAL Hauteur (t-93)  NSAL Hauteur (t-92)  NSAL Hauteur (t-91)  \\\n",
      "96                      4.57                 4.54                 4.51   \n",
      "97                      4.54                 4.51                 4.48   \n",
      "98                      4.51                 4.48                 4.45   \n",
      "99                      4.48                 4.45                 4.43   \n",
      "100                     4.45                 4.43                 4.40   \n",
      "...                      ...                  ...                  ...   \n",
      "1050176                 5.16                 5.13                 5.10   \n",
      "1050177                 5.13                 5.10                 5.06   \n",
      "1050178                 5.10                 5.06                 5.03   \n",
      "1050179                 5.06                 5.03                 5.00   \n",
      "1050180                 5.03                 5.00                 4.96   \n",
      "\n",
      "         NSAL Hauteur (t-90)  NSAL Hauteur (t-89)  NSAL Hauteur (t-88)  \\\n",
      "96                      4.48                 4.45                 4.43   \n",
      "97                      4.45                 4.43                 4.40   \n",
      "98                      4.43                 4.40                 4.38   \n",
      "99                      4.40                 4.38                 4.36   \n",
      "100                     4.38                 4.36                 4.33   \n",
      "...                      ...                  ...                  ...   \n",
      "1050176                 5.06                 5.03                 5.00   \n",
      "1050177                 5.03                 5.00                 4.96   \n",
      "1050178                 5.00                 4.96                 4.92   \n",
      "1050179                 4.96                 4.92                 4.88   \n",
      "1050180                 4.92                 4.88                 4.84   \n",
      "\n",
      "         NSAL Hauteur (t-87)  ...  NSAL Hauteur (t-10)  NSAL Hauteur (t-9)  \\\n",
      "96                      4.40  ...                 3.41                3.54   \n",
      "97                      4.38  ...                 3.54                3.67   \n",
      "98                      4.36  ...                 3.67                3.79   \n",
      "99                      4.33  ...                 3.79                3.89   \n",
      "100                     4.32  ...                 3.89                4.00   \n",
      "...                      ...  ...                  ...                 ...   \n",
      "1050176                 4.96  ...                 4.57                4.64   \n",
      "1050177                 4.92  ...                 4.64                4.71   \n",
      "1050178                 4.88  ...                 4.71                4.76   \n",
      "1050179                 4.84  ...                 4.76                4.83   \n",
      "1050180                 4.80  ...                 4.83                4.90   \n",
      "\n",
      "         NSAL Hauteur (t-8)  NSAL Hauteur (t-7)  NSAL Hauteur (t-6)  \\\n",
      "96                     3.67                3.79                3.89   \n",
      "97                     3.79                3.89                4.00   \n",
      "98                     3.89                4.00                4.11   \n",
      "99                     4.00                4.11                4.22   \n",
      "100                    4.11                4.22                4.35   \n",
      "...                     ...                 ...                 ...   \n",
      "1050176                4.71                4.76                4.83   \n",
      "1050177                4.76                4.83                4.90   \n",
      "1050178                4.83                4.90                4.96   \n",
      "1050179                4.90                4.96                5.03   \n",
      "1050180                4.96                5.03                5.09   \n",
      "\n",
      "         NSAL Hauteur (t-5)  NSAL Hauteur (t-4)  NSAL Hauteur (t-3)  \\\n",
      "96                     4.00                4.11                4.22   \n",
      "97                     4.11                4.22                4.35   \n",
      "98                     4.22                4.35                4.45   \n",
      "99                     4.35                4.45                4.54   \n",
      "100                    4.45                4.54                4.64   \n",
      "...                     ...                 ...                 ...   \n",
      "1050176                4.90                4.96                5.03   \n",
      "1050177                4.96                5.03                5.09   \n",
      "1050178                5.03                5.09                5.16   \n",
      "1050179                5.09                5.16                5.22   \n",
      "1050180                5.16                5.22                5.29   \n",
      "\n",
      "         NSAL Hauteur (t-2)  NSAL Hauteur (t-1)  \n",
      "96                     4.35                4.45  \n",
      "97                     4.45                4.54  \n",
      "98                     4.54                4.64  \n",
      "99                     4.64                4.73  \n",
      "100                    4.73                4.84  \n",
      "...                     ...                 ...  \n",
      "1050176                5.09                5.16  \n",
      "1050177                5.16                5.22  \n",
      "1050178                5.22                5.29  \n",
      "1050179                5.29                5.34  \n",
      "1050180                5.34                5.38  \n",
      "\n",
      "[990062 rows x 96 columns]>\n",
      "<bound method NDFrame.head of          NSAL Hauteur (t)  NSAL Hauteur (t+1)  NSAL Hauteur (t+2)  \\\n",
      "96                   4.54                4.64                4.73   \n",
      "97                   4.64                4.73                4.84   \n",
      "98                   4.73                4.84                4.92   \n",
      "99                   4.84                4.92                4.99   \n",
      "100                  4.92                4.99                5.07   \n",
      "...                   ...                 ...                 ...   \n",
      "1050176              5.22                5.29                5.34   \n",
      "1050177              5.29                5.34                5.38   \n",
      "1050178              5.34                5.38                5.43   \n",
      "1050179              5.38                5.43                5.49   \n",
      "1050180              5.43                5.49                5.54   \n",
      "\n",
      "         NSAL Hauteur (t+3)  NSAL Hauteur (t+4)  NSAL Hauteur (t+5)  \\\n",
      "96                     4.84                4.92                4.99   \n",
      "97                     4.92                4.99                5.07   \n",
      "98                     4.99                5.07                5.13   \n",
      "99                     5.07                5.13                5.20   \n",
      "100                    5.13                5.20                5.25   \n",
      "...                     ...                 ...                 ...   \n",
      "1050176                5.38                5.43                5.49   \n",
      "1050177                5.43                5.49                5.54   \n",
      "1050178                5.49                5.54                5.58   \n",
      "1050179                5.54                5.58                5.62   \n",
      "1050180                5.58                5.62                5.64   \n",
      "\n",
      "         NSAL Hauteur (t+6)  NSAL Hauteur (t+7)  NSAL Hauteur (t+8)  \\\n",
      "96                     5.07                5.13                5.20   \n",
      "97                     5.13                5.20                5.25   \n",
      "98                     5.20                5.25                5.32   \n",
      "99                     5.25                5.32                5.39   \n",
      "100                    5.32                5.39                5.45   \n",
      "...                     ...                 ...                 ...   \n",
      "1050176                5.54                5.58                5.62   \n",
      "1050177                5.58                5.62                5.64   \n",
      "1050178                5.62                5.64                5.66   \n",
      "1050179                5.64                5.66                5.68   \n",
      "1050180                5.66                5.68                5.70   \n",
      "\n",
      "         NSAL Hauteur (t+9)  NSAL Hauteur (t+10)  NSAL Hauteur (t+11)  \n",
      "96                     5.25                 5.32                 5.39  \n",
      "97                     5.32                 5.39                 5.45  \n",
      "98                     5.39                 5.45                 5.51  \n",
      "99                     5.45                 5.51                 5.55  \n",
      "100                    5.51                 5.55                 5.60  \n",
      "...                     ...                  ...                  ...  \n",
      "1050176                5.64                 5.66                 5.68  \n",
      "1050177                5.66                 5.68                 5.70  \n",
      "1050178                5.68                 5.70                 5.70  \n",
      "1050179                5.70                 5.70                 5.70  \n",
      "1050180                5.70                 5.70                 5.71  \n",
      "\n",
      "[990062 rows x 12 columns]>\n"
     ]
    }
   ],
   "source": [
    "print(X.head)\n",
    "print(Y.head)\n",
    "\n",
    "X_datas = X.values\n",
    "X_datas = X_datas.reshape((X.shape[0], input_length, Nb_features), order = 'F')\n",
    "Y_datas = Y.values\n",
    "Y_datas = Y_datas.reshape((Y.shape[0], output_length, Nb_labels), order ='F')"
   ]
  },
  {
   "cell_type": "code",
   "execution_count": 7,
   "id": "58d35f66",
   "metadata": {},
   "outputs": [
    {
     "data": {
      "text/plain": [
       "array([[[4.68],\n",
       "        [4.64],\n",
       "        [4.61],\n",
       "        ...,\n",
       "        [4.22],\n",
       "        [4.35],\n",
       "        [4.45]],\n",
       "\n",
       "       [[4.64],\n",
       "        [4.61],\n",
       "        [4.57],\n",
       "        ...,\n",
       "        [4.35],\n",
       "        [4.45],\n",
       "        [4.54]],\n",
       "\n",
       "       [[4.61],\n",
       "        [4.57],\n",
       "        [4.54],\n",
       "        ...,\n",
       "        [4.45],\n",
       "        [4.54],\n",
       "        [4.64]],\n",
       "\n",
       "       ...,\n",
       "\n",
       "       [[3.16],\n",
       "        [3.1 ],\n",
       "        [3.02],\n",
       "        ...,\n",
       "        [5.4 ],\n",
       "        [5.4 ],\n",
       "        [5.4 ]],\n",
       "\n",
       "       [[3.1 ],\n",
       "        [3.02],\n",
       "        [2.96],\n",
       "        ...,\n",
       "        [5.4 ],\n",
       "        [5.4 ],\n",
       "        [5.39]],\n",
       "\n",
       "       [[3.02],\n",
       "        [2.96],\n",
       "        [2.89],\n",
       "        ...,\n",
       "        [5.4 ],\n",
       "        [5.39],\n",
       "        [5.38]]])"
      ]
     },
     "execution_count": 7,
     "metadata": {},
     "output_type": "execute_result"
    }
   ],
   "source": [
    "n = len(X_datas)\n",
    "# Train dataset\n",
    "X_train = X_datas[:int(0.7*n)]\n",
    "Y_train = Y_datas[:int(0.7*n)]\n",
    "\n",
    "# Validation dataset\n",
    "X_val = X_datas[int(0.7*n):int(0.9*n)]\n",
    "Y_val = Y_datas[int(0.7*n):int(0.9*n)]\n",
    "\n",
    "# Test dataset\n",
    "X_test = X_datas[int(0.9*n):]\n",
    "Y_test = Y_datas[int(0.9*n):]\n",
    "\n",
    "X_train"
   ]
  },
  {
   "cell_type": "code",
   "execution_count": 8,
   "id": "df33d84b",
   "metadata": {},
   "outputs": [
    {
     "name": "stdout",
     "output_type": "stream",
     "text": [
      "                             X: 732.7 MiB\n",
      "                         chunk: 170.0 MiB\n",
      "                             Y: 98.2 MiB\n",
      "                            __: 79.3 MiB\n",
      "                           ___: 79.3 MiB\n",
      "                            _2: 79.3 MiB\n",
      "                            _3: 79.3 MiB\n",
      "                           _i2:  681.0 B\n",
      "                           _i8:  587.0 B\n",
      "                            _i:  328.0 B\n"
     ]
    }
   ],
   "source": [
    "import sys\n",
    "def sizeof_fmt(num, suffix='B'):\n",
    "    ''' by Fred Cirera,  https://stackoverflow.com/a/1094933/1870254, modified'''\n",
    "    for unit in ['','Ki','Mi','Gi','Ti','Pi','Ei','Zi']:\n",
    "        if abs(num) < 1024.0:\n",
    "            return \"%3.1f %s%s\" % (num, unit, suffix)\n",
    "        num /= 1024.0\n",
    "    return \"%.1f %s%s\" % (num, 'Yi', suffix)\n",
    "\n",
    "for name, size in sorted(((name, sys.getsizeof(value)) for name, value in locals().items()),\n",
    "                         key= lambda x: -x[1])[:10]:\n",
    "    print(\"{:>30}: {:>8}\".format(name, sizeof_fmt(size)))"
   ]
  },
  {
   "cell_type": "markdown",
   "id": "ec545eea",
   "metadata": {},
   "source": [
    "### Création du modèle"
   ]
  },
  {
   "cell_type": "code",
   "execution_count": 12,
   "id": "fc747b90",
   "metadata": {},
   "outputs": [
    {
     "name": "stderr",
     "output_type": "stream",
     "text": [
      "2023-02-19 14:48:19.031455: I tensorflow/stream_executor/cuda/cuda_gpu_executor.cc:966] could not open file to read NUMA node: /sys/bus/pci/devices/0000:01:00.0/numa_node\n",
      "Your kernel may have been built without NUMA support.\n"
     ]
    },
    {
     "name": "stdout",
     "output_type": "stream",
     "text": [
      "Model: \"sequential\"\n",
      "_________________________________________________________________\n",
      " Layer (type)                Output Shape              Param #   \n",
      "=================================================================\n",
      " conv1d (Conv1D)             (None, 22, 32)            704       \n",
      "                                                                 \n",
      " flatten (Flatten)           (None, 704)               0         \n",
      "                                                                 \n",
      " dense (Dense)               (None, 21)                14805     \n",
      "                                                                 \n",
      " reshape (Reshape)           (None, 3, 7)              0         \n",
      "                                                                 \n",
      "=================================================================\n",
      "Total params: 15,509\n",
      "Trainable params: 15,509\n",
      "Non-trainable params: 0\n",
      "_________________________________________________________________\n"
     ]
    },
    {
     "name": "stderr",
     "output_type": "stream",
     "text": [
      "2023-02-19 14:48:19.145051: I tensorflow/stream_executor/cuda/cuda_gpu_executor.cc:966] could not open file to read NUMA node: /sys/bus/pci/devices/0000:01:00.0/numa_node\n",
      "Your kernel may have been built without NUMA support.\n",
      "2023-02-19 14:48:19.145725: I tensorflow/stream_executor/cuda/cuda_gpu_executor.cc:966] could not open file to read NUMA node: /sys/bus/pci/devices/0000:01:00.0/numa_node\n",
      "Your kernel may have been built without NUMA support.\n",
      "2023-02-19 14:48:19.154108: I tensorflow/core/platform/cpu_feature_guard.cc:193] This TensorFlow binary is optimized with oneAPI Deep Neural Network Library (oneDNN) to use the following CPU instructions in performance-critical operations:  AVX2 FMA\n",
      "To enable them in other operations, rebuild TensorFlow with the appropriate compiler flags.\n",
      "2023-02-19 14:48:19.156857: I tensorflow/stream_executor/cuda/cuda_gpu_executor.cc:966] could not open file to read NUMA node: /sys/bus/pci/devices/0000:01:00.0/numa_node\n",
      "Your kernel may have been built without NUMA support.\n",
      "2023-02-19 14:48:19.157521: I tensorflow/stream_executor/cuda/cuda_gpu_executor.cc:966] could not open file to read NUMA node: /sys/bus/pci/devices/0000:01:00.0/numa_node\n",
      "Your kernel may have been built without NUMA support.\n",
      "2023-02-19 14:48:19.157996: I tensorflow/stream_executor/cuda/cuda_gpu_executor.cc:966] could not open file to read NUMA node: /sys/bus/pci/devices/0000:01:00.0/numa_node\n",
      "Your kernel may have been built without NUMA support.\n",
      "2023-02-19 14:48:20.972627: I tensorflow/stream_executor/cuda/cuda_gpu_executor.cc:966] could not open file to read NUMA node: /sys/bus/pci/devices/0000:01:00.0/numa_node\n",
      "Your kernel may have been built without NUMA support.\n",
      "2023-02-19 14:48:20.974594: I tensorflow/stream_executor/cuda/cuda_gpu_executor.cc:966] could not open file to read NUMA node: /sys/bus/pci/devices/0000:01:00.0/numa_node\n",
      "Your kernel may have been built without NUMA support.\n",
      "2023-02-19 14:48:20.974642: I tensorflow/core/common_runtime/gpu/gpu_device.cc:1700] Could not identify NUMA node of platform GPU id 0, defaulting to 0.  Your kernel may not have been built with NUMA support.\n",
      "2023-02-19 14:48:20.975451: I tensorflow/stream_executor/cuda/cuda_gpu_executor.cc:966] could not open file to read NUMA node: /sys/bus/pci/devices/0000:01:00.0/numa_node\n",
      "Your kernel may have been built without NUMA support.\n",
      "2023-02-19 14:48:20.975941: I tensorflow/core/common_runtime/gpu/gpu_device.cc:1616] Created device /job:localhost/replica:0/task:0/device:GPU:0 with 2085 MB memory:  -> device: 0, name: NVIDIA GeForce GTX 1650, pci bus id: 0000:01:00.0, compute capability: 7.5\n"
     ]
    }
   ],
   "source": [
    "multi_conv_model = tf.keras.Sequential([\n",
    "    # Shape => [batch, 1, conv_units]\n",
    "    tf.keras.layers.Conv1D(32, activation='relu', kernel_size=(3), input_shape = (input_length, Nb_features)),\n",
    "    tf.keras.layers.Flatten(),\n",
    "    # Shape => [batch, 1,  out_steps*features]\n",
    "    tf.keras.layers.Dense(output_length*Nb_labels,\n",
    "                          kernel_initializer=tf.initializers.zeros()),\n",
    "    # Shape => [batch, out_steps, features]\n",
    "    tf.keras.layers.Reshape([output_length, Nb_labels])\n",
    "])\n",
    "multi_conv_model.summary()"
   ]
  },
  {
   "cell_type": "code",
   "execution_count": 9,
   "id": "59c1aefa",
   "metadata": {},
   "outputs": [
    {
     "name": "stderr",
     "output_type": "stream",
     "text": [
      "2023-02-20 15:36:17.593479: I tensorflow/stream_executor/cuda/cuda_gpu_executor.cc:966] could not open file to read NUMA node: /sys/bus/pci/devices/0000:01:00.0/numa_node\n",
      "Your kernel may have been built without NUMA support.\n",
      "2023-02-20 15:36:17.704264: I tensorflow/stream_executor/cuda/cuda_gpu_executor.cc:966] could not open file to read NUMA node: /sys/bus/pci/devices/0000:01:00.0/numa_node\n",
      "Your kernel may have been built without NUMA support.\n",
      "2023-02-20 15:36:17.704582: I tensorflow/stream_executor/cuda/cuda_gpu_executor.cc:966] could not open file to read NUMA node: /sys/bus/pci/devices/0000:01:00.0/numa_node\n",
      "Your kernel may have been built without NUMA support.\n",
      "2023-02-20 15:36:17.714371: I tensorflow/core/platform/cpu_feature_guard.cc:193] This TensorFlow binary is optimized with oneAPI Deep Neural Network Library (oneDNN) to use the following CPU instructions in performance-critical operations:  AVX2 FMA\n",
      "To enable them in other operations, rebuild TensorFlow with the appropriate compiler flags.\n",
      "2023-02-20 15:36:17.716621: I tensorflow/stream_executor/cuda/cuda_gpu_executor.cc:966] could not open file to read NUMA node: /sys/bus/pci/devices/0000:01:00.0/numa_node\n",
      "Your kernel may have been built without NUMA support.\n",
      "2023-02-20 15:36:17.716942: I tensorflow/stream_executor/cuda/cuda_gpu_executor.cc:966] could not open file to read NUMA node: /sys/bus/pci/devices/0000:01:00.0/numa_node\n",
      "Your kernel may have been built without NUMA support.\n",
      "2023-02-20 15:36:17.717177: I tensorflow/stream_executor/cuda/cuda_gpu_executor.cc:966] could not open file to read NUMA node: /sys/bus/pci/devices/0000:01:00.0/numa_node\n",
      "Your kernel may have been built without NUMA support.\n",
      "2023-02-20 15:36:19.092672: I tensorflow/stream_executor/cuda/cuda_gpu_executor.cc:966] could not open file to read NUMA node: /sys/bus/pci/devices/0000:01:00.0/numa_node\n",
      "Your kernel may have been built without NUMA support.\n",
      "2023-02-20 15:36:19.094238: I tensorflow/stream_executor/cuda/cuda_gpu_executor.cc:966] could not open file to read NUMA node: /sys/bus/pci/devices/0000:01:00.0/numa_node\n",
      "Your kernel may have been built without NUMA support.\n",
      "2023-02-20 15:36:19.094339: I tensorflow/core/common_runtime/gpu/gpu_device.cc:1700] Could not identify NUMA node of platform GPU id 0, defaulting to 0.  Your kernel may not have been built with NUMA support.\n",
      "2023-02-20 15:36:19.094767: I tensorflow/stream_executor/cuda/cuda_gpu_executor.cc:966] could not open file to read NUMA node: /sys/bus/pci/devices/0000:01:00.0/numa_node\n",
      "Your kernel may have been built without NUMA support.\n",
      "2023-02-20 15:36:19.096626: I tensorflow/core/common_runtime/gpu/gpu_device.cc:1616] Created device /job:localhost/replica:0/task:0/device:GPU:0 with 2085 MB memory:  -> device: 0, name: NVIDIA GeForce GTX 1650, pci bus id: 0000:01:00.0, compute capability: 7.5\n"
     ]
    },
    {
     "name": "stdout",
     "output_type": "stream",
     "text": [
      "Model: \"sequential\"\n",
      "_________________________________________________________________\n",
      " Layer (type)                Output Shape              Param #   \n",
      "=================================================================\n",
      " lstm (LSTM)                 (None, 64)                16896     \n",
      "                                                                 \n",
      " dense (Dense)               (None, 12)                780       \n",
      "                                                                 \n",
      " reshape (Reshape)           (None, 12, 1)             0         \n",
      "                                                                 \n",
      "=================================================================\n",
      "Total params: 17,676\n",
      "Trainable params: 17,676\n",
      "Non-trainable params: 0\n",
      "_________________________________________________________________\n"
     ]
    }
   ],
   "source": [
    "multi_lstm_model =  tf.keras.Sequential([\n",
    "    # Shape => [batch, 1, conv_units]\n",
    "    tf.keras.layers.LSTM(64, activation='tanh', input_shape = (input_length, Nb_features)),\n",
    "    #tf.keras.layers.Dropout(0.2),\n",
    "    # Shape => [batch, 1,  out_steps*features]\n",
    "    tf.keras.layers.Dense(output_length*Nb_labels, kernel_initializer=tf.initializers.zeros()),\n",
    "    # Shape => [batch, out_steps, features]\n",
    "    tf.keras.layers.Reshape([output_length, Nb_labels])\n",
    "])\n",
    "multi_lstm_model.summary()"
   ]
  },
  {
   "cell_type": "markdown",
   "id": "75672471",
   "metadata": {},
   "source": [
    "### Compilation"
   ]
  },
  {
   "cell_type": "code",
   "execution_count": 10,
   "id": "bec515fe",
   "metadata": {},
   "outputs": [],
   "source": [
    "early_stopping = tf.keras.callbacks.EarlyStopping(monitor='loss',\n",
    "                                                patience=2,\n",
    "                                                mode='min')\n",
    "\n",
    "reduce_lr = ReduceLROnPlateau(monitor='val_loss', factor=0.2,\n",
    "                              patience=3, min_lr=0.001)\n",
    "\n",
    "\n",
    "multi_lstm_model.compile(loss=tf.losses.MeanSquaredError(),\n",
    "            optimizer=tf.optimizers.Adam(),\n",
    "            metrics=[tf.metrics.MeanAbsoluteError()])\n"
   ]
  },
  {
   "cell_type": "markdown",
   "id": "3103a6f3",
   "metadata": {},
   "source": [
    "### Entrainement"
   ]
  },
  {
   "cell_type": "code",
   "execution_count": 11,
   "id": "855a8be3",
   "metadata": {
    "scrolled": true
   },
   "outputs": [
    {
     "name": "stderr",
     "output_type": "stream",
     "text": [
      "2023-02-20 15:36:38.852622: W tensorflow/core/framework/cpu_allocator_impl.cc:82] Allocation of 266128512 exceeds 10% of free system memory.\n",
      "2023-02-20 15:36:39.311272: W tensorflow/core/framework/cpu_allocator_impl.cc:82] Allocation of 266128512 exceeds 10% of free system memory.\n"
     ]
    },
    {
     "name": "stdout",
     "output_type": "stream",
     "text": [
      "Epoch 1/100\n"
     ]
    },
    {
     "name": "stderr",
     "output_type": "stream",
     "text": [
      "2023-02-20 15:36:45.479662: I tensorflow/stream_executor/cuda/cuda_dnn.cc:384] Loaded cuDNN version 8700\n"
     ]
    },
    {
     "name": "stdout",
     "output_type": "stream",
     "text": [
      "1354/1354 [==============================] - 47s 29ms/step - loss: 2.4004 - mean_absolute_error: 0.5800 - val_loss: 1.5318 - val_mean_absolute_error: 0.1333\n",
      "Epoch 2/100\n",
      "1354/1354 [==============================] - 28s 21ms/step - loss: 1.4287 - mean_absolute_error: 0.1232 - val_loss: 1.5203 - val_mean_absolute_error: 0.1077\n",
      "Epoch 3/100\n",
      "1354/1354 [==============================] - 25s 18ms/step - loss: 1.4231 - mean_absolute_error: 0.1132 - val_loss: 1.5193 - val_mean_absolute_error: 0.1284\n",
      "Epoch 4/100\n",
      "1354/1354 [==============================] - 26s 19ms/step - loss: 1.4194 - mean_absolute_error: 0.1079 - val_loss: 1.5139 - val_mean_absolute_error: 0.1166\n",
      "Epoch 5/100\n",
      "1354/1354 [==============================] - 36s 26ms/step - loss: 1.4166 - mean_absolute_error: 0.1063 - val_loss: 1.5134 - val_mean_absolute_error: 0.0988\n",
      "Epoch 6/100\n",
      "1354/1354 [==============================] - 51s 38ms/step - loss: 1.4131 - mean_absolute_error: 0.1018 - val_loss: 1.5070 - val_mean_absolute_error: 0.0877\n",
      "Epoch 7/100\n",
      "1354/1354 [==============================] - 31s 23ms/step - loss: 1.4101 - mean_absolute_error: 0.0987 - val_loss: 1.5038 - val_mean_absolute_error: 0.0972\n",
      "Epoch 8/100\n",
      "1354/1354 [==============================] - 35s 26ms/step - loss: 1.4073 - mean_absolute_error: 0.0972 - val_loss: 1.5027 - val_mean_absolute_error: 0.0839\n",
      "Epoch 9/100\n",
      "1354/1354 [==============================] - 41s 30ms/step - loss: 1.4051 - mean_absolute_error: 0.0950 - val_loss: 1.5005 - val_mean_absolute_error: 0.0851\n",
      "Epoch 10/100\n",
      "1354/1354 [==============================] - 36s 26ms/step - loss: 1.4030 - mean_absolute_error: 0.0948 - val_loss: 1.5009 - val_mean_absolute_error: 0.0872\n",
      "Epoch 11/100\n",
      "1354/1354 [==============================] - 27s 20ms/step - loss: 1.4016 - mean_absolute_error: 0.0939 - val_loss: 1.5014 - val_mean_absolute_error: 0.0960\n",
      "Epoch 12/100\n",
      "1354/1354 [==============================] - 26s 20ms/step - loss: 1.4007 - mean_absolute_error: 0.0956 - val_loss: 1.5213 - val_mean_absolute_error: 0.1282\n",
      "Epoch 13/100\n",
      "1354/1354 [==============================] - 26s 19ms/step - loss: 1.4006 - mean_absolute_error: 0.0961 - val_loss: 1.5056 - val_mean_absolute_error: 0.1105\n",
      "Epoch 14/100\n",
      "1354/1354 [==============================] - 36s 27ms/step - loss: 1.4009 - mean_absolute_error: 0.0960 - val_loss: 1.5011 - val_mean_absolute_error: 0.0953\n",
      "Epoch 15/100\n",
      "1354/1354 [==============================] - 26s 20ms/step - loss: 1.3987 - mean_absolute_error: 0.0957 - val_loss: 1.4974 - val_mean_absolute_error: 0.0801\n",
      "Epoch 16/100\n",
      "1354/1354 [==============================] - 26s 19ms/step - loss: 1.3995 - mean_absolute_error: 0.0949 - val_loss: 1.5023 - val_mean_absolute_error: 0.0988\n",
      "Epoch 17/100\n",
      "1354/1354 [==============================] - 26s 19ms/step - loss: 1.3958 - mean_absolute_error: 0.0926 - val_loss: 1.5027 - val_mean_absolute_error: 0.1004\n",
      "Epoch 18/100\n",
      "1354/1354 [==============================] - 33s 24ms/step - loss: 1.4071 - mean_absolute_error: 0.1044 - val_loss: 1.5000 - val_mean_absolute_error: 0.0848\n",
      "Epoch 19/100\n",
      "1354/1354 [==============================] - 29s 21ms/step - loss: 1.3985 - mean_absolute_error: 0.0903 - val_loss: 1.4964 - val_mean_absolute_error: 0.0814\n"
     ]
    }
   ],
   "source": [
    "MAX_EPOCHS = 100\n",
    "history = multi_lstm_model.fit(X_train, Y_train, epochs=MAX_EPOCHS, callbacks=[early_stopping, reduce_lr], batch_size = 2048, validation_data=(X_val, Y_val))"
   ]
  },
  {
   "cell_type": "code",
   "execution_count": 12,
   "id": "8edd5f02",
   "metadata": {},
   "outputs": [
    {
     "data": {
      "image/png": "[encoded data removed]",
      "text/plain": [
       "<Figure size 640x480 with 1 Axes>"
      ]
     },
     "metadata": {},
     "output_type": "display_data"
    }
   ],
   "source": [
    "plt.plot(history.history[\"loss\"], label = \"Loss\")\n",
    "plt.plot(history.history[\"val_loss\"], label = \"Validation loss\")\n",
    "\n",
    "plt.legend()\n",
    "plt.show()"
   ]
  },
  {
   "cell_type": "code",
   "execution_count": 68,
   "id": "22ab4eeb",
   "metadata": {},
   "outputs": [],
   "source": [
    "multi_lstm_model.save(\"models/MultiLSTM\", save_format=\"h5\")"
   ]
  },
  {
   "cell_type": "code",
   "execution_count": 17,
   "id": "8732cb49",
   "metadata": {},
   "outputs": [
    {
     "name": "stdout",
     "output_type": "stream",
     "text": [
      "619/619 [==============================] - 7s 11ms/step - loss: 15.6965 - mean_absolute_error: 0.2440\n"
     ]
    },
    {
     "data": {
      "text/plain": [
       "[15.696492195129395, 0.2440403699874878]"
      ]
     },
     "execution_count": 17,
     "metadata": {},
     "output_type": "execute_result"
    }
   ],
   "source": [
    "multi_lstm_model.evaluate(X_test, Y_test)"
   ]
  },
  {
   "cell_type": "code",
   "execution_count": 18,
   "id": "94f541dc",
   "metadata": {},
   "outputs": [
    {
     "data": {
      "text/plain": [
       "array([[[3.96, 4.08, 4.09, 4.06, 4.26, 4.53, 4.68],\n",
       "        [3.94, 4.07, 4.07, 4.06, 4.23, 4.5 , 4.64],\n",
       "        [3.93, 4.05, 4.06, 4.05, 4.22, 4.47, 4.61],\n",
       "        [3.91, 4.03, 4.03, 4.04, 4.19, 4.44, 4.57],\n",
       "        [3.89, 4.02, 4.02, 4.02, 4.18, 4.4 , 4.54],\n",
       "        [3.87, 4.  , 4.01, 4.01, 4.16, 4.38, 4.51],\n",
       "        [3.85, 3.98, 3.99, 3.99, 4.15, 4.35, 4.48],\n",
       "        [3.82, 3.98, 3.98, 3.97, 4.14, 4.33, 4.45],\n",
       "        [3.79, 3.96, 3.96, 3.96, 4.13, 4.31, 4.43],\n",
       "        [3.76, 3.93, 3.96, 3.94, 4.12, 4.29, 4.4 ],\n",
       "        [3.72, 3.92, 3.95, 3.93, 4.09, 4.27, 4.38],\n",
       "        [3.7 , 3.89, 3.93, 3.92, 4.08, 4.26, 4.36],\n",
       "        [3.67, 3.86, 3.92, 3.92, 4.06, 4.24, 4.33],\n",
       "        [3.63, 3.83, 3.89, 3.91, 4.04, 4.22, 4.32],\n",
       "        [3.59, 3.81, 3.87, 3.9 , 4.02, 4.19, 4.3 ],\n",
       "        [3.56, 3.77, 3.84, 3.89, 4.01, 4.17, 4.28],\n",
       "        [3.52, 3.72, 3.81, 3.87, 3.99, 4.16, 4.26],\n",
       "        [3.46, 3.69, 3.77, 3.84, 3.97, 4.14, 4.25],\n",
       "        [3.41, 3.66, 3.74, 3.82, 3.97, 4.12, 4.22],\n",
       "        [3.38, 3.61, 3.7 , 3.8 , 3.95, 4.11, 4.2 ],\n",
       "        [3.33, 3.56, 3.67, 3.76, 3.95, 4.09, 4.19],\n",
       "        [3.27, 3.5 , 3.63, 3.73, 3.94, 4.07, 4.17],\n",
       "        [3.23, 3.47, 3.59, 3.7 , 3.92, 4.07, 4.16],\n",
       "        [3.18, 3.42, 3.54, 3.66, 3.89, 4.06, 4.15]]])"
      ]
     },
     "execution_count": 18,
     "metadata": {},
     "output_type": "execute_result"
    }
   ],
   "source": [
    "test = np.array([X_train[0]])\n",
    "real = np.array([Y_train[0]])\n",
    "test"
   ]
  },
  {
   "cell_type": "code",
   "execution_count": 19,
   "id": "a253c128",
   "metadata": {},
   "outputs": [
    {
     "name": "stdout",
     "output_type": "stream",
     "text": [
      "1/1 [==============================] - 1s 563ms/step\n"
     ]
    }
   ],
   "source": [
    "pred = multi_lstm_model.predict(test)"
   ]
  },
  {
   "cell_type": "code",
   "execution_count": 20,
   "id": "b086bd94",
   "metadata": {},
   "outputs": [
    {
     "data": {
      "text/plain": [
       "array([[[3.2329204, 3.422517 , 3.4929714, 3.521007 , 3.7578907,\n",
       "         3.9609776, 4.0285573],\n",
       "        [3.2004554, 3.387924 , 3.458401 , 3.5200045, 3.7409403,\n",
       "         3.944375 , 4.068955 ],\n",
       "        [3.1562884, 3.3535602, 3.426627 , 3.47729  , 3.7209642,\n",
       "         3.9279861, 4.04658  ]]], dtype=float32)"
      ]
     },
     "execution_count": 20,
     "metadata": {},
     "output_type": "execute_result"
    }
   ],
   "source": [
    "pred"
   ]
  },
  {
   "cell_type": "code",
   "execution_count": 21,
   "id": "99eb080a",
   "metadata": {},
   "outputs": [
    {
     "ename": "TypeError",
     "evalue": "subplot() takes 1 or 3 positional arguments but 2 were given",
     "output_type": "error",
     "traceback": [
      "\u001b[0;31m---------------------------------------------------------------------------\u001b[0m",
      "\u001b[0;31mTypeError\u001b[0m                                 Traceback (most recent call last)",
      "Cell \u001b[0;32mIn[21], line 14\u001b[0m\n\u001b[1;32m     10\u001b[0m     ax\u001b[38;5;241m.\u001b[39mscatter(\u001b[38;5;28mabs\u001b[39m[input_length:], real[\u001b[38;5;241m0\u001b[39m,:,i], label \u001b[38;5;241m=\u001b[39m \u001b[38;5;124m\"\u001b[39m\u001b[38;5;124mReal steps\u001b[39m\u001b[38;5;124m\"\u001b[39m, marker\u001b[38;5;241m=\u001b[39m\u001b[38;5;124m\"\u001b[39m\u001b[38;5;124mx\u001b[39m\u001b[38;5;124m\"\u001b[39m)\n\u001b[1;32m     12\u001b[0m handles, labels \u001b[38;5;241m=\u001b[39m ax\u001b[38;5;241m.\u001b[39mget_legend_handles_labels()\n\u001b[0;32m---> 14\u001b[0m ax \u001b[38;5;241m=\u001b[39m \u001b[43mfig\u001b[49m\u001b[38;5;241;43m.\u001b[39;49m\u001b[43madd_subplot\u001b[49m\u001b[43m(\u001b[49m\u001b[38;5;241;43m2\u001b[39;49m\u001b[43m,\u001b[49m\u001b[38;5;241;43m2\u001b[39;49m\u001b[43m)\u001b[49m\n\u001b[1;32m     15\u001b[0m ax\u001b[38;5;241m.\u001b[39mscatter(\u001b[38;5;28mabs\u001b[39m[:input_length], test[\u001b[38;5;241m0\u001b[39m,:,\u001b[38;5;241m-\u001b[39m\u001b[38;5;241m1\u001b[39m])\n\u001b[1;32m     18\u001b[0m fig\u001b[38;5;241m.\u001b[39mlegend(handles, labels, loc\u001b[38;5;241m=\u001b[39m\u001b[38;5;124m'\u001b[39m\u001b[38;5;124mupper center\u001b[39m\u001b[38;5;124m'\u001b[39m)\n",
      "File \u001b[0;32m~/miniconda3/envs/ML/lib/python3.9/site-packages/matplotlib/figure.py:745\u001b[0m, in \u001b[0;36mFigureBase.add_subplot\u001b[0;34m(self, *args, **kwargs)\u001b[0m\n\u001b[1;32m    742\u001b[0m         args \u001b[38;5;241m=\u001b[39m \u001b[38;5;28mtuple\u001b[39m(\u001b[38;5;28mmap\u001b[39m(\u001b[38;5;28mint\u001b[39m, \u001b[38;5;28mstr\u001b[39m(args[\u001b[38;5;241m0\u001b[39m])))\n\u001b[1;32m    743\u001b[0m     projection_class, pkw \u001b[38;5;241m=\u001b[39m \u001b[38;5;28mself\u001b[39m\u001b[38;5;241m.\u001b[39m_process_projection_requirements(\n\u001b[1;32m    744\u001b[0m         \u001b[38;5;241m*\u001b[39margs, \u001b[38;5;241m*\u001b[39m\u001b[38;5;241m*\u001b[39mkwargs)\n\u001b[0;32m--> 745\u001b[0m     ax \u001b[38;5;241m=\u001b[39m \u001b[43msubplot_class_factory\u001b[49m\u001b[43m(\u001b[49m\u001b[43mprojection_class\u001b[49m\u001b[43m)\u001b[49m\u001b[43m(\u001b[49m\u001b[38;5;28;43mself\u001b[39;49m\u001b[43m,\u001b[49m\u001b[43m \u001b[49m\u001b[38;5;241;43m*\u001b[39;49m\u001b[43margs\u001b[49m\u001b[43m,\u001b[49m\u001b[43m \u001b[49m\u001b[38;5;241;43m*\u001b[39;49m\u001b[38;5;241;43m*\u001b[39;49m\u001b[43mpkw\u001b[49m\u001b[43m)\u001b[49m\n\u001b[1;32m    746\u001b[0m     key \u001b[38;5;241m=\u001b[39m (projection_class, pkw)\n\u001b[1;32m    747\u001b[0m \u001b[38;5;28;01mreturn\u001b[39;00m \u001b[38;5;28mself\u001b[39m\u001b[38;5;241m.\u001b[39m_add_axes_internal(ax, key)\n",
      "File \u001b[0;32m~/miniconda3/envs/ML/lib/python3.9/site-packages/matplotlib/axes/_subplots.py:36\u001b[0m, in \u001b[0;36mSubplotBase.__init__\u001b[0;34m(self, fig, *args, **kwargs)\u001b[0m\n\u001b[1;32m     34\u001b[0m \u001b[38;5;28mself\u001b[39m\u001b[38;5;241m.\u001b[39m_axes_class\u001b[38;5;241m.\u001b[39m\u001b[38;5;21m__init__\u001b[39m(\u001b[38;5;28mself\u001b[39m, fig, [\u001b[38;5;241m0\u001b[39m, \u001b[38;5;241m0\u001b[39m, \u001b[38;5;241m1\u001b[39m, \u001b[38;5;241m1\u001b[39m], \u001b[38;5;241m*\u001b[39m\u001b[38;5;241m*\u001b[39mkwargs)\n\u001b[1;32m     35\u001b[0m \u001b[38;5;66;03m# This will also update the axes position.\u001b[39;00m\n\u001b[0;32m---> 36\u001b[0m \u001b[38;5;28mself\u001b[39m\u001b[38;5;241m.\u001b[39mset_subplotspec(\u001b[43mSubplotSpec\u001b[49m\u001b[38;5;241;43m.\u001b[39;49m\u001b[43m_from_subplot_args\u001b[49m\u001b[43m(\u001b[49m\u001b[43mfig\u001b[49m\u001b[43m,\u001b[49m\u001b[43m \u001b[49m\u001b[43margs\u001b[49m\u001b[43m)\u001b[49m)\n",
      "File \u001b[0;32m~/miniconda3/envs/ML/lib/python3.9/site-packages/matplotlib/gridspec.py:598\u001b[0m, in \u001b[0;36mSubplotSpec._from_subplot_args\u001b[0;34m(figure, args)\u001b[0m\n\u001b[1;32m    596\u001b[0m     rows, cols, num \u001b[38;5;241m=\u001b[39m args\n\u001b[1;32m    597\u001b[0m \u001b[38;5;28;01melse\u001b[39;00m:\n\u001b[0;32m--> 598\u001b[0m     \u001b[38;5;28;01mraise\u001b[39;00m \u001b[38;5;167;01mTypeError\u001b[39;00m(\u001b[38;5;124mf\u001b[39m\u001b[38;5;124m\"\u001b[39m\u001b[38;5;124msubplot() takes 1 or 3 positional arguments but \u001b[39m\u001b[38;5;124m\"\u001b[39m\n\u001b[1;32m    599\u001b[0m                     \u001b[38;5;124mf\u001b[39m\u001b[38;5;124m\"\u001b[39m\u001b[38;5;132;01m{\u001b[39;00m\u001b[38;5;28mlen\u001b[39m(args)\u001b[38;5;132;01m}\u001b[39;00m\u001b[38;5;124m were given\u001b[39m\u001b[38;5;124m\"\u001b[39m)\n\u001b[1;32m    601\u001b[0m gs \u001b[38;5;241m=\u001b[39m GridSpec\u001b[38;5;241m.\u001b[39m_check_gridspec_exists(figure, rows, cols)\n\u001b[1;32m    602\u001b[0m \u001b[38;5;28;01mif\u001b[39;00m gs \u001b[38;5;129;01mis\u001b[39;00m \u001b[38;5;28;01mNone\u001b[39;00m:\n",
      "\u001b[0;31mTypeError\u001b[0m: subplot() takes 1 or 3 positional arguments but 2 were given"
     ]
    },
    {
     "data": {
      "image/png": "[encoded data removed]",
      "text/plain": [
       "<Figure size 1000x800 with 6 Axes>"
      ]
     },
     "metadata": {},
     "output_type": "display_data"
    }
   ],
   "source": [
    "ports =[\"Saint Nazaire\", \"Montoir\", \"Paimboeuf\", \"Cordemais\", \"Le Pellerin\", \"Nantes - UB\"]\n",
    "abs = [i for i in range(input_length+output_length)]\n",
    "fig, axs = plt.subplots(3,2, figsize = (10,8))\n",
    "axs = axs.reshape([axs.shape[0]*axs.shape[1]])\n",
    "for ax,i in zip(axs,range(pred.shape[2]-1)):\n",
    "    ax.set_title(ports[i])\n",
    "    ax.get_xaxis().set_visible(False)\n",
    "    ax.scatter(abs[:input_length], test[0,:,i], label = \"Previous steps\", marker=\"x\")\n",
    "    ax.scatter(abs[input_length:], pred[0,:,i], label = \"Predicted steps\", marker=\"x\")\n",
    "    ax.scatter(abs[input_length:], real[0,:,i], label = \"Real steps\", marker=\"x\")\n",
    "\n",
    "handles, labels = ax.get_legend_handles_labels()\n",
    "\n",
    "ax = fig.add_subplot(2,2)\n",
    "ax.scatter(abs[:input_length], test[0,:,-1])\n",
    "\n",
    "\n",
    "fig.legend(handles, labels, loc='upper center')\n",
    "plt.show()\n",
    "fig.savefig(\"Predictions.png\")"
   ]
  },
  {
   "cell_type": "code",
   "execution_count": null,
   "id": "1a4f5912",
   "metadata": {},
   "outputs": [],
   "source": []
  }
 ],
 "metadata": {
  "kernelspec": {
   "display_name": "Python 3 (ipykernel)",
   "language": "python",
   "name": "python3"
  },
  "language_info": {
   "codemirror_mode": {
    "name": "ipython",
    "version": 3
   },
   "file_extension": ".py",
   "mimetype": "text/x-python",
   "name": "python",
   "nbconvert_exporter": "python",
   "pygments_lexer": "ipython3",
   "version": "3.9.16"
  },
  "vscode": {
   "interpreter": {
    "hash": "cfd8684c7f53546f7fdc85df00f20bbd1266ef94d3e3b65674cf698d02319b94"
   }
  }
 },
 "nbformat": 4,
 "nbformat_minor": 5
}
