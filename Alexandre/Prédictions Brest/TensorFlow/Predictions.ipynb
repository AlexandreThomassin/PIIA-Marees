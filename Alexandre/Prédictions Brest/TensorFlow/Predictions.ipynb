{
 "cells": [
  {
   "cell_type": "code",
   "execution_count": 2,
   "metadata": {
    "colab": {
     "base_uri": "https://localhost:8080/"
    },
    "executionInfo": {
     "elapsed": 18180,
     "status": "ok",
     "timestamp": 1666954092574,
     "user": {
      "displayName": "NICOLÁS CONTRERAS PÉREZ",
      "userId": "09973929232898584669"
     },
     "user_tz": -120
    },
    "id": "jQbXzRWrGgNZ",
    "outputId": "d5e47fe1-5621-4ae3-bf69-674a71d2a491"
   },
   "outputs": [
    {
     "name": "stdout",
     "output_type": "stream",
     "text": [
      "Mounted at /content/gdrive\n"
     ]
    }
   ],
   "source": [
    "from google.colab import drive\n",
    "drive.mount('/content/gdrive')"
   ]
  },
  {
   "cell_type": "code",
   "execution_count": 3,
   "metadata": {
    "colab": {
     "base_uri": "https://localhost:8080/"
    },
    "executionInfo": {
     "elapsed": 1209,
     "status": "ok",
     "timestamp": 1666954097475,
     "user": {
      "displayName": "NICOLÁS CONTRERAS PÉREZ",
      "userId": "09973929232898584669"
     },
     "user_tz": -120
    },
    "id": "caPA6i5SGwyk",
    "outputId": "9b59e469-d3b9-453f-b892-3cd909259d0a"
   },
   "outputs": [
    {
     "name": "stdout",
     "output_type": "stream",
     "text": [
      "/content/gdrive/MyDrive/Colab Notebooks/PIIA/References/predictions_types\n",
      "dataset  Predictions.ipynb\n"
     ]
    }
   ],
   "source": [
    "%cd 'gdrive/MyDrive/Colab Notebooks/PIIA/References/predictions_types/'\n",
    "!ls"
   ]
  },
  {
   "cell_type": "code",
   "execution_count": 2,
   "metadata": {
    "executionInfo": {
     "elapsed": 676,
     "status": "ok",
     "timestamp": 1666954098142,
     "user": {
      "displayName": "NICOLÁS CONTRERAS PÉREZ",
      "userId": "09973929232898584669"
     },
     "user_tz": -120
    },
    "id": "mwHJpNnHHSuz"
   },
   "outputs": [],
   "source": [
    "import pandas as pd\n",
    "import numpy as np\n",
    "import math\n",
    "import matplotlib.pyplot as plt\n",
    "from sklearn.metrics import r2_score\n",
    "from sklearn.metrics import mean_squared_error\n",
    "from sklearn.model_selection import KFold\n",
    "from sklearn.linear_model import LinearRegression\n",
    "from sklearn.svm import SVR\n",
    "from sklearn.neural_network import MLPRegressor\n",
    "from sklearn.model_selection import train_test_split"
   ]
  },
  {
   "cell_type": "code",
   "execution_count": 3,
   "metadata": {
    "colab": {
     "base_uri": "https://localhost:8080/",
     "height": 645
    },
    "executionInfo": {
     "elapsed": 629,
     "status": "ok",
     "timestamp": 1666954157008,
     "user": {
      "displayName": "NICOLÁS CONTRERAS PÉREZ",
      "userId": "09973929232898584669"
     },
     "user_tz": -120
    },
    "id": "oPEN2MwrHpg_",
    "outputId": "3e69f9d0-40f0-4198-9b76-ae04a99e1c98"
   },
   "outputs": [
    {
     "data": {
      "text/html": [
       "<div>\n",
       "<style scoped>\n",
       "    .dataframe tbody tr th:only-of-type {\n",
       "        vertical-align: middle;\n",
       "    }\n",
       "\n",
       "    .dataframe tbody tr th {\n",
       "        vertical-align: top;\n",
       "    }\n",
       "\n",
       "    .dataframe thead th {\n",
       "        text-align: right;\n",
       "    }\n",
       "</style>\n",
       "<table border=\"1\" class=\"dataframe\">\n",
       "  <thead>\n",
       "    <tr style=\"text-align: right;\">\n",
       "      <th></th>\n",
       "      <th>num_of_date</th>\n",
       "      <th>num_of_patients</th>\n",
       "      <th>Date_test</th>\n",
       "      <th>num_of_date_test</th>\n",
       "      <th>num_of_patients_test</th>\n",
       "    </tr>\n",
       "    <tr>\n",
       "      <th>Date</th>\n",
       "      <th></th>\n",
       "      <th></th>\n",
       "      <th></th>\n",
       "      <th></th>\n",
       "      <th></th>\n",
       "    </tr>\n",
       "  </thead>\n",
       "  <tbody>\n",
       "    <tr>\n",
       "      <th>2020-01-21</th>\n",
       "      <td>1</td>\n",
       "      <td>1</td>\n",
       "      <td>2020-02-05</td>\n",
       "      <td>16.0</td>\n",
       "      <td>11.0</td>\n",
       "    </tr>\n",
       "    <tr>\n",
       "      <th>2020-01-22</th>\n",
       "      <td>2</td>\n",
       "      <td>1</td>\n",
       "      <td>2020-02-16</td>\n",
       "      <td>27.0</td>\n",
       "      <td>13.0</td>\n",
       "    </tr>\n",
       "    <tr>\n",
       "      <th>2020-01-23</th>\n",
       "      <td>3</td>\n",
       "      <td>1</td>\n",
       "      <td>2020-02-22</td>\n",
       "      <td>33.0</td>\n",
       "      <td>15.0</td>\n",
       "    </tr>\n",
       "    <tr>\n",
       "      <th>2020-01-24</th>\n",
       "      <td>4</td>\n",
       "      <td>2</td>\n",
       "      <td>2020-02-27</td>\n",
       "      <td>38.0</td>\n",
       "      <td>58.0</td>\n",
       "    </tr>\n",
       "    <tr>\n",
       "      <th>2020-01-25</th>\n",
       "      <td>5</td>\n",
       "      <td>2</td>\n",
       "      <td>2020-03-03</td>\n",
       "      <td>43.0</td>\n",
       "      <td>118.0</td>\n",
       "    </tr>\n",
       "    <tr>\n",
       "      <th>2020-01-26</th>\n",
       "      <td>6</td>\n",
       "      <td>5</td>\n",
       "      <td>2020-03-05</td>\n",
       "      <td>45.0</td>\n",
       "      <td>217.0</td>\n",
       "    </tr>\n",
       "    <tr>\n",
       "      <th>2020-01-27</th>\n",
       "      <td>7</td>\n",
       "      <td>5</td>\n",
       "      <td>2020-03-12</td>\n",
       "      <td>52.0</td>\n",
       "      <td>1663.0</td>\n",
       "    </tr>\n",
       "    <tr>\n",
       "      <th>2020-01-28</th>\n",
       "      <td>8</td>\n",
       "      <td>5</td>\n",
       "      <td>2020-03-23</td>\n",
       "      <td>63.0</td>\n",
       "      <td>43847.0</td>\n",
       "    </tr>\n",
       "    <tr>\n",
       "      <th>2020-01-29</th>\n",
       "      <td>9</td>\n",
       "      <td>5</td>\n",
       "      <td>2020-03-30</td>\n",
       "      <td>70.0</td>\n",
       "      <td>161807.0</td>\n",
       "    </tr>\n",
       "    <tr>\n",
       "      <th>2020-01-30</th>\n",
       "      <td>10</td>\n",
       "      <td>5</td>\n",
       "      <td>2020-04-05</td>\n",
       "      <td>76.0</td>\n",
       "      <td>312237.0</td>\n",
       "    </tr>\n",
       "    <tr>\n",
       "      <th>2020-01-31</th>\n",
       "      <td>11</td>\n",
       "      <td>7</td>\n",
       "      <td>2020-04-10</td>\n",
       "      <td>80.0</td>\n",
       "      <td>460252.0</td>\n",
       "    </tr>\n",
       "    <tr>\n",
       "      <th>2020-02-01</th>\n",
       "      <td>12</td>\n",
       "      <td>8</td>\n",
       "      <td>2020-04-19</td>\n",
       "      <td>89.0</td>\n",
       "      <td>657996.0</td>\n",
       "    </tr>\n",
       "    <tr>\n",
       "      <th>2020-02-02</th>\n",
       "      <td>13</td>\n",
       "      <td>8</td>\n",
       "      <td>NaN</td>\n",
       "      <td>NaN</td>\n",
       "      <td>NaN</td>\n",
       "    </tr>\n",
       "    <tr>\n",
       "      <th>2020-02-03</th>\n",
       "      <td>14</td>\n",
       "      <td>11</td>\n",
       "      <td>NaN</td>\n",
       "      <td>NaN</td>\n",
       "      <td>NaN</td>\n",
       "    </tr>\n",
       "    <tr>\n",
       "      <th>2020-02-04</th>\n",
       "      <td>15</td>\n",
       "      <td>11</td>\n",
       "      <td>NaN</td>\n",
       "      <td>NaN</td>\n",
       "      <td>NaN</td>\n",
       "    </tr>\n",
       "    <tr>\n",
       "      <th>2020-02-06</th>\n",
       "      <td>17</td>\n",
       "      <td>11</td>\n",
       "      <td>NaN</td>\n",
       "      <td>NaN</td>\n",
       "      <td>NaN</td>\n",
       "    </tr>\n",
       "    <tr>\n",
       "      <th>2020-02-07</th>\n",
       "      <td>18</td>\n",
       "      <td>11</td>\n",
       "      <td>NaN</td>\n",
       "      <td>NaN</td>\n",
       "      <td>NaN</td>\n",
       "    </tr>\n",
       "    <tr>\n",
       "      <th>2020-02-08</th>\n",
       "      <td>19</td>\n",
       "      <td>11</td>\n",
       "      <td>NaN</td>\n",
       "      <td>NaN</td>\n",
       "      <td>NaN</td>\n",
       "    </tr>\n",
       "  </tbody>\n",
       "</table>\n",
       "</div>"
      ],
      "text/plain": [
       "            num_of_date  num_of_patients   Date_test  num_of_date_test  \\\n",
       "Date                                                                     \n",
       "2020-01-21            1                1  2020-02-05              16.0   \n",
       "2020-01-22            2                1  2020-02-16              27.0   \n",
       "2020-01-23            3                1  2020-02-22              33.0   \n",
       "2020-01-24            4                2  2020-02-27              38.0   \n",
       "2020-01-25            5                2  2020-03-03              43.0   \n",
       "2020-01-26            6                5  2020-03-05              45.0   \n",
       "2020-01-27            7                5  2020-03-12              52.0   \n",
       "2020-01-28            8                5  2020-03-23              63.0   \n",
       "2020-01-29            9                5  2020-03-30              70.0   \n",
       "2020-01-30           10                5  2020-04-05              76.0   \n",
       "2020-01-31           11                7  2020-04-10              80.0   \n",
       "2020-02-01           12                8  2020-04-19              89.0   \n",
       "2020-02-02           13                8         NaN               NaN   \n",
       "2020-02-03           14               11         NaN               NaN   \n",
       "2020-02-04           15               11         NaN               NaN   \n",
       "2020-02-06           17               11         NaN               NaN   \n",
       "2020-02-07           18               11         NaN               NaN   \n",
       "2020-02-08           19               11         NaN               NaN   \n",
       "\n",
       "            num_of_patients_test  \n",
       "Date                              \n",
       "2020-01-21                  11.0  \n",
       "2020-01-22                  13.0  \n",
       "2020-01-23                  15.0  \n",
       "2020-01-24                  58.0  \n",
       "2020-01-25                 118.0  \n",
       "2020-01-26                 217.0  \n",
       "2020-01-27                1663.0  \n",
       "2020-01-28               43847.0  \n",
       "2020-01-29              161807.0  \n",
       "2020-01-30              312237.0  \n",
       "2020-01-31              460252.0  \n",
       "2020-02-01              657996.0  \n",
       "2020-02-02                   NaN  \n",
       "2020-02-03                   NaN  \n",
       "2020-02-04                   NaN  \n",
       "2020-02-06                   NaN  \n",
       "2020-02-07                   NaN  \n",
       "2020-02-08                   NaN  "
      ]
     },
     "execution_count": 3,
     "metadata": {},
     "output_type": "execute_result"
    }
   ],
   "source": [
    "path = 'dataset/Infected.csv'\n",
    "ds = pd.read_csv(path, index_col=0)\n",
    "ds.head(18)"
   ]
  },
  {
   "cell_type": "code",
   "execution_count": 5,
   "metadata": {
    "executionInfo": {
     "elapsed": 6,
     "status": "ok",
     "timestamp": 1666954158427,
     "user": {
      "displayName": "NICOLÁS CONTRERAS PÉREZ",
      "userId": "09973929232898584669"
     },
     "user_tz": -120
    },
    "id": "_tiVEEIZH0KB"
   },
   "outputs": [],
   "source": [
    "x = ds['num_of_date']\n",
    "y = ds['num_of_patients']\n",
    "x_test_patient = ds['num_of_date_test'][:12]  # data for the officiel test\n",
    "y_test_patient = ds['num_of_patients_test'][:12]"
   ]
  },
  {
   "cell_type": "code",
   "execution_count": 6,
   "metadata": {
    "colab": {
     "base_uri": "https://localhost:8080/"
    },
    "executionInfo": {
     "elapsed": 212,
     "status": "ok",
     "timestamp": 1666954160695,
     "user": {
      "displayName": "NICOLÁS CONTRERAS PÉREZ",
      "userId": "09973929232898584669"
     },
     "user_tz": -120
    },
    "id": "NCMtGPk4H4vW",
    "outputId": "233c9fc3-2e78-450f-ef02-87e58b85b970"
   },
   "outputs": [
    {
     "data": {
      "text/plain": [
       "Date\n",
       "2020-01-21     1\n",
       "2020-01-22     2\n",
       "2020-01-23     3\n",
       "2020-01-24     4\n",
       "2020-01-25     5\n",
       "              ..\n",
       "2020-04-21    91\n",
       "2020-04-22    92\n",
       "2020-04-23    93\n",
       "2020-04-24    94\n",
       "2020-04-25    95\n",
       "Name: num_of_date, Length: 83, dtype: int64"
      ]
     },
     "execution_count": 6,
     "metadata": {},
     "output_type": "execute_result"
    }
   ],
   "source": [
    "x"
   ]
  },
  {
   "cell_type": "markdown",
   "metadata": {
    "id": "ln9VCCSGIO8Y"
   },
   "source": [
    "##Linear Regression"
   ]
  },
  {
   "cell_type": "code",
   "execution_count": 7,
   "metadata": {
    "executionInfo": {
     "elapsed": 215,
     "status": "ok",
     "timestamp": 1666954166409,
     "user": {
      "displayName": "NICOLÁS CONTRERAS PÉREZ",
      "userId": "09973929232898584669"
     },
     "user_tz": -120
    },
    "id": "s5c4VxqKIxmf"
   },
   "outputs": [],
   "source": [
    "yy = np.log10(y)\n",
    "\n",
    "scores = []"
   ]
  },
  {
   "cell_type": "code",
   "execution_count": 8,
   "metadata": {
    "colab": {
     "base_uri": "https://localhost:8080/"
    },
    "executionInfo": {
     "elapsed": 13,
     "status": "ok",
     "timestamp": 1666954167972,
     "user": {
      "displayName": "NICOLÁS CONTRERAS PÉREZ",
      "userId": "09973929232898584669"
     },
     "user_tz": -120
    },
    "id": "i-ERZdloMdSH",
    "outputId": "548b0995-2d84-4617-efb2-ebdc7c64b470"
   },
   "outputs": [
    {
     "data": {
      "text/plain": [
       "Date\n",
       "2020-01-21    0.000000\n",
       "2020-01-22    0.000000\n",
       "2020-01-23    0.000000\n",
       "2020-01-24    0.301030\n",
       "2020-01-25    0.301030\n",
       "                ...   \n",
       "2020-04-21    5.842530\n",
       "2020-04-22    5.858897\n",
       "2020-04-23    5.875226\n",
       "2020-04-24    5.882302\n",
       "2020-04-25    5.896655\n",
       "Name: num_of_patients, Length: 83, dtype: float64"
      ]
     },
     "execution_count": 8,
     "metadata": {},
     "output_type": "execute_result"
    }
   ],
   "source": [
    "yy"
   ]
  },
  {
   "cell_type": "code",
   "execution_count": 9,
   "metadata": {
    "executionInfo": {
     "elapsed": 4,
     "status": "ok",
     "timestamp": 1666954169418,
     "user": {
      "displayName": "NICOLÁS CONTRERAS PÉREZ",
      "userId": "09973929232898584669"
     },
     "user_tz": -120
    },
    "id": "HLP_ZpZpMwLs"
   },
   "outputs": [],
   "source": [
    "Linear_Regression = LinearRegression()  "
   ]
  },
  {
   "cell_type": "code",
   "execution_count": 10,
   "metadata": {
    "colab": {
     "base_uri": "https://localhost:8080/"
    },
    "executionInfo": {
     "elapsed": 201,
     "status": "ok",
     "timestamp": 1666954274947,
     "user": {
      "displayName": "NICOLÁS CONTRERAS PÉREZ",
      "userId": "09973929232898584669"
     },
     "user_tz": -120
    },
    "id": "gQcYzDwkI3rR",
    "outputId": "c7dddf33-5634-4d91-c902-0e95541ca6bc"
   },
   "outputs": [
    {
     "name": "stdout",
     "output_type": "stream",
     "text": [
      "K-Folds cross-validator\n",
      "\n",
      "    Provides train/test indices to split data in train/test sets. Split\n",
      "    dataset into k consecutive folds (without shuffling by default).\n",
      "\n",
      "    Each fold is then used once as a validation while the k - 1 remaining\n",
      "    folds form the training set.\n",
      "\n",
      "    Read more in the :ref:`User Guide <k_fold>`.\n",
      "\n",
      "    Parameters\n",
      "    ----------\n",
      "    n_splits : int, default=5\n",
      "        Number of folds. Must be at least 2.\n",
      "\n",
      "        .. versionchanged:: 0.22\n",
      "            ``n_splits`` default value changed from 3 to 5.\n",
      "\n",
      "    shuffle : bool, default=False\n",
      "        Whether to shuffle the data before splitting into batches.\n",
      "        Note that the samples within each split will not be shuffled.\n",
      "\n",
      "    random_state : int, RandomState instance or None, default=None\n",
      "        When `shuffle` is True, `random_state` affects the ordering of the\n",
      "        indices, which controls the randomness of each fold. Otherwise, this\n",
      "        parameter has no effect.\n",
      "        Pass an int for reproducible output across multiple function calls.\n",
      "        See :term:`Glossary <random_state>`.\n",
      "\n",
      "(array([ 0,  1,  2,  3,  4,  5,  6,  7,  8,  9, 11, 12, 13, 14, 15, 16, 17,\n",
      "       18, 19, 20, 21, 22, 23, 24, 25, 26, 27, 28, 29, 30, 31, 32, 33, 34,\n",
      "       35, 36, 37, 38, 39, 41, 42, 43, 44, 45, 46, 47, 49, 50, 51, 52, 53,\n",
      "       54, 55, 56, 58, 59, 61, 62, 63, 64, 67, 68, 69, 70, 71, 72, 74, 75,\n",
      "       76, 77, 78, 79, 80, 81]), array([10, 40, 48, 57, 60, 65, 66, 73, 82]))\n",
      "(array([ 0,  1,  2,  3,  4,  5,  6,  7,  8,  9, 10, 11, 12, 13, 14, 15, 16,\n",
      "       17, 18, 19, 20, 21, 22, 23, 24, 25, 26, 28, 29, 30, 32, 33, 34, 37,\n",
      "       38, 39, 40, 41, 42, 43, 44, 45, 47, 48, 49, 50, 51, 52, 53, 54, 55,\n",
      "       56, 57, 59, 60, 61, 62, 63, 64, 65, 66, 68, 69, 70, 71, 72, 73, 74,\n",
      "       75, 78, 79, 80, 81, 82]), array([27, 31, 35, 36, 46, 58, 67, 76, 77]))\n",
      "(array([ 0,  1,  3,  4,  5,  6,  7,  8,  9, 10, 11, 12, 13, 14, 16, 17, 18,\n",
      "       19, 20, 21, 22, 23, 24, 25, 26, 27, 28, 29, 30, 31, 32, 35, 36, 37,\n",
      "       38, 40, 41, 42, 43, 44, 45, 46, 48, 49, 50, 53, 54, 55, 56, 57, 58,\n",
      "       59, 60, 61, 62, 63, 64, 65, 66, 67, 69, 70, 71, 72, 73, 74, 75, 76,\n",
      "       77, 78, 79, 80, 81, 82]), array([ 2, 15, 33, 34, 39, 47, 51, 52, 68]))\n",
      "(array([ 0,  1,  2,  3,  4,  5,  6,  7,  8,  9, 10, 11, 12, 13, 14, 15, 16,\n",
      "       17, 18, 20, 21, 22, 23, 24, 25, 27, 28, 29, 30, 31, 32, 33, 34, 35,\n",
      "       36, 37, 38, 39, 40, 41, 42, 45, 46, 47, 48, 49, 50, 51, 52, 53, 54,\n",
      "       55, 56, 57, 58, 59, 60, 61, 63, 64, 65, 66, 67, 68, 70, 71, 72, 73,\n",
      "       74, 75, 76, 77, 79, 80, 82]), array([19, 26, 43, 44, 62, 69, 78, 81]))\n",
      "(array([ 0,  1,  2,  4,  5,  6,  7,  8,  9, 10, 11, 12, 13, 14, 15, 16, 17,\n",
      "       18, 19, 20, 22, 23, 24, 25, 26, 27, 28, 29, 30, 31, 32, 33, 34, 35,\n",
      "       36, 37, 39, 40, 41, 43, 44, 46, 47, 48, 49, 50, 51, 52, 53, 54, 55,\n",
      "       57, 58, 59, 60, 61, 62, 64, 65, 66, 67, 68, 69, 70, 71, 72, 73, 74,\n",
      "       75, 76, 77, 78, 79, 81, 82]), array([ 3, 21, 38, 42, 45, 56, 63, 80]))\n"
     ]
    }
   ],
   "source": [
    "print(KFold.__doc__[:1070])\n",
    "cv = KFold(n_splits=10, random_state=1, shuffle=True)  # helps to separate the dataset in training and testing\n",
    "separated = cv.split(x)\n",
    "print(next(separated))\n",
    "print(next(separated))\n",
    "print(next(separated))\n",
    "print(next(separated))\n",
    "print(next(separated))\n",
    "# we can do this 10 times"
   ]
  },
  {
   "cell_type": "code",
   "execution_count": 11,
   "metadata": {
    "executionInfo": {
     "elapsed": 220,
     "status": "ok",
     "timestamp": 1666954278314,
     "user": {
      "displayName": "NICOLÁS CONTRERAS PÉREZ",
      "userId": "09973929232898584669"
     },
     "user_tz": -120
    },
    "id": "N0dY2JwFH80U"
   },
   "outputs": [],
   "source": [
    "for train_index, test_index in cv.split(x):\n",
    "    X_train, X_test, y_train, y_test , yy_train, yy_test= x[train_index], x[test_index], y[train_index], y[test_index], yy[train_index], yy[test_index]\n",
    "    Linear_Regression.fit(X_train.values.reshape(-1,1), yy_train)\n",
    "    scores.append(Linear_Regression.score(X_test.values.reshape(-1,1), yy_test))"
   ]
  },
  {
   "cell_type": "code",
   "execution_count": 12,
   "metadata": {
    "colab": {
     "base_uri": "https://localhost:8080/"
    },
    "executionInfo": {
     "elapsed": 4,
     "status": "ok",
     "timestamp": 1666954278507,
     "user": {
      "displayName": "NICOLÁS CONTRERAS PÉREZ",
      "userId": "09973929232898584669"
     },
     "user_tz": -120
    },
    "id": "8LqGGXDaM8oF",
    "outputId": "c9bbe2e2-ab47-4679-aad4-5c5ac173a7fc"
   },
   "outputs": [
    {
     "name": "stdout",
     "output_type": "stream",
     "text": [
      "Average score for Linear Regression: 0.947731350509466\n"
     ]
    }
   ],
   "source": [
    "print(\"Average score for Linear Regression:\", sum(scores) / len(scores)) "
   ]
  },
  {
   "cell_type": "markdown",
   "metadata": {
    "id": "WG5-eKZ-ODfB"
   },
   "source": [
    "### Evaluation model"
   ]
  },
  {
   "cell_type": "code",
   "execution_count": 13,
   "metadata": {
    "colab": {
     "base_uri": "https://localhost:8080/"
    },
    "executionInfo": {
     "elapsed": 4,
     "status": "ok",
     "timestamp": 1666954751282,
     "user": {
      "displayName": "NICOLÁS CONTRERAS PÉREZ",
      "userId": "09973929232898584669"
     },
     "user_tz": -120
    },
    "id": "G0G2GzicPZHJ",
    "outputId": "84a1e30f-f45f-4221-e605-efbc9092b4be"
   },
   "outputs": [
    {
     "data": {
      "text/plain": [
       "(array([1]), array([2]))"
      ]
     },
     "execution_count": 13,
     "metadata": {},
     "output_type": "execute_result"
    }
   ],
   "source": [
    "x.values.reshape(-1,1)[0], x.values.reshape(-1,1)[1]   # transpose matrix"
   ]
  },
  {
   "cell_type": "code",
   "execution_count": 29,
   "metadata": {
    "colab": {
     "base_uri": "https://localhost:8080/"
    },
    "executionInfo": {
     "elapsed": 8,
     "status": "ok",
     "timestamp": 1666955009184,
     "user": {
      "displayName": "NICOLÁS CONTRERAS PÉREZ",
      "userId": "09973929232898584669"
     },
     "user_tz": -120
    },
    "id": "i0_iUe1BQrVS",
    "outputId": "89c7b7fe-e960-4221-c020-c80c3047ce4b"
   },
   "outputs": [
    {
     "data": {
      "text/plain": [
       "array([95])"
      ]
     },
     "execution_count": 29,
     "metadata": {},
     "output_type": "execute_result"
    }
   ],
   "source": [
    "x.values.reshape(-1,1)[-1]  # the last datetime is 95"
   ]
  },
  {
   "cell_type": "code",
   "execution_count": 25,
   "metadata": {
    "colab": {
     "base_uri": "https://localhost:8080/"
    },
    "executionInfo": {
     "elapsed": 209,
     "status": "ok",
     "timestamp": 1666954785628,
     "user": {
      "displayName": "NICOLÁS CONTRERAS PÉREZ",
      "userId": "09973929232898584669"
     },
     "user_tz": -120
    },
    "id": "Ss6gp1kcP2li",
    "outputId": "321f1fc5-9985-45a4-836f-4a16193955cf"
   },
   "outputs": [
    {
     "data": {
      "text/plain": [
       "Date\n",
       "2020-01-21    0.000000\n",
       "2020-01-22    0.000000\n",
       "2020-01-23    0.000000\n",
       "2020-01-24    0.301030\n",
       "2020-01-25    0.301030\n",
       "                ...   \n",
       "2020-04-21    5.842530\n",
       "2020-04-22    5.858897\n",
       "2020-04-23    5.875226\n",
       "2020-04-24    5.882302\n",
       "2020-04-25    5.896655\n",
       "Name: num_of_patients, Length: 83, dtype: float64"
      ]
     },
     "execution_count": 25,
     "metadata": {},
     "output_type": "execute_result"
    }
   ],
   "source": [
    "yy"
   ]
  },
  {
   "cell_type": "code",
   "execution_count": 27,
   "metadata": {
    "executionInfo": {
     "elapsed": 213,
     "status": "ok",
     "timestamp": 1666954841262,
     "user": {
      "displayName": "NICOLÁS CONTRERAS PÉREZ",
      "userId": "09973929232898584669"
     },
     "user_tz": -120
    },
    "id": "1DQJS2PcNChh"
   },
   "outputs": [],
   "source": [
    "#  Train the model with logaritmi values\n",
    "Linear_Regression.fit(x.values.reshape(-1, 1), yy)  # use log data y"
   ]
  },
  {
   "cell_type": "code",
   "execution_count": null,
   "metadata": {
    "id": "Y0m-KH4DVgr7"
   },
   "outputs": [],
   "source": [
    "y_test_patient_log = np.log10(y_test_patient)  # calcule log of y_test oficial\n",
    "evaluation_1 = Linear_Regression.predict(x_test_patient.values.reshape(-1, 1))\n",
    "score = Linear_Regression.score(x_test_patient.values.reshape(-1, 1), y_test_patient_log)"
   ]
  },
  {
   "cell_type": "code",
   "execution_count": 36,
   "metadata": {
    "colab": {
     "base_uri": "https://localhost:8080/"
    },
    "executionInfo": {
     "elapsed": 185,
     "status": "ok",
     "timestamp": 1666956365040,
     "user": {
      "displayName": "NICOLÁS CONTRERAS PÉREZ",
      "userId": "09973929232898584669"
     },
     "user_tz": -120
    },
    "id": "HNOhNZGcQCNm",
    "outputId": "e3857053-f464-47b1-8b81-fd5774d32ad9"
   },
   "outputs": [
    {
     "name": "stdout",
     "output_type": "stream",
     "text": [
      "Final Evaluation Score for Linear Regression : 93.03292029481322 %\n"
     ]
    }
   ],
   "source": [
    "print(\"Final Evaluation Score for Linear Regression :\", score * 100, \"%\")"
   ]
  },
  {
   "cell_type": "markdown",
   "metadata": {
    "id": "GrZYUbLpQSwL"
   },
   "source": [
    "###Prediction for new days"
   ]
  },
  {
   "cell_type": "code",
   "execution_count": 30,
   "metadata": {
    "executionInfo": {
     "elapsed": 209,
     "status": "ok",
     "timestamp": 1666955127868,
     "user": {
      "displayName": "NICOLÁS CONTRERAS PÉREZ",
      "userId": "09973929232898584669"
     },
     "user_tz": -120
    },
    "id": "7dUQ-_niQjhr"
   },
   "outputs": [],
   "source": [
    "# the last datetime is 95, so :\n",
    "x_prediction = [[95],[96],[97],[98],[99],[100],[101]]  # matrix like a vector"
   ]
  },
  {
   "cell_type": "code",
   "execution_count": 31,
   "metadata": {
    "colab": {
     "base_uri": "https://localhost:8080/"
    },
    "executionInfo": {
     "elapsed": 209,
     "status": "ok",
     "timestamp": 1666955148127,
     "user": {
      "displayName": "NICOLÁS CONTRERAS PÉREZ",
      "userId": "09973929232898584669"
     },
     "user_tz": -120
    },
    "id": "HjcD3W_jQFXt",
    "outputId": "72b32710-c3e4-483c-a5dd-3b6f56af99bb"
   },
   "outputs": [
    {
     "name": "stdout",
     "output_type": "stream",
     "text": [
      "Evaluation for expecting 6 days in future in Linear_Regression:\n",
      "day [95] = 2750230\n",
      "day [96] = 3242796\n",
      "day [97] = 3823580\n",
      "day [98] = 4508382\n",
      "day [99] = 5315832\n",
      "day [100] = 6267896\n",
      "day [101] = 7390475\n"
     ]
    }
   ],
   "source": [
    "print('Evaluation for expecting 6 days in future in Linear_Regression:')\n",
    "for predict in x_prediction:\n",
    "  print('day', predict, '=', int(10 ** Linear_Regression.predict([predict])))"
   ]
  },
  {
   "cell_type": "markdown",
   "metadata": {
    "id": "Lj8S-bcWRbEW"
   },
   "source": [
    "###Plot the info"
   ]
  },
  {
   "cell_type": "code",
   "execution_count": 37,
   "metadata": {
    "colab": {
     "base_uri": "https://localhost:8080/",
     "height": 279
    },
    "executionInfo": {
     "elapsed": 22,
     "status": "ok",
     "timestamp": 1666956458755,
     "user": {
      "displayName": "NICOLÁS CONTRERAS PÉREZ",
      "userId": "09973929232898584669"
     },
     "user_tz": -120
    },
    "id": "dS0ffBTrRPeT",
    "outputId": "3fc9cde3-17e6-4dc1-9857-594e1ba0519a"
   },
   "outputs": [
    {
     "data": {
      "image/png": "[encoded data removed]",
      "text/plain": [
       "<Figure size 432x288 with 1 Axes>"
      ]
     },
     "metadata": {
      "needs_background": "light"
     },
     "output_type": "display_data"
    }
   ],
   "source": [
    "predicted1 = Linear_Regression.predict(x.values.reshape(-1, 1))\n",
    "predicted11 = 10 ** Linear_Regression.predict(x.values.reshape(-1,1))\n",
    "plt.plot(x, yy, 'o-', label='data set')\n",
    "plt.plot(x, predicted1, c='#ff0000', label='linear_regression')\n",
    "plt.legend()\n",
    "plt.xlabel('Number of Day')\n",
    "plt.ylabel('Predict value in log ')\n",
    "plt.show()"
   ]
  },
  {
   "cell_type": "code",
   "execution_count": 34,
   "metadata": {
    "colab": {
     "base_uri": "https://localhost:8080/",
     "height": 290
    },
    "executionInfo": {
     "elapsed": 537,
     "status": "ok",
     "timestamp": 1666955625441,
     "user": {
      "displayName": "NICOLÁS CONTRERAS PÉREZ",
      "userId": "09973929232898584669"
     },
     "user_tz": -120
    },
    "id": "qhAOmeKXSs7v",
    "outputId": "b7295082-eb00-46b2-fee8-aa6db0ac66c9"
   },
   "outputs": [
    {
     "data": {
      "image/png": "[encoded data removed]",
      "text/plain": [
       "<Figure size 432x288 with 1 Axes>"
      ]
     },
     "metadata": {
      "needs_background": "light"
     },
     "output_type": "display_data"
    }
   ],
   "source": [
    "plt.plot(x[:79], predicted11[:79],label='linear_regression')\n",
    "plt.scatter(x_test_patient, 10 ** evaluation_1, s=60, c='#ff0000', label='Predict values')\n",
    "plt.scatter(x_test_patient, y_test_patient, s=50, c='#003300', label='Original test values')\n",
    "plt.legend()\n",
    "plt.xlabel('Number of Day')\n",
    "plt.ylabel('Predict value ')\n",
    "plt.show()"
   ]
  },
  {
   "cell_type": "code",
   "execution_count": null,
   "metadata": {
    "id": "29iR5JoDS38H"
   },
   "outputs": [],
   "source": []
  }
 ],
 "metadata": {
  "accelerator": "GPU",
  "colab": {
   "authorship_tag": "ABX9TyM44PY+FVTYPAWpmxbNtGOe",
   "collapsed_sections": [],
   "provenance": []
  },
  "gpuClass": "standard",
  "kernelspec": {
   "display_name": "Python 3 (ipykernel)",
   "language": "python",
   "name": "python3"
  },
  "language_info": {
   "codemirror_mode": {
    "name": "ipython",
    "version": 3
   },
   "file_extension": ".py",
   "mimetype": "text/x-python",
   "name": "python",
   "nbconvert_exporter": "python",
   "pygments_lexer": "ipython3",
   "version": "3.10.6"
  }
 },
 "nbformat": 4,
 "nbformat_minor": 1
}
