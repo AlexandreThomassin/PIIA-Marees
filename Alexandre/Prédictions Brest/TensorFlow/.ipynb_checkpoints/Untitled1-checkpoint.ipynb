{
 "cells": [
  {
   "cell_type": "code",
   "execution_count": 1,
   "id": "c4b66f6e",
   "metadata": {},
   "outputs": [
    {
     "name": "stderr",
     "output_type": "stream",
     "text": [
      "2022-12-23 15:05:55.603738: I tensorflow/core/platform/cpu_feature_guard.cc:193] This TensorFlow binary is optimized with oneAPI Deep Neural Network Library (oneDNN) to use the following CPU instructions in performance-critical operations:  AVX2 FMA\n",
      "To enable them in other operations, rebuild TensorFlow with the appropriate compiler flags.\n",
      "2022-12-23 15:05:58.915181: W tensorflow/compiler/xla/stream_executor/platform/default/dso_loader.cc:64] Could not load dynamic library 'libnvinfer.so.7'; dlerror: libnvinfer.so.7: cannot open shared object file: No such file or directory; LD_LIBRARY_PATH: /usr/lib/cuda-11.7/lib64:\n",
      "2022-12-23 15:05:58.918664: W tensorflow/compiler/xla/stream_executor/platform/default/dso_loader.cc:64] Could not load dynamic library 'libnvinfer_plugin.so.7'; dlerror: libnvinfer_plugin.so.7: cannot open shared object file: No such file or directory; LD_LIBRARY_PATH: /usr/lib/cuda-11.7/lib64:\n",
      "2022-12-23 15:05:58.918691: W tensorflow/compiler/tf2tensorrt/utils/py_utils.cc:38] TF-TRT Warning: Cannot dlopen some TensorRT libraries. If you would like to use Nvidia GPU with TensorRT, please make sure the missing libraries mentioned above are installed properly.\n"
     ]
    }
   ],
   "source": [
    "import numba\n",
    "import pandas\n",
    "from matplotlib import pyplot as plt\n",
    "import numpy as np\n",
    "import tensorflow as tf\n",
    "import IPython\n",
    "import IPython.display"
   ]
  },
  {
   "cell_type": "markdown",
   "id": "e9b36016",
   "metadata": {},
   "source": [
    "## Récupération des données"
   ]
  },
  {
   "cell_type": "code",
   "execution_count": 2,
   "id": "d9533373",
   "metadata": {},
   "outputs": [
    {
     "name": "stdout",
     "output_type": "stream",
     "text": [
      "         Valeur  Source\n",
      "0         3.050       3\n",
      "1         3.300       3\n",
      "2         3.550       3\n",
      "3         3.800       3\n",
      "4         4.070       3\n",
      "...         ...     ...\n",
      "1426559   1.931       3\n",
      "1426560   1.915       3\n",
      "1426561   1.918       3\n",
      "1426562   1.942       3\n",
      "1426563   1.998       3\n",
      "\n",
      "[1426564 rows x 2 columns]\n"
     ]
    }
   ],
   "source": [
    "df = pandas.read_csv(\"1866_2022_3.csv\")\n",
    "date_time = pandas.to_datetime(df.pop('Date'), format='%d/%m/%Y %H:%M:%S')\n",
    "print(df)"
   ]
  },
  {
   "cell_type": "code",
   "execution_count": 3,
   "id": "e72a6d5c",
   "metadata": {},
   "outputs": [
    {
     "name": "stdout",
     "output_type": "stream",
     "text": [
      "(100000, 1)\n",
      "[[3.05]\n",
      " [3.3 ]\n",
      " [3.55]\n",
      " ...\n",
      " [6.37]\n",
      " [6.39]\n",
      " [6.41]]\n"
     ]
    }
   ],
   "source": [
    "datas = df[\"Valeur\"].values\n",
    "datas = datas.reshape([len(datas),1])\n",
    "print(datas.shape)\n",
    "print(datas)"
   ]
  },
  {
   "cell_type": "code",
   "execution_count": 4,
   "id": "1065a99c",
   "metadata": {},
   "outputs": [
    {
     "data": {
      "text/plain": [
       "array([[3.05],\n",
       "       [3.3 ],\n",
       "       [3.55],\n",
       "       ...,\n",
       "       [3.94],\n",
       "       [4.19],\n",
       "       [4.37]])"
      ]
     },
     "execution_count": 4,
     "metadata": {},
     "output_type": "execute_result"
    }
   ],
   "source": [
    "n = len(datas)\n",
    "train = datas[:int(0.8*n),:]\n",
    "test = datas[int(0.8*n):, :]\n",
    "train"
   ]
  },
  {
   "cell_type": "markdown",
   "id": "15c63a0e",
   "metadata": {},
   "source": [
    "### Longueur d'entrée et de sortie"
   ]
  },
  {
   "cell_type": "code",
   "execution_count": 5,
   "id": "60cd6ed8",
   "metadata": {},
   "outputs": [],
   "source": [
    "input_length = 100\n",
    "output_length = 10"
   ]
  },
  {
   "cell_type": "markdown",
   "id": "328b9c6a",
   "metadata": {},
   "source": [
    "### Fonction de fenetrage"
   ]
  },
  {
   "cell_type": "code",
   "execution_count": 29,
   "id": "478747bb",
   "metadata": {},
   "outputs": [],
   "source": [
    "def split(array):\n",
    "    inputs = array[:,0:input_length, :]\n",
    "    outputs = array[:,input_length:input_length+output_length, :]\n",
    "    \n",
    "    inputs.set_shape([None,input_length, None])\n",
    "    outputs.set_shape([None, output_length, None])\n",
    "    return inputs,outputs"
   ]
  },
  {
   "cell_type": "markdown",
   "id": "99a956ed",
   "metadata": {},
   "source": [
    "### Création des datasets"
   ]
  },
  {
   "cell_type": "code",
   "execution_count": 30,
   "id": "7b4a9ab8",
   "metadata": {},
   "outputs": [
    {
     "data": {
      "text/plain": [
       "<MapDataset element_spec=(TensorSpec(shape=(None, 100, 1), dtype=tf.float32, name=None), TensorSpec(shape=(None, 10, 1), dtype=tf.float32, name=None))>"
      ]
     },
     "execution_count": 30,
     "metadata": {},
     "output_type": "execute_result"
    }
   ],
   "source": [
    "train = np.array(train, dtype=np.float32)\n",
    "train_ds = tf.keras.utils.timeseries_dataset_from_array(\n",
    "  data=train,\n",
    "  targets=None,\n",
    "  sequence_length=output_length+input_length,\n",
    "  sequence_stride=1,\n",
    "  shuffle=True,\n",
    "  batch_size=32)\n",
    "\n",
    "train_ds = train_ds.map(split)\n",
    "train_ds"
   ]
  },
  {
   "cell_type": "code",
   "execution_count": 31,
   "id": "c583dd16",
   "metadata": {},
   "outputs": [],
   "source": [
    "test = np.array(test, dtype=np.float32)\n",
    "test_ds = tf.keras.utils.timeseries_dataset_from_array(\n",
    "  data=test,\n",
    "  targets=None,\n",
    "  sequence_length=output_length+input_length,\n",
    "  sequence_stride=1,\n",
    "  shuffle=True,\n",
    "  batch_size=32)\n",
    "\n",
    "test_ds = test_ds.map(split)"
   ]
  },
  {
   "cell_type": "markdown",
   "id": "af8bd1c9",
   "metadata": {},
   "source": [
    "### Création du modèle"
   ]
  },
  {
   "cell_type": "code",
   "execution_count": 32,
   "id": "07cb1542",
   "metadata": {},
   "outputs": [],
   "source": [
    "multi_conv_model = tf.keras.Sequential([\n",
    "    # Shape [batch, time, features] => [batch, CONV_WIDTH, features]\n",
    "    tf.keras.layers.Lambda(lambda x: x[:, -3:, :]),\n",
    "    # Shape => [batch, 1, conv_units]\n",
    "    tf.keras.layers.Conv1D(32, activation='relu', kernel_size=(3)),\n",
    "    # Shape => [batch, 1,  out_steps*features]\n",
    "    tf.keras.layers.Dense(output_length,\n",
    "                          kernel_initializer=tf.initializers.zeros()),\n",
    "    # Shape => [batch, out_steps, features]\n",
    "    tf.keras.layers.Reshape([output_length, 1])\n",
    "])"
   ]
  },
  {
   "cell_type": "markdown",
   "id": "ffb64c77",
   "metadata": {},
   "source": [
    "### Compilation"
   ]
  },
  {
   "cell_type": "code",
   "execution_count": 33,
   "id": "eba5c01c",
   "metadata": {},
   "outputs": [],
   "source": [
    "early_stopping = tf.keras.callbacks.EarlyStopping(monitor='loss',\n",
    "                                                patience=2,\n",
    "                                                mode='min')\n",
    "\n",
    "\n",
    "multi_conv_model.compile(loss=tf.losses.MeanSquaredError(),\n",
    "            optimizer=tf.optimizers.Adam(),\n",
    "            metrics=[tf.metrics.MeanAbsoluteError()])\n"
   ]
  },
  {
   "cell_type": "markdown",
   "id": "02a56319",
   "metadata": {},
   "source": [
    "### Entrainement"
   ]
  },
  {
   "cell_type": "code",
   "execution_count": 34,
   "id": "b4a6b52a",
   "metadata": {},
   "outputs": [
    {
     "name": "stdout",
     "output_type": "stream",
     "text": [
      "Epoch 1/10\n"
     ]
    },
    {
     "name": "stderr",
     "output_type": "stream",
     "text": [
      "2022-12-23 15:15:19.706604: I tensorflow/compiler/xla/service/service.cc:173] XLA service 0x7f5fa0906cf0 initialized for platform CUDA (this does not guarantee that XLA will be used). Devices:\n",
      "2022-12-23 15:15:19.730316: I tensorflow/compiler/xla/service/service.cc:181]   StreamExecutor device (0): NVIDIA GeForce GTX 1650, Compute Capability 7.5\n",
      "2022-12-23 15:15:19.804682: I tensorflow/compiler/mlir/tensorflow/utils/dump_mlir_util.cc:268] disabling MLIR crash reproducer, set env var `MLIR_CRASH_REPRODUCER_DIRECTORY` to enable.\n",
      "2022-12-23 15:15:20.412114: I tensorflow/compiler/jit/xla_compilation_cache.cc:477] Compiled cluster using XLA!  This line is logged at most once for the lifetime of the process.\n"
     ]
    },
    {
     "name": "stdout",
     "output_type": "stream",
     "text": [
      "2497/2497 [==============================] - ETA: 0s - loss: 0.7875 - mean_absolute_error: 0.6035WARNING:tensorflow:Early stopping conditioned on metric `val_loss` which is not available. Available metrics are: loss,mean_absolute_error\n",
      "2497/2497 [==============================] - 25s 7ms/step - loss: 0.7875 - mean_absolute_error: 0.6035\n",
      "Epoch 2/10\n",
      "2489/2497 [============================>.] - ETA: 0s - loss: 0.0219 - mean_absolute_error: 0.0852WARNING:tensorflow:Early stopping conditioned on metric `val_loss` which is not available. Available metrics are: loss,mean_absolute_error\n",
      "2497/2497 [==============================] - 16s 6ms/step - loss: 0.0219 - mean_absolute_error: 0.0851\n",
      "Epoch 3/10\n",
      "2495/2497 [============================>.] - ETA: 0s - loss: 0.0118 - mean_absolute_error: 0.0598WARNING:tensorflow:Early stopping conditioned on metric `val_loss` which is not available. Available metrics are: loss,mean_absolute_error\n",
      "2497/2497 [==============================] - 16s 7ms/step - loss: 0.0118 - mean_absolute_error: 0.0599\n",
      "Epoch 4/10\n",
      "2491/2497 [============================>.] - ETA: 0s - loss: 0.0116 - mean_absolute_error: 0.0601WARNING:tensorflow:Early stopping conditioned on metric `val_loss` which is not available. Available metrics are: loss,mean_absolute_error\n",
      "2497/2497 [==============================] - 16s 6ms/step - loss: 0.0116 - mean_absolute_error: 0.0601\n",
      "Epoch 5/10\n",
      "2493/2497 [============================>.] - ETA: 0s - loss: 0.0110 - mean_absolute_error: 0.0578WARNING:tensorflow:Early stopping conditioned on metric `val_loss` which is not available. Available metrics are: loss,mean_absolute_error\n",
      "2497/2497 [==============================] - 16s 6ms/step - loss: 0.0110 - mean_absolute_error: 0.0578\n",
      "Epoch 6/10\n",
      "2490/2497 [============================>.] - ETA: 0s - loss: 0.0108 - mean_absolute_error: 0.0574WARNING:tensorflow:Early stopping conditioned on metric `val_loss` which is not available. Available metrics are: loss,mean_absolute_error\n",
      "2497/2497 [==============================] - 16s 7ms/step - loss: 0.0108 - mean_absolute_error: 0.0575\n",
      "Epoch 7/10\n",
      "2496/2497 [============================>.] - ETA: 0s - loss: 0.0107 - mean_absolute_error: 0.0575WARNING:tensorflow:Early stopping conditioned on metric `val_loss` which is not available. Available metrics are: loss,mean_absolute_error\n",
      "2497/2497 [==============================] - 16s 6ms/step - loss: 0.0107 - mean_absolute_error: 0.0576\n",
      "Epoch 8/10\n",
      "2491/2497 [============================>.] - ETA: 0s - loss: 0.0104 - mean_absolute_error: 0.0572WARNING:tensorflow:Early stopping conditioned on metric `val_loss` which is not available. Available metrics are: loss,mean_absolute_error\n",
      "2497/2497 [==============================] - 16s 6ms/step - loss: 0.0105 - mean_absolute_error: 0.0572\n",
      "Epoch 9/10\n",
      "2495/2497 [============================>.] - ETA: 0s - loss: 0.0103 - mean_absolute_error: 0.0573WARNING:tensorflow:Early stopping conditioned on metric `val_loss` which is not available. Available metrics are: loss,mean_absolute_error\n",
      "2497/2497 [==============================] - 16s 6ms/step - loss: 0.0103 - mean_absolute_error: 0.0573\n",
      "Epoch 10/10\n",
      "2497/2497 [==============================] - ETA: 0s - loss: 0.0102 - mean_absolute_error: 0.0574WARNING:tensorflow:Early stopping conditioned on metric `val_loss` which is not available. Available metrics are: loss,mean_absolute_error\n",
      "2497/2497 [==============================] - 16s 6ms/step - loss: 0.0102 - mean_absolute_error: 0.0574\n"
     ]
    }
   ],
   "source": [
    "MAX_EPOCHS = 20\n",
    "history = multi_conv_model.fit(train_ds, epochs=MAX_EPOCHS, callbacks=[early_stopping])"
   ]
  },
  {
   "cell_type": "code",
   "execution_count": null,
   "id": "b04d4ed1",
   "metadata": {},
   "outputs": [],
   "source": []
  }
 ],
 "metadata": {
  "kernelspec": {
   "display_name": "Python 3 (ipykernel)",
   "language": "python",
   "name": "python3"
  },
  "language_info": {
   "codemirror_mode": {
    "name": "ipython",
    "version": 3
   },
   "file_extension": ".py",
   "mimetype": "text/x-python",
   "name": "python",
   "nbconvert_exporter": "python",
   "pygments_lexer": "ipython3",
   "version": "3.10.6"
  }
 },
 "nbformat": 4,
 "nbformat_minor": 5
}
