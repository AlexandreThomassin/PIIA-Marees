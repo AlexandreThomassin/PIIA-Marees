{
 "cells": [
  {
   "cell_type": "markdown",
   "id": "9baa8699",
   "metadata": {},
   "source": [
    "## Multi-Step model using TensorFlow"
   ]
  },
  {
   "cell_type": "code",
   "execution_count": 1,
   "id": "a3a46331",
   "metadata": {},
   "outputs": [
    {
     "name": "stderr",
     "output_type": "stream",
     "text": [
      "2023-03-06 13:46:47.572124: I tensorflow/core/platform/cpu_feature_guard.cc:193] This TensorFlow binary is optimized with oneAPI Deep Neural Network Library (oneDNN) to use the following CPU instructions in performance-critical operations:  AVX2 FMA\n",
      "To enable them in other operations, rebuild TensorFlow with the appropriate compiler flags.\n",
      "2023-03-06 13:46:48.063835: E tensorflow/stream_executor/cuda/cuda_blas.cc:2981] Unable to register cuBLAS factory: Attempting to register factory for plugin cuBLAS when one has already been registered\n",
      "2023-03-06 13:46:49.136016: W tensorflow/stream_executor/platform/default/dso_loader.cc:64] Could not load dynamic library 'libnvinfer.so.7'; dlerror: libnvinfer.so.7: cannot open shared object file: No such file or directory; LD_LIBRARY_PATH: /usr/lib/cuda-11.7/lib64:\n",
      "2023-03-06 13:46:49.138190: W tensorflow/stream_executor/platform/default/dso_loader.cc:64] Could not load dynamic library 'libnvinfer_plugin.so.7'; dlerror: libnvinfer_plugin.so.7: cannot open shared object file: No such file or directory; LD_LIBRARY_PATH: /usr/lib/cuda-11.7/lib64:\n",
      "2023-03-06 13:46:49.138204: W tensorflow/compiler/tf2tensorrt/utils/py_utils.cc:38] TF-TRT Warning: Cannot dlopen some TensorRT libraries. If you would like to use Nvidia GPU with TensorRT, please make sure the missing libraries mentioned above are installed properly.\n"
     ]
    }
   ],
   "source": [
    "import os\n",
    "import pandas\n",
    "import keras\n",
    "from matplotlib import pyplot as plt\n",
    "import matplotlib.patches as patches\n",
    "import numpy as np\n",
    "import tensorflow as tf\n",
    "import tensorflow_addons as tfa\n",
    "import IPython\n",
    "import IPython.display\n",
    "from keras_tqdm import TQDMNotebookCallback"
   ]
  },
  {
   "cell_type": "code",
   "execution_count": 2,
   "id": "1ee6030a",
   "metadata": {},
   "outputs": [
    {
     "data": {
      "text/plain": [
       "'4.64.1'"
      ]
     },
     "execution_count": 2,
     "metadata": {},
     "output_type": "execute_result"
    }
   ],
   "source": [
    "import tqdm\n",
    "\n",
    "# quietly deep-reload tqdm\n",
    "import sys\n",
    "from IPython.lib import deepreload \n",
    "\n",
    "stdout = sys.stdout\n",
    "sys.stdout = open('junk','w')\n",
    "deepreload.reload(tqdm)\n",
    "sys.stdout = stdout\n",
    "\n",
    "tqdm.__version__"
   ]
  },
  {
   "cell_type": "code",
   "execution_count": 3,
   "id": "4e43ff6b",
   "metadata": {},
   "outputs": [
    {
     "name": "stdout",
     "output_type": "stream",
     "text": [
      "GPUs Available:  [PhysicalDevice(name='/physical_device:GPU:0', device_type='GPU')]\n"
     ]
    },
    {
     "name": "stderr",
     "output_type": "stream",
     "text": [
      "2023-03-06 13:46:51.045883: I tensorflow/stream_executor/cuda/cuda_gpu_executor.cc:966] could not open file to read NUMA node: /sys/bus/pci/devices/0000:01:00.0/numa_node\n",
      "Your kernel may have been built without NUMA support.\n",
      "2023-03-06 13:46:51.150353: I tensorflow/stream_executor/cuda/cuda_gpu_executor.cc:966] could not open file to read NUMA node: /sys/bus/pci/devices/0000:01:00.0/numa_node\n",
      "Your kernel may have been built without NUMA support.\n",
      "2023-03-06 13:46:51.150578: I tensorflow/stream_executor/cuda/cuda_gpu_executor.cc:966] could not open file to read NUMA node: /sys/bus/pci/devices/0000:01:00.0/numa_node\n",
      "Your kernel may have been built without NUMA support.\n"
     ]
    }
   ],
   "source": [
    "print(\"GPUs Available: \", tf.config.list_physical_devices('GPU'))"
   ]
  },
  {
   "cell_type": "code",
   "execution_count": 4,
   "id": "34aa9c79",
   "metadata": {},
   "outputs": [
    {
     "name": "stdout",
     "output_type": "stream",
     "text": [
      "         NSAL Hauteur\n",
      "0                4.68\n",
      "1                4.64\n",
      "2                4.61\n",
      "3                4.57\n",
      "4                4.54\n",
      "...               ...\n",
      "1050187          5.68\n",
      "1050188          5.70\n",
      "1050189          5.70\n",
      "1050190          5.70\n",
      "1050191          5.71\n",
      "\n",
      "[990169 rows x 1 columns]\n"
     ]
    }
   ],
   "source": [
    "df = pandas.read_csv(\"n_sal.csv\", index_col=0)\n",
    "# date_time = pandas.to_datetime(df.pop('Date'), format='%d/%m/%Y %H:%M:%S')\n",
    "print(df)"
   ]
  },
  {
   "cell_type": "code",
   "execution_count": 5,
   "id": "97db88a8",
   "metadata": {},
   "outputs": [],
   "source": [
    "values = df\n",
    "#values.pop('Source')\n",
    "#date_time = pandas.to_datetime(values.pop('Date'), format='%d/%m/%Y %H:%M:%S')\n",
    "#values[\"Time\"] = [(i)*10 for i in range(len(values))]\n",
    "#values.drop('Source', axis = 1, inplace = True)\n",
    "#values['Valeur'] = values['Valeur'].transform(lambda x: int(1000*x))\n",
    "#print(values)"
   ]
  },
  {
   "cell_type": "markdown",
   "id": "304ec61a",
   "metadata": {},
   "source": [
    "## Données d'entrainements et de validations"
   ]
  },
  {
   "cell_type": "code",
   "execution_count": 6,
   "id": "94ef82a8",
   "metadata": {},
   "outputs": [],
   "source": [
    "n = len(values)\n",
    "train_df = values[0:int(n*0.7)]\n",
    "val_df = values[int(n*0.7):int(n*0.9)]\n",
    "test_df = values[int(n*0.9):]\n",
    "\n",
    "num_features = df.shape[1]\n",
    "#print(num_features)\n",
    "\n",
    "#print(f\"Train : {train_df}\")\n",
    "#print(f\"Validation : {val_df}\")\n",
    "#print(f\"Test : {test_df}\")"
   ]
  },
  {
   "cell_type": "markdown",
   "id": "227ef37d",
   "metadata": {},
   "source": [
    "## Fenêtrage des données"
   ]
  },
  {
   "cell_type": "code",
   "execution_count": 254,
   "id": "208c6a90",
   "metadata": {},
   "outputs": [],
   "source": [
    "class WindowGenerator():\n",
    "    def __init__(self, input_width, label_width, shift,\n",
    "               train_df=train_df, val_df=val_df, test_df=test_df,\n",
    "               label_columns=None):\n",
    "        # Store the raw data.\n",
    "        self.train_df = train_df\n",
    "        self.val_df = val_df\n",
    "        self.test_df = test_df\n",
    "\n",
    "        # Work out the label column indices.\n",
    "        self.label_columns = label_columns\n",
    "        if label_columns is not None:\n",
    "            self.label_columns_indices = {name: i for i, name in\n",
    "                                        enumerate(label_columns)}\n",
    "        self.column_indices = {name: i for i, name in\n",
    "                               enumerate(train_df.columns)}\n",
    "\n",
    "        # Work out the window parameters.\n",
    "        self.input_width = input_width\n",
    "        self.label_width = label_width\n",
    "        self.shift = shift\n",
    "\n",
    "        self.total_window_size = input_width + shift\n",
    "\n",
    "        self.input_slice = slice(0, input_width)\n",
    "        self.input_indices = np.arange(self.total_window_size)[self.input_slice]\n",
    "\n",
    "        self.label_start = self.total_window_size - self.label_width\n",
    "        self.labels_slice = slice(self.label_start, None)\n",
    "        self.label_indices = np.arange(self.total_window_size)[self.labels_slice]\n",
    "\n",
    "    def __repr__(self):\n",
    "        return '\\n'.join([\n",
    "            f'Total window size: {self.total_window_size}',\n",
    "            f'Input indices: {self.input_indices}',\n",
    "            f'Label indices: {self.label_indices}',\n",
    "            f'Label column name(s): {self.label_columns}'])\n",
    "    \n",
    "    def split_window(self, features):\n",
    "        inputs = features[:, self.input_slice, :]\n",
    "        #print(features.shape)\n",
    "        labels = features[:, self.labels_slice, :]\n",
    "        if self.label_columns is not None:\n",
    "            labels = tf.stack(\n",
    "                [labels[:, :, self.column_indices[name]] for name in self.label_columns],\n",
    "                axis=-1)\n",
    "\n",
    "        # Slicing doesn't preserve static shape information, so set the shapes\n",
    "        # manually. This way the `tf.data.Datasets` are easier to inspect.\n",
    "        inputs.set_shape([None, self.input_width, None])\n",
    "        labels.set_shape([None, self.label_width, None])\n",
    "        #print(inputs.shape)\n",
    "        #print(type(inputs))\n",
    "\n",
    "        return inputs, labels\n",
    "    \n",
    "    def plot(self, model=None, plot_cols=None, max_subplots=3, figname = None, history = None, test = None):\n",
    "        if plot_cols == None:\n",
    "            plot_cols = self.label_columns\n",
    "        print(f\"Plot_cols : {plot_cols}\")\n",
    "        \n",
    "\n",
    "        inputs, labels = self.example\n",
    "\n",
    "        fig = plt.figure(figsize=(12*len(inputs),3.5*(len(plot_cols)+1)))\n",
    "\n",
    "        #print(len(inputs))\n",
    "        #print(f\"inputs : {inputs[0, :, 2]}\")\n",
    "        #print(f\"labels : {labels}\")\n",
    "        sub = 1\n",
    "        max_n = min(max_subplots, len(inputs))\n",
    "        for plot_col in plot_cols:\n",
    "            \n",
    "            plot_col_index = self.column_indices[plot_col]\n",
    "            #print(self.column_indices)\n",
    "\n",
    "            for n in range(max_n):\n",
    "                \n",
    "                plt.subplot(len(plot_cols)+1, max_n, sub+n)\n",
    "                plt.ylabel(f'{plot_col}')\n",
    "                plt.plot([i for i in range(-self.input_width,0)], inputs[n, :, plot_col_index],\n",
    "                        label='Inputs', marker='.', zorder=-10)\n",
    "\n",
    "                if self.label_columns:\n",
    "                    label_col_index = self.label_columns_indices.get(plot_col, None)\n",
    "                else:\n",
    "                    label_col_index = plot_col_index\n",
    "\n",
    "                if label_col_index is None:\n",
    "                    continue\n",
    "                #last = inputs[n, :, time_index][-1]\n",
    "\n",
    "                plt.scatter([i for i in range(self.label_width)], labels[n, :, label_col_index],\n",
    "                            edgecolors='k', label='Labels', c='#2ca02c', s=64)\n",
    "                if model is not None:\n",
    "                    predictions = model(inputs)\n",
    "                    plt.scatter([i for i in range(self.label_width)],predictions[n, :, label_col_index],\n",
    "                            marker='X', edgecolors='k', label='Predictions',\n",
    "                            c='#ff7f0e', s=64)\n",
    "\n",
    "                if n == 0 and sub == 1:\n",
    "                    #handles, labels = plt.get_legend_handles_labels()\n",
    "                    # fig.legend(handles, labels, loc='upper center')\n",
    "                    \n",
    "                    if figname != None:\n",
    "                        font = {'family': 'serif',\n",
    "                        'weight': 'bold',\n",
    "                        'size': 16,\n",
    "                        }\n",
    "                        fig.suptitle(figname, fontproperties = font)\n",
    "                    plt.legend( title = \"Legend :\", facecolor=\"0.90\", edgecolor=\"black\")\n",
    "\n",
    "            sub+=max_n\n",
    "            plt.xlabel('Time of Measure')\n",
    "        \n",
    "        # Addind a box with loss parameters:\n",
    "        \n",
    "        \n",
    "        if model != None:\n",
    "            \n",
    "            ax = plt.subplot(len(plot_cols)+1, max_n, sub+max_n-1)\n",
    "            \n",
    "            textobjs = []\n",
    "            \n",
    "            dh = 0.35\n",
    "            h = 0.65\n",
    "            \n",
    "            text = ax.text(0.05,h, \n",
    "                           f\"Training : \\n--------------\\nLoss (MSE) : {history.history['loss'][-1] : .3f}\\nMAE : {history.history['mean_absolute_error'][-1]: .3f}\", \n",
    "                           ha=\"left\", transform=ax.transAxes, fontsize = 12)\n",
    "        \n",
    "            textobjs.append(text)\n",
    "            \n",
    "            text = ax.text(0.30,h, \n",
    "                           f\"Validation : \\n--------------\\nLoss (MSE) : {history.history['val_loss'][-1]: .3f}\\nMAE : {history.history['val_mean_absolute_error'][-1]: .3f}\",\n",
    "                           ha=\"left\", transform=ax.transAxes, fontsize = 12)\n",
    "        \n",
    "            textobjs.append(text)\n",
    "            \n",
    "            text = ax.text(0.60,h, \n",
    "                           f\"Test : \\n--------------\\nLoss (MSE) : {test[0]: .3f}\\nMAE : {test[1]: .3f}\",\n",
    "                           ha=\"left\", transform=ax.transAxes, fontsize = 12)\n",
    "        \n",
    "            textobjs.append(text)\n",
    "            \n",
    "            #t = ax.text(0.4,0.6, 'Hello world line 1', ha='center', color='red', weight='bold', transform=ax.transAxes)\n",
    "            \n",
    "\n",
    "            fig.canvas.draw()\n",
    "\n",
    "            xmin = min([t.get_window_extent().xmin for t in textobjs])*0.85\n",
    "            xmax = max([t.get_window_extent().xmax for t in textobjs])*1.15\n",
    "            ymin = min([t.get_window_extent().ymin for t in textobjs])*0.85\n",
    "            ymax = max([t.get_window_extent().ymax for t in textobjs])*1.15\n",
    "\n",
    "            xmin, ymin = fig.transFigure.inverted().transform((xmin, ymin))\n",
    "            xmax, ymax = fig.transFigure.inverted().transform((xmax, ymax))\n",
    "            \n",
    "            size = fig.get_size_inches()*fig.dpi\n",
    "\n",
    "            rect = patches.Rectangle((0,ymin),size[0],ymax-ymin, facecolor='grey', alpha=0.2, transform=fig.transFigure)\n",
    "\n",
    "            ax.add_patch(rect)\n",
    "\n",
    "            ax.axis('off')\n",
    "        \n",
    "        # Saving the figure\n",
    "        if figname != None:\n",
    "            if not os.path.exists(\"img\"):\n",
    "                 os.makedirs(\"img\")\n",
    "            fig.savefig(\"img/\" + figname + \".png\", bbox_inches='tight')\n",
    "        \n",
    "    def make_dataset(self, data):\n",
    "        data = np.array(data, dtype=np.float32)\n",
    "        #print(data.shape)\n",
    "        ds = tf.keras.utils.timeseries_dataset_from_array(\n",
    "          data=data,\n",
    "          targets=None,\n",
    "          sequence_length=self.total_window_size,\n",
    "          sequence_stride=1,\n",
    "          shuffle=True,\n",
    "          batch_size=512,)\n",
    "\n",
    "        ds = ds.map(self.split_window)\n",
    "\n",
    "        return ds\n",
    "    \n",
    "    @property\n",
    "    def train(self):\n",
    "        return self.make_dataset(self.train_df)\n",
    "\n",
    "    @property\n",
    "    def val(self):\n",
    "        return self.make_dataset(self.val_df)\n",
    "\n",
    "    @property\n",
    "    def test(self):\n",
    "        return self.make_dataset(self.test_df)\n",
    "\n",
    "    @property\n",
    "    def example(self):\n",
    "        \"\"\"Get and cache an example batch of `inputs, labels` for plotting.\"\"\"\n",
    "        result = getattr(self, '_example', None)\n",
    "        if result is None:\n",
    "            # No example batch was found, so get one from the `.train` dataset\n",
    "            result = next(iter(self.train))\n",
    "            # And cache it for next time\n",
    "            self._example = result\n",
    "        return result"
   ]
  },
  {
   "cell_type": "code",
   "execution_count": 47,
   "id": "397ff7d4",
   "metadata": {},
   "outputs": [
    {
     "data": {
      "text/plain": [
       "['NSAL Hauteur']"
      ]
     },
     "execution_count": 47,
     "metadata": {},
     "output_type": "execute_result"
    }
   ],
   "source": [
    "w2 = WindowGenerator(input_width=100, label_width=2, shift=1, train_df=train_df, val_df=val_df, test_df=test_df, \n",
    "                     label_columns=[\"NSAL Hauteur\"])\n",
    "w2.label_columns"
   ]
  },
  {
   "cell_type": "code",
   "execution_count": 48,
   "id": "53ad903b",
   "metadata": {},
   "outputs": [
    {
     "name": "stdout",
     "output_type": "stream",
     "text": [
      "(101, 1)\n"
     ]
    }
   ],
   "source": [
    "example_window = tf.stack([\n",
    "                               np.array(train_df[100:100+w2.total_window_size]),\n",
    "                           ])\n",
    "print(train_df[:w2.total_window_size].shape)\n",
    "example_inputs, example_labels = w2.split_window(example_window)\n",
    "w2._example = example_inputs, example_labels"
   ]
  },
  {
   "cell_type": "code",
   "execution_count": 49,
   "id": "94451d99",
   "metadata": {},
   "outputs": [
    {
     "name": "stdout",
     "output_type": "stream",
     "text": [
      "Plot_cols : ['NSAL Hauteur']\n"
     ]
    },
    {
     "data": {
      "image/png": "[encoded data removed]",
      "text/plain": [
       "<Figure size 1200x700 with 1 Axes>"
      ]
     },
     "metadata": {},
     "output_type": "display_data"
    }
   ],
   "source": [
    "w2.plot(figname=\"NSAL Hauteur\")"
   ]
  },
  {
   "cell_type": "markdown",
   "id": "04f7d413",
   "metadata": {},
   "source": [
    "### Modèle en une seule étape"
   ]
  },
  {
   "cell_type": "code",
   "execution_count": 41,
   "id": "79e6d780",
   "metadata": {},
   "outputs": [
    {
     "data": {
      "text/plain": [
       "Total window size: 2\n",
       "Input indices: [0]\n",
       "Label indices: [1]\n",
       "Label column name(s): ['Valeur']"
      ]
     },
     "execution_count": 41,
     "metadata": {},
     "output_type": "execute_result"
    }
   ],
   "source": [
    "single_step_window = WindowGenerator(\n",
    "    input_width=1, label_width=1, shift=1,\n",
    "    label_columns=['Valeur'])\n",
    "single_step_window"
   ]
  },
  {
   "cell_type": "markdown",
   "id": "cd719f9a",
   "metadata": {},
   "source": [
    "### Baseline"
   ]
  },
  {
   "cell_type": "code",
   "execution_count": 42,
   "id": "3fcca235",
   "metadata": {},
   "outputs": [],
   "source": [
    "class Baseline(tf.keras.Model):\n",
    "    def __init__(self, label_index=None):\n",
    "        super().__init__()\n",
    "        self.label_index = label_index\n",
    "\n",
    "    def call(self, inputs):\n",
    "        if self.label_index is None:\n",
    "            return inputs\n",
    "        result = inputs[:, :, self.label_index]\n",
    "        return result[:, :, tf.newaxis]"
   ]
  },
  {
   "cell_type": "code",
   "execution_count": 46,
   "id": "beb05c80",
   "metadata": {},
   "outputs": [
    {
     "name": "stdout",
     "output_type": "stream",
     "text": [
      "Epoch 1/10\n",
      "20/20 [==============================] - 1s 2ms/step - loss: 0.0182 - mean_absolute_error: 0.1181\n",
      "Epoch 2/10\n",
      "20/20 [==============================] - 0s 2ms/step - loss: 0.0189 - mean_absolute_error: 0.1197\n",
      "Epoch 3/10\n",
      "20/20 [==============================] - 0s 4ms/step - loss: 0.0190 - mean_absolute_error: 0.1220\n",
      "Epoch 4/10\n",
      "20/20 [==============================] - 0s 3ms/step - loss: 0.0190 - mean_absolute_error: 0.1206\n",
      "Epoch 5/10\n",
      "20/20 [==============================] - 0s 3ms/step - loss: 0.0187 - mean_absolute_error: 0.1214\n",
      "Epoch 6/10\n",
      "20/20 [==============================] - 0s 2ms/step - loss: 0.0185 - mean_absolute_error: 0.1196\n",
      "Epoch 7/10\n",
      "20/20 [==============================] - 0s 3ms/step - loss: 0.0190 - mean_absolute_error: 0.1200\n",
      "Epoch 8/10\n",
      "20/20 [==============================] - 0s 5ms/step - loss: 0.0201 - mean_absolute_error: 0.1249\n",
      "Epoch 9/10\n",
      "20/20 [==============================] - 0s 5ms/step - loss: 0.0189 - mean_absolute_error: 0.1205\n",
      "Epoch 10/10\n",
      "20/20 [==============================] - 0s 4ms/step - loss: 0.0183 - mean_absolute_error: 0.1173\n",
      "2115/2115 [==============================] - 6s 3ms/step - loss: 0.0185 - mean_absolute_error: 0.1179\n"
     ]
    }
   ],
   "source": [
    "baseline = Baseline(label_index=0)\n",
    "\n",
    "baseline.compile(loss=tf.losses.MeanSquaredError(),\n",
    "                 metrics=[tf.metrics.MeanAbsoluteError()])\n",
    "\n",
    "baseline.fit(single_step_window.train, epochs = 10, steps_per_epoch = 20)\n",
    "\n",
    "val_performance = {}\n",
    "performance = {}\n",
    "val_performance['Baseline'] = baseline.evaluate(single_step_window.val)\n",
    "performance['Baseline'] = baseline.evaluate(single_step_window.test, verbose=0)"
   ]
  },
  {
   "cell_type": "markdown",
   "id": "e809170f",
   "metadata": {},
   "source": [
    "### Modèle mutli-étapes"
   ]
  },
  {
   "cell_type": "code",
   "execution_count": 255,
   "id": "a8569344",
   "metadata": {},
   "outputs": [
    {
     "name": "stdout",
     "output_type": "stream",
     "text": [
      "Plot_cols : ['NSAL Hauteur']\n"
     ]
    },
    {
     "data": {
      "image/png": "[encoded data removed]",
      "text/plain": [
       "<Figure size 1200x700 with 1 Axes>"
      ]
     },
     "metadata": {},
     "output_type": "display_data"
    }
   ],
   "source": [
    "OUT_STEPS = 10\n",
    "multi_window = WindowGenerator(input_width=100,\n",
    "                               label_width=OUT_STEPS,\n",
    "                               shift=OUT_STEPS,\n",
    "                               label_columns=[\"NSAL Hauteur\"])\n",
    "\n",
    "example_window = tf.stack([np.array(test_df[:multi_window.total_window_size])])\n",
    "\n",
    "example_inputs, example_labels = multi_window.split_window(example_window)\n",
    "multi_window._example = example_inputs, example_labels\n",
    "#print(example_inputs)\n",
    "\n",
    "multi_window.plot(figname=\"NSAL Hauteur\")"
   ]
  },
  {
   "cell_type": "markdown",
   "id": "4a094009",
   "metadata": {},
   "source": [
    "### Compile and fit"
   ]
  },
  {
   "cell_type": "code",
   "execution_count": 256,
   "id": "aa01b859",
   "metadata": {},
   "outputs": [],
   "source": [
    "MAX_EPOCHS = 1\n",
    "tqdm_callback = tfa.callbacks.TQDMProgressBar()\n",
    "def compile_and_fit(model, window, patience=2):\n",
    "    early_stopping = tf.keras.callbacks.EarlyStopping(monitor='val_loss',\n",
    "                                                    patience=5,\n",
    "                                                    mode='min')\n",
    "    \n",
    "    reduce_lr = tf.keras.callbacks.ReduceLROnPlateau(monitor='val_loss', factor=0.1,\n",
    "                              patience=2, min_lr=1e-6)\n",
    "    \n",
    "    tqdm_callback = tfa.callbacks.TQDMProgressBar()\n",
    "\n",
    "    model.compile(loss=\"mean_squared_error\",\n",
    "                optimizer=tf.keras.optimizers.Adam(learning_rate=0.001),\n",
    "                metrics=[\"mean_absolute_error\"])\n",
    "\n",
    "    history = model.fit(window.train, epochs=MAX_EPOCHS,\n",
    "                      validation_data=window.val, verbose = 0,\n",
    "                      callbacks=[reduce_lr, early_stopping, tqdm_callback])\n",
    "    return history"
   ]
  },
  {
   "cell_type": "code",
   "execution_count": 257,
   "id": "2b80571c",
   "metadata": {},
   "outputs": [],
   "source": [
    "multi_val_performance = {}\n",
    "multi_performance = {}"
   ]
  },
  {
   "cell_type": "markdown",
   "id": "78b6f324",
   "metadata": {},
   "source": [
    "### Linéaire"
   ]
  },
  {
   "cell_type": "code",
   "execution_count": 258,
   "id": "180ab6b5",
   "metadata": {
    "scrolled": true
   },
   "outputs": [
    {
     "data": {
      "application/vnd.jupyter.widget-view+json": {
       "model_id": "5b027fea48ac42a1b4c254529628b2dc",
       "version_major": 2,
       "version_minor": 0
      },
      "text/plain": [
       "Training:   0%|                                                                                  0/1 ETA: ?s, …"
      ]
     },
     "metadata": {},
     "output_type": "display_data"
    },
    {
     "name": "stdout",
     "output_type": "stream",
     "text": [
      "Epoch 1/1\n"
     ]
    },
    {
     "data": {
      "application/vnd.jupyter.widget-view+json": {
       "model_id": "8a0865872f2145238baf7d71042ab59d",
       "version_major": 2,
       "version_minor": 0
      },
      "text/plain": [
       "0/1354                                                                                                        …"
      ]
     },
     "metadata": {},
     "output_type": "display_data"
    },
    {
     "name": "stdout",
     "output_type": "stream",
     "text": [
      "Evaluate Validation set\n"
     ]
    },
    {
     "data": {
      "application/vnd.jupyter.widget-view+json": {
       "model_id": "a8e61bc53d9b41b18b62ba7dae18f132",
       "version_major": 2,
       "version_minor": 0
      },
      "text/plain": [
       "0/387                                                                                               ETA: ?s - …"
      ]
     },
     "metadata": {},
     "output_type": "display_data"
    },
    {
     "name": "stdout",
     "output_type": "stream",
     "text": [
      "Evaluate Validation set\n"
     ]
    },
    {
     "data": {
      "application/vnd.jupyter.widget-view+json": {
       "model_id": "5a3c55987b2f45a49c56890342999412",
       "version_major": 2,
       "version_minor": 0
      },
      "text/plain": [
       "0/194                                                                                               ETA: ?s - …"
      ]
     },
     "metadata": {},
     "output_type": "display_data"
    }
   ],
   "source": [
    "multi_linear_model = keras.Sequential([\n",
    "    # Take the last time-step.\n",
    "    # Shape [batch, time, features] => [batch, 1, features]\n",
    "    keras.layers.Lambda(lambda x: x[:, -1:, :]),\n",
    "    # Shape => [batch, 1, out_steps*features]\n",
    "    keras.layers.Dense(OUT_STEPS*num_features,\n",
    "                          kernel_initializer=tf.initializers.zeros()),\n",
    "    # Shape => [batch, out_steps, features]\n",
    "    keras.layers.Reshape([OUT_STEPS, num_features])\n",
    "])\n",
    "\n",
    "history = compile_and_fit(multi_linear_model, multi_window)\n",
    "\n",
    "print(\"Evaluate Validation set\")\n",
    "multi_val_performance['Linear'] = multi_linear_model.evaluate(multi_window.val, callbacks=[tqdm_callback], verbose=0)\n",
    "print(\"Evaluate Validation set\")\n",
    "\n",
    "linear_test = multi_linear_model.evaluate(multi_window.test, callbacks=[tqdm_callback] , verbose=0)\n",
    "\n",
    "multi_performance['Linear'] = linear_test"
   ]
  },
  {
   "cell_type": "code",
   "execution_count": 235,
   "id": "c6ecf5da",
   "metadata": {},
   "outputs": [
    {
     "data": {
      "text/plain": [
       "{'Linear': [0.36311277747154236, 0.5001875758171082]}"
      ]
     },
     "execution_count": 235,
     "metadata": {},
     "output_type": "execute_result"
    }
   ],
   "source": [
    "multi_performance"
   ]
  },
  {
   "cell_type": "code",
   "execution_count": 18,
   "id": "3b8ad341",
   "metadata": {},
   "outputs": [
    {
     "data": {
      "text/plain": [
       "{'loss': [6.936054706573486],\n",
       " 'mean_absolute_error': [1.830396056175232],\n",
       " 'val_loss': [2.498063087463379],\n",
       " 'val_mean_absolute_error': [0.5278813242912292],\n",
       " 'lr': [0.001]}"
      ]
     },
     "execution_count": 18,
     "metadata": {},
     "output_type": "execute_result"
    }
   ],
   "source": [
    "history.history"
   ]
  },
  {
   "cell_type": "code",
   "execution_count": 199,
   "id": "6b0e4bf3",
   "metadata": {},
   "outputs": [
    {
     "data": {
      "text/plain": [
       "[<matplotlib.lines.Line2D at 0x7f632c58d640>]"
      ]
     },
     "execution_count": 199,
     "metadata": {},
     "output_type": "execute_result"
    },
    {
     "data": {
      "image/png": "[encoded data removed]",
      "text/plain": [
       "<Figure size 640x480 with 1 Axes>"
      ]
     },
     "metadata": {},
     "output_type": "display_data"
    }
   ],
   "source": [
    "plt.plot(history.history[\"loss\"])\n",
    "plt.plot(history.history[\"val_loss\"])"
   ]
  },
  {
   "cell_type": "code",
   "execution_count": 259,
   "id": "7a9d8227",
   "metadata": {},
   "outputs": [
    {
     "name": "stdout",
     "output_type": "stream",
     "text": [
      "Plot_cols : ['NSAL Hauteur']\n"
     ]
    },
    {
     "data": {
      "image/png": "[encoded data removed]",
      "text/plain": [
       "<Figure size 1200x700 with 2 Axes>"
      ]
     },
     "metadata": {},
     "output_type": "display_data"
    }
   ],
   "source": [
    "multi_window.plot(multi_linear_model, figname=\"Linear - NSAL Hauteur\", history = history, test = linear_test)"
   ]
  },
  {
   "cell_type": "markdown",
   "id": "1f0811f7",
   "metadata": {},
   "source": [
    "### Dense"
   ]
  },
  {
   "cell_type": "code",
   "execution_count": 24,
   "id": "2a273bcd",
   "metadata": {
    "scrolled": true
   },
   "outputs": [
    {
     "data": {
      "application/vnd.jupyter.widget-view+json": {
       "model_id": "afbe85267a4c4e50a8e69140899a09b4",
       "version_major": 2,
       "version_minor": 0
      },
      "text/plain": [
       "Training:   0%|                                                                                 0/50 ETA: ?s, …"
      ]
     },
     "metadata": {},
     "output_type": "display_data"
    },
    {
     "name": "stdout",
     "output_type": "stream",
     "text": [
      "Epoch 1/50\n"
     ]
    },
    {
     "data": {
      "application/vnd.jupyter.widget-view+json": {
       "model_id": "32c775fdf560435db6e2f4ae617c151e",
       "version_major": 2,
       "version_minor": 0
      },
      "text/plain": [
       "0/1354                                                                                                        …"
      ]
     },
     "metadata": {},
     "output_type": "display_data"
    },
    {
     "name": "stdout",
     "output_type": "stream",
     "text": [
      "Epoch 2/50\n"
     ]
    },
    {
     "data": {
      "application/vnd.jupyter.widget-view+json": {
       "model_id": "ff559e94f4e34c4a980ef7a8cdef26a8",
       "version_major": 2,
       "version_minor": 0
      },
      "text/plain": [
       "0/1354                                                                                                        …"
      ]
     },
     "metadata": {},
     "output_type": "display_data"
    },
    {
     "name": "stdout",
     "output_type": "stream",
     "text": [
      "Epoch 3/50\n"
     ]
    },
    {
     "data": {
      "application/vnd.jupyter.widget-view+json": {
       "model_id": "98008a549922494faaddac3b6ce293d3",
       "version_major": 2,
       "version_minor": 0
      },
      "text/plain": [
       "0/1354                                                                                                        …"
      ]
     },
     "metadata": {},
     "output_type": "display_data"
    },
    {
     "name": "stdout",
     "output_type": "stream",
     "text": [
      "Epoch 4/50\n"
     ]
    },
    {
     "data": {
      "application/vnd.jupyter.widget-view+json": {
       "model_id": "15ea7558452b449fb1cb98b64131e1c8",
       "version_major": 2,
       "version_minor": 0
      },
      "text/plain": [
       "0/1354                                                                                                        …"
      ]
     },
     "metadata": {},
     "output_type": "display_data"
    },
    {
     "name": "stdout",
     "output_type": "stream",
     "text": [
      "Epoch 5/50\n"
     ]
    },
    {
     "data": {
      "application/vnd.jupyter.widget-view+json": {
       "model_id": "0fc9861d293f4ff1916fd8f6faa35591",
       "version_major": 2,
       "version_minor": 0
      },
      "text/plain": [
       "0/1354                                                                                                        …"
      ]
     },
     "metadata": {},
     "output_type": "display_data"
    },
    {
     "name": "stdout",
     "output_type": "stream",
     "text": [
      "Epoch 6/50\n"
     ]
    },
    {
     "data": {
      "application/vnd.jupyter.widget-view+json": {
       "model_id": "7d60abda5c7d4711bc5ba375efc27ce6",
       "version_major": 2,
       "version_minor": 0
      },
      "text/plain": [
       "0/1354                                                                                                        …"
      ]
     },
     "metadata": {},
     "output_type": "display_data"
    },
    {
     "name": "stdout",
     "output_type": "stream",
     "text": [
      "Epoch 7/50\n"
     ]
    },
    {
     "data": {
      "application/vnd.jupyter.widget-view+json": {
       "model_id": "9290ac1ee8724501ac01e4635225a2c4",
       "version_major": 2,
       "version_minor": 0
      },
      "text/plain": [
       "0/1354                                                                                                        …"
      ]
     },
     "metadata": {},
     "output_type": "display_data"
    },
    {
     "name": "stdout",
     "output_type": "stream",
     "text": [
      "Epoch 8/50\n"
     ]
    },
    {
     "data": {
      "application/vnd.jupyter.widget-view+json": {
       "model_id": "68919dd1ee994c69bca64765244446b2",
       "version_major": 2,
       "version_minor": 0
      },
      "text/plain": [
       "0/1354                                                                                                        …"
      ]
     },
     "metadata": {},
     "output_type": "display_data"
    },
    {
     "name": "stdout",
     "output_type": "stream",
     "text": [
      "Epoch 9/50\n"
     ]
    },
    {
     "data": {
      "application/vnd.jupyter.widget-view+json": {
       "model_id": "8c6dcd8fc0324c0ead9569bcb486a427",
       "version_major": 2,
       "version_minor": 0
      },
      "text/plain": [
       "0/1354                                                                                                        …"
      ]
     },
     "metadata": {},
     "output_type": "display_data"
    },
    {
     "name": "stdout",
     "output_type": "stream",
     "text": [
      "Epoch 10/50\n"
     ]
    },
    {
     "data": {
      "application/vnd.jupyter.widget-view+json": {
       "model_id": "284c6d9f0dea4d6ea9d8f62d9cf1174b",
       "version_major": 2,
       "version_minor": 0
      },
      "text/plain": [
       "0/1354                                                                                                        …"
      ]
     },
     "metadata": {},
     "output_type": "display_data"
    },
    {
     "name": "stdout",
     "output_type": "stream",
     "text": [
      "Epoch 11/50\n"
     ]
    },
    {
     "data": {
      "application/vnd.jupyter.widget-view+json": {
       "model_id": "7155c149da6a49c2b60f3a719ac16757",
       "version_major": 2,
       "version_minor": 0
      },
      "text/plain": [
       "0/1354                                                                                                        …"
      ]
     },
     "metadata": {},
     "output_type": "display_data"
    },
    {
     "name": "stdout",
     "output_type": "stream",
     "text": [
      "Epoch 12/50\n"
     ]
    },
    {
     "data": {
      "application/vnd.jupyter.widget-view+json": {
       "model_id": "0812505d3259427c9ae83b398cb06147",
       "version_major": 2,
       "version_minor": 0
      },
      "text/plain": [
       "0/1354                                                                                                        …"
      ]
     },
     "metadata": {},
     "output_type": "display_data"
    },
    {
     "name": "stdout",
     "output_type": "stream",
     "text": [
      "Epoch 13/50\n"
     ]
    },
    {
     "data": {
      "application/vnd.jupyter.widget-view+json": {
       "model_id": "b1a8aa0a183d4209bdc5f100d2f21e57",
       "version_major": 2,
       "version_minor": 0
      },
      "text/plain": [
       "0/1354                                                                                                        …"
      ]
     },
     "metadata": {},
     "output_type": "display_data"
    },
    {
     "name": "stdout",
     "output_type": "stream",
     "text": [
      "Evaluate Validation set\n"
     ]
    },
    {
     "data": {
      "application/vnd.jupyter.widget-view+json": {
       "model_id": "e88db7ac83bd40f2bc6e1358a39992da",
       "version_major": 2,
       "version_minor": 0
      },
      "text/plain": [
       "0/387                                                                                               ETA: ?s - …"
      ]
     },
     "metadata": {},
     "output_type": "display_data"
    },
    {
     "name": "stdout",
     "output_type": "stream",
     "text": [
      "Evaluate Test set\n"
     ]
    },
    {
     "data": {
      "application/vnd.jupyter.widget-view+json": {
       "model_id": "9018118665e042b8bb4b49a8e8e009cb",
       "version_major": 2,
       "version_minor": 0
      },
      "text/plain": [
       "0/194                                                                                               ETA: ?s - …"
      ]
     },
     "metadata": {},
     "output_type": "display_data"
    }
   ],
   "source": [
    "multi_dense_model = tf.keras.Sequential([\n",
    "    # Take the last time step.\n",
    "    # Shape [batch, time, features] => [batch, 1, features]\n",
    "    tf.keras.layers.Lambda(lambda x: x[:, -1:, :]),\n",
    "    # Shape => [batch, 1, dense_units]\n",
    "    tf.keras.layers.Dense(128, activation='relu'),\n",
    "    # Shape => [batch, out_steps*features]\n",
    "    tf.keras.layers.Dense(OUT_STEPS*num_features,\n",
    "                          kernel_initializer=tf.initializers.zeros()),\n",
    "    # Shape => [batch, out_steps, features]\n",
    "    tf.keras.layers.Reshape([OUT_STEPS, num_features])\n",
    "])\n",
    "\n",
    "history = compile_and_fit(multi_dense_model, multi_window)\n",
    "\n",
    "print(\"Evaluate Validation set\")\n",
    "multi_val_performance['Dense'] = multi_dense_model.evaluate(multi_window.val, callbacks=[tqdm_callback], verbose=0)\n",
    "print(\"Evaluate Test set\")\n",
    "multi_performance['Dense'] = multi_dense_model.evaluate(multi_window.test, callbacks=[tqdm_callback], verbose=0)"
   ]
  },
  {
   "cell_type": "code",
   "execution_count": 28,
   "id": "69dd0887",
   "metadata": {},
   "outputs": [
    {
     "data": {
      "text/plain": [
       "[<matplotlib.lines.Line2D at 0x7f63602fcbb0>]"
      ]
     },
     "execution_count": 28,
     "metadata": {},
     "output_type": "execute_result"
    },
    {
     "data": {
      "image/png": "[encoded data removed]",
      "text/plain": [
       "<Figure size 640x480 with 1 Axes>"
      ]
     },
     "metadata": {},
     "output_type": "display_data"
    }
   ],
   "source": [
    "plt.plot(history.history[\"loss\"])\n",
    "plt.plot(history.history[\"val_loss\"])"
   ]
  },
  {
   "cell_type": "code",
   "execution_count": 26,
   "id": "fca33f92",
   "metadata": {},
   "outputs": [
    {
     "name": "stdout",
     "output_type": "stream",
     "text": [
      "Plot_cols : ['NSAL Hauteur']\n"
     ]
    },
    {
     "data": {
      "image/png": "[encoded data removed]",
      "text/plain": [
       "<Figure size 1200x350 with 1 Axes>"
      ]
     },
     "metadata": {},
     "output_type": "display_data"
    }
   ],
   "source": [
    "multi_window.plot(multi_dense_model, figname=\"Dense - NSAL Hauteur\")"
   ]
  },
  {
   "cell_type": "markdown",
   "id": "7a5bd057",
   "metadata": {},
   "source": [
    "### CNN"
   ]
  },
  {
   "cell_type": "code",
   "execution_count": 27,
   "id": "e1d4db01",
   "metadata": {
    "scrolled": true
   },
   "outputs": [
    {
     "data": {
      "application/vnd.jupyter.widget-view+json": {
       "model_id": "5775696a70f54b559d9ed77221e63b79",
       "version_major": 2,
       "version_minor": 0
      },
      "text/plain": [
       "Training:   0%|                                                                                 0/50 ETA: ?s, …"
      ]
     },
     "metadata": {},
     "output_type": "display_data"
    },
    {
     "name": "stdout",
     "output_type": "stream",
     "text": [
      "Epoch 1/50\n"
     ]
    },
    {
     "data": {
      "application/vnd.jupyter.widget-view+json": {
       "model_id": "039d040eb6d2428eb6850a7922a1045a",
       "version_major": 2,
       "version_minor": 0
      },
      "text/plain": [
       "0/1354                                                                                                        …"
      ]
     },
     "metadata": {},
     "output_type": "display_data"
    },
    {
     "name": "stdout",
     "output_type": "stream",
     "text": [
      "Epoch 2/50\n"
     ]
    },
    {
     "data": {
      "application/vnd.jupyter.widget-view+json": {
       "model_id": "10d01d12212e4cb19ca494ad383183a5",
       "version_major": 2,
       "version_minor": 0
      },
      "text/plain": [
       "0/1354                                                                                                        …"
      ]
     },
     "metadata": {},
     "output_type": "display_data"
    },
    {
     "name": "stdout",
     "output_type": "stream",
     "text": [
      "Epoch 3/50\n"
     ]
    },
    {
     "data": {
      "application/vnd.jupyter.widget-view+json": {
       "model_id": "7e805ce4816f48d78f222bb6f242d358",
       "version_major": 2,
       "version_minor": 0
      },
      "text/plain": [
       "0/1354                                                                                                        …"
      ]
     },
     "metadata": {},
     "output_type": "display_data"
    },
    {
     "name": "stdout",
     "output_type": "stream",
     "text": [
      "Epoch 4/50\n"
     ]
    },
    {
     "data": {
      "application/vnd.jupyter.widget-view+json": {
       "model_id": "2ab6593276f34b93b90ccee5ce0fedf6",
       "version_major": 2,
       "version_minor": 0
      },
      "text/plain": [
       "0/1354                                                                                                        …"
      ]
     },
     "metadata": {},
     "output_type": "display_data"
    },
    {
     "name": "stdout",
     "output_type": "stream",
     "text": [
      "Epoch 5/50\n"
     ]
    },
    {
     "data": {
      "application/vnd.jupyter.widget-view+json": {
       "model_id": "5e3fa769b4b842bc8b16c1ed65858996",
       "version_major": 2,
       "version_minor": 0
      },
      "text/plain": [
       "0/1354                                                                                                        …"
      ]
     },
     "metadata": {},
     "output_type": "display_data"
    },
    {
     "name": "stdout",
     "output_type": "stream",
     "text": [
      "Epoch 6/50\n"
     ]
    },
    {
     "data": {
      "application/vnd.jupyter.widget-view+json": {
       "model_id": "c25dfd6992064df1ae5f6efda473a6e5",
       "version_major": 2,
       "version_minor": 0
      },
      "text/plain": [
       "0/1354                                                                                                        …"
      ]
     },
     "metadata": {},
     "output_type": "display_data"
    },
    {
     "name": "stdout",
     "output_type": "stream",
     "text": [
      "Epoch 7/50\n"
     ]
    },
    {
     "data": {
      "application/vnd.jupyter.widget-view+json": {
       "model_id": "68963d26f4954edba2d809ebf3603100",
       "version_major": 2,
       "version_minor": 0
      },
      "text/plain": [
       "0/1354                                                                                                        …"
      ]
     },
     "metadata": {},
     "output_type": "display_data"
    },
    {
     "name": "stdout",
     "output_type": "stream",
     "text": [
      "Epoch 8/50\n"
     ]
    },
    {
     "data": {
      "application/vnd.jupyter.widget-view+json": {
       "model_id": "112dc294b3d24cd092f51f7d52eb024e",
       "version_major": 2,
       "version_minor": 0
      },
      "text/plain": [
       "0/1354                                                                                                        …"
      ]
     },
     "metadata": {},
     "output_type": "display_data"
    },
    {
     "name": "stdout",
     "output_type": "stream",
     "text": [
      "Epoch 9/50\n"
     ]
    },
    {
     "data": {
      "application/vnd.jupyter.widget-view+json": {
       "model_id": "da36ca38f65646fa89e35015d8d9fb34",
       "version_major": 2,
       "version_minor": 0
      },
      "text/plain": [
       "0/1354                                                                                                        …"
      ]
     },
     "metadata": {},
     "output_type": "display_data"
    },
    {
     "name": "stdout",
     "output_type": "stream",
     "text": [
      "Epoch 10/50\n"
     ]
    },
    {
     "data": {
      "application/vnd.jupyter.widget-view+json": {
       "model_id": "b6125f5da952450d99b9b5f218cc7e19",
       "version_major": 2,
       "version_minor": 0
      },
      "text/plain": [
       "0/1354                                                                                                        …"
      ]
     },
     "metadata": {},
     "output_type": "display_data"
    },
    {
     "name": "stdout",
     "output_type": "stream",
     "text": [
      "Epoch 11/50\n"
     ]
    },
    {
     "data": {
      "application/vnd.jupyter.widget-view+json": {
       "model_id": "f23564a1a4af4c54bb1056b617544ad3",
       "version_major": 2,
       "version_minor": 0
      },
      "text/plain": [
       "0/1354                                                                                                        …"
      ]
     },
     "metadata": {},
     "output_type": "display_data"
    },
    {
     "name": "stdout",
     "output_type": "stream",
     "text": [
      "Epoch 12/50\n"
     ]
    },
    {
     "data": {
      "application/vnd.jupyter.widget-view+json": {
       "model_id": "fd6a70aa489e4b4a84301b4f4db1fdd4",
       "version_major": 2,
       "version_minor": 0
      },
      "text/plain": [
       "0/1354                                                                                                        …"
      ]
     },
     "metadata": {},
     "output_type": "display_data"
    },
    {
     "name": "stdout",
     "output_type": "stream",
     "text": [
      "Epoch 13/50\n"
     ]
    },
    {
     "data": {
      "application/vnd.jupyter.widget-view+json": {
       "model_id": "010ffc40cad44730b904670717600384",
       "version_major": 2,
       "version_minor": 0
      },
      "text/plain": [
       "0/1354                                                                                                        …"
      ]
     },
     "metadata": {},
     "output_type": "display_data"
    },
    {
     "name": "stdout",
     "output_type": "stream",
     "text": [
      "Epoch 14/50\n"
     ]
    },
    {
     "data": {
      "application/vnd.jupyter.widget-view+json": {
       "model_id": "f966752312a84f6581e06cf73a727973",
       "version_major": 2,
       "version_minor": 0
      },
      "text/plain": [
       "0/1354                                                                                                        …"
      ]
     },
     "metadata": {},
     "output_type": "display_data"
    },
    {
     "name": "stdout",
     "output_type": "stream",
     "text": [
      "Epoch 15/50\n"
     ]
    },
    {
     "data": {
      "application/vnd.jupyter.widget-view+json": {
       "model_id": "a6278b9ca8e142e783c585e2b72bf97d",
       "version_major": 2,
       "version_minor": 0
      },
      "text/plain": [
       "0/1354                                                                                                        …"
      ]
     },
     "metadata": {},
     "output_type": "display_data"
    },
    {
     "name": "stdout",
     "output_type": "stream",
     "text": [
      "Epoch 16/50\n"
     ]
    },
    {
     "data": {
      "application/vnd.jupyter.widget-view+json": {
       "model_id": "7c8177e58db44d229a26dc85d14f23fb",
       "version_major": 2,
       "version_minor": 0
      },
      "text/plain": [
       "0/1354                                                                                                        …"
      ]
     },
     "metadata": {},
     "output_type": "display_data"
    },
    {
     "name": "stdout",
     "output_type": "stream",
     "text": [
      "Epoch 17/50\n"
     ]
    },
    {
     "data": {
      "application/vnd.jupyter.widget-view+json": {
       "model_id": "1853cac4f3004355ba854e32dd590960",
       "version_major": 2,
       "version_minor": 0
      },
      "text/plain": [
       "0/1354                                                                                                        …"
      ]
     },
     "metadata": {},
     "output_type": "display_data"
    },
    {
     "name": "stdout",
     "output_type": "stream",
     "text": [
      "Epoch 18/50\n"
     ]
    },
    {
     "data": {
      "application/vnd.jupyter.widget-view+json": {
       "model_id": "018b6cf309db4ff1835aac2427914887",
       "version_major": 2,
       "version_minor": 0
      },
      "text/plain": [
       "0/1354                                                                                                        …"
      ]
     },
     "metadata": {},
     "output_type": "display_data"
    },
    {
     "name": "stdout",
     "output_type": "stream",
     "text": [
      "Epoch 19/50\n"
     ]
    },
    {
     "data": {
      "application/vnd.jupyter.widget-view+json": {
       "model_id": "d54bde71e44249099288bcb10eebfe32",
       "version_major": 2,
       "version_minor": 0
      },
      "text/plain": [
       "0/1354                                                                                                        …"
      ]
     },
     "metadata": {},
     "output_type": "display_data"
    },
    {
     "name": "stdout",
     "output_type": "stream",
     "text": [
      "Epoch 20/50\n"
     ]
    },
    {
     "data": {
      "application/vnd.jupyter.widget-view+json": {
       "model_id": "b6e5ec18a80e4569bd7ca9be46d74309",
       "version_major": 2,
       "version_minor": 0
      },
      "text/plain": [
       "0/1354                                                                                                        …"
      ]
     },
     "metadata": {},
     "output_type": "display_data"
    },
    {
     "name": "stdout",
     "output_type": "stream",
     "text": [
      "Epoch 21/50\n"
     ]
    },
    {
     "data": {
      "application/vnd.jupyter.widget-view+json": {
       "model_id": "1ee5ce277fd04195b68f628c63bdb312",
       "version_major": 2,
       "version_minor": 0
      },
      "text/plain": [
       "0/1354                                                                                                        …"
      ]
     },
     "metadata": {},
     "output_type": "display_data"
    },
    {
     "name": "stdout",
     "output_type": "stream",
     "text": [
      "Epoch 22/50\n"
     ]
    },
    {
     "data": {
      "application/vnd.jupyter.widget-view+json": {
       "model_id": "412ff9d945664c87ad6d36a7581cd703",
       "version_major": 2,
       "version_minor": 0
      },
      "text/plain": [
       "0/1354                                                                                                        …"
      ]
     },
     "metadata": {},
     "output_type": "display_data"
    },
    {
     "name": "stdout",
     "output_type": "stream",
     "text": [
      "Epoch 23/50\n"
     ]
    },
    {
     "data": {
      "application/vnd.jupyter.widget-view+json": {
       "model_id": "403e4e1d8b3c434fa340d0ad39323c99",
       "version_major": 2,
       "version_minor": 0
      },
      "text/plain": [
       "0/1354                                                                                                        …"
      ]
     },
     "metadata": {},
     "output_type": "display_data"
    },
    {
     "name": "stdout",
     "output_type": "stream",
     "text": [
      "Epoch 24/50\n"
     ]
    },
    {
     "data": {
      "application/vnd.jupyter.widget-view+json": {
       "model_id": "708cbdd83451454dba6ce78be7b7e555",
       "version_major": 2,
       "version_minor": 0
      },
      "text/plain": [
       "0/1354                                                                                                        …"
      ]
     },
     "metadata": {},
     "output_type": "display_data"
    },
    {
     "name": "stdout",
     "output_type": "stream",
     "text": [
      "Epoch 25/50\n"
     ]
    },
    {
     "data": {
      "application/vnd.jupyter.widget-view+json": {
       "model_id": "4e1ec5efaaa04e77b1f0d5b8d7c8c836",
       "version_major": 2,
       "version_minor": 0
      },
      "text/plain": [
       "0/1354                                                                                                        …"
      ]
     },
     "metadata": {},
     "output_type": "display_data"
    },
    {
     "name": "stdout",
     "output_type": "stream",
     "text": [
      "Epoch 26/50\n"
     ]
    },
    {
     "data": {
      "application/vnd.jupyter.widget-view+json": {
       "model_id": "77ab65a284c94757996bccb04e2e3a88",
       "version_major": 2,
       "version_minor": 0
      },
      "text/plain": [
       "0/1354                                                                                                        …"
      ]
     },
     "metadata": {},
     "output_type": "display_data"
    },
    {
     "name": "stdout",
     "output_type": "stream",
     "text": [
      "Epoch 27/50\n"
     ]
    },
    {
     "data": {
      "application/vnd.jupyter.widget-view+json": {
       "model_id": "c2e7f6611617460f9f0ef332ae56cfcb",
       "version_major": 2,
       "version_minor": 0
      },
      "text/plain": [
       "0/1354                                                                                                        …"
      ]
     },
     "metadata": {},
     "output_type": "display_data"
    },
    {
     "name": "stdout",
     "output_type": "stream",
     "text": [
      "Epoch 28/50\n"
     ]
    },
    {
     "data": {
      "application/vnd.jupyter.widget-view+json": {
       "model_id": "c237b04755fb47b4b30025ac0f451808",
       "version_major": 2,
       "version_minor": 0
      },
      "text/plain": [
       "0/1354                                                                                                        …"
      ]
     },
     "metadata": {},
     "output_type": "display_data"
    },
    {
     "name": "stdout",
     "output_type": "stream",
     "text": [
      "Epoch 29/50\n"
     ]
    },
    {
     "data": {
      "application/vnd.jupyter.widget-view+json": {
       "model_id": "dbfabc6a988c4c979a79814610edd320",
       "version_major": 2,
       "version_minor": 0
      },
      "text/plain": [
       "0/1354                                                                                                        …"
      ]
     },
     "metadata": {},
     "output_type": "display_data"
    },
    {
     "name": "stdout",
     "output_type": "stream",
     "text": [
      "Epoch 30/50\n"
     ]
    },
    {
     "data": {
      "application/vnd.jupyter.widget-view+json": {
       "model_id": "f9dd1485020e4aab9e4fc909d0977d21",
       "version_major": 2,
       "version_minor": 0
      },
      "text/plain": [
       "0/1354                                                                                                        …"
      ]
     },
     "metadata": {},
     "output_type": "display_data"
    },
    {
     "name": "stdout",
     "output_type": "stream",
     "text": [
      "Epoch 31/50\n"
     ]
    },
    {
     "data": {
      "application/vnd.jupyter.widget-view+json": {
       "model_id": "3eff3e2cb75441e09159c7dcc88df28b",
       "version_major": 2,
       "version_minor": 0
      },
      "text/plain": [
       "0/1354                                                                                                        …"
      ]
     },
     "metadata": {},
     "output_type": "display_data"
    },
    {
     "name": "stdout",
     "output_type": "stream",
     "text": [
      "Epoch 32/50\n"
     ]
    },
    {
     "data": {
      "application/vnd.jupyter.widget-view+json": {
       "model_id": "e1f2992f10a847dd84d4f3c74c9dd757",
       "version_major": 2,
       "version_minor": 0
      },
      "text/plain": [
       "0/1354                                                                                                        …"
      ]
     },
     "metadata": {},
     "output_type": "display_data"
    },
    {
     "name": "stdout",
     "output_type": "stream",
     "text": [
      "Epoch 33/50\n"
     ]
    },
    {
     "data": {
      "application/vnd.jupyter.widget-view+json": {
       "model_id": "56f65dd57248478babaa94b2f1f26ee8",
       "version_major": 2,
       "version_minor": 0
      },
      "text/plain": [
       "0/1354                                                                                                        …"
      ]
     },
     "metadata": {},
     "output_type": "display_data"
    },
    {
     "name": "stdout",
     "output_type": "stream",
     "text": [
      "Epoch 34/50\n"
     ]
    },
    {
     "data": {
      "application/vnd.jupyter.widget-view+json": {
       "model_id": "08dfab11089842488b84adb91ff07847",
       "version_major": 2,
       "version_minor": 0
      },
      "text/plain": [
       "0/1354                                                                                                        …"
      ]
     },
     "metadata": {},
     "output_type": "display_data"
    },
    {
     "name": "stdout",
     "output_type": "stream",
     "text": [
      "Epoch 35/50\n"
     ]
    },
    {
     "data": {
      "application/vnd.jupyter.widget-view+json": {
       "model_id": "5ebb43d166664b42a54aff7e56fa5c39",
       "version_major": 2,
       "version_minor": 0
      },
      "text/plain": [
       "0/1354                                                                                                        …"
      ]
     },
     "metadata": {},
     "output_type": "display_data"
    },
    {
     "name": "stdout",
     "output_type": "stream",
     "text": [
      "Epoch 36/50\n"
     ]
    },
    {
     "data": {
      "application/vnd.jupyter.widget-view+json": {
       "model_id": "abfba51d50004772bbf97f2cd7427f7f",
       "version_major": 2,
       "version_minor": 0
      },
      "text/plain": [
       "0/1354                                                                                                        …"
      ]
     },
     "metadata": {},
     "output_type": "display_data"
    },
    {
     "name": "stdout",
     "output_type": "stream",
     "text": [
      "Epoch 37/50\n"
     ]
    },
    {
     "data": {
      "application/vnd.jupyter.widget-view+json": {
       "model_id": "72733e1c5e8e4f4dac7feb8058ac95f1",
       "version_major": 2,
       "version_minor": 0
      },
      "text/plain": [
       "0/1354                                                                                                        …"
      ]
     },
     "metadata": {},
     "output_type": "display_data"
    },
    {
     "name": "stdout",
     "output_type": "stream",
     "text": [
      "Epoch 38/50\n"
     ]
    },
    {
     "data": {
      "application/vnd.jupyter.widget-view+json": {
       "model_id": "4dccc06b6cba4cd6a1098327331f0066",
       "version_major": 2,
       "version_minor": 0
      },
      "text/plain": [
       "0/1354                                                                                                        …"
      ]
     },
     "metadata": {},
     "output_type": "display_data"
    },
    {
     "name": "stdout",
     "output_type": "stream",
     "text": [
      "Epoch 39/50\n"
     ]
    },
    {
     "data": {
      "application/vnd.jupyter.widget-view+json": {
       "model_id": "92bba9b72cc14468913f98db4d4866ac",
       "version_major": 2,
       "version_minor": 0
      },
      "text/plain": [
       "0/1354                                                                                                        …"
      ]
     },
     "metadata": {},
     "output_type": "display_data"
    },
    {
     "name": "stdout",
     "output_type": "stream",
     "text": [
      "Epoch 40/50\n"
     ]
    },
    {
     "data": {
      "application/vnd.jupyter.widget-view+json": {
       "model_id": "68e75357dec045888bcee76fe15d5165",
       "version_major": 2,
       "version_minor": 0
      },
      "text/plain": [
       "0/1354                                                                                                        …"
      ]
     },
     "metadata": {},
     "output_type": "display_data"
    },
    {
     "name": "stdout",
     "output_type": "stream",
     "text": [
      "Epoch 41/50\n"
     ]
    },
    {
     "data": {
      "application/vnd.jupyter.widget-view+json": {
       "model_id": "2eb4ebd83c3b4bbab8bf3e98c5c9b9ee",
       "version_major": 2,
       "version_minor": 0
      },
      "text/plain": [
       "0/1354                                                                                                        …"
      ]
     },
     "metadata": {},
     "output_type": "display_data"
    },
    {
     "name": "stdout",
     "output_type": "stream",
     "text": [
      "Epoch 42/50\n"
     ]
    },
    {
     "data": {
      "application/vnd.jupyter.widget-view+json": {
       "model_id": "fafc5d8a412242d7873fb9f2bd079e96",
       "version_major": 2,
       "version_minor": 0
      },
      "text/plain": [
       "0/1354                                                                                                        …"
      ]
     },
     "metadata": {},
     "output_type": "display_data"
    },
    {
     "name": "stdout",
     "output_type": "stream",
     "text": [
      "Epoch 43/50\n"
     ]
    },
    {
     "data": {
      "application/vnd.jupyter.widget-view+json": {
       "model_id": "87a07e5b6c684f7198105060e275eed5",
       "version_major": 2,
       "version_minor": 0
      },
      "text/plain": [
       "0/1354                                                                                                        …"
      ]
     },
     "metadata": {},
     "output_type": "display_data"
    },
    {
     "name": "stdout",
     "output_type": "stream",
     "text": [
      "Epoch 44/50\n"
     ]
    },
    {
     "data": {
      "application/vnd.jupyter.widget-view+json": {
       "model_id": "52d440dbe9604ea39138ab2217d95da5",
       "version_major": 2,
       "version_minor": 0
      },
      "text/plain": [
       "0/1354                                                                                                        …"
      ]
     },
     "metadata": {},
     "output_type": "display_data"
    },
    {
     "name": "stdout",
     "output_type": "stream",
     "text": [
      "Epoch 45/50\n"
     ]
    },
    {
     "data": {
      "application/vnd.jupyter.widget-view+json": {
       "model_id": "7575e787d4ec413aba9c20abd9a00375",
       "version_major": 2,
       "version_minor": 0
      },
      "text/plain": [
       "0/1354                                                                                                        …"
      ]
     },
     "metadata": {},
     "output_type": "display_data"
    },
    {
     "name": "stdout",
     "output_type": "stream",
     "text": [
      "Epoch 46/50\n"
     ]
    },
    {
     "data": {
      "application/vnd.jupyter.widget-view+json": {
       "model_id": "da683d73a4b44f178ba1ccab66422738",
       "version_major": 2,
       "version_minor": 0
      },
      "text/plain": [
       "0/1354                                                                                                        …"
      ]
     },
     "metadata": {},
     "output_type": "display_data"
    },
    {
     "name": "stdout",
     "output_type": "stream",
     "text": [
      "Epoch 47/50\n"
     ]
    },
    {
     "data": {
      "application/vnd.jupyter.widget-view+json": {
       "model_id": "c195f40765304993bf20046e795db45e",
       "version_major": 2,
       "version_minor": 0
      },
      "text/plain": [
       "0/1354                                                                                                        …"
      ]
     },
     "metadata": {},
     "output_type": "display_data"
    },
    {
     "name": "stdout",
     "output_type": "stream",
     "text": [
      "Epoch 48/50\n"
     ]
    },
    {
     "data": {
      "application/vnd.jupyter.widget-view+json": {
       "model_id": "0d1ac0511b3840bb88fd6c6a85f412e1",
       "version_major": 2,
       "version_minor": 0
      },
      "text/plain": [
       "0/1354                                                                                                        …"
      ]
     },
     "metadata": {},
     "output_type": "display_data"
    },
    {
     "name": "stdout",
     "output_type": "stream",
     "text": [
      "Epoch 49/50\n"
     ]
    },
    {
     "data": {
      "application/vnd.jupyter.widget-view+json": {
       "model_id": "3c70543be9994bd893397270a98cc959",
       "version_major": 2,
       "version_minor": 0
      },
      "text/plain": [
       "0/1354                                                                                                        …"
      ]
     },
     "metadata": {},
     "output_type": "display_data"
    },
    {
     "name": "stdout",
     "output_type": "stream",
     "text": [
      "Epoch 50/50\n"
     ]
    },
    {
     "data": {
      "application/vnd.jupyter.widget-view+json": {
       "model_id": "52aed4e7bcad4bbcb8d36a19e9c97412",
       "version_major": 2,
       "version_minor": 0
      },
      "text/plain": [
       "0/1354                                                                                                        …"
      ]
     },
     "metadata": {},
     "output_type": "display_data"
    },
    {
     "name": "stdout",
     "output_type": "stream",
     "text": [
      "Evaluate Validation set\n"
     ]
    },
    {
     "data": {
      "application/vnd.jupyter.widget-view+json": {
       "model_id": "b2a58853dd5b4263a6b71dc232277f5b",
       "version_major": 2,
       "version_minor": 0
      },
      "text/plain": [
       "0/387                                                                                               ETA: ?s - …"
      ]
     },
     "metadata": {},
     "output_type": "display_data"
    },
    {
     "name": "stdout",
     "output_type": "stream",
     "text": [
      "Evaluate Test set\n"
     ]
    },
    {
     "data": {
      "application/vnd.jupyter.widget-view+json": {
       "model_id": "d6367ff0a48146eb971a901464c7e5ca",
       "version_major": 2,
       "version_minor": 0
      },
      "text/plain": [
       "0/194                                                                                               ETA: ?s - …"
      ]
     },
     "metadata": {},
     "output_type": "display_data"
    }
   ],
   "source": [
    "CONV_WIDTH = 3\n",
    "multi_conv_model = tf.keras.Sequential([\n",
    "    # Shape [batch, time, features] => [batch, CONV_WIDTH, features]\n",
    "    tf.keras.layers.Lambda(lambda x: x[:, -3:, :]),\n",
    "    # Shape => [batch, 1, conv_units]\n",
    "    tf.keras.layers.Conv1D(64, activation='relu', kernel_size=(3)),\n",
    "    # Shape => [batch, 1,  out_steps*features]\n",
    "    tf.keras.layers.Dense(OUT_STEPS*num_features,\n",
    "                          kernel_initializer=tf.initializers.zeros()),\n",
    "    # Shape => [batch, out_steps, features]\n",
    "    tf.keras.layers.Reshape([OUT_STEPS, num_features])\n",
    "])\n",
    "\n",
    "history = compile_and_fit(multi_conv_model, multi_window)\n",
    "\n",
    "print(\"Evaluate Validation set\")\n",
    "multi_val_performance['Conv'] = multi_conv_model.evaluate(multi_window.val, callbacks=[tqdm_callback], verbose=0)\n",
    "print(\"Evaluate Test set\")\n",
    "multi_performance['Conv'] = multi_conv_model.evaluate(multi_window.test, callbacks=[tqdm_callback], verbose=0)"
   ]
  },
  {
   "cell_type": "code",
   "execution_count": 29,
   "id": "fdd4c265",
   "metadata": {},
   "outputs": [
    {
     "data": {
      "text/plain": [
       "[<matplotlib.lines.Line2D at 0x7f63602e8c40>]"
      ]
     },
     "execution_count": 29,
     "metadata": {},
     "output_type": "execute_result"
    },
    {
     "data": {
      "image/png": "[encoded data removed]",
      "text/plain": [
       "<Figure size 640x480 with 1 Axes>"
      ]
     },
     "metadata": {},
     "output_type": "display_data"
    }
   ],
   "source": [
    "plt.plot(history.history[\"loss\"])\n",
    "plt.plot(history.history[\"val_loss\"])"
   ]
  },
  {
   "cell_type": "code",
   "execution_count": 30,
   "id": "10992ba2",
   "metadata": {},
   "outputs": [
    {
     "name": "stdout",
     "output_type": "stream",
     "text": [
      "Plot_cols : ['NSAL Hauteur']\n"
     ]
    },
    {
     "data": {
      "image/png": "[encoded data removed]",
      "text/plain": [
       "<Figure size 1200x350 with 1 Axes>"
      ]
     },
     "metadata": {},
     "output_type": "display_data"
    }
   ],
   "source": [
    "multi_window.plot(multi_conv_model, figname = \"CNN - NSAL Hauteur\")"
   ]
  },
  {
   "cell_type": "code",
   "execution_count": 12,
   "id": "708484e1",
   "metadata": {},
   "outputs": [
    {
     "name": "stdout",
     "output_type": "stream",
     "text": [
      "INFO:tensorflow:Unsupported signature for serialization: ((TensorSpec(shape=(3, 2, 128), dtype=tf.float32, name='gradient'), <tensorflow.python.framework.func_graph.UnknownArgument object at 0x7facccfa6320>, 140380149621232), {}).\n",
      "INFO:tensorflow:Unsupported signature for serialization: ((TensorSpec(shape=(128,), dtype=tf.float32, name='gradient'), <tensorflow.python.framework.func_graph.UnknownArgument object at 0x7faccc6307c0>, 140380149621312), {}).\n",
      "INFO:tensorflow:Unsupported signature for serialization: ((TensorSpec(shape=(None, 20), dtype=tf.float32, name='gradient'), <tensorflow.python.framework.func_graph.UnknownArgument object at 0x7faccc6324a0>, 140380149623232), {}).\n",
      "INFO:tensorflow:Unsupported signature for serialization: ((TensorSpec(shape=(20,), dtype=tf.float32, name='gradient'), <tensorflow.python.framework.func_graph.UnknownArgument object at 0x7faccc604910>, 140380149622592), {}).\n",
      "INFO:tensorflow:Unsupported signature for serialization: ((TensorSpec(shape=(3, 2, 128), dtype=tf.float32, name='gradient'), <tensorflow.python.framework.func_graph.UnknownArgument object at 0x7facccfa6320>, 140380149621232), {}).\n",
      "INFO:tensorflow:Unsupported signature for serialization: ((TensorSpec(shape=(128,), dtype=tf.float32, name='gradient'), <tensorflow.python.framework.func_graph.UnknownArgument object at 0x7faccc6307c0>, 140380149621312), {}).\n",
      "INFO:tensorflow:Unsupported signature for serialization: ((TensorSpec(shape=(None, 20), dtype=tf.float32, name='gradient'), <tensorflow.python.framework.func_graph.UnknownArgument object at 0x7faccc6324a0>, 140380149623232), {}).\n",
      "INFO:tensorflow:Unsupported signature for serialization: ((TensorSpec(shape=(20,), dtype=tf.float32, name='gradient'), <tensorflow.python.framework.func_graph.UnknownArgument object at 0x7faccc604910>, 140380149622592), {}).\n"
     ]
    },
    {
     "name": "stderr",
     "output_type": "stream",
     "text": [
      "WARNING:absl:Found untraced functions such as _jit_compiled_convolution_op, _update_step_xla while saving (showing 2 of 2). These functions will not be directly callable after loading.\n"
     ]
    },
    {
     "name": "stdout",
     "output_type": "stream",
     "text": [
      "INFO:tensorflow:Assets written to: models/MultiCNN/assets\n"
     ]
    },
    {
     "name": "stderr",
     "output_type": "stream",
     "text": [
      "INFO:tensorflow:Assets written to: models/MultiCNN/assets\n"
     ]
    }
   ],
   "source": [
    "multi_conv_model.save(\"models/MultiCNN\")"
   ]
  },
  {
   "cell_type": "markdown",
   "id": "da78ec34",
   "metadata": {},
   "source": [
    "### RNN"
   ]
  },
  {
   "cell_type": "code",
   "execution_count": 31,
   "id": "f166934e",
   "metadata": {
    "scrolled": true
   },
   "outputs": [
    {
     "data": {
      "application/vnd.jupyter.widget-view+json": {
       "model_id": "ff01091f6a4740ecbdda0f9a4a3eabc3",
       "version_major": 2,
       "version_minor": 0
      },
      "text/plain": [
       "Training:   0%|                                                                                 0/50 ETA: ?s, …"
      ]
     },
     "metadata": {},
     "output_type": "display_data"
    },
    {
     "name": "stdout",
     "output_type": "stream",
     "text": [
      "Epoch 1/50\n"
     ]
    },
    {
     "data": {
      "application/vnd.jupyter.widget-view+json": {
       "model_id": "1bf9960af0f444398c0deb8e8d6cc150",
       "version_major": 2,
       "version_minor": 0
      },
      "text/plain": [
       "0/1354                                                                                                        …"
      ]
     },
     "metadata": {},
     "output_type": "display_data"
    },
    {
     "name": "stdout",
     "output_type": "stream",
     "text": [
      "WARNING:tensorflow:Callback method `on_train_batch_end` is slow compared to the batch time (batch time: 0.0255s vs `on_train_batch_end` time: 0.0261s). Check your callbacks.\n",
      "Epoch 2/50\n"
     ]
    },
    {
     "data": {
      "application/vnd.jupyter.widget-view+json": {
       "model_id": "ae334cff695f49ecace847fac32a3dc1",
       "version_major": 2,
       "version_minor": 0
      },
      "text/plain": [
       "0/1354                                                                                                        …"
      ]
     },
     "metadata": {},
     "output_type": "display_data"
    },
    {
     "name": "stdout",
     "output_type": "stream",
     "text": [
      "Epoch 3/50\n"
     ]
    },
    {
     "data": {
      "application/vnd.jupyter.widget-view+json": {
       "model_id": "34f0e239a2d540dab9f13f1991abf757",
       "version_major": 2,
       "version_minor": 0
      },
      "text/plain": [
       "0/1354                                                                                                        …"
      ]
     },
     "metadata": {},
     "output_type": "display_data"
    },
    {
     "name": "stdout",
     "output_type": "stream",
     "text": [
      "Epoch 4/50\n"
     ]
    },
    {
     "data": {
      "application/vnd.jupyter.widget-view+json": {
       "model_id": "0aad99c709f048cb8e73be250e258932",
       "version_major": 2,
       "version_minor": 0
      },
      "text/plain": [
       "0/1354                                                                                                        …"
      ]
     },
     "metadata": {},
     "output_type": "display_data"
    },
    {
     "name": "stdout",
     "output_type": "stream",
     "text": [
      "Epoch 5/50\n"
     ]
    },
    {
     "data": {
      "application/vnd.jupyter.widget-view+json": {
       "model_id": "7cacb24425d947ec80d10630d0c08a04",
       "version_major": 2,
       "version_minor": 0
      },
      "text/plain": [
       "0/1354                                                                                                        …"
      ]
     },
     "metadata": {},
     "output_type": "display_data"
    },
    {
     "name": "stdout",
     "output_type": "stream",
     "text": [
      "Epoch 6/50\n"
     ]
    },
    {
     "data": {
      "application/vnd.jupyter.widget-view+json": {
       "model_id": "c4e1a2a29d5b4da9a8b0c1ca8c372512",
       "version_major": 2,
       "version_minor": 0
      },
      "text/plain": [
       "0/1354                                                                                                        …"
      ]
     },
     "metadata": {},
     "output_type": "display_data"
    },
    {
     "name": "stdout",
     "output_type": "stream",
     "text": [
      "Epoch 7/50\n"
     ]
    },
    {
     "data": {
      "application/vnd.jupyter.widget-view+json": {
       "model_id": "187731e01246432392168e00a48de216",
       "version_major": 2,
       "version_minor": 0
      },
      "text/plain": [
       "0/1354                                                                                                        …"
      ]
     },
     "metadata": {},
     "output_type": "display_data"
    },
    {
     "name": "stdout",
     "output_type": "stream",
     "text": [
      "Epoch 8/50\n"
     ]
    },
    {
     "data": {
      "application/vnd.jupyter.widget-view+json": {
       "model_id": "6f76589778b44fb8b9bba02952f33ae5",
       "version_major": 2,
       "version_minor": 0
      },
      "text/plain": [
       "0/1354                                                                                                        …"
      ]
     },
     "metadata": {},
     "output_type": "display_data"
    },
    {
     "name": "stdout",
     "output_type": "stream",
     "text": [
      "Epoch 9/50\n"
     ]
    },
    {
     "data": {
      "application/vnd.jupyter.widget-view+json": {
       "model_id": "cade994409b94b4e90b074a06e93d924",
       "version_major": 2,
       "version_minor": 0
      },
      "text/plain": [
       "0/1354                                                                                                        …"
      ]
     },
     "metadata": {},
     "output_type": "display_data"
    },
    {
     "name": "stdout",
     "output_type": "stream",
     "text": [
      "Epoch 10/50\n"
     ]
    },
    {
     "data": {
      "application/vnd.jupyter.widget-view+json": {
       "model_id": "5df349e1b709473a9b069f423335f702",
       "version_major": 2,
       "version_minor": 0
      },
      "text/plain": [
       "0/1354                                                                                                        …"
      ]
     },
     "metadata": {},
     "output_type": "display_data"
    },
    {
     "name": "stdout",
     "output_type": "stream",
     "text": [
      "Epoch 11/50\n"
     ]
    },
    {
     "data": {
      "application/vnd.jupyter.widget-view+json": {
       "model_id": "13870248393b478b9860c40fb1de6ce7",
       "version_major": 2,
       "version_minor": 0
      },
      "text/plain": [
       "0/1354                                                                                                        …"
      ]
     },
     "metadata": {},
     "output_type": "display_data"
    },
    {
     "name": "stdout",
     "output_type": "stream",
     "text": [
      "Epoch 12/50\n"
     ]
    },
    {
     "data": {
      "application/vnd.jupyter.widget-view+json": {
       "model_id": "3b99e25a788949a5a9eb76f36de7af01",
       "version_major": 2,
       "version_minor": 0
      },
      "text/plain": [
       "0/1354                                                                                                        …"
      ]
     },
     "metadata": {},
     "output_type": "display_data"
    },
    {
     "name": "stdout",
     "output_type": "stream",
     "text": [
      "Epoch 13/50\n"
     ]
    },
    {
     "data": {
      "application/vnd.jupyter.widget-view+json": {
       "model_id": "3b746e787f014e259b6714b681ea0609",
       "version_major": 2,
       "version_minor": 0
      },
      "text/plain": [
       "0/1354                                                                                                        …"
      ]
     },
     "metadata": {},
     "output_type": "display_data"
    },
    {
     "name": "stdout",
     "output_type": "stream",
     "text": [
      "Epoch 14/50\n"
     ]
    },
    {
     "data": {
      "application/vnd.jupyter.widget-view+json": {
       "model_id": "47381fa8ca114a52bb103a3aba3645a7",
       "version_major": 2,
       "version_minor": 0
      },
      "text/plain": [
       "0/1354                                                                                                        …"
      ]
     },
     "metadata": {},
     "output_type": "display_data"
    },
    {
     "name": "stdout",
     "output_type": "stream",
     "text": [
      "Epoch 15/50\n"
     ]
    },
    {
     "data": {
      "application/vnd.jupyter.widget-view+json": {
       "model_id": "40d6225038d1498d93302cfb29d5cc4a",
       "version_major": 2,
       "version_minor": 0
      },
      "text/plain": [
       "0/1354                                                                                                        …"
      ]
     },
     "metadata": {},
     "output_type": "display_data"
    },
    {
     "name": "stdout",
     "output_type": "stream",
     "text": [
      "Epoch 16/50\n"
     ]
    },
    {
     "data": {
      "application/vnd.jupyter.widget-view+json": {
       "model_id": "8775e460c3e34b2cbb03e38a8f5f3e7d",
       "version_major": 2,
       "version_minor": 0
      },
      "text/plain": [
       "0/1354                                                                                                        …"
      ]
     },
     "metadata": {},
     "output_type": "display_data"
    },
    {
     "name": "stdout",
     "output_type": "stream",
     "text": [
      "Epoch 17/50\n"
     ]
    },
    {
     "data": {
      "application/vnd.jupyter.widget-view+json": {
       "model_id": "0ecc0aeeac944470b08fcc1ec1a23c34",
       "version_major": 2,
       "version_minor": 0
      },
      "text/plain": [
       "0/1354                                                                                                        …"
      ]
     },
     "metadata": {},
     "output_type": "display_data"
    },
    {
     "name": "stdout",
     "output_type": "stream",
     "text": [
      "Epoch 18/50\n"
     ]
    },
    {
     "data": {
      "application/vnd.jupyter.widget-view+json": {
       "model_id": "acb00e0c36eb45f7a7f977196c74f885",
       "version_major": 2,
       "version_minor": 0
      },
      "text/plain": [
       "0/1354                                                                                                        …"
      ]
     },
     "metadata": {},
     "output_type": "display_data"
    },
    {
     "name": "stdout",
     "output_type": "stream",
     "text": [
      "Evaluate Validation set\n"
     ]
    },
    {
     "data": {
      "application/vnd.jupyter.widget-view+json": {
       "model_id": "ef2c4467d70d41c4921f463e2078bae4",
       "version_major": 2,
       "version_minor": 0
      },
      "text/plain": [
       "0/387                                                                                               ETA: ?s - …"
      ]
     },
     "metadata": {},
     "output_type": "display_data"
    },
    {
     "name": "stdout",
     "output_type": "stream",
     "text": [
      "Evaluate Test set\n"
     ]
    },
    {
     "data": {
      "application/vnd.jupyter.widget-view+json": {
       "model_id": "c3c82c9a06bc498d9488d8daa900c2a1",
       "version_major": 2,
       "version_minor": 0
      },
      "text/plain": [
       "0/194                                                                                               ETA: ?s - …"
      ]
     },
     "metadata": {},
     "output_type": "display_data"
    }
   ],
   "source": [
    "multi_lstm_model = tf.keras.Sequential([\n",
    "    # Shape [batch, time, features] => [batch, lstm_units].\n",
    "    # Adding more `lstm_units` just overfits more quickly.\n",
    "    tf.keras.layers.LSTM(64, return_sequences=False),\n",
    "    # Shape => [batch, out_steps*features].\n",
    "    tf.keras.layers.Dense(OUT_STEPS*num_features,kernel_initializer=tf.initializers.zeros()),\n",
    "    # Shape => [batch, out_steps, features].\n",
    "    tf.keras.layers.Reshape([OUT_STEPS, num_features])\n",
    "])\n",
    "\n",
    "history = compile_and_fit(multi_lstm_model, multi_window)\n",
    "\n",
    "print(\"Evaluate Validation set\")\n",
    "multi_val_performance['LSTM'] = multi_lstm_model.evaluate(multi_window.val, callbacks=[tqdm_callback], verbose=0)\n",
    "print(\"Evaluate Test set\")\n",
    "multi_performance['LSTM'] = multi_lstm_model.evaluate(multi_window.test, callbacks=[tqdm_callback], verbose=0)"
   ]
  },
  {
   "cell_type": "code",
   "execution_count": 32,
   "id": "355b03fa",
   "metadata": {},
   "outputs": [
    {
     "data": {
      "text/plain": [
       "[<matplotlib.lines.Line2D at 0x7f633f449610>]"
      ]
     },
     "execution_count": 32,
     "metadata": {},
     "output_type": "execute_result"
    },
    {
     "data": {
      "image/png": "[encoded data removed]",
      "text/plain": [
       "<Figure size 640x480 with 1 Axes>"
      ]
     },
     "metadata": {},
     "output_type": "display_data"
    }
   ],
   "source": [
    "plt.plot(history.history[\"loss\"])\n",
    "plt.plot(history.history[\"val_loss\"])"
   ]
  },
  {
   "cell_type": "code",
   "execution_count": 33,
   "id": "2c16fdec",
   "metadata": {},
   "outputs": [
    {
     "name": "stdout",
     "output_type": "stream",
     "text": [
      "Plot_cols : ['NSAL Hauteur']\n"
     ]
    },
    {
     "data": {
      "image/png": "[encoded data removed]",
      "text/plain": [
       "<Figure size 1200x350 with 1 Axes>"
      ]
     },
     "metadata": {},
     "output_type": "display_data"
    }
   ],
   "source": [
    "multi_window.plot(multi_lstm_model, figname=\"RNN - NSAL Hauteur\")"
   ]
  },
  {
   "cell_type": "code",
   "execution_count": null,
   "id": "431856c4",
   "metadata": {},
   "outputs": [],
   "source": [
    "multi_lstm_model.save('models/multi_lstm_model.h5')"
   ]
  },
  {
   "cell_type": "code",
   "execution_count": 54,
   "id": "1e2203f2",
   "metadata": {},
   "outputs": [
    {
     "name": "stdout",
     "output_type": "stream",
     "text": [
      "['loss', 'mean_absolute_error']\n"
     ]
    },
    {
     "data": {
      "image/png": "[encoded data removed]",
      "text/plain": [
       "<Figure size 640x480 with 1 Axes>"
      ]
     },
     "metadata": {},
     "output_type": "display_data"
    }
   ],
   "source": [
    "x = np.arange(len(multi_performance))\n",
    "width = 0.3\n",
    "\n",
    "print(multi_dense_model.metrics_names)\n",
    "\n",
    "metric_name = 'mean_squared_error'\n",
    "metric_index = multi_dense_model.metrics_names.index('loss')\n",
    "val_mae = [v[metric_index] for v in multi_val_performance.values()]\n",
    "test_mae = [v[metric_index] for v in multi_performance.values()]\n",
    "\n",
    "plt.bar(x - 0.17, val_mae, width, label='Validation')\n",
    "plt.bar(x + 0.17, test_mae, width, label='Test')\n",
    "plt.xticks(ticks=x, labels=multi_performance.keys(),\n",
    "           rotation=45)\n",
    "plt.ylabel(f'MSE (average over all times and outputs)')\n",
    "_ = plt.legend()"
   ]
  },
  {
   "cell_type": "markdown",
   "id": "22d238bc",
   "metadata": {},
   "source": [
    "### RNN Auto-régréssif"
   ]
  },
  {
   "cell_type": "code",
   "execution_count": 16,
   "id": "32865ecd",
   "metadata": {},
   "outputs": [],
   "source": [
    "class FeedBack(tf.keras.Model):\n",
    "    def __init__(self, units, out_steps):\n",
    "        super().__init__()\n",
    "        self.out_steps = out_steps\n",
    "        self.units = units\n",
    "        self.lstm_cell = tf.keras.layers.LSTMCell(units)\n",
    "        # Also wrap the LSTMCell in an RNN to simplify the `warmup` method.\n",
    "        self.lstm_rnn = tf.keras.layers.RNN(self.lstm_cell, return_state=True)\n",
    "        self.dense = tf.keras.layers.Dense(num_features)\n",
    "        \n",
    "    def warmup(self, inputs):\n",
    "        # inputs.shape => (batch, time, features)\n",
    "        # x.shape => (batch, lstm_units)\n",
    "        x, *state = self.lstm_rnn(inputs)\n",
    "\n",
    "        # predictions.shape => (batch, features)\n",
    "        prediction = self.dense(x)\n",
    "        return prediction, state\n",
    "    \n",
    "    def call(self, inputs, training=None):\n",
    "        # Use a TensorArray to capture dynamically unrolled outputs.\n",
    "        predictions = []\n",
    "        # Initialize the LSTM state.\n",
    "        prediction, state = self.warmup(inputs)\n",
    "\n",
    "        # Insert the first prediction.\n",
    "        predictions.append(prediction)\n",
    "\n",
    "        # Run the rest of the prediction steps.\n",
    "        for n in range(1, self.out_steps):\n",
    "            # Use the last prediction as input.\n",
    "            x = prediction\n",
    "            # Execute one lstm step.\n",
    "            x, state = self.lstm_cell(x, states=state,\n",
    "                                      training=training)\n",
    "            # Convert the lstm output to a prediction.\n",
    "            prediction = self.dense(x)\n",
    "            # Add the prediction to the output.\n",
    "            predictions.append(prediction)\n",
    "\n",
    "        # predictions.shape => (time, batch, features)\n",
    "        predictions = tf.stack(predictions)\n",
    "        # predictions.shape => (batch, time, features)\n",
    "        predictions = tf.transpose(predictions, [1, 0, 2])\n",
    "        return predictions"
   ]
  },
  {
   "cell_type": "code",
   "execution_count": 17,
   "id": "d1fa1f77",
   "metadata": {},
   "outputs": [],
   "source": [
    "feedback_model = FeedBack(units=32, out_steps=OUT_STEPS)"
   ]
  },
  {
   "cell_type": "code",
   "execution_count": 18,
   "id": "5c17dfb7",
   "metadata": {},
   "outputs": [
    {
     "data": {
      "text/plain": [
       "TensorShape([3, 2])"
      ]
     },
     "execution_count": 18,
     "metadata": {},
     "output_type": "execute_result"
    }
   ],
   "source": [
    "prediction, state = feedback_model.warmup(multi_window.example[0])\n",
    "prediction.shape"
   ]
  },
  {
   "cell_type": "code",
   "execution_count": 21,
   "id": "12b75e71",
   "metadata": {},
   "outputs": [
    {
     "name": "stdout",
     "output_type": "stream",
     "text": [
      "2111/2111 [==============================] - 23s 11ms/step - loss: 0.0079 - mean_absolute_error: 0.0503\n"
     ]
    },
    {
     "ename": "NameError",
     "evalue": "name 'multi_val_performance' is not defined",
     "output_type": "error",
     "traceback": [
      "\u001b[0;31m---------------------------------------------------------------------------\u001b[0m",
      "\u001b[0;31mNameError\u001b[0m                                 Traceback (most recent call last)",
      "Input \u001b[0;32mIn [21]\u001b[0m, in \u001b[0;36m<cell line: 5>\u001b[0;34m()\u001b[0m\n\u001b[1;32m      1\u001b[0m history \u001b[38;5;241m=\u001b[39m compile_and_fit(feedback_model, multi_window)\n\u001b[1;32m      3\u001b[0m IPython\u001b[38;5;241m.\u001b[39mdisplay\u001b[38;5;241m.\u001b[39mclear_output()\n\u001b[0;32m----> 5\u001b[0m \u001b[43mmulti_val_performance\u001b[49m[\u001b[38;5;124m'\u001b[39m\u001b[38;5;124mAR LSTM\u001b[39m\u001b[38;5;124m'\u001b[39m] \u001b[38;5;241m=\u001b[39m feedback_model\u001b[38;5;241m.\u001b[39mevaluate(multi_window\u001b[38;5;241m.\u001b[39mval)\n\u001b[1;32m      6\u001b[0m multi_performance[\u001b[38;5;124m'\u001b[39m\u001b[38;5;124mAR LSTM\u001b[39m\u001b[38;5;124m'\u001b[39m] \u001b[38;5;241m=\u001b[39m feedback_model\u001b[38;5;241m.\u001b[39mevaluate(multi_window\u001b[38;5;241m.\u001b[39mtest, verbose\u001b[38;5;241m=\u001b[39m\u001b[38;5;241m0\u001b[39m)\n\u001b[1;32m      7\u001b[0m multi_window\u001b[38;5;241m.\u001b[39mplot(feedback_model)\n",
      "\u001b[0;31mNameError\u001b[0m: name 'multi_val_performance' is not defined"
     ]
    }
   ],
   "source": [
    "history = compile_and_fit(feedback_model, multi_window)\n",
    "\n",
    "IPython.display.clear_output()\n",
    "\n",
    "multi_val_performance['AR LSTM'] = feedback_model.evaluate(multi_window.val)\n",
    "multi_performance['AR LSTM'] = feedback_model.evaluate(multi_window.test, verbose=0)\n",
    "multi_window.plot(feedback_model)"
   ]
  },
  {
   "cell_type": "markdown",
   "id": "4402d2f7",
   "metadata": {},
   "source": [
    "### RNN Perso"
   ]
  },
  {
   "cell_type": "code",
   "execution_count": 24,
   "id": "4c421d89",
   "metadata": {},
   "outputs": [
    {
     "data": {
      "image/png": "[encoded data removed]",
      "text/plain": [
       "<Figure size 1200x800 with 3 Axes>"
      ]
     },
     "metadata": {},
     "output_type": "display_data"
    }
   ],
   "source": [
    "OUT_STEPS = 10\n",
    "multi_window = WindowGenerator(input_width=100,\n",
    "                               label_width=OUT_STEPS,\n",
    "                               shift=OUT_STEPS)\n",
    "\n",
    "example_window = tf.stack([np.array(train_df[:multi_window.total_window_size]),\n",
    "                           np.array(train_df[6000:6000+multi_window.total_window_size]),\n",
    "                           np.array(train_df[50000:50000+multi_window.total_window_size])])\n",
    "\n",
    "example_inputs, example_labels = multi_window.split_window(example_window)\n",
    "multi_window._example = example_inputs, example_labels\n",
    "\n",
    "multi_window.plot()"
   ]
  },
  {
   "cell_type": "code",
   "execution_count": 227,
   "id": "a31a0e47",
   "metadata": {},
   "outputs": [],
   "source": [
    "model = tf.keras.models.Sequential([\n",
    "    tf.keras.layers.LSTM(32),\n",
    "    tf.keras.layers.Dense(OUT_STEPS*num_features),\n",
    "    tf.keras.layers.Reshape([OUT_STEPS, num_features])])\n",
    "model.compile(optimizer='adam', loss='mean_squared_error')"
   ]
  },
  {
   "cell_type": "code",
   "execution_count": null,
   "id": "8178c53f",
   "metadata": {
    "scrolled": true
   },
   "outputs": [
    {
     "name": "stdout",
     "output_type": "stream",
     "text": [
      "Epoch 1/5\n",
      "   2/7396 [..............................] - ETA: 8:17 - loss: 19.9042   "
     ]
    }
   ],
   "source": [
    "history = model.fit(\n",
    "    multi_window.train,\n",
    "    epochs=5,\n",
    "    validation_data=multi_window.val,\n",
    "    validation_steps=3\n",
    ")"
   ]
  },
  {
   "cell_type": "markdown",
   "id": "322835af",
   "metadata": {},
   "source": [
    "model.evaluate(multi_window.test)\n",
    "multi_window.plot(model)"
   ]
  },
  {
   "cell_type": "code",
   "execution_count": 31,
   "id": "94efa163",
   "metadata": {},
   "outputs": [
    {
     "name": "stdout",
     "output_type": "stream",
     "text": [
      "                            df: 15.1 MiB\n",
      "                        values: 15.1 MiB\n",
      "                      train_df: 10.6 MiB\n",
      "                        val_df:  3.0 MiB\n",
      "                       test_df:  1.5 MiB\n",
      "                           _ii:  4.9 KiB\n",
      "                          _i29:  4.9 KiB\n",
      "                          _i22:  4.8 KiB\n",
      "                          _i13:  4.8 KiB\n",
      "                           _i7:  4.8 KiB\n"
     ]
    }
   ],
   "source": [
    "import sys\n",
    "def sizeof_fmt(num, suffix='B'):\n",
    "    ''' by Fred Cirera,  https://stackoverflow.com/a/1094933/1870254, modified'''\n",
    "    for unit in ['','Ki','Mi','Gi','Ti','Pi','Ei','Zi']:\n",
    "        if abs(num) < 1024.0:\n",
    "            return \"%3.1f %s%s\" % (num, unit, suffix)\n",
    "        num /= 1024.0\n",
    "    return \"%.1f %s%s\" % (num, 'Yi', suffix)\n",
    "\n",
    "for name, size in sorted(((name, sys.getsizeof(value)) for name, value in locals().items()),\n",
    "                         key= lambda x: -x[1])[:10]:\n",
    "    print(\"{:>30}: {:>8}\".format(name, sizeof_fmt(size)))"
   ]
  },
  {
   "cell_type": "code",
   "execution_count": null,
   "id": "41d3be5f",
   "metadata": {},
   "outputs": [],
   "source": []
  }
 ],
 "metadata": {
  "kernelspec": {
   "display_name": "Python 3 (ipykernel)",
   "language": "python",
   "name": "python3"
  },
  "language_info": {
   "codemirror_mode": {
    "name": "ipython",
    "version": 3
   },
   "file_extension": ".py",
   "mimetype": "text/x-python",
   "name": "python",
   "nbconvert_exporter": "python",
   "pygments_lexer": "ipython3",
   "version": "3.9.16"
  },
  "vscode": {
   "interpreter": {
    "hash": "2d0f672f2ad6c2c2fb4b27068348e48ca19ded1f2787789eb2d24248462cb837"
   }
  }
 },
 "nbformat": 4,
 "nbformat_minor": 5
}
