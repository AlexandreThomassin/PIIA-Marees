{
 "cells": [
  {
   "cell_type": "code",
   "execution_count": 9,
   "id": "b59f1dbd",
   "metadata": {},
   "outputs": [],
   "source": [
    "import numba\n",
    "import pandas\n",
    "from matplotlib import pyplot as plt\n",
    "import numpy as np\n",
    "import tensorflow as tf\n",
    "from sklearn.model_selection import train_test_split"
   ]
  },
  {
   "cell_type": "code",
   "execution_count": 2,
   "id": "aecfafee",
   "metadata": {},
   "outputs": [
    {
     "name": "stdout",
     "output_type": "stream",
     "text": [
      "         Valeur  Source\n",
      "0         3.050       3\n",
      "1         3.300       3\n",
      "2         3.550       3\n",
      "3         3.800       3\n",
      "4         4.070       3\n",
      "...         ...     ...\n",
      "1426559   1.931       3\n",
      "1426560   1.915       3\n",
      "1426561   1.918       3\n",
      "1426562   1.942       3\n",
      "1426563   1.998       3\n",
      "\n",
      "[1426564 rows x 2 columns]\n"
     ]
    }
   ],
   "source": [
    "df = pandas.read_csv(\"1866_2022_3.csv\")\n",
    "date_time = pandas.to_datetime(df.pop('Date'), format='%d/%m/%Y %H:%M:%S')\n",
    "print(df)"
   ]
  },
  {
   "cell_type": "code",
   "execution_count": 7,
   "id": "c10abdfc",
   "metadata": {},
   "outputs": [
    {
     "name": "stdout",
     "output_type": "stream",
     "text": [
      "Values : [3.05 3.3  3.55 3.8  4.07]\n",
      "Time : [0, 10, 20, 30, 40]\n"
     ]
    }
   ],
   "source": [
    "values = df[\"Valeur\"].values\n",
    "time = [10*i for i in range(len(values))]\n",
    "print(f\"Values : {values[:5]}\")\n",
    "print(f\"Time : {time[:5]}\")"
   ]
  },
  {
   "cell_type": "code",
   "execution_count": 11,
   "id": "f70397c8",
   "metadata": {},
   "outputs": [],
   "source": [
    "X_train, X_test, Y_train, Y_test = train_test_split(time,values, test_size = 0.2)"
   ]
  },
  {
   "cell_type": "code",
   "execution_count": 12,
   "id": "9802886b",
   "metadata": {},
   "outputs": [],
   "source": [
    "\n",
    "\n"
   ]
  },
  {
   "cell_type": "code",
   "execution_count": null,
   "id": "ea55d451",
   "metadata": {},
   "outputs": [],
   "source": [
    "multi_lstm_model = tf.keras.Sequential([\n",
    "    # Shape [batch, time, features] => [batch, lstm_units].\n",
    "    # Adding more `lstm_units` just overfits more quickly.\n",
    "    tf.keras.layers.LSTM(32, return_sequences=False),\n",
    "    # Shape => [batch, out_steps*features].\n",
    "    tf.keras.layers.Dense(1,kernel_initializer=tf.initializers.zeros()),\n",
    "    # Shape => [batch, out_steps, features].\n",
    "    #tf.keras.layers.Reshape([OUT_STEPS, num_features])\n",
    "])\n",
    "\n"
   ]
  },
  {
   "cell_type": "code",
   "execution_count": null,
   "id": "7a18e436",
   "metadata": {},
   "outputs": [],
   "source": [
    "MAX_EPOCHS = 50\n",
    "early_stopping = tf.keras.callbacks.EarlyStopping(monitor='val_loss',\n",
    "                                                patience=patience,\n",
    "                                                mode='min')\n",
    "\n",
    "model.compile(loss=tf.losses.MeanSquaredError(),\n",
    "            optimizer=tf.optimizers.Adam(),\n",
    "            metrics=[tf.metrics.MeanAbsoluteError(), \"accuracy\"])\n",
    "\n",
    "history = model.fit(X_train, Y_train, epochs=MAX_EPOCHS,\n",
    "                  callbacks=[early_stopping])"
   ]
  }
 ],
 "metadata": {
  "kernelspec": {
   "display_name": "Python 3 (ipykernel)",
   "language": "python",
   "name": "python3"
  },
  "language_info": {
   "codemirror_mode": {
    "name": "ipython",
    "version": 3
   },
   "file_extension": ".py",
   "mimetype": "text/x-python",
   "name": "python",
   "nbconvert_exporter": "python",
   "pygments_lexer": "ipython3",
   "version": "3.10.6"
  }
 },
 "nbformat": 4,
 "nbformat_minor": 5
}
