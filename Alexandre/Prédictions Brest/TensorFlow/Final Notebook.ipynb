{
 "cells": [
  {
   "cell_type": "code",
   "execution_count": 1,
   "id": "8a425900",
   "metadata": {},
   "outputs": [
    {
     "name": "stderr",
     "output_type": "stream",
     "text": [
      "2023-01-30 10:05:37.340334: I tensorflow/core/platform/cpu_feature_guard.cc:193] This TensorFlow binary is optimized with oneAPI Deep Neural Network Library (oneDNN) to use the following CPU instructions in performance-critical operations:  AVX2 FMA\n",
      "To enable them in other operations, rebuild TensorFlow with the appropriate compiler flags.\n",
      "2023-01-30 10:05:39.348048: W tensorflow/compiler/xla/stream_executor/platform/default/dso_loader.cc:64] Could not load dynamic library 'libnvinfer.so.7'; dlerror: libnvinfer.so.7: cannot open shared object file: No such file or directory; LD_LIBRARY_PATH: /usr/lib/cuda-11.7/lib64:\n",
      "2023-01-30 10:05:39.351758: W tensorflow/compiler/xla/stream_executor/platform/default/dso_loader.cc:64] Could not load dynamic library 'libnvinfer_plugin.so.7'; dlerror: libnvinfer_plugin.so.7: cannot open shared object file: No such file or directory; LD_LIBRARY_PATH: /usr/lib/cuda-11.7/lib64:\n",
      "2023-01-30 10:05:39.351781: W tensorflow/compiler/tf2tensorrt/utils/py_utils.cc:38] TF-TRT Warning: Cannot dlopen some TensorRT libraries. If you would like to use Nvidia GPU with TensorRT, please make sure the missing libraries mentioned above are installed properly.\n"
     ]
    }
   ],
   "source": [
    "import numba\n",
    "import pandas\n",
    "from matplotlib import pyplot as plt\n",
    "import numpy as np\n",
    "import tensorflow as tf\n",
    "import IPython\n",
    "import IPython.display"
   ]
  },
  {
   "cell_type": "markdown",
   "id": "2b437457",
   "metadata": {},
   "source": [
    "## Récupération des données"
   ]
  },
  {
   "cell_type": "code",
   "execution_count": 47,
   "id": "c8200c8e",
   "metadata": {},
   "outputs": [
    {
     "name": "stdout",
     "output_type": "stream",
     "text": [
      "         Valeur  Source\n",
      "0         3.510       4\n",
      "1         4.960       4\n",
      "2         6.200       4\n",
      "3         6.940       4\n",
      "4         7.110       4\n",
      "...         ...     ...\n",
      "1261702   6.125       4\n",
      "1261703   5.278       4\n",
      "1261704   4.244       4\n",
      "1261705   3.230       4\n",
      "1261706   2.423       4\n",
      "\n",
      "[1261707 rows x 2 columns]\n"
     ]
    }
   ],
   "source": [
    "df = pandas.read_csv(\"1866_2022_4.csv\")\n",
    "date_time = pandas.to_datetime(df.pop('Date'), format='%d/%m/%Y %H:%M:%S')\n",
    "print(df)"
   ]
  },
  {
   "cell_type": "code",
   "execution_count": 48,
   "id": "abeaa61f",
   "metadata": {},
   "outputs": [
    {
     "name": "stdout",
     "output_type": "stream",
     "text": [
      "(300000, 1)\n",
      "[[3.51]\n",
      " [4.96]\n",
      " [6.2 ]\n",
      " ...\n",
      " [6.45]\n",
      " [6.34]\n",
      " [5.54]]\n"
     ]
    }
   ],
   "source": [
    "datas = df[\"Valeur\"].values[:300_000]\n",
    "datas = datas.reshape([len(datas),1])\n",
    "print(datas.shape)\n",
    "print(datas)"
   ]
  },
  {
   "cell_type": "code",
   "execution_count": 49,
   "id": "58d35f66",
   "metadata": {},
   "outputs": [
    {
     "data": {
      "text/plain": [
       "array([[3.51],\n",
       "       [4.96],\n",
       "       [6.2 ],\n",
       "       ...,\n",
       "       [3.11],\n",
       "       [3.27],\n",
       "       [3.52]])"
      ]
     },
     "execution_count": 49,
     "metadata": {},
     "output_type": "execute_result"
    }
   ],
   "source": [
    "n = len(datas)\n",
    "train = datas[:int(0.8*n),:]\n",
    "test = datas[int(0.8*n):, :]\n",
    "train"
   ]
  },
  {
   "cell_type": "markdown",
   "id": "72098433",
   "metadata": {},
   "source": [
    "### Longueur d'entrée et de sortie"
   ]
  },
  {
   "cell_type": "code",
   "execution_count": 58,
   "id": "90c6be8e",
   "metadata": {},
   "outputs": [],
   "source": [
    "input_length = 96\n",
    "output_length = 12\n",
    "batch_size = 512"
   ]
  },
  {
   "cell_type": "markdown",
   "id": "d7964749",
   "metadata": {},
   "source": [
    "### Fonction de fenetrage"
   ]
  },
  {
   "cell_type": "code",
   "execution_count": 59,
   "id": "f3118581",
   "metadata": {},
   "outputs": [],
   "source": [
    "def split(array):\n",
    "    inputs = array[:,0:input_length, :]\n",
    "    outputs = array[:,input_length:input_length+output_length, :]\n",
    "    \n",
    "    inputs.set_shape([None,input_length, None])\n",
    "    outputs.set_shape([None, output_length, None])\n",
    "    return inputs,outputs"
   ]
  },
  {
   "cell_type": "markdown",
   "id": "21383e78",
   "metadata": {},
   "source": [
    "### Création des datasets"
   ]
  },
  {
   "cell_type": "code",
   "execution_count": 60,
   "id": "73b9a8fa",
   "metadata": {},
   "outputs": [
    {
     "data": {
      "text/plain": [
       "<MapDataset element_spec=(TensorSpec(shape=(None, 96, 1), dtype=tf.float32, name=None), TensorSpec(shape=(None, 12, 1), dtype=tf.float32, name=None))>"
      ]
     },
     "execution_count": 60,
     "metadata": {},
     "output_type": "execute_result"
    }
   ],
   "source": [
    "train = np.array(train, dtype=np.float32)\n",
    "train_ds = tf.keras.utils.timeseries_dataset_from_array(\n",
    "  data=train,\n",
    "  targets=None,\n",
    "  sequence_length=output_length+input_length,\n",
    "  sequence_stride=1,\n",
    "  shuffle=True,\n",
    "  batch_size=batch_size)\n",
    "\n",
    "train_ds = train_ds.map(split)\n",
    "train_ds"
   ]
  },
  {
   "cell_type": "code",
   "execution_count": 61,
   "id": "c346fef8",
   "metadata": {},
   "outputs": [],
   "source": [
    "test = np.array(test, dtype=np.float32)\n",
    "test_ds = tf.keras.utils.timeseries_dataset_from_array(\n",
    "  data=test,\n",
    "  targets=None,\n",
    "  sequence_length=output_length+input_length,\n",
    "  sequence_stride=1,\n",
    "  shuffle=True,\n",
    "  batch_size=batch_size)\n",
    "\n",
    "test_ds = test_ds.map(split)"
   ]
  },
  {
   "cell_type": "markdown",
   "id": "ec545eea",
   "metadata": {},
   "source": [
    "### Création du modèle"
   ]
  },
  {
   "cell_type": "code",
   "execution_count": 62,
   "id": "fc747b90",
   "metadata": {},
   "outputs": [
    {
     "name": "stdout",
     "output_type": "stream",
     "text": [
      "Model: \"sequential_10\"\n",
      "_________________________________________________________________\n",
      " Layer (type)                Output Shape              Param #   \n",
      "=================================================================\n",
      " conv1d_4 (Conv1D)           (None, 94, 32)            128       \n",
      "                                                                 \n",
      " flatten_4 (Flatten)         (None, 3008)              0         \n",
      "                                                                 \n",
      " dense_10 (Dense)            (None, 12)                36108     \n",
      "                                                                 \n",
      " reshape_10 (Reshape)        (None, 12, 1)             0         \n",
      "                                                                 \n",
      "=================================================================\n",
      "Total params: 36,236\n",
      "Trainable params: 36,236\n",
      "Non-trainable params: 0\n",
      "_________________________________________________________________\n"
     ]
    }
   ],
   "source": [
    "multi_conv_model = tf.keras.Sequential([\n",
    "    # Shape => [batch, 1, conv_units]\n",
    "    tf.keras.layers.Conv1D(32, activation='relu', kernel_size=(3), input_shape = (input_length, 1)),\n",
    "    tf.keras.layers.Flatten(),\n",
    "    # Shape => [batch, 1,  out_steps*features]\n",
    "    tf.keras.layers.Dense(output_length,\n",
    "                          kernel_initializer=tf.initializers.zeros()),\n",
    "    # Shape => [batch, out_steps, features]\n",
    "    tf.keras.layers.Reshape([output_length, 1])\n",
    "])\n",
    "multi_conv_model.summary()"
   ]
  },
  {
   "cell_type": "code",
   "execution_count": 63,
   "id": "59c1aefa",
   "metadata": {},
   "outputs": [
    {
     "name": "stdout",
     "output_type": "stream",
     "text": [
      "Model: \"sequential_11\"\n",
      "_________________________________________________________________\n",
      " Layer (type)                Output Shape              Param #   \n",
      "=================================================================\n",
      " lstm_6 (LSTM)               (None, 64)                16896     \n",
      "                                                                 \n",
      " dense_11 (Dense)            (None, 12)                780       \n",
      "                                                                 \n",
      " reshape_11 (Reshape)        (None, 12, 1)             0         \n",
      "                                                                 \n",
      "=================================================================\n",
      "Total params: 17,676\n",
      "Trainable params: 17,676\n",
      "Non-trainable params: 0\n",
      "_________________________________________________________________\n"
     ]
    }
   ],
   "source": [
    "multi_lstm_model =  tf.keras.Sequential([\n",
    "    # Shape => [batch, 1, conv_units]\n",
    "    tf.keras.layers.LSTM(64, activation='tanh', input_shape = (input_length, 1)),\n",
    "    # Shape => [batch, 1,  out_steps*features]\n",
    "    tf.keras.layers.Dense(output_length, kernel_initializer=tf.initializers.zeros()),\n",
    "    # Shape => [batch, out_steps, features]\n",
    "    tf.keras.layers.Reshape([output_length, 1])\n",
    "])\n",
    "multi_lstm_model.summary()"
   ]
  },
  {
   "cell_type": "markdown",
   "id": "75672471",
   "metadata": {},
   "source": [
    "### Compilation"
   ]
  },
  {
   "cell_type": "code",
   "execution_count": 65,
   "id": "bec515fe",
   "metadata": {},
   "outputs": [],
   "source": [
    "early_stopping = tf.keras.callbacks.EarlyStopping(monitor='loss',\n",
    "                                                patience=2,\n",
    "                                                mode='min')\n",
    "\n",
    "\n",
    "multi_lstm_model.compile(loss=tf.losses.MeanSquaredError(),\n",
    "            optimizer=tf.optimizers.Adam(),\n",
    "            metrics=[tf.metrics.MeanAbsoluteError()])\n"
   ]
  },
  {
   "cell_type": "markdown",
   "id": "3103a6f3",
   "metadata": {},
   "source": [
    "### Entrainement"
   ]
  },
  {
   "cell_type": "code",
   "execution_count": 66,
   "id": "855a8be3",
   "metadata": {
    "scrolled": true
   },
   "outputs": [
    {
     "name": "stdout",
     "output_type": "stream",
     "text": [
      "Epoch 1/50\n",
      "469/469 [==============================] - 16s 29ms/step - loss: 3.4158 - mean_absolute_error: 1.5229 - val_loss: 2.4725 - val_mean_absolute_error: 1.3457\n",
      "Epoch 2/50\n",
      "469/469 [==============================] - 16s 35ms/step - loss: 2.5666 - mean_absolute_error: 1.3738 - val_loss: 2.4152 - val_mean_absolute_error: 1.3296\n",
      "Epoch 3/50\n",
      "469/469 [==============================] - 13s 28ms/step - loss: 1.9449 - mean_absolute_error: 1.1662 - val_loss: 1.3036 - val_mean_absolute_error: 0.9170\n",
      "Epoch 4/50\n",
      "469/469 [==============================] - 14s 30ms/step - loss: 0.5746 - mean_absolute_error: 0.5535 - val_loss: 0.1744 - val_mean_absolute_error: 0.3245\n",
      "Epoch 5/50\n",
      "469/469 [==============================] - 14s 29ms/step - loss: 0.1298 - mean_absolute_error: 0.2735 - val_loss: 0.0818 - val_mean_absolute_error: 0.2201\n",
      "Epoch 6/50\n",
      "469/469 [==============================] - 13s 28ms/step - loss: 0.0732 - mean_absolute_error: 0.2057 - val_loss: 0.0601 - val_mean_absolute_error: 0.1900\n",
      "Epoch 7/50\n",
      "469/469 [==============================] - 13s 27ms/step - loss: 0.0573 - mean_absolute_error: 0.1823 - val_loss: 0.0486 - val_mean_absolute_error: 0.1706\n",
      "Epoch 8/50\n",
      "469/469 [==============================] - 16s 34ms/step - loss: 0.0424 - mean_absolute_error: 0.1563 - val_loss: 0.0377 - val_mean_absolute_error: 0.1506\n",
      "Epoch 9/50\n",
      "469/469 [==============================] - 13s 27ms/step - loss: 0.0349 - mean_absolute_error: 0.1418 - val_loss: 0.0337 - val_mean_absolute_error: 0.1422\n",
      "Epoch 10/50\n",
      "469/469 [==============================] - 13s 27ms/step - loss: 0.0327 - mean_absolute_error: 0.1368 - val_loss: 0.0316 - val_mean_absolute_error: 0.1375\n",
      "Epoch 11/50\n",
      "469/469 [==============================] - 15s 31ms/step - loss: 0.0284 - mean_absolute_error: 0.1266 - val_loss: 0.0275 - val_mean_absolute_error: 0.1271\n",
      "Epoch 12/50\n",
      "469/469 [==============================] - 15s 31ms/step - loss: 0.0253 - mean_absolute_error: 0.1187 - val_loss: 0.0236 - val_mean_absolute_error: 0.1180\n",
      "Epoch 13/50\n",
      "469/469 [==============================] - 14s 29ms/step - loss: 0.0190 - mean_absolute_error: 0.0996 - val_loss: 0.0147 - val_mean_absolute_error: 0.0914\n",
      "Epoch 14/50\n",
      "469/469 [==============================] - 15s 31ms/step - loss: 0.0158 - mean_absolute_error: 0.0895 - val_loss: 0.0133 - val_mean_absolute_error: 0.0864\n",
      "Epoch 15/50\n",
      "469/469 [==============================] - 13s 27ms/step - loss: 0.0149 - mean_absolute_error: 0.0860 - val_loss: 0.0125 - val_mean_absolute_error: 0.0839\n",
      "Epoch 16/50\n",
      "469/469 [==============================] - 13s 27ms/step - loss: 0.0143 - mean_absolute_error: 0.0839 - val_loss: 0.0120 - val_mean_absolute_error: 0.0817\n",
      "Epoch 17/50\n",
      "469/469 [==============================] - 12s 26ms/step - loss: 0.0138 - mean_absolute_error: 0.0821 - val_loss: 0.0116 - val_mean_absolute_error: 0.0800\n",
      "Epoch 18/50\n",
      "469/469 [==============================] - 14s 29ms/step - loss: 0.0134 - mean_absolute_error: 0.0803 - val_loss: 0.0129 - val_mean_absolute_error: 0.0857\n",
      "Epoch 19/50\n",
      "469/469 [==============================] - 14s 28ms/step - loss: 0.0131 - mean_absolute_error: 0.0793 - val_loss: 0.0107 - val_mean_absolute_error: 0.0766\n",
      "Epoch 20/50\n",
      "469/469 [==============================] - 13s 28ms/step - loss: 0.0126 - mean_absolute_error: 0.0773 - val_loss: 0.0102 - val_mean_absolute_error: 0.0743\n",
      "Epoch 21/50\n",
      "469/469 [==============================] - 14s 29ms/step - loss: 0.0123 - mean_absolute_error: 0.0759 - val_loss: 0.0098 - val_mean_absolute_error: 0.0730\n",
      "Epoch 22/50\n",
      "469/469 [==============================] - 13s 28ms/step - loss: 0.0121 - mean_absolute_error: 0.0749 - val_loss: 0.0100 - val_mean_absolute_error: 0.0736\n",
      "Epoch 23/50\n",
      "469/469 [==============================] - 13s 27ms/step - loss: 0.0118 - mean_absolute_error: 0.0736 - val_loss: 0.0093 - val_mean_absolute_error: 0.0702\n",
      "Epoch 24/50\n",
      "469/469 [==============================] - 13s 27ms/step - loss: 0.0114 - mean_absolute_error: 0.0718 - val_loss: 0.0093 - val_mean_absolute_error: 0.0704\n",
      "Epoch 25/50\n",
      "469/469 [==============================] - 12s 26ms/step - loss: 0.0113 - mean_absolute_error: 0.0715 - val_loss: 0.0098 - val_mean_absolute_error: 0.0730\n",
      "Epoch 26/50\n",
      "469/469 [==============================] - 13s 27ms/step - loss: 0.0111 - mean_absolute_error: 0.0701 - val_loss: 0.0087 - val_mean_absolute_error: 0.0679\n",
      "Epoch 27/50\n",
      "469/469 [==============================] - 14s 29ms/step - loss: 0.0110 - mean_absolute_error: 0.0699 - val_loss: 0.0093 - val_mean_absolute_error: 0.0703\n",
      "Epoch 28/50\n",
      "469/469 [==============================] - 14s 29ms/step - loss: 0.0108 - mean_absolute_error: 0.0689 - val_loss: 0.0090 - val_mean_absolute_error: 0.0692\n",
      "Epoch 29/50\n",
      "469/469 [==============================] - 13s 28ms/step - loss: 0.0107 - mean_absolute_error: 0.0684 - val_loss: 0.0092 - val_mean_absolute_error: 0.0704\n",
      "Epoch 30/50\n",
      "469/469 [==============================] - 13s 28ms/step - loss: 0.0106 - mean_absolute_error: 0.0680 - val_loss: 0.0085 - val_mean_absolute_error: 0.0662\n",
      "Epoch 31/50\n",
      "469/469 [==============================] - 13s 27ms/step - loss: 0.0105 - mean_absolute_error: 0.0676 - val_loss: 0.0091 - val_mean_absolute_error: 0.0694\n",
      "Epoch 32/50\n",
      "469/469 [==============================] - 14s 29ms/step - loss: 0.0104 - mean_absolute_error: 0.0672 - val_loss: 0.0083 - val_mean_absolute_error: 0.0653\n",
      "Epoch 33/50\n",
      "469/469 [==============================] - 15s 32ms/step - loss: 0.0103 - mean_absolute_error: 0.0669 - val_loss: 0.0086 - val_mean_absolute_error: 0.0673\n",
      "Epoch 34/50\n",
      "469/469 [==============================] - 17s 35ms/step - loss: 0.0102 - mean_absolute_error: 0.0662 - val_loss: 0.0083 - val_mean_absolute_error: 0.0653\n",
      "Epoch 35/50\n",
      "469/469 [==============================] - 16s 33ms/step - loss: 0.0101 - mean_absolute_error: 0.0659 - val_loss: 0.0082 - val_mean_absolute_error: 0.0647\n",
      "Epoch 36/50\n",
      "469/469 [==============================] - 15s 31ms/step - loss: 0.0101 - mean_absolute_error: 0.0659 - val_loss: 0.0086 - val_mean_absolute_error: 0.0663\n",
      "Epoch 37/50\n",
      "469/469 [==============================] - 13s 28ms/step - loss: 0.0101 - mean_absolute_error: 0.0656 - val_loss: 0.0082 - val_mean_absolute_error: 0.0649\n",
      "Epoch 38/50\n",
      "469/469 [==============================] - 14s 29ms/step - loss: 0.0100 - mean_absolute_error: 0.0654 - val_loss: 0.0085 - val_mean_absolute_error: 0.0669\n",
      "Epoch 39/50\n",
      "469/469 [==============================] - 13s 27ms/step - loss: 0.0099 - mean_absolute_error: 0.0647 - val_loss: 0.0079 - val_mean_absolute_error: 0.0633\n",
      "Epoch 40/50\n",
      "469/469 [==============================] - 14s 29ms/step - loss: 0.0099 - mean_absolute_error: 0.0649 - val_loss: 0.0083 - val_mean_absolute_error: 0.0661\n",
      "Epoch 41/50\n",
      "469/469 [==============================] - 14s 30ms/step - loss: 0.0097 - mean_absolute_error: 0.0642 - val_loss: 0.0079 - val_mean_absolute_error: 0.0641\n",
      "Epoch 42/50\n",
      "469/469 [==============================] - 13s 28ms/step - loss: 0.0098 - mean_absolute_error: 0.0643 - val_loss: 0.0080 - val_mean_absolute_error: 0.0642\n",
      "Epoch 43/50\n",
      "469/469 [==============================] - 13s 27ms/step - loss: 0.0096 - mean_absolute_error: 0.0637 - val_loss: 0.0081 - val_mean_absolute_error: 0.0650\n",
      "Epoch 44/50\n",
      "469/469 [==============================] - 13s 28ms/step - loss: 0.0096 - mean_absolute_error: 0.0638 - val_loss: 0.0073 - val_mean_absolute_error: 0.0608\n",
      "Epoch 45/50\n",
      "469/469 [==============================] - 13s 28ms/step - loss: 0.0096 - mean_absolute_error: 0.0634 - val_loss: 0.0074 - val_mean_absolute_error: 0.0612\n",
      "Epoch 46/50\n",
      "469/469 [==============================] - 13s 28ms/step - loss: 0.0095 - mean_absolute_error: 0.0633 - val_loss: 0.0075 - val_mean_absolute_error: 0.0614\n",
      "Epoch 47/50\n",
      "469/469 [==============================] - 13s 27ms/step - loss: 0.0095 - mean_absolute_error: 0.0629 - val_loss: 0.0076 - val_mean_absolute_error: 0.0620\n",
      "Epoch 48/50\n",
      "469/469 [==============================] - 13s 28ms/step - loss: 0.0094 - mean_absolute_error: 0.0628 - val_loss: 0.0081 - val_mean_absolute_error: 0.0640\n",
      "Epoch 49/50\n",
      "469/469 [==============================] - 13s 27ms/step - loss: 0.0094 - mean_absolute_error: 0.0626 - val_loss: 0.0073 - val_mean_absolute_error: 0.0610\n",
      "Epoch 50/50\n"
     ]
    },
    {
     "name": "stdout",
     "output_type": "stream",
     "text": [
      "469/469 [==============================] - 14s 29ms/step - loss: 0.0093 - mean_absolute_error: 0.0623 - val_loss: 0.0073 - val_mean_absolute_error: 0.0604\n"
     ]
    }
   ],
   "source": [
    "MAX_EPOCHS = 50\n",
    "history = multi_lstm_model.fit(train_ds, epochs=MAX_EPOCHS, callbacks=[early_stopping], validation_data = test_ds)"
   ]
  },
  {
   "cell_type": "code",
   "execution_count": 67,
   "id": "8edd5f02",
   "metadata": {},
   "outputs": [
    {
     "data": {
      "image/png": "[encoded data removed]",
      "text/plain": [
       "<Figure size 640x480 with 1 Axes>"
      ]
     },
     "metadata": {},
     "output_type": "display_data"
    }
   ],
   "source": [
    "plt.plot(history.history[\"loss\"][5:], label = \"Loss\")\n",
    "plt.plot(history.history[\"val_loss\"][5:], label = \"Validation loss\")\n",
    "\n",
    "plt.legend()\n",
    "plt.show()"
   ]
  },
  {
   "cell_type": "code",
   "execution_count": 68,
   "id": "22ab4eeb",
   "metadata": {},
   "outputs": [],
   "source": [
    "multi_lstm_model.save(\"models/MultiLSTM\", save_format=\"h5\")"
   ]
  },
  {
   "cell_type": "code",
   "execution_count": null,
   "id": "8732cb49",
   "metadata": {},
   "outputs": [],
   "source": []
  }
 ],
 "metadata": {
  "kernelspec": {
   "display_name": "Python 3 (ipykernel)",
   "language": "python",
   "name": "python3"
  },
  "language_info": {
   "codemirror_mode": {
    "name": "ipython",
    "version": 3
   },
   "file_extension": ".py",
   "mimetype": "text/x-python",
   "name": "python",
   "nbconvert_exporter": "python",
   "pygments_lexer": "ipython3",
   "version": "3.10.6"
  }
 },
 "nbformat": 4,
 "nbformat_minor": 5
}
