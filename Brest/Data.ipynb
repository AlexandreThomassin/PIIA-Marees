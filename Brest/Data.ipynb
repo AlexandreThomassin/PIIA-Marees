{
 "cells": [
  {
   "cell_type": "code",
   "execution_count": 1,
   "metadata": {},
   "outputs": [],
   "source": [
    "import pandas as pd\n",
    "import numpy as np\n",
    "from matplotlib import pyplot as plt\n",
    "from datetime import datetime, timedelta"
   ]
  },
  {
   "cell_type": "code",
   "execution_count": 3,
   "metadata": {},
   "outputs": [
    {
     "data": {
      "text/html": [
       "<div>\n",
       "<style scoped>\n",
       "    .dataframe tbody tr th:only-of-type {\n",
       "        vertical-align: middle;\n",
       "    }\n",
       "\n",
       "    .dataframe tbody tr th {\n",
       "        vertical-align: top;\n",
       "    }\n",
       "\n",
       "    .dataframe thead th {\n",
       "        text-align: right;\n",
       "    }\n",
       "</style>\n",
       "<table border=\"1\" class=\"dataframe\">\n",
       "  <thead>\n",
       "    <tr style=\"text-align: right;\">\n",
       "      <th></th>\n",
       "      <th>Date</th>\n",
       "      <th>Valeur</th>\n",
       "      <th>Source</th>\n",
       "    </tr>\n",
       "  </thead>\n",
       "  <tbody>\n",
       "    <tr>\n",
       "      <th>43665</th>\n",
       "      <td>31/12/1963 19:00:00</td>\n",
       "      <td>5.05</td>\n",
       "      <td>4</td>\n",
       "    </tr>\n",
       "    <tr>\n",
       "      <th>43666</th>\n",
       "      <td>31/12/1963 20:00:00</td>\n",
       "      <td>3.70</td>\n",
       "      <td>4</td>\n",
       "    </tr>\n",
       "    <tr>\n",
       "      <th>43667</th>\n",
       "      <td>31/12/1963 21:00:00</td>\n",
       "      <td>2.40</td>\n",
       "      <td>4</td>\n",
       "    </tr>\n",
       "    <tr>\n",
       "      <th>43668</th>\n",
       "      <td>31/12/1963 22:00:00</td>\n",
       "      <td>1.34</td>\n",
       "      <td>4</td>\n",
       "    </tr>\n",
       "    <tr>\n",
       "      <th>43669</th>\n",
       "      <td>31/12/1963 23:00:00</td>\n",
       "      <td>0.95</td>\n",
       "      <td>4</td>\n",
       "    </tr>\n",
       "  </tbody>\n",
       "</table>\n",
       "</div>"
      ],
      "text/plain": [
       "                      Date  Valeur  Source\n",
       "43665  31/12/1963 19:00:00    5.05       4\n",
       "43666  31/12/1963 20:00:00    3.70       4\n",
       "43667  31/12/1963 21:00:00    2.40       4\n",
       "43668  31/12/1963 22:00:00    1.34       4\n",
       "43669  31/12/1963 23:00:00    0.95       4"
      ]
     },
     "execution_count": 3,
     "metadata": {},
     "output_type": "execute_result"
    }
   ],
   "source": [
    "df = pd.read_csv(\"Data/1959_1963.csv\")\n",
    "df.tail()"
   ]
  },
  {
   "cell_type": "code",
   "execution_count": 5,
   "metadata": {},
   "outputs": [
    {
     "name": "stdout",
     "output_type": "stream",
     "text": [
      "Amount of hours missing : 154\n"
     ]
    }
   ],
   "source": [
    "total = (4 * 365 + 366)*24\n",
    "print(f'Amount of hours missing : {total - len(df)}')"
   ]
  },
  {
   "cell_type": "code",
   "execution_count": 6,
   "metadata": {},
   "outputs": [
    {
     "data": {
      "text/plain": [
       "0       0 days 01:00:00\n",
       "1       0 days 01:00:00\n",
       "2       0 days 01:00:00\n",
       "3       0 days 01:00:00\n",
       "4       0 days 01:00:00\n",
       "              ...      \n",
       "43665   0 days 01:00:00\n",
       "43666   0 days 01:00:00\n",
       "43667   0 days 01:00:00\n",
       "43668   0 days 01:00:00\n",
       "43669               NaT\n",
       "Name: Diff, Length: 43670, dtype: timedelta64[ns]"
      ]
     },
     "execution_count": 6,
     "metadata": {},
     "output_type": "execute_result"
    }
   ],
   "source": [
    "df.Date = pd.to_datetime(df.Date, format = '%d/%m/%Y %H:%M:%S')\n",
    "df.insert(1, 'Date1', df.Date.shift(periods=-1))\n",
    "df.insert(2, 'Diff', (df.Date1 - df.Date))\n",
    "df['Diff']"
   ]
  },
  {
   "cell_type": "code",
   "execution_count": 7,
   "metadata": {},
   "outputs": [
    {
     "name": "stdout",
     "output_type": "stream",
     "text": [
      "Total missing hours found : 154.0\n",
      "1961-02-18 23:00:00 1963-12-22 22:00:00\n"
     ]
    },
    {
     "data": {
      "text/html": [
       "<div>\n",
       "<style scoped>\n",
       "    .dataframe tbody tr th:only-of-type {\n",
       "        vertical-align: middle;\n",
       "    }\n",
       "\n",
       "    .dataframe tbody tr th {\n",
       "        vertical-align: top;\n",
       "    }\n",
       "\n",
       "    .dataframe thead th {\n",
       "        text-align: right;\n",
       "    }\n",
       "</style>\n",
       "<table border=\"1\" class=\"dataframe\">\n",
       "  <thead>\n",
       "    <tr style=\"text-align: right;\">\n",
       "      <th></th>\n",
       "      <th>Date</th>\n",
       "      <th>Date1</th>\n",
       "      <th>Diff</th>\n",
       "      <th>Valeur</th>\n",
       "      <th>Source</th>\n",
       "    </tr>\n",
       "  </thead>\n",
       "  <tbody>\n",
       "    <tr>\n",
       "      <th>18719</th>\n",
       "      <td>1961-02-18 23:00:00</td>\n",
       "      <td>1961-02-19 20:00:00</td>\n",
       "      <td>0 days 21:00:00</td>\n",
       "      <td>1.80</td>\n",
       "      <td>4</td>\n",
       "    </tr>\n",
       "    <tr>\n",
       "      <th>18723</th>\n",
       "      <td>1961-02-19 23:00:00</td>\n",
       "      <td>1961-02-20 01:00:00</td>\n",
       "      <td>0 days 02:00:00</td>\n",
       "      <td>3.38</td>\n",
       "      <td>4</td>\n",
       "    </tr>\n",
       "    <tr>\n",
       "      <th>19153</th>\n",
       "      <td>1961-03-09 22:00:00</td>\n",
       "      <td>1961-03-10 00:00:00</td>\n",
       "      <td>0 days 02:00:00</td>\n",
       "      <td>5.36</td>\n",
       "      <td>4</td>\n",
       "    </tr>\n",
       "    <tr>\n",
       "      <th>19392</th>\n",
       "      <td>1961-03-19 22:00:00</td>\n",
       "      <td>1961-03-20 00:00:00</td>\n",
       "      <td>0 days 02:00:00</td>\n",
       "      <td>2.68</td>\n",
       "      <td>4</td>\n",
       "    </tr>\n",
       "    <tr>\n",
       "      <th>19487</th>\n",
       "      <td>1961-03-23 22:00:00</td>\n",
       "      <td>1961-03-24 00:00:00</td>\n",
       "      <td>0 days 02:00:00</td>\n",
       "      <td>5.04</td>\n",
       "      <td>4</td>\n",
       "    </tr>\n",
       "  </tbody>\n",
       "</table>\n",
       "</div>"
      ],
      "text/plain": [
       "                     Date               Date1            Diff  Valeur  Source\n",
       "18719 1961-02-18 23:00:00 1961-02-19 20:00:00 0 days 21:00:00    1.80       4\n",
       "18723 1961-02-19 23:00:00 1961-02-20 01:00:00 0 days 02:00:00    3.38       4\n",
       "19153 1961-03-09 22:00:00 1961-03-10 00:00:00 0 days 02:00:00    5.36       4\n",
       "19392 1961-03-19 22:00:00 1961-03-20 00:00:00 0 days 02:00:00    2.68       4\n",
       "19487 1961-03-23 22:00:00 1961-03-24 00:00:00 0 days 02:00:00    5.04       4"
      ]
     },
     "execution_count": 7,
     "metadata": {},
     "output_type": "execute_result"
    }
   ],
   "source": [
    "df1 = df[df.Diff > timedelta(hours = 1)]\n",
    "print(f'Total missing hours found : {(df1.Diff.sum() - timedelta(hours = len(df1))).total_seconds()/3600}')\n",
    "print(min(df1.Date), max(df1.Date))\n",
    "df1.head()"
   ]
  },
  {
   "cell_type": "code",
   "execution_count": 8,
   "metadata": {},
   "outputs": [
    {
     "data": {
      "text/plain": [
       "(False,\n",
       " Date          1961-02-19 00:00:00\n",
       " Date1                         NaT\n",
       " Diff                          NaT\n",
       " Valeur                        NaN\n",
       " Source                        NaN\n",
       " 7dayMean                 3.253333\n",
       " 30dayMean                3.680667\n",
       " 200dayMean               4.012346\n",
       " Name: 18720, dtype: object)"
      ]
     },
     "execution_count": 8,
     "metadata": {},
     "output_type": "execute_result"
    }
   ],
   "source": [
    "idx = pd.date_range(start = min(df.Date), end = max(df.Date), freq='H')\n",
    "df = df.set_index('Date').reindex(idx).rename_axis('Date').reset_index()\n",
    "\n",
    "df['7dayMean'] = df.Valeur.rolling(window = 7, center = True, min_periods=1).mean()\n",
    "df['30dayMean'] = df.Valeur.rolling(window = 30, center = True, min_periods=1).mean()\n",
    "df['200dayMean'] = df.Valeur.rolling(window = 200, center = True, min_periods=1).mean()\n",
    "\n",
    "df.head(8)\n",
    "type(df.iloc[18720, 3]) == np.nan, df.iloc[18720] "
   ]
  },
  {
   "cell_type": "code",
   "execution_count": 15,
   "metadata": {},
   "outputs": [],
   "source": [
    "df7 = df.copy()\n",
    "df7.Valeur.fillna(df7['7dayMean'], inplace = True)\n",
    "df7.drop(columns=['Date1', 'Diff', '7dayMean', '30dayMean', '200dayMean'],inplace = True)\n",
    "\n",
    "df30 = df.copy()\n",
    "df30.Valeur.fillna(df30['30dayMean'], inplace = True)\n",
    "df30.drop(columns=['Date1', 'Diff', '7dayMean', '30dayMean', '200dayMean'],inplace = True)\n",
    "\n",
    "df200 = df.copy()\n",
    "df200.Valeur.fillna(df200['200dayMean'], inplace = True)\n",
    "df200.drop(columns=['Date1', 'Diff', '7dayMean', '30dayMean', '200dayMean'],inplace = True)\n",
    "\n",
    "filepath = '/Users/dgalembeck/Documents/Coding/Marees/Daniel/PIIA-Marees/Data/1959_1963-7.csv'\n",
    "df7.to_csv(filepath)\n",
    "\n",
    "filepath = '/Users/dgalembeck/Documents/Coding/Marees/Daniel/PIIA-Marees/Data/1959_1963-30.csv'\n",
    "df30.to_csv(filepath)\n",
    "\n",
    "filepath = '/Users/dgalembeck/Documents/Coding/Marees/Daniel/PIIA-Marees/Data/1959_1963-200.csv'\n",
    "df200.to_csv(filepath)"
   ]
  },
  {
   "cell_type": "code",
   "execution_count": 10,
   "metadata": {},
   "outputs": [
    {
     "data": {
      "text/plain": [
       "(24, 0, 0)"
      ]
     },
     "execution_count": 10,
     "metadata": {},
     "output_type": "execute_result"
    }
   ],
   "source": [
    "df11 = df7[df7.Valeur.isna()]\n",
    "df12 = df30[df30.Valeur.isna()]\n",
    "df13 = df200[df200.Valeur.isna()]\n",
    "\n",
    "len(df11), len(df12), len(df13)"
   ]
  }
 ],
 "metadata": {
  "kernelspec": {
   "display_name": "Python 3.10.6 ('IA')",
   "language": "python",
   "name": "python3"
  },
  "language_info": {
   "codemirror_mode": {
    "name": "ipython",
    "version": 3
   },
   "file_extension": ".py",
   "mimetype": "text/x-python",
   "name": "python",
   "nbconvert_exporter": "python",
   "pygments_lexer": "ipython3",
   "version": "3.10.6"
  },
  "orig_nbformat": 4,
  "vscode": {
   "interpreter": {
    "hash": "87fc21197254558951455343ce704bc14f1a5282bb938462d86fd102e291cdae"
   }
  }
 },
 "nbformat": 4,
 "nbformat_minor": 2
}
