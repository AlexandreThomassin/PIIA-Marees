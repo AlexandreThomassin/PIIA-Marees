{
 "cells": [
  {
   "cell_type": "code",
   "execution_count": 1,
   "id": "662779be",
   "metadata": {},
   "outputs": [
    {
     "name": "stderr",
     "output_type": "stream",
     "text": [
      "2022-12-26 16:23:02.966058: I tensorflow/core/platform/cpu_feature_guard.cc:193] This TensorFlow binary is optimized with oneAPI Deep Neural Network Library (oneDNN) to use the following CPU instructions in performance-critical operations:  AVX2 FMA\n",
      "To enable them in other operations, rebuild TensorFlow with the appropriate compiler flags.\n",
      "2022-12-26 16:23:04.829290: W tensorflow/compiler/xla/stream_executor/platform/default/dso_loader.cc:64] Could not load dynamic library 'libnvinfer.so.7'; dlerror: libnvinfer.so.7: cannot open shared object file: No such file or directory; LD_LIBRARY_PATH: /usr/lib/cuda-11.7/lib64:\n",
      "2022-12-26 16:23:04.832107: W tensorflow/compiler/xla/stream_executor/platform/default/dso_loader.cc:64] Could not load dynamic library 'libnvinfer_plugin.so.7'; dlerror: libnvinfer_plugin.so.7: cannot open shared object file: No such file or directory; LD_LIBRARY_PATH: /usr/lib/cuda-11.7/lib64:\n",
      "2022-12-26 16:23:04.832121: W tensorflow/compiler/tf2tensorrt/utils/py_utils.cc:38] TF-TRT Warning: Cannot dlopen some TensorRT libraries. If you would like to use Nvidia GPU with TensorRT, please make sure the missing libraries mentioned above are installed properly.\n"
     ]
    }
   ],
   "source": [
    "import numba\n",
    "import pandas\n",
    "from matplotlib import pyplot as plt\n",
    "import numpy as np\n",
    "import tensorflow as tf\n",
    "from sklearn.model_selection import train_test_split\n",
    "from keras.utils.np_utils import to_categorical\n",
    "from keras import Sequential\n",
    "from keras.layers.core import Dense, Dropout, Activation, Flatten\n",
    "from keras.layers import LSTM"
   ]
  },
  {
   "cell_type": "code",
   "execution_count": 2,
   "id": "6fcb1b09",
   "metadata": {},
   "outputs": [
    {
     "name": "stdout",
     "output_type": "stream",
     "text": [
      "         Valeur  Source\n",
      "0         3.050       3\n",
      "1         3.300       3\n",
      "2         3.550       3\n",
      "3         3.800       3\n",
      "4         4.070       3\n",
      "...         ...     ...\n",
      "1426559   1.931       3\n",
      "1426560   1.915       3\n",
      "1426561   1.918       3\n",
      "1426562   1.942       3\n",
      "1426563   1.998       3\n",
      "\n",
      "[1426564 rows x 2 columns]\n"
     ]
    }
   ],
   "source": [
    "df = pandas.read_csv(\"1866_2022_3.csv\")\n",
    "date_time = pandas.to_datetime(df.pop('Date'), format='%d/%m/%Y %H:%M:%S')\n",
    "print(df)"
   ]
  },
  {
   "cell_type": "code",
   "execution_count": 3,
   "id": "0f8e6020",
   "metadata": {},
   "outputs": [],
   "source": [
    "df['Time'] = [10*i for i in range(len(df))]"
   ]
  },
  {
   "cell_type": "code",
   "execution_count": 4,
   "id": "73bea1b7",
   "metadata": {},
   "outputs": [
    {
     "name": "stdout",
     "output_type": "stream",
     "text": [
      "Values : [3.05  3.3   3.55  ... 1.918 1.942 1.998], shape : (1426564,)\n",
      "Time : [0.000000e+00 1.000000e+01 2.000000e+01 ... 1.426561e+07 1.426562e+07\n",
      " 1.426563e+07]\n"
     ]
    }
   ],
   "source": [
    "values = df.values[:,0]\n",
    "time = df.values[:,2]\n",
    "print(f\"Values : {values}, shape : {values.shape}\")\n",
    "print(f\"Time : {time}\")"
   ]
  },
  {
   "cell_type": "code",
   "execution_count": 5,
   "id": "abbd935e",
   "metadata": {},
   "outputs": [],
   "source": [
    "X_train, X_test, Y_train, Y_test = train_test_split(time, values, test_size = 0.2)"
   ]
  },
  {
   "cell_type": "code",
   "execution_count": 6,
   "id": "ac077d20",
   "metadata": {},
   "outputs": [
    {
     "name": "stderr",
     "output_type": "stream",
     "text": [
      "2022-12-26 16:23:19.305390: I tensorflow/compiler/xla/stream_executor/cuda/cuda_gpu_executor.cc:967] could not open file to read NUMA node: /sys/bus/pci/devices/0000:01:00.0/numa_node\n",
      "Your kernel may have been built without NUMA support.\n",
      "2022-12-26 16:23:19.424952: I tensorflow/compiler/xla/stream_executor/cuda/cuda_gpu_executor.cc:967] could not open file to read NUMA node: /sys/bus/pci/devices/0000:01:00.0/numa_node\n",
      "Your kernel may have been built without NUMA support.\n",
      "2022-12-26 16:23:19.425458: I tensorflow/compiler/xla/stream_executor/cuda/cuda_gpu_executor.cc:967] could not open file to read NUMA node: /sys/bus/pci/devices/0000:01:00.0/numa_node\n",
      "Your kernel may have been built without NUMA support.\n",
      "2022-12-26 16:23:19.429962: I tensorflow/core/platform/cpu_feature_guard.cc:193] This TensorFlow binary is optimized with oneAPI Deep Neural Network Library (oneDNN) to use the following CPU instructions in performance-critical operations:  AVX2 FMA\n",
      "To enable them in other operations, rebuild TensorFlow with the appropriate compiler flags.\n",
      "2022-12-26 16:23:19.432964: I tensorflow/compiler/xla/stream_executor/cuda/cuda_gpu_executor.cc:967] could not open file to read NUMA node: /sys/bus/pci/devices/0000:01:00.0/numa_node\n",
      "Your kernel may have been built without NUMA support.\n",
      "2022-12-26 16:23:19.433446: I tensorflow/compiler/xla/stream_executor/cuda/cuda_gpu_executor.cc:967] could not open file to read NUMA node: /sys/bus/pci/devices/0000:01:00.0/numa_node\n",
      "Your kernel may have been built without NUMA support.\n",
      "2022-12-26 16:23:19.433915: I tensorflow/compiler/xla/stream_executor/cuda/cuda_gpu_executor.cc:967] could not open file to read NUMA node: /sys/bus/pci/devices/0000:01:00.0/numa_node\n",
      "Your kernel may have been built without NUMA support.\n",
      "2022-12-26 16:23:21.189596: I tensorflow/compiler/xla/stream_executor/cuda/cuda_gpu_executor.cc:967] could not open file to read NUMA node: /sys/bus/pci/devices/0000:01:00.0/numa_node\n",
      "Your kernel may have been built without NUMA support.\n",
      "2022-12-26 16:23:21.190490: I tensorflow/compiler/xla/stream_executor/cuda/cuda_gpu_executor.cc:967] could not open file to read NUMA node: /sys/bus/pci/devices/0000:01:00.0/numa_node\n",
      "Your kernel may have been built without NUMA support.\n",
      "2022-12-26 16:23:21.190537: I tensorflow/core/common_runtime/gpu/gpu_device.cc:1700] Could not identify NUMA node of platform GPU id 0, defaulting to 0.  Your kernel may not have been built with NUMA support.\n",
      "2022-12-26 16:23:21.191171: I tensorflow/compiler/xla/stream_executor/cuda/cuda_gpu_executor.cc:967] could not open file to read NUMA node: /sys/bus/pci/devices/0000:01:00.0/numa_node\n",
      "Your kernel may have been built without NUMA support.\n",
      "2022-12-26 16:23:21.191652: I tensorflow/core/common_runtime/gpu/gpu_device.cc:1613] Created device /job:localhost/replica:0/task:0/device:GPU:0 with 2081 MB memory:  -> device: 0, name: NVIDIA GeForce GTX 1650, pci bus id: 0000:01:00.0, compute capability: 7.5\n"
     ]
    }
   ],
   "source": [
    "train_ds = tf.keras.utils.timeseries_dataset_from_array(\n",
    "          data=X_train,\n",
    "          targets=None,\n",
    "          sequence_length=1,\n",
    "          sequence_stride=1,\n",
    "          sampling_rate = 0.5,\n",
    "          batch_size=32,)"
   ]
  },
  {
   "cell_type": "code",
   "execution_count": 7,
   "id": "ac3d1ac2",
   "metadata": {},
   "outputs": [],
   "source": [
    "X_train = X_train.reshape([len(X_train),1,1])\n",
    "X_test = X_test.reshape([len(X_test),1,1])\n",
    "Y_train = Y_train.reshape([len(Y_train),1,1])\n",
    "Y_test = Y_test.reshape([len(Y_test),1,1])"
   ]
  },
  {
   "cell_type": "code",
   "execution_count": 8,
   "id": "033ba494",
   "metadata": {},
   "outputs": [
    {
     "data": {
      "text/plain": [
       "(1141251, 1, 1)"
      ]
     },
     "execution_count": 8,
     "metadata": {},
     "output_type": "execute_result"
    }
   ],
   "source": [
    "X_train.shape"
   ]
  },
  {
   "cell_type": "code",
   "execution_count": 9,
   "id": "4e6c8c36",
   "metadata": {},
   "outputs": [
    {
     "data": {
      "text/plain": [
       "(array([[[ 4030980.]],\n",
       " \n",
       "        [[11417860.]],\n",
       " \n",
       "        [[ 9610540.]],\n",
       " \n",
       "        [[ 7038490.]],\n",
       " \n",
       "        [[ 7633200.]]]),\n",
       " array([[[5.37 ]],\n",
       " \n",
       "        [[5.64 ]],\n",
       " \n",
       "        [[5.126]],\n",
       " \n",
       "        [[6.868]],\n",
       " \n",
       "        [[1.435]]]))"
      ]
     },
     "execution_count": 9,
     "metadata": {},
     "output_type": "execute_result"
    }
   ],
   "source": [
    "X_train[:5], Y_train[:5]"
   ]
  },
  {
   "cell_type": "code",
   "execution_count": 52,
   "id": "db940925",
   "metadata": {},
   "outputs": [],
   "source": [
    "y_train = to_categorical(Y_train)"
   ]
  },
  {
   "cell_type": "code",
   "execution_count": 60,
   "id": "eb35c3db",
   "metadata": {},
   "outputs": [
    {
     "name": "stdout",
     "output_type": "stream",
     "text": [
      "WARNING:tensorflow:Layer lstm_3 will not use cuDNN kernels since it doesn't meet the criteria. It will use a generic GPU kernel as fallback when running on GPU.\n"
     ]
    }
   ],
   "source": [
    "multi_lstm_model = tf.keras.Sequential([\n",
    "    # Shape [batch, time, features] => [batch, lstm_units].\n",
    "    # Adding more `lstm_units` just overfits more quickly.\n",
    "    tf.keras.layers.LSTM(64, activation='relu'),\n",
    "    # Shape => [batch, out_steps*features].\n",
    "    tf.keras.layers.Dense(1),\n",
    "    # Shape => [batch, out_steps, features].\n",
    "    #tf.keras.layers.Reshape([OUT_STEPS, num_features])\n",
    "])"
   ]
  },
  {
   "cell_type": "code",
   "execution_count": null,
   "id": "45e9743a",
   "metadata": {},
   "outputs": [
    {
     "name": "stdout",
     "output_type": "stream",
     "text": [
      "Epoch 1/50\n"
     ]
    }
   ],
   "source": [
    "MAX_EPOCHS = 50\n",
    "early_stopping = tf.keras.callbacks.EarlyStopping(monitor='val_loss',\n",
    "                                                patience=2,\n",
    "                                                mode='min')\n",
    "\n",
    "multi_lstm_model.compile(loss=tf.losses.MeanSquaredError(),\n",
    "            optimizer=tf.optimizers.Adam(),\n",
    "            metrics=[tf.metrics.MeanAbsoluteError(), \"accuracy\"])\n",
    "\n",
    "history = multi_lstm_model.fit(X_train, Y_train, epochs=MAX_EPOCHS,\n",
    "                  callbacks=[early_stopping])"
   ]
  },
  {
   "cell_type": "code",
   "execution_count": 65,
   "id": "898aeeb6",
   "metadata": {},
   "outputs": [
    {
     "name": "stdout",
     "output_type": "stream",
     "text": [
      "WARNING:tensorflow:Layer lstm_12 will not use cuDNN kernels since it doesn't meet the criteria. It will use a generic GPU kernel as fallback when running on GPU.\n"
     ]
    }
   ],
   "source": [
    "model = Sequential()\n",
    "model.add(Dense(1))\n",
    "model.add(LSTM(50, activation='relu', input_shape=(1, 1)))\n",
    "model.add(Dense(1))"
   ]
  },
  {
   "cell_type": "code",
   "execution_count": 66,
   "id": "b6e03aaf",
   "metadata": {},
   "outputs": [],
   "source": [
    "model.compile(optimizer='adam', loss='mse')"
   ]
  },
  {
   "cell_type": "code",
   "execution_count": 67,
   "id": "88e8ad27",
   "metadata": {},
   "outputs": [
    {
     "ename": "ValueError",
     "evalue": "in user code:\n\n    File \"/home/alex/miniconda3/lib/python3.10/site-packages/keras/engine/training.py\", line 1249, in train_function  *\n        return step_function(self, iterator)\n    File \"/home/alex/miniconda3/lib/python3.10/site-packages/keras/engine/training.py\", line 1233, in step_function  **\n        outputs = model.distribute_strategy.run(run_step, args=(data,))\n    File \"/home/alex/miniconda3/lib/python3.10/site-packages/keras/engine/training.py\", line 1222, in run_step  **\n        outputs = model.train_step(data)\n    File \"/home/alex/miniconda3/lib/python3.10/site-packages/keras/engine/training.py\", line 1023, in train_step\n        y_pred = self(x, training=True)\n    File \"/home/alex/miniconda3/lib/python3.10/site-packages/keras/utils/traceback_utils.py\", line 70, in error_handler\n        raise e.with_traceback(filtered_tb) from None\n    File \"/home/alex/miniconda3/lib/python3.10/site-packages/keras/engine/input_spec.py\", line 250, in assert_input_compatibility\n        raise ValueError(\n\n    ValueError: Exception encountered when calling layer 'sequential_13' (type Sequential).\n    \n    Input 0 of layer \"dense_12\" is incompatible with the layer: expected min_ndim=2, found ndim=1. Full shape received: (None,)\n    \n    Call arguments received by layer 'sequential_13' (type Sequential):\n      • inputs=tf.Tensor(shape=(None,), dtype=int64)\n      • training=True\n      • mask=None\n",
     "output_type": "error",
     "traceback": [
      "\u001b[0;31m---------------------------------------------------------------------------\u001b[0m",
      "\u001b[0;31mValueError\u001b[0m                                Traceback (most recent call last)",
      "Cell \u001b[0;32mIn [67], line 1\u001b[0m\n\u001b[0;32m----> 1\u001b[0m \u001b[43mmodel\u001b[49m\u001b[38;5;241;43m.\u001b[39;49m\u001b[43mfit\u001b[49m\u001b[43m(\u001b[49m\u001b[43mX_train\u001b[49m\u001b[43m,\u001b[49m\u001b[43mY_train\u001b[49m\u001b[43m)\u001b[49m\n",
      "File \u001b[0;32m~/miniconda3/lib/python3.10/site-packages/keras/utils/traceback_utils.py:70\u001b[0m, in \u001b[0;36mfilter_traceback.<locals>.error_handler\u001b[0;34m(*args, **kwargs)\u001b[0m\n\u001b[1;32m     67\u001b[0m     filtered_tb \u001b[38;5;241m=\u001b[39m _process_traceback_frames(e\u001b[38;5;241m.\u001b[39m__traceback__)\n\u001b[1;32m     68\u001b[0m     \u001b[38;5;66;03m# To get the full stack trace, call:\u001b[39;00m\n\u001b[1;32m     69\u001b[0m     \u001b[38;5;66;03m# `tf.debugging.disable_traceback_filtering()`\u001b[39;00m\n\u001b[0;32m---> 70\u001b[0m     \u001b[38;5;28;01mraise\u001b[39;00m e\u001b[38;5;241m.\u001b[39mwith_traceback(filtered_tb) \u001b[38;5;28;01mfrom\u001b[39;00m \u001b[38;5;28mNone\u001b[39m\n\u001b[1;32m     71\u001b[0m \u001b[38;5;28;01mfinally\u001b[39;00m:\n\u001b[1;32m     72\u001b[0m     \u001b[38;5;28;01mdel\u001b[39;00m filtered_tb\n",
      "File \u001b[0;32m/tmp/__autograph_generated_fileq1sczu3h.py:15\u001b[0m, in \u001b[0;36mouter_factory.<locals>.inner_factory.<locals>.tf__train_function\u001b[0;34m(iterator)\u001b[0m\n\u001b[1;32m     13\u001b[0m \u001b[38;5;28;01mtry\u001b[39;00m:\n\u001b[1;32m     14\u001b[0m     do_return \u001b[38;5;241m=\u001b[39m \u001b[38;5;28;01mTrue\u001b[39;00m\n\u001b[0;32m---> 15\u001b[0m     retval_ \u001b[38;5;241m=\u001b[39m ag__\u001b[38;5;241m.\u001b[39mconverted_call(ag__\u001b[38;5;241m.\u001b[39mld(step_function), (ag__\u001b[38;5;241m.\u001b[39mld(\u001b[38;5;28mself\u001b[39m), ag__\u001b[38;5;241m.\u001b[39mld(iterator)), \u001b[38;5;28;01mNone\u001b[39;00m, fscope)\n\u001b[1;32m     16\u001b[0m \u001b[38;5;28;01mexcept\u001b[39;00m:\n\u001b[1;32m     17\u001b[0m     do_return \u001b[38;5;241m=\u001b[39m \u001b[38;5;28;01mFalse\u001b[39;00m\n",
      "\u001b[0;31mValueError\u001b[0m: in user code:\n\n    File \"/home/alex/miniconda3/lib/python3.10/site-packages/keras/engine/training.py\", line 1249, in train_function  *\n        return step_function(self, iterator)\n    File \"/home/alex/miniconda3/lib/python3.10/site-packages/keras/engine/training.py\", line 1233, in step_function  **\n        outputs = model.distribute_strategy.run(run_step, args=(data,))\n    File \"/home/alex/miniconda3/lib/python3.10/site-packages/keras/engine/training.py\", line 1222, in run_step  **\n        outputs = model.train_step(data)\n    File \"/home/alex/miniconda3/lib/python3.10/site-packages/keras/engine/training.py\", line 1023, in train_step\n        y_pred = self(x, training=True)\n    File \"/home/alex/miniconda3/lib/python3.10/site-packages/keras/utils/traceback_utils.py\", line 70, in error_handler\n        raise e.with_traceback(filtered_tb) from None\n    File \"/home/alex/miniconda3/lib/python3.10/site-packages/keras/engine/input_spec.py\", line 250, in assert_input_compatibility\n        raise ValueError(\n\n    ValueError: Exception encountered when calling layer 'sequential_13' (type Sequential).\n    \n    Input 0 of layer \"dense_12\" is incompatible with the layer: expected min_ndim=2, found ndim=1. Full shape received: (None,)\n    \n    Call arguments received by layer 'sequential_13' (type Sequential):\n      • inputs=tf.Tensor(shape=(None,), dtype=int64)\n      • training=True\n      • mask=None\n"
     ]
    }
   ],
   "source": [
    "model.fit(X_train,Y_train)"
   ]
  },
  {
   "cell_type": "code",
   "execution_count": 74,
   "id": "507186ca",
   "metadata": {},
   "outputs": [],
   "source": [
    "CONV_WIDTH = 2\n",
    "modelCNN = Sequential([\n",
    "    tf.keras.layers.Lambda(lambda x: x[:, -CONV_WIDTH:, :]),\n",
    "    # Shape => [batch, 1, conv_units]\n",
    "    tf.keras.layers.Conv1D(64, activation='relu', kernel_size=(CONV_WIDTH), padding = 'same'),\n",
    "    # Shape => [batch, 1,  out_steps*features]\n",
    "    tf.keras.layers.Dense(1,kernel_initializer=tf.initializers.zeros())\n",
    "])"
   ]
  },
  {
   "cell_type": "code",
   "execution_count": 75,
   "id": "ef4ab587",
   "metadata": {},
   "outputs": [],
   "source": [
    "early_stopping = tf.keras.callbacks.EarlyStopping(monitor='loss',\n",
    "                                                patience=2,\n",
    "                                                mode='min')\n",
    "modelCNN.compile(loss=tf.losses.MeanSquaredError(),\n",
    "            optimizer=tf.optimizers.Adam(learning_rate = 0.1),\n",
    "            metrics=[tf.metrics.MeanAbsoluteError()])"
   ]
  },
  {
   "cell_type": "code",
   "execution_count": 76,
   "id": "a40d01e9",
   "metadata": {
    "scrolled": true
   },
   "outputs": [
    {
     "name": "stdout",
     "output_type": "stream",
     "text": [
      "Epoch 1/50\n",
      "35665/35665 [==============================] - 218s 6ms/step - loss: 109770.6797 - mean_absolute_error: 16.2439\n",
      "Epoch 2/50\n",
      "35665/35665 [==============================] - 217s 6ms/step - loss: 2.5716 - mean_absolute_error: 1.3753\n",
      "Epoch 3/50\n",
      "35665/35665 [==============================] - 249s 7ms/step - loss: 2.5715 - mean_absolute_error: 1.3753\n",
      "Epoch 4/50\n",
      "35665/35665 [==============================] - 254s 7ms/step - loss: 334.2483 - mean_absolute_error: 1.4611\n",
      "Epoch 5/50\n",
      "35665/35665 [==============================] - 257s 7ms/step - loss: 2.5716 - mean_absolute_error: 1.3753\n"
     ]
    }
   ],
   "source": [
    "history = modelCNN.fit(X_train,Y_train, epochs = 50, callbacks=[early_stopping])"
   ]
  },
  {
   "cell_type": "code",
   "execution_count": 60,
   "id": "2cf71308",
   "metadata": {},
   "outputs": [
    {
     "data": {
      "text/plain": [
       "[<matplotlib.lines.Line2D at 0x7ff59e714340>]"
      ]
     },
     "execution_count": 60,
     "metadata": {},
     "output_type": "execute_result"
    },
    {
     "data": {
      "image/png": "[encoded data removed]",
      "text/plain": [
       "<Figure size 640x480 with 1 Axes>"
      ]
     },
     "metadata": {},
     "output_type": "display_data"
    }
   ],
   "source": [
    "plt.plot(history.history[\"loss\"][2:])"
   ]
  },
  {
   "cell_type": "code",
   "execution_count": 63,
   "id": "b731b03f",
   "metadata": {},
   "outputs": [
    {
     "name": "stdout",
     "output_type": "stream",
     "text": [
      "2/2 [==============================] - 0s 4ms/step\n"
     ]
    },
    {
     "data": {
      "text/plain": [
       "array([[[4.2348323]],\n",
       "\n",
       "       [[4.2348323]],\n",
       "\n",
       "       [[4.2348323]],\n",
       "\n",
       "       [[4.2348323]],\n",
       "\n",
       "       [[4.2348323]],\n",
       "\n",
       "       [[4.2348323]],\n",
       "\n",
       "       [[4.2348323]],\n",
       "\n",
       "       [[4.2348323]],\n",
       "\n",
       "       [[4.2348323]],\n",
       "\n",
       "       [[4.2348323]],\n",
       "\n",
       "       [[4.2348323]],\n",
       "\n",
       "       [[4.2348323]],\n",
       "\n",
       "       [[4.2348323]],\n",
       "\n",
       "       [[4.2348323]],\n",
       "\n",
       "       [[4.2348323]],\n",
       "\n",
       "       [[4.2348323]],\n",
       "\n",
       "       [[4.2348323]],\n",
       "\n",
       "       [[4.2348323]],\n",
       "\n",
       "       [[4.2348323]],\n",
       "\n",
       "       [[4.2348323]],\n",
       "\n",
       "       [[4.2348323]],\n",
       "\n",
       "       [[4.2348323]],\n",
       "\n",
       "       [[4.2348323]],\n",
       "\n",
       "       [[4.2348323]],\n",
       "\n",
       "       [[4.2348323]],\n",
       "\n",
       "       [[4.2348323]],\n",
       "\n",
       "       [[4.2348323]],\n",
       "\n",
       "       [[4.2348323]],\n",
       "\n",
       "       [[4.2348323]],\n",
       "\n",
       "       [[4.2348323]],\n",
       "\n",
       "       [[4.2348323]],\n",
       "\n",
       "       [[4.2348323]],\n",
       "\n",
       "       [[4.2348323]],\n",
       "\n",
       "       [[4.2348323]],\n",
       "\n",
       "       [[4.2348323]],\n",
       "\n",
       "       [[4.2348323]],\n",
       "\n",
       "       [[4.2348323]],\n",
       "\n",
       "       [[4.2348323]],\n",
       "\n",
       "       [[4.2348323]],\n",
       "\n",
       "       [[4.2348323]],\n",
       "\n",
       "       [[4.2348323]],\n",
       "\n",
       "       [[4.2348323]],\n",
       "\n",
       "       [[4.2348323]],\n",
       "\n",
       "       [[4.2348323]],\n",
       "\n",
       "       [[4.2348323]],\n",
       "\n",
       "       [[4.2348323]],\n",
       "\n",
       "       [[4.2348323]],\n",
       "\n",
       "       [[4.2348323]],\n",
       "\n",
       "       [[4.2348323]],\n",
       "\n",
       "       [[4.2348323]],\n",
       "\n",
       "       [[4.2348323]],\n",
       "\n",
       "       [[4.2348323]],\n",
       "\n",
       "       [[4.2348323]],\n",
       "\n",
       "       [[4.2348323]],\n",
       "\n",
       "       [[4.2348323]],\n",
       "\n",
       "       [[4.2348323]],\n",
       "\n",
       "       [[4.2348323]],\n",
       "\n",
       "       [[4.2348323]],\n",
       "\n",
       "       [[4.2348323]],\n",
       "\n",
       "       [[4.2348323]],\n",
       "\n",
       "       [[4.2348323]],\n",
       "\n",
       "       [[4.2348323]],\n",
       "\n",
       "       [[4.2348323]],\n",
       "\n",
       "       [[4.2348323]]], dtype=float32)"
      ]
     },
     "execution_count": 63,
     "metadata": {},
     "output_type": "execute_result"
    }
   ],
   "source": [
    "modelCNN.predict([[[80010+10*i]] for i in range(64)])"
   ]
  },
  {
   "cell_type": "code",
   "execution_count": 66,
   "id": "c04aaa7c",
   "metadata": {},
   "outputs": [
    {
     "data": {
      "text/plain": [
       "6.06"
      ]
     },
     "execution_count": 66,
     "metadata": {},
     "output_type": "execute_result"
    }
   ],
   "source": []
  },
  {
   "cell_type": "code",
   "execution_count": null,
   "id": "d3225acc",
   "metadata": {},
   "outputs": [],
   "source": []
  }
 ],
 "metadata": {
  "kernelspec": {
   "display_name": "Python 3 (ipykernel)",
   "language": "python",
   "name": "python3"
  },
  "language_info": {
   "codemirror_mode": {
    "name": "ipython",
    "version": 3
   },
   "file_extension": ".py",
   "mimetype": "text/x-python",
   "name": "python",
   "nbconvert_exporter": "python",
   "pygments_lexer": "ipython3",
   "version": "3.10.6"
  }
 },
 "nbformat": 4,
 "nbformat_minor": 5
}
