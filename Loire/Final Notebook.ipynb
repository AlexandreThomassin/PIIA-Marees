{
 "cells": [
  {
   "cell_type": "code",
   "execution_count": 35,
   "id": "8a425900",
   "metadata": {},
   "outputs": [],
   "source": [
    "import numba\n",
    "import pandas as pd\n",
    "from matplotlib import pyplot as plt\n",
    "import numpy as np\n",
    "import tensorflow as tf\n",
    "import IPython\n",
    "import IPython.display"
   ]
  },
  {
   "cell_type": "markdown",
   "id": "2b437457",
   "metadata": {},
   "source": [
    "## Récupération des données"
   ]
  },
  {
   "cell_type": "code",
   "execution_count": 36,
   "id": "c8200c8e",
   "metadata": {},
   "outputs": [
    {
     "name": "stdout",
     "output_type": "stream",
     "text": [
      "                       Date  SN Hauteur (t-36)  SN Hauteur (t-35)  \\\n",
      "36      2012-01-01 03:00:00               3.96               3.94   \n",
      "37      2012-01-01 03:05:00               3.94               3.93   \n",
      "38      2012-01-01 03:10:00               3.93               3.91   \n",
      "39      2012-01-01 03:15:00               3.91               3.89   \n",
      "40      2012-01-01 03:20:00               3.89               3.87   \n",
      "...                     ...                ...                ...   \n",
      "418592  2015-12-24 17:45:00               5.63               5.66   \n",
      "418593  2015-12-24 17:50:00               5.66               5.68   \n",
      "418594  2015-12-24 17:55:00               5.68               5.73   \n",
      "418595  2015-12-24 18:00:00               5.73               5.76   \n",
      "418596  2015-12-24 18:05:00               5.76               5.79   \n",
      "\n",
      "        SN Hauteur (t-34)  SN Hauteur (t-33)  SN Hauteur (t-32)  \\\n",
      "36                   3.93               3.91               3.89   \n",
      "37                   3.91               3.89               3.87   \n",
      "38                   3.89               3.87               3.85   \n",
      "39                   3.87               3.85               3.82   \n",
      "40                   3.85               3.82               3.79   \n",
      "...                   ...                ...                ...   \n",
      "418592               5.68               5.73               5.76   \n",
      "418593               5.73               5.76               5.79   \n",
      "418594               5.76               5.79               5.80   \n",
      "418595               5.79               5.80               5.82   \n",
      "418596               5.80               5.82               5.81   \n",
      "\n",
      "        SN Hauteur (t-31)  SN Hauteur (t-30)  SN Hauteur (t-29)  \\\n",
      "36                   3.87               3.85               3.82   \n",
      "37                   3.85               3.82               3.79   \n",
      "38                   3.82               3.79               3.76   \n",
      "39                   3.79               3.76               3.72   \n",
      "40                   3.76               3.72               3.70   \n",
      "...                   ...                ...                ...   \n",
      "418592               5.79               5.80               5.82   \n",
      "418593               5.80               5.82               5.81   \n",
      "418594               5.82               5.81               5.82   \n",
      "418595               5.81               5.82               5.84   \n",
      "418596               5.82               5.84               5.86   \n",
      "\n",
      "        SN Hauteur (t-28)  ...  SN Hauteur (t-10)  SN Hauteur (t-9)  \\\n",
      "36                   3.79  ...               3.01              2.95   \n",
      "37                   3.76  ...               2.95              2.89   \n",
      "38                   3.72  ...               2.89              2.83   \n",
      "39                   3.70  ...               2.83              2.77   \n",
      "40                   3.67  ...               2.77              2.72   \n",
      "...                   ...  ...                ...               ...   \n",
      "418592               5.81  ...               5.67              5.64   \n",
      "418593               5.82  ...               5.64              5.60   \n",
      "418594               5.84  ...               5.60              5.57   \n",
      "418595               5.86  ...               5.57              5.56   \n",
      "418596               5.86  ...               5.56              5.50   \n",
      "\n",
      "        SN Hauteur (t-8)  SN Hauteur (t-7)  SN Hauteur (t-6)  \\\n",
      "36                  2.89              2.83              2.77   \n",
      "37                  2.83              2.77              2.72   \n",
      "38                  2.77              2.72              2.66   \n",
      "39                  2.72              2.66              2.62   \n",
      "40                  2.66              2.62              2.57   \n",
      "...                  ...               ...               ...   \n",
      "418592              5.60              5.57              5.56   \n",
      "418593              5.57              5.56              5.50   \n",
      "418594              5.56              5.50              5.48   \n",
      "418595              5.50              5.48              5.43   \n",
      "418596              5.48              5.43              5.40   \n",
      "\n",
      "        SN Hauteur (t-5)  SN Hauteur (t-4)  SN Hauteur (t-3)  \\\n",
      "36                  2.72              2.66              2.62   \n",
      "37                  2.66              2.62              2.57   \n",
      "38                  2.62              2.57              2.53   \n",
      "39                  2.57              2.53              2.49   \n",
      "40                  2.53              2.49              2.45   \n",
      "...                  ...               ...               ...   \n",
      "418592              5.50              5.48              5.43   \n",
      "418593              5.48              5.43              5.40   \n",
      "418594              5.43              5.40              5.37   \n",
      "418595              5.40              5.37              5.34   \n",
      "418596              5.37              5.34              5.27   \n",
      "\n",
      "        SN Hauteur (t-2)  SN Hauteur (t-1)  \n",
      "36                  2.57              2.53  \n",
      "37                  2.53              2.49  \n",
      "38                  2.49              2.45  \n",
      "39                  2.45              2.40  \n",
      "40                  2.40              2.37  \n",
      "...                  ...               ...  \n",
      "418592              5.40              5.37  \n",
      "418593              5.37              5.34  \n",
      "418594              5.34              5.27  \n",
      "418595              5.27              5.22  \n",
      "418596              5.22              5.16  \n",
      "\n",
      "[396026 rows x 37 columns]\n"
     ]
    },
    {
     "data": {
      "text/plain": [
       "36        2012-01-01 03:00:00\n",
       "37        2012-01-01 03:05:00\n",
       "38        2012-01-01 03:10:00\n",
       "39        2012-01-01 03:15:00\n",
       "40        2012-01-01 03:20:00\n",
       "                 ...         \n",
       "418592    2015-12-24 17:45:00\n",
       "418593    2015-12-24 17:50:00\n",
       "418594    2015-12-24 17:55:00\n",
       "418595    2015-12-24 18:00:00\n",
       "418596    2015-12-24 18:05:00\n",
       "Name: Date, Length: 396026, dtype: object"
      ]
     },
     "execution_count": 36,
     "metadata": {},
     "output_type": "execute_result"
    }
   ],
   "source": [
    "columns = [\"Date\", \"Heure\", \"SG Hauteur\", \"SG Ectype\", \"SG Q\", \"SN Hauteur\", \"SN Ectype\", \"SN Q\",\n",
    "          \"Montoir Hauteur\", \"Montoir Ectype\", \"Montoir Q\", \"Paimboeuf Hauteur\", \"Paimboeuf Ectype\", \"Paimboeuf Q\",\n",
    "          \"Cordemais Hauteur\", \"Cordemais Ectype\", \"Cordemais Q\", \"LP Hauteur\", \"LP Ectype\", \"LP Q\",\n",
    "          \"NUB Hauteur\", \"NUB Ectype\", \"NUB Q\", \"NSAL Hauteur\", \"NSAL Ectype\", \"NSAL Q\", \"SG Patm\", \"Nantes Patm\"]\n",
    "\n",
    "chunks = pd.read_csv(\"Datas/X_tides.csv\", index_col=0, chunksize = 1e6, iterator = True, low_memory = False)\n",
    "X = pd.DataFrame()\n",
    "for chunk in chunks:\n",
    "    X = pd.concat((X,chunk))\n",
    "\n",
    "print(X)\n",
    "X.pop('Date')"
   ]
  },
  {
   "cell_type": "code",
   "execution_count": 37,
   "id": "d6535043",
   "metadata": {},
   "outputs": [
    {
     "name": "stdout",
     "output_type": "stream",
     "text": [
      "                       Date  SN Hauteur (t)  SN Hauteur (t+1)  \\\n",
      "36      2012-01-01 03:00:00            2.49              2.45   \n",
      "37      2012-01-01 03:05:00            2.45              2.40   \n",
      "38      2012-01-01 03:10:00            2.40              2.37   \n",
      "39      2012-01-01 03:15:00            2.37              2.33   \n",
      "40      2012-01-01 03:20:00            2.33              2.30   \n",
      "...                     ...             ...               ...   \n",
      "418592  2015-12-24 17:45:00            5.34              5.27   \n",
      "418593  2015-12-24 17:50:00            5.27              5.22   \n",
      "418594  2015-12-24 17:55:00            5.22              5.16   \n",
      "418595  2015-12-24 18:00:00            5.16              5.09   \n",
      "418596  2015-12-24 18:05:00            5.09              5.03   \n",
      "\n",
      "        SN Hauteur (t+2)  SN Hauteur (t+3)  SN Hauteur (t+4)  SN Hauteur (t+5)  \n",
      "36                  2.40              2.37              2.33              2.30  \n",
      "37                  2.37              2.33              2.30              2.26  \n",
      "38                  2.33              2.30              2.26              2.24  \n",
      "39                  2.30              2.26              2.24              2.22  \n",
      "40                  2.26              2.24              2.22              2.19  \n",
      "...                  ...               ...               ...               ...  \n",
      "418592              5.22              5.16              5.09              5.03  \n",
      "418593              5.16              5.09              5.03              4.96  \n",
      "418594              5.09              5.03              4.96              4.88  \n",
      "418595              5.03              4.96              4.88              4.81  \n",
      "418596              4.96              4.88              4.81              4.75  \n",
      "\n",
      "[396026 rows x 7 columns]\n"
     ]
    },
    {
     "data": {
      "text/plain": [
       "36        2012-01-01 03:00:00\n",
       "37        2012-01-01 03:05:00\n",
       "38        2012-01-01 03:10:00\n",
       "39        2012-01-01 03:15:00\n",
       "40        2012-01-01 03:20:00\n",
       "                 ...         \n",
       "418592    2015-12-24 17:45:00\n",
       "418593    2015-12-24 17:50:00\n",
       "418594    2015-12-24 17:55:00\n",
       "418595    2015-12-24 18:00:00\n",
       "418596    2015-12-24 18:05:00\n",
       "Name: Date, Length: 396026, dtype: object"
      ]
     },
     "execution_count": 37,
     "metadata": {},
     "output_type": "execute_result"
    }
   ],
   "source": [
    "chunks = pd.read_csv(\"Datas/Y_tides.csv\", index_col=0, chunksize = 1e6, iterator = True, low_memory = False)\n",
    "Y = pd.DataFrame()\n",
    "for chunk in chunks:\n",
    "    Y = pd.concat((Y,chunk))\n",
    "\n",
    "print(Y)\n",
    "Y.pop('Date')"
   ]
  },
  {
   "cell_type": "markdown",
   "id": "72098433",
   "metadata": {},
   "source": [
    "### Longueur d'entrée et de sortie"
   ]
  },
  {
   "cell_type": "code",
   "execution_count": 38,
   "id": "2635e9b9",
   "metadata": {},
   "outputs": [],
   "source": [
    "# Ces longueurs sont définies par les fichiers .csv\n",
    "input_length = 36\n",
    "output_length = 6"
   ]
  },
  {
   "attachments": {},
   "cell_type": "markdown",
   "id": "424944fb",
   "metadata": {},
   "source": [
    "### Réorganisation des données"
   ]
  },
  {
   "cell_type": "code",
   "execution_count": 39,
   "id": "abeaa61f",
   "metadata": {},
   "outputs": [
    {
     "name": "stdout",
     "output_type": "stream",
     "text": [
      "Number of features : 1\n",
      "Number of Label : 1\n"
     ]
    }
   ],
   "source": [
    "# Input features\n",
    "Nb_features = int(X.shape[1]/input_length)\n",
    "print(f\"Number of features : {Nb_features}\")\n",
    "\n",
    "Nb_labels = int(Y.shape[1]/output_length)\n",
    "print(f\"Number of Label : {Nb_labels}\")"
   ]
  },
  {
   "cell_type": "code",
   "execution_count": 40,
   "id": "fc4a8211",
   "metadata": {},
   "outputs": [
    {
     "name": "stdout",
     "output_type": "stream",
     "text": [
      "<bound method NDFrame.head of         SN Hauteur (t-36)  SN Hauteur (t-35)  SN Hauteur (t-34)  \\\n",
      "36                   3.96               3.94               3.93   \n",
      "37                   3.94               3.93               3.91   \n",
      "38                   3.93               3.91               3.89   \n",
      "39                   3.91               3.89               3.87   \n",
      "40                   3.89               3.87               3.85   \n",
      "...                   ...                ...                ...   \n",
      "418592               5.63               5.66               5.68   \n",
      "418593               5.66               5.68               5.73   \n",
      "418594               5.68               5.73               5.76   \n",
      "418595               5.73               5.76               5.79   \n",
      "418596               5.76               5.79               5.80   \n",
      "\n",
      "        SN Hauteur (t-33)  SN Hauteur (t-32)  SN Hauteur (t-31)  \\\n",
      "36                   3.91               3.89               3.87   \n",
      "37                   3.89               3.87               3.85   \n",
      "38                   3.87               3.85               3.82   \n",
      "39                   3.85               3.82               3.79   \n",
      "40                   3.82               3.79               3.76   \n",
      "...                   ...                ...                ...   \n",
      "418592               5.73               5.76               5.79   \n",
      "418593               5.76               5.79               5.80   \n",
      "418594               5.79               5.80               5.82   \n",
      "418595               5.80               5.82               5.81   \n",
      "418596               5.82               5.81               5.82   \n",
      "\n",
      "        SN Hauteur (t-30)  SN Hauteur (t-29)  SN Hauteur (t-28)  \\\n",
      "36                   3.85               3.82               3.79   \n",
      "37                   3.82               3.79               3.76   \n",
      "38                   3.79               3.76               3.72   \n",
      "39                   3.76               3.72               3.70   \n",
      "40                   3.72               3.70               3.67   \n",
      "...                   ...                ...                ...   \n",
      "418592               5.80               5.82               5.81   \n",
      "418593               5.82               5.81               5.82   \n",
      "418594               5.81               5.82               5.84   \n",
      "418595               5.82               5.84               5.86   \n",
      "418596               5.84               5.86               5.86   \n",
      "\n",
      "        SN Hauteur (t-27)  ...  SN Hauteur (t-10)  SN Hauteur (t-9)  \\\n",
      "36                   3.76  ...               3.01              2.95   \n",
      "37                   3.72  ...               2.95              2.89   \n",
      "38                   3.70  ...               2.89              2.83   \n",
      "39                   3.67  ...               2.83              2.77   \n",
      "40                   3.63  ...               2.77              2.72   \n",
      "...                   ...  ...                ...               ...   \n",
      "418592               5.82  ...               5.67              5.64   \n",
      "418593               5.84  ...               5.64              5.60   \n",
      "418594               5.86  ...               5.60              5.57   \n",
      "418595               5.86  ...               5.57              5.56   \n",
      "418596               5.87  ...               5.56              5.50   \n",
      "\n",
      "        SN Hauteur (t-8)  SN Hauteur (t-7)  SN Hauteur (t-6)  \\\n",
      "36                  2.89              2.83              2.77   \n",
      "37                  2.83              2.77              2.72   \n",
      "38                  2.77              2.72              2.66   \n",
      "39                  2.72              2.66              2.62   \n",
      "40                  2.66              2.62              2.57   \n",
      "...                  ...               ...               ...   \n",
      "418592              5.60              5.57              5.56   \n",
      "418593              5.57              5.56              5.50   \n",
      "418594              5.56              5.50              5.48   \n",
      "418595              5.50              5.48              5.43   \n",
      "418596              5.48              5.43              5.40   \n",
      "\n",
      "        SN Hauteur (t-5)  SN Hauteur (t-4)  SN Hauteur (t-3)  \\\n",
      "36                  2.72              2.66              2.62   \n",
      "37                  2.66              2.62              2.57   \n",
      "38                  2.62              2.57              2.53   \n",
      "39                  2.57              2.53              2.49   \n",
      "40                  2.53              2.49              2.45   \n",
      "...                  ...               ...               ...   \n",
      "418592              5.50              5.48              5.43   \n",
      "418593              5.48              5.43              5.40   \n",
      "418594              5.43              5.40              5.37   \n",
      "418595              5.40              5.37              5.34   \n",
      "418596              5.37              5.34              5.27   \n",
      "\n",
      "        SN Hauteur (t-2)  SN Hauteur (t-1)  \n",
      "36                  2.57              2.53  \n",
      "37                  2.53              2.49  \n",
      "38                  2.49              2.45  \n",
      "39                  2.45              2.40  \n",
      "40                  2.40              2.37  \n",
      "...                  ...               ...  \n",
      "418592              5.40              5.37  \n",
      "418593              5.37              5.34  \n",
      "418594              5.34              5.27  \n",
      "418595              5.27              5.22  \n",
      "418596              5.22              5.16  \n",
      "\n",
      "[396026 rows x 36 columns]>\n",
      "<bound method NDFrame.head of         SN Hauteur (t)  SN Hauteur (t+1)  SN Hauteur (t+2)  SN Hauteur (t+3)  \\\n",
      "36                2.49              2.45              2.40              2.37   \n",
      "37                2.45              2.40              2.37              2.33   \n",
      "38                2.40              2.37              2.33              2.30   \n",
      "39                2.37              2.33              2.30              2.26   \n",
      "40                2.33              2.30              2.26              2.24   \n",
      "...                ...               ...               ...               ...   \n",
      "418592            5.34              5.27              5.22              5.16   \n",
      "418593            5.27              5.22              5.16              5.09   \n",
      "418594            5.22              5.16              5.09              5.03   \n",
      "418595            5.16              5.09              5.03              4.96   \n",
      "418596            5.09              5.03              4.96              4.88   \n",
      "\n",
      "        SN Hauteur (t+4)  SN Hauteur (t+5)  \n",
      "36                  2.33              2.30  \n",
      "37                  2.30              2.26  \n",
      "38                  2.26              2.24  \n",
      "39                  2.24              2.22  \n",
      "40                  2.22              2.19  \n",
      "...                  ...               ...  \n",
      "418592              5.09              5.03  \n",
      "418593              5.03              4.96  \n",
      "418594              4.96              4.88  \n",
      "418595              4.88              4.81  \n",
      "418596              4.81              4.75  \n",
      "\n",
      "[396026 rows x 6 columns]>\n",
      "Index(['SN Hauteur (t-36)', 'SN Hauteur (t-35)', 'SN Hauteur (t-34)',\n",
      "       'SN Hauteur (t-33)', 'SN Hauteur (t-32)', 'SN Hauteur (t-31)',\n",
      "       'SN Hauteur (t-30)', 'SN Hauteur (t-29)', 'SN Hauteur (t-28)',\n",
      "       'SN Hauteur (t-27)', 'SN Hauteur (t-26)', 'SN Hauteur (t-25)',\n",
      "       'SN Hauteur (t-24)', 'SN Hauteur (t-23)', 'SN Hauteur (t-22)',\n",
      "       'SN Hauteur (t-21)', 'SN Hauteur (t-20)', 'SN Hauteur (t-19)',\n",
      "       'SN Hauteur (t-18)', 'SN Hauteur (t-17)', 'SN Hauteur (t-16)',\n",
      "       'SN Hauteur (t-15)', 'SN Hauteur (t-14)', 'SN Hauteur (t-13)',\n",
      "       'SN Hauteur (t-12)', 'SN Hauteur (t-11)', 'SN Hauteur (t-10)',\n",
      "       'SN Hauteur (t-9)', 'SN Hauteur (t-8)', 'SN Hauteur (t-7)',\n",
      "       'SN Hauteur (t-6)', 'SN Hauteur (t-5)', 'SN Hauteur (t-4)',\n",
      "       'SN Hauteur (t-3)', 'SN Hauteur (t-2)', 'SN Hauteur (t-1)'],\n",
      "      dtype='object') Index(['SN Hauteur (t)', 'SN Hauteur (t+1)', 'SN Hauteur (t+2)',\n",
      "       'SN Hauteur (t+3)', 'SN Hauteur (t+4)', 'SN Hauteur (t+5)'],\n",
      "      dtype='object')\n"
     ]
    }
   ],
   "source": [
    "print(X.head)\n",
    "print(Y.head)\n",
    "\n",
    "print(X.columns, Y.columns)\n",
    "\n",
    "X_datas = X.values\n",
    "X_datas = X_datas.reshape((X.shape[0], input_length, Nb_features), order = 'F')\n",
    "Y_datas = Y.values\n",
    "Y_datas = Y_datas.reshape((Y.shape[0], output_length, Nb_labels), order ='F')"
   ]
  },
  {
   "cell_type": "code",
   "execution_count": 41,
   "id": "58d35f66",
   "metadata": {},
   "outputs": [
    {
     "data": {
      "text/plain": [
       "array([[[3.96],\n",
       "        [3.94],\n",
       "        [3.93],\n",
       "        ...,\n",
       "        [2.62],\n",
       "        [2.57],\n",
       "        [2.53]],\n",
       "\n",
       "       [[3.94],\n",
       "        [3.93],\n",
       "        [3.91],\n",
       "        ...,\n",
       "        [2.57],\n",
       "        [2.53],\n",
       "        [2.49]],\n",
       "\n",
       "       [[3.93],\n",
       "        [3.91],\n",
       "        [3.89],\n",
       "        ...,\n",
       "        [2.53],\n",
       "        [2.49],\n",
       "        [2.45]],\n",
       "\n",
       "       ...,\n",
       "\n",
       "       [[4.81],\n",
       "        [4.82],\n",
       "        [4.82],\n",
       "        ...,\n",
       "        [3.81],\n",
       "        [3.74],\n",
       "        [3.66]],\n",
       "\n",
       "       [[4.82],\n",
       "        [4.82],\n",
       "        [4.82],\n",
       "        ...,\n",
       "        [3.74],\n",
       "        [3.66],\n",
       "        [3.6 ]],\n",
       "\n",
       "       [[4.82],\n",
       "        [4.82],\n",
       "        [4.82],\n",
       "        ...,\n",
       "        [3.66],\n",
       "        [3.6 ],\n",
       "        [3.52]]])"
      ]
     },
     "execution_count": 41,
     "metadata": {},
     "output_type": "execute_result"
    }
   ],
   "source": [
    "n = len(X_datas)\n",
    "# Train dataset\n",
    "X_train = X_datas[:int(0.7*n)]\n",
    "Y_train = Y_datas[:int(0.7*n)]\n",
    "\n",
    "# Validation dataset\n",
    "X_val = X_datas[int(0.7*n):int(0.9*n)]\n",
    "Y_val = Y_datas[int(0.7*n):int(0.9*n)]\n",
    "\n",
    "# Test dataset\n",
    "X_test = X_datas[int(0.9*n):]\n",
    "Y_test = Y_datas[int(0.9*n):]\n",
    "\n",
    "X_train"
   ]
  },
  {
   "cell_type": "code",
   "execution_count": 43,
   "id": "df33d84b",
   "metadata": {},
   "outputs": [
    {
     "ename": "TypeError",
     "evalue": "'list' object is not callable",
     "output_type": "error",
     "traceback": [
      "\u001b[0;31m---------------------------------------------------------------------------\u001b[0m",
      "\u001b[0;31mTypeError\u001b[0m                                 Traceback (most recent call last)",
      "Cell \u001b[0;32mIn [43], line 12\u001b[0m\n\u001b[1;32m      8\u001b[0m     \u001b[39mreturn\u001b[39;00m \u001b[39m\"\u001b[39m\u001b[39m%.1f\u001b[39;00m\u001b[39m \u001b[39m\u001b[39m%s\u001b[39;00m\u001b[39m%s\u001b[39;00m\u001b[39m\"\u001b[39m \u001b[39m%\u001b[39m (num, \u001b[39m'\u001b[39m\u001b[39mYi\u001b[39m\u001b[39m'\u001b[39m, suffix)\n\u001b[1;32m     10\u001b[0m \u001b[39mfor\u001b[39;00m name, size \u001b[39min\u001b[39;00m \u001b[39msorted\u001b[39m(((name, sys\u001b[39m.\u001b[39mgetsizeof(value)) \u001b[39mfor\u001b[39;00m name, value \u001b[39min\u001b[39;00m \u001b[39mlocals\u001b[39m()\u001b[39m.\u001b[39mitems()),\n\u001b[1;32m     11\u001b[0m                          key\u001b[39m=\u001b[39m \u001b[39mlambda\u001b[39;00m x: \u001b[39m-\u001b[39mx[\u001b[39m1\u001b[39m])[:\u001b[39m10\u001b[39m]:\n\u001b[0;32m---> 12\u001b[0m     \u001b[39mprint\u001b[39m(\u001b[39m\"\u001b[39m\u001b[39m{:>30}\u001b[39;00m\u001b[39m: \u001b[39m\u001b[39m{:>8}\u001b[39;00m\u001b[39m\"\u001b[39m\u001b[39m.\u001b[39mformat(name, sizeof_fmt(size)))\n",
      "Cell \u001b[0;32mIn [43], line 5\u001b[0m, in \u001b[0;36msizeof_fmt\u001b[0;34m(num, suffix)\u001b[0m\n\u001b[1;32m      3\u001b[0m \u001b[39m''' by Fred Cirera,  https://stackoverflow.com/a/1094933/1870254, modified'''\u001b[39;00m\n\u001b[1;32m      4\u001b[0m \u001b[39mfor\u001b[39;00m unit \u001b[39min\u001b[39;00m [\u001b[39m'\u001b[39m\u001b[39m'\u001b[39m,\u001b[39m'\u001b[39m\u001b[39mKi\u001b[39m\u001b[39m'\u001b[39m,\u001b[39m'\u001b[39m\u001b[39mMi\u001b[39m\u001b[39m'\u001b[39m,\u001b[39m'\u001b[39m\u001b[39mGi\u001b[39m\u001b[39m'\u001b[39m,\u001b[39m'\u001b[39m\u001b[39mTi\u001b[39m\u001b[39m'\u001b[39m,\u001b[39m'\u001b[39m\u001b[39mPi\u001b[39m\u001b[39m'\u001b[39m,\u001b[39m'\u001b[39m\u001b[39mEi\u001b[39m\u001b[39m'\u001b[39m,\u001b[39m'\u001b[39m\u001b[39mZi\u001b[39m\u001b[39m'\u001b[39m]:\n\u001b[0;32m----> 5\u001b[0m     \u001b[39mif\u001b[39;00m \u001b[39mabs\u001b[39;49m(num) \u001b[39m<\u001b[39m \u001b[39m1024.0\u001b[39m:\n\u001b[1;32m      6\u001b[0m         \u001b[39mreturn\u001b[39;00m \u001b[39m\"\u001b[39m\u001b[39m%3.1f\u001b[39;00m\u001b[39m \u001b[39m\u001b[39m%s\u001b[39;00m\u001b[39m%s\u001b[39;00m\u001b[39m\"\u001b[39m \u001b[39m%\u001b[39m (num, unit, suffix)\n\u001b[1;32m      7\u001b[0m     num \u001b[39m/\u001b[39m\u001b[39m=\u001b[39m \u001b[39m1024.0\u001b[39m\n",
      "\u001b[0;31mTypeError\u001b[0m: 'list' object is not callable"
     ]
    }
   ],
   "source": [
    "import sys\n",
    "def sizeof_fmt(num, suffix='B'):\n",
    "    ''' by Fred Cirera,  https://stackoverflow.com/a/1094933/1870254, modified'''\n",
    "    for unit in ['','Ki','Mi','Gi','Ti','Pi','Ei','Zi']:\n",
    "        if abs(num) < 1024.0:\n",
    "            return \"%3.1f %s%s\" % (num, unit, suffix)\n",
    "        num /= 1024.0\n",
    "    return \"%.1f %s%s\" % (num, 'Yi', suffix)\n",
    "\n",
    "for name, size in sorted(((name, sys.getsizeof(value)) for name, value in locals().items()),\n",
    "                         key= lambda x: -x[1])[:10]:\n",
    "    print(\"{:>30}: {:>8}\".format(name, sizeof_fmt(size)))"
   ]
  },
  {
   "cell_type": "markdown",
   "id": "ec545eea",
   "metadata": {},
   "source": [
    "### Création du modèle"
   ]
  },
  {
   "cell_type": "code",
   "execution_count": 44,
   "id": "fc747b90",
   "metadata": {},
   "outputs": [
    {
     "name": "stdout",
     "output_type": "stream",
     "text": [
      "Model: \"sequential_2\"\n",
      "_________________________________________________________________\n",
      " Layer (type)                Output Shape              Param #   \n",
      "=================================================================\n",
      " conv1d_1 (Conv1D)           (None, 34, 32)            128       \n",
      "                                                                 \n",
      " flatten_1 (Flatten)         (None, 1088)              0         \n",
      "                                                                 \n",
      " dense_2 (Dense)             (None, 6)                 6534      \n",
      "                                                                 \n",
      " reshape_2 (Reshape)         (None, 6, 1)              0         \n",
      "                                                                 \n",
      "=================================================================\n",
      "Total params: 6,662\n",
      "Trainable params: 6,662\n",
      "Non-trainable params: 0\n",
      "_________________________________________________________________\n"
     ]
    }
   ],
   "source": [
    "multi_conv_model = tf.keras.Sequential([\n",
    "    # Shape => [batch, 1, conv_units]\n",
    "    tf.keras.layers.Conv1D(32, activation='relu', kernel_size=(3), input_shape = (input_length, Nb_features)),\n",
    "    tf.keras.layers.Flatten(),\n",
    "    # Shape => [batch, 1,  out_steps*features]\n",
    "    tf.keras.layers.Dense(output_length*Nb_labels,\n",
    "                          kernel_initializer=tf.initializers.zeros()),\n",
    "    # Shape => [batch, out_steps, features]\n",
    "    tf.keras.layers.Reshape([output_length, Nb_labels])\n",
    "])\n",
    "multi_conv_model.summary()"
   ]
  },
  {
   "cell_type": "code",
   "execution_count": 45,
   "id": "59c1aefa",
   "metadata": {},
   "outputs": [
    {
     "name": "stdout",
     "output_type": "stream",
     "text": [
      "Model: \"sequential_3\"\n",
      "_________________________________________________________________\n",
      " Layer (type)                Output Shape              Param #   \n",
      "=================================================================\n",
      " lstm_1 (LSTM)               (None, 256)               264192    \n",
      "                                                                 \n",
      " dense_3 (Dense)             (None, 6)                 1542      \n",
      "                                                                 \n",
      " reshape_3 (Reshape)         (None, 6, 1)              0         \n",
      "                                                                 \n",
      "=================================================================\n",
      "Total params: 265,734\n",
      "Trainable params: 265,734\n",
      "Non-trainable params: 0\n",
      "_________________________________________________________________\n"
     ]
    }
   ],
   "source": [
    "multi_lstm_model =  tf.keras.Sequential([\n",
    "    # Shape => [batch, 1, conv_units]\n",
    "    tf.keras.layers.LSTM(256, activation='tanh', input_shape = (input_length, Nb_features)),\n",
    "    #tf.keras.layers.Dropout(0.2),\n",
    "    # Shape => [batch, 1,  out_steps*features]\n",
    "    tf.keras.layers.Dense(output_length*Nb_labels, kernel_initializer=tf.initializers.zeros()),\n",
    "    # Shape => [batch, out_steps, features]\n",
    "    tf.keras.layers.Reshape([output_length, Nb_labels])\n",
    "])\n",
    "multi_lstm_model.summary()"
   ]
  },
  {
   "cell_type": "markdown",
   "id": "75672471",
   "metadata": {},
   "source": [
    "### Compilation"
   ]
  },
  {
   "cell_type": "code",
   "execution_count": 46,
   "id": "bec515fe",
   "metadata": {},
   "outputs": [],
   "source": [
    "early_stopping = tf.keras.callbacks.EarlyStopping(monitor='loss',\n",
    "                                                patience=2,\n",
    "                                                mode='min')\n",
    "\n",
    "\n",
    "multi_lstm_model.compile(loss=tf.losses.MeanSquaredError(),\n",
    "            optimizer=tf.optimizers.Adam(),\n",
    "            metrics=[tf.metrics.MeanAbsoluteError()])\n"
   ]
  },
  {
   "cell_type": "markdown",
   "id": "3103a6f3",
   "metadata": {},
   "source": [
    "### Entrainement"
   ]
  },
  {
   "cell_type": "code",
   "execution_count": 47,
   "id": "855a8be3",
   "metadata": {
    "scrolled": true
   },
   "outputs": [
    {
     "name": "stdout",
     "output_type": "stream",
     "text": [
      "Epoch 1/5\n"
     ]
    },
    {
     "name": "stderr",
     "output_type": "stream",
     "text": [
      "2023-02-16 13:49:43.352268: I tensorflow/core/grappler/optimizers/custom_graph_optimizer_registry.cc:114] Plugin optimizer for device_type GPU is enabled.\n",
      "2023-02-16 13:49:43.590678: I tensorflow/core/grappler/optimizers/custom_graph_optimizer_registry.cc:114] Plugin optimizer for device_type GPU is enabled.\n",
      "2023-02-16 13:49:44.725305: I tensorflow/core/grappler/optimizers/custom_graph_optimizer_registry.cc:114] Plugin optimizer for device_type GPU is enabled.\n"
     ]
    },
    {
     "name": "stdout",
     "output_type": "stream",
     "text": [
      "271/271 [==============================] - ETA: 0s - loss: 2.1224 - mean_absolute_error: 1.0753"
     ]
    },
    {
     "name": "stderr",
     "output_type": "stream",
     "text": [
      "2023-02-16 13:50:47.382088: I tensorflow/core/grappler/optimizers/custom_graph_optimizer_registry.cc:114] Plugin optimizer for device_type GPU is enabled.\n",
      "2023-02-16 13:50:47.475958: I tensorflow/core/grappler/optimizers/custom_graph_optimizer_registry.cc:114] Plugin optimizer for device_type GPU is enabled.\n"
     ]
    },
    {
     "name": "stdout",
     "output_type": "stream",
     "text": [
      "271/271 [==============================] - 72s 258ms/step - loss: 2.1224 - mean_absolute_error: 1.0753 - val_loss: 1.3942 - val_mean_absolute_error: 0.8447\n",
      "Epoch 2/5\n",
      "271/271 [==============================] - 66s 242ms/step - loss: 0.3462 - mean_absolute_error: 0.2426 - val_loss: 1.1578 - val_mean_absolute_error: 0.8047\n",
      "Epoch 3/5\n",
      "271/271 [==============================] - 63s 232ms/step - loss: 0.2741 - mean_absolute_error: 0.1271 - val_loss: 0.9198 - val_mean_absolute_error: 0.6614\n",
      "Epoch 4/5\n",
      "271/271 [==============================] - 65s 240ms/step - loss: 0.2614 - mean_absolute_error: 0.0946 - val_loss: 0.8078 - val_mean_absolute_error: 0.5768\n",
      "Epoch 5/5\n",
      "271/271 [==============================] - 70s 258ms/step - loss: 0.2569 - mean_absolute_error: 0.0838 - val_loss: 0.7848 - val_mean_absolute_error: 0.5575\n"
     ]
    }
   ],
   "source": [
    "MAX_EPOCHS = 5\n",
    "history = multi_lstm_model.fit(X_train, Y_train, epochs=MAX_EPOCHS, callbacks=[early_stopping], batch_size = 1024, validation_data=(X_val, Y_val))"
   ]
  },
  {
   "cell_type": "code",
   "execution_count": 48,
   "id": "8edd5f02",
   "metadata": {},
   "outputs": [
    {
     "data": {
      "image/png": "[encoded data removed]",
      "text/plain": [
       "<Figure size 640x480 with 1 Axes>"
      ]
     },
     "metadata": {},
     "output_type": "display_data"
    }
   ],
   "source": [
    "plt.plot(history.history[\"loss\"], label = \"Loss\")\n",
    "plt.plot(history.history[\"val_loss\"], label = \"Validation loss\")\n",
    "\n",
    "plt.legend()\n",
    "plt.show()"
   ]
  },
  {
   "cell_type": "code",
   "execution_count": 49,
   "id": "22ab4eeb",
   "metadata": {},
   "outputs": [],
   "source": [
    "multi_lstm_model.save(\"models/MultiLSTM\", save_format=\"h5\")"
   ]
  },
  {
   "cell_type": "code",
   "execution_count": 50,
   "id": "8732cb49",
   "metadata": {},
   "outputs": [
    {
     "name": "stdout",
     "output_type": "stream",
     "text": [
      "1238/1238 [==============================] - 17s 13ms/step - loss: 0.1387 - mean_absolute_error: 0.3522\n"
     ]
    },
    {
     "data": {
      "text/plain": [
       "[0.13868968188762665, 0.3521731197834015]"
      ]
     },
     "execution_count": 50,
     "metadata": {},
     "output_type": "execute_result"
    }
   ],
   "source": [
    "multi_lstm_model.evaluate(X_test, Y_test)"
   ]
  },
  {
   "cell_type": "code",
   "execution_count": 51,
   "id": "94f541dc",
   "metadata": {},
   "outputs": [
    {
     "data": {
      "text/plain": [
       "array([[[3.96],\n",
       "        [3.94],\n",
       "        [3.93],\n",
       "        [3.91],\n",
       "        [3.89],\n",
       "        [3.87],\n",
       "        [3.85],\n",
       "        [3.82],\n",
       "        [3.79],\n",
       "        [3.76],\n",
       "        [3.72],\n",
       "        [3.7 ],\n",
       "        [3.67],\n",
       "        [3.63],\n",
       "        [3.59],\n",
       "        [3.56],\n",
       "        [3.52],\n",
       "        [3.46],\n",
       "        [3.41],\n",
       "        [3.38],\n",
       "        [3.33],\n",
       "        [3.27],\n",
       "        [3.23],\n",
       "        [3.18],\n",
       "        [3.12],\n",
       "        [3.07],\n",
       "        [3.01],\n",
       "        [2.95],\n",
       "        [2.89],\n",
       "        [2.83],\n",
       "        [2.77],\n",
       "        [2.72],\n",
       "        [2.66],\n",
       "        [2.62],\n",
       "        [2.57],\n",
       "        [2.53]]])"
      ]
     },
     "execution_count": 51,
     "metadata": {},
     "output_type": "execute_result"
    }
   ],
   "source": [
    "test = np.array([X_train[0]])\n",
    "real = np.array([Y_train[0]])\n",
    "test"
   ]
  },
  {
   "cell_type": "code",
   "execution_count": 52,
   "id": "a253c128",
   "metadata": {},
   "outputs": [
    {
     "name": "stderr",
     "output_type": "stream",
     "text": [
      "2023-02-16 13:55:36.384236: I tensorflow/core/grappler/optimizers/custom_graph_optimizer_registry.cc:114] Plugin optimizer for device_type GPU is enabled.\n",
      "2023-02-16 13:55:36.465161: I tensorflow/core/grappler/optimizers/custom_graph_optimizer_registry.cc:114] Plugin optimizer for device_type GPU is enabled.\n"
     ]
    },
    {
     "name": "stdout",
     "output_type": "stream",
     "text": [
      "1/1 [==============================] - 0s 492ms/step\n"
     ]
    }
   ],
   "source": [
    "pred = multi_lstm_model.predict(test)"
   ]
  },
  {
   "cell_type": "code",
   "execution_count": 53,
   "id": "b086bd94",
   "metadata": {},
   "outputs": [
    {
     "data": {
      "text/plain": [
       "array([[[1.9925979],\n",
       "        [2.0076718],\n",
       "        [2.0212379],\n",
       "        [2.0519454],\n",
       "        [2.0804424],\n",
       "        [2.1078942]]], dtype=float32)"
      ]
     },
     "execution_count": 53,
     "metadata": {},
     "output_type": "execute_result"
    }
   ],
   "source": [
    "pred"
   ]
  },
  {
   "cell_type": "code",
   "execution_count": 54,
   "id": "99eb080a",
   "metadata": {},
   "outputs": [
    {
     "data": {
      "image/png": "[encoded data removed]",
      "text/plain": [
       "<Figure size 1000x800 with 6 Axes>"
      ]
     },
     "metadata": {},
     "output_type": "display_data"
    }
   ],
   "source": [
    "ports =[\"Saint Nazaire\", \"Montoir\", \"Paimboeuf\", \"Cordemais\", \"Le Pellerin\", \"Nantes - UB\"]\n",
    "abs = [i for i in range(input_length+output_length)]\n",
    "fig, axs = plt.subplots(3,2, figsize = (10,8))\n",
    "axs = axs.reshape([axs.shape[0]*axs.shape[1]])\n",
    "for ax,i in zip(axs,range(pred.shape[2])):\n",
    "    ax.set_title(ports[i])\n",
    "    ax.get_xaxis().set_visible(False)\n",
    "    ax.scatter(abs[:input_length], test[0,:,i], label = \"Previous steps\", marker=\"x\")\n",
    "    ax.scatter(abs[input_length:], pred[0,:,i], label = \"Predicted steps\", marker=\"x\")\n",
    "    ax.scatter(abs[input_length:], real[0,:,i], label = \"Real steps\", marker=\"x\")\n",
    "\n",
    "handles, labels = ax.get_legend_handles_labels()\n",
    "\n",
    "# plt.subplot(2,1,1)\n",
    "# plt.plot()\n",
    "\n",
    "\n",
    "fig.legend(handles, labels, loc='upper center')\n",
    "plt.show()\n",
    "fig.savefig(\"Predictions2.png\")"
   ]
  },
  {
   "cell_type": "code",
   "execution_count": null,
   "id": "1a4f5912",
   "metadata": {},
   "outputs": [],
   "source": []
  }
 ],
 "metadata": {
  "kernelspec": {
   "display_name": "IA",
   "language": "python",
   "name": "python3"
  },
  "language_info": {
   "codemirror_mode": {
    "name": "ipython",
    "version": 3
   },
   "file_extension": ".py",
   "mimetype": "text/x-python",
   "name": "python",
   "nbconvert_exporter": "python",
   "pygments_lexer": "ipython3",
   "version": "3.10.6"
  },
  "vscode": {
   "interpreter": {
    "hash": "87fc21197254558951455343ce704bc14f1a5282bb938462d86fd102e291cdae"
   }
  }
 },
 "nbformat": 4,
 "nbformat_minor": 5
}
