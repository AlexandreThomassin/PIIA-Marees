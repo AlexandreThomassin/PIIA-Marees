{
 "cells": [
  {
   "cell_type": "code",
   "execution_count": 1,
   "id": "8a425900",
   "metadata": {},
   "outputs": [
    {
     "name": "stderr",
     "output_type": "stream",
     "text": [
      "2023-02-15 17:50:38.228484: I tensorflow/core/platform/cpu_feature_guard.cc:193] This TensorFlow binary is optimized with oneAPI Deep Neural Network Library (oneDNN) to use the following CPU instructions in performance-critical operations:  AVX2 FMA\n",
      "To enable them in other operations, rebuild TensorFlow with the appropriate compiler flags.\n",
      "2023-02-15 17:50:40.345364: W tensorflow/compiler/xla/stream_executor/platform/default/dso_loader.cc:64] Could not load dynamic library 'libnvinfer.so.7'; dlerror: libnvinfer.so.7: cannot open shared object file: No such file or directory; LD_LIBRARY_PATH: /usr/lib/cuda-11.7/lib64:\n",
      "2023-02-15 17:50:40.348321: W tensorflow/compiler/xla/stream_executor/platform/default/dso_loader.cc:64] Could not load dynamic library 'libnvinfer_plugin.so.7'; dlerror: libnvinfer_plugin.so.7: cannot open shared object file: No such file or directory; LD_LIBRARY_PATH: /usr/lib/cuda-11.7/lib64:\n",
      "2023-02-15 17:50:40.348339: W tensorflow/compiler/tf2tensorrt/utils/py_utils.cc:38] TF-TRT Warning: Cannot dlopen some TensorRT libraries. If you would like to use Nvidia GPU with TensorRT, please make sure the missing libraries mentioned above are installed properly.\n"
     ]
    }
   ],
   "source": [
    "import numba\n",
    "import pandas as pd\n",
    "from matplotlib import pyplot as plt\n",
    "import numpy as np\n",
    "import tensorflow as tf\n",
    "import IPython\n",
    "import IPython.display"
   ]
  },
  {
   "cell_type": "markdown",
   "id": "2b437457",
   "metadata": {},
   "source": [
    "## Récupération des données"
   ]
  },
  {
   "cell_type": "code",
   "execution_count": 2,
   "id": "c8200c8e",
   "metadata": {},
   "outputs": [
    {
     "name": "stdout",
     "output_type": "stream",
     "text": [
      "                       Date  SN Hauteur (t-24)  SN Hauteur (t-23)  \\\n",
      "24      2012-01-01 02:00:00               3.96               3.94   \n",
      "25      2012-01-01 02:05:00               3.94               3.93   \n",
      "26      2012-01-01 02:10:00               3.93               3.91   \n",
      "27      2012-01-01 02:15:00               3.91               3.89   \n",
      "28      2012-01-01 02:20:00               3.89               3.87   \n",
      "...                     ...                ...                ...   \n",
      "217994  2014-01-27 01:40:00               4.77               4.82   \n",
      "217995  2014-01-27 01:45:00               4.82               4.84   \n",
      "217996  2014-01-27 01:50:00               4.84               4.87   \n",
      "217997  2014-01-27 01:55:00               4.87               4.88   \n",
      "217998  2014-01-27 02:00:00               4.88               4.89   \n",
      "\n",
      "        SN Hauteur (t-22)  SN Hauteur (t-21)  SN Hauteur (t-20)  \\\n",
      "24                   3.93               3.91               3.89   \n",
      "25                   3.91               3.89               3.87   \n",
      "26                   3.89               3.87               3.85   \n",
      "27                   3.87               3.85               3.82   \n",
      "28                   3.85               3.82               3.79   \n",
      "...                   ...                ...                ...   \n",
      "217994               4.84               4.87               4.88   \n",
      "217995               4.87               4.88               4.89   \n",
      "217996               4.88               4.89               4.92   \n",
      "217997               4.89               4.92               4.91   \n",
      "217998               4.92               4.91               4.92   \n",
      "\n",
      "        SN Hauteur (t-19)  SN Hauteur (t-18)  SN Hauteur (t-17)  \\\n",
      "24                   3.87               3.85               3.82   \n",
      "25                   3.85               3.82               3.79   \n",
      "26                   3.82               3.79               3.76   \n",
      "27                   3.79               3.76               3.72   \n",
      "28                   3.76               3.72               3.70   \n",
      "...                   ...                ...                ...   \n",
      "217994               4.89               4.92               4.91   \n",
      "217995               4.92               4.91               4.92   \n",
      "217996               4.91               4.92               4.96   \n",
      "217997               4.92               4.96               4.97   \n",
      "217998               4.96               4.97               4.98   \n",
      "\n",
      "        SN Hauteur (t-16)  ...  Nantes Patm (t-10)  Nantes Patm (t-9)  \\\n",
      "24                   3.79  ...              1018.1             1017.9   \n",
      "25                   3.76  ...              1017.9             1018.2   \n",
      "26                   3.72  ...              1018.2             1018.2   \n",
      "27                   3.70  ...              1018.2             1018.5   \n",
      "28                   3.67  ...              1018.5             1018.0   \n",
      "...                   ...  ...                 ...                ...   \n",
      "217994               4.92  ...              1004.9             1004.9   \n",
      "217995               4.96  ...              1004.9             1004.4   \n",
      "217996               4.97  ...              1004.4             1005.3   \n",
      "217997               4.98  ...              1005.3             1004.2   \n",
      "217998               4.98  ...              1004.2             1004.1   \n",
      "\n",
      "        Nantes Patm (t-8)  Nantes Patm (t-7)  Nantes Patm (t-6)  \\\n",
      "24                 1018.2             1018.2             1018.5   \n",
      "25                 1018.2             1018.5             1018.0   \n",
      "26                 1018.5             1018.0             1017.6   \n",
      "27                 1018.0             1017.6             1017.7   \n",
      "28                 1017.6             1017.7             1018.0   \n",
      "...                   ...                ...                ...   \n",
      "217994             1004.4             1005.3             1004.2   \n",
      "217995             1005.3             1004.2             1004.1   \n",
      "217996             1004.2             1004.1             1004.9   \n",
      "217997             1004.1             1004.9             1005.1   \n",
      "217998             1004.9             1005.1             1005.1   \n",
      "\n",
      "        Nantes Patm (t-5)  Nantes Patm (t-4)  Nantes Patm (t-3)  \\\n",
      "24                 1018.0             1017.6             1017.7   \n",
      "25                 1017.6             1017.7             1018.0   \n",
      "26                 1017.7             1018.0             1017.7   \n",
      "27                 1018.0             1017.7             1017.5   \n",
      "28                 1017.7             1017.5             1017.5   \n",
      "...                   ...                ...                ...   \n",
      "217994             1004.1             1004.9             1005.1   \n",
      "217995             1004.9             1005.1             1005.1   \n",
      "217996             1005.1             1005.1             1004.6   \n",
      "217997             1005.1             1004.6             1004.7   \n",
      "217998             1004.6             1004.7             1004.3   \n",
      "\n",
      "        Nantes Patm (t-2)  Nantes Patm (t-1)  \n",
      "24                 1018.0             1017.7  \n",
      "25                 1017.7             1017.5  \n",
      "26                 1017.5             1017.5  \n",
      "27                 1017.5             1017.7  \n",
      "28                 1017.7             1018.1  \n",
      "...                   ...                ...  \n",
      "217994             1005.1             1004.6  \n",
      "217995             1004.6             1004.7  \n",
      "217996             1004.7             1004.3  \n",
      "217997             1004.3             1004.5  \n",
      "217998             1004.5             1004.3  \n",
      "\n",
      "[198007 rows x 217 columns]\n"
     ]
    },
    {
     "data": {
      "text/plain": [
       "24        2012-01-01 02:00:00\n",
       "25        2012-01-01 02:05:00\n",
       "26        2012-01-01 02:10:00\n",
       "27        2012-01-01 02:15:00\n",
       "28        2012-01-01 02:20:00\n",
       "                 ...         \n",
       "217994    2014-01-27 01:40:00\n",
       "217995    2014-01-27 01:45:00\n",
       "217996    2014-01-27 01:50:00\n",
       "217997    2014-01-27 01:55:00\n",
       "217998    2014-01-27 02:00:00\n",
       "Name: Date, Length: 198007, dtype: object"
      ]
     },
     "execution_count": 2,
     "metadata": {},
     "output_type": "execute_result"
    }
   ],
   "source": [
    "columns = [\"Date\", \"Heure\", \"SG Hauteur\", \"SG Ectype\", \"SG Q\", \"SN Hauteur\", \"SN Ectype\", \"SN Q\",\n",
    "          \"Montoir Hauteur\", \"Montoir Ectype\", \"Montoir Q\", \"Paimboeuf Hauteur\", \"Paimboeuf Ectype\", \"Paimboeuf Q\",\n",
    "          \"Cordemais Hauteur\", \"Cordemais Ectype\", \"Cordemais Q\", \"LP Hauteur\", \"LP Ectype\", \"LP Q\",\n",
    "          \"NUB Hauteur\", \"NUB Ectype\", \"NUB Q\", \"NSAL Hauteur\", \"NSAL Ectype\", \"NSAL Q\", \"SG Patm\", \"Nantes Patm\"]\n",
    "\n",
    "chunks = pd.read_csv(\"Datas/X_tides.csv\", index_col=0, chunksize = 1e6, iterator = True, low_memory = False)\n",
    "X = pd.DataFrame()\n",
    "for chunk in chunks:\n",
    "    X = pd.concat((X,chunk))\n",
    "\n",
    "print(X)\n",
    "X.pop('Date')"
   ]
  },
  {
   "cell_type": "code",
   "execution_count": 3,
   "id": "d6535043",
   "metadata": {},
   "outputs": [
    {
     "name": "stdout",
     "output_type": "stream",
     "text": [
      "                       Date  SN Hauteur (t)  SN Hauteur (t+1)  \\\n",
      "24      2012-01-01 02:00:00            3.12              3.07   \n",
      "25      2012-01-01 02:05:00            3.07              3.01   \n",
      "26      2012-01-01 02:10:00            3.01              2.95   \n",
      "27      2012-01-01 02:15:00            2.95              2.89   \n",
      "28      2012-01-01 02:20:00            2.89              2.83   \n",
      "...                     ...             ...               ...   \n",
      "217994  2014-01-27 01:40:00            5.09              5.08   \n",
      "217995  2014-01-27 01:45:00            5.08              5.07   \n",
      "217996  2014-01-27 01:50:00            5.07              5.06   \n",
      "217997  2014-01-27 01:55:00            5.06              5.06   \n",
      "217998  2014-01-27 02:00:00            5.06              5.07   \n",
      "\n",
      "        SN Hauteur (t+2)  Montoir Hauteur (t)  Montoir Hauteur (t+1)  \\\n",
      "24                  3.01                 3.37                   3.32   \n",
      "25                  2.95                 3.32                   3.27   \n",
      "26                  2.89                 3.27                   3.22   \n",
      "27                  2.83                 3.22                   3.16   \n",
      "28                  2.77                 3.16                   3.10   \n",
      "...                  ...                  ...                    ...   \n",
      "217994              5.07                 5.25                   5.25   \n",
      "217995              5.06                 5.25                   5.22   \n",
      "217996              5.06                 5.22                   5.19   \n",
      "217997              5.07                 5.19                   5.17   \n",
      "217998              5.07                 5.17                   5.14   \n",
      "\n",
      "        Montoir Hauteur (t+2)  Paimboeuf Hauteur (t)  Paimboeuf Hauteur (t+1)  \\\n",
      "24                       3.27                   3.48                     3.43   \n",
      "25                       3.22                   3.43                     3.37   \n",
      "26                       3.16                   3.37                     3.32   \n",
      "27                       3.10                   3.32                     3.27   \n",
      "28                       3.03                   3.27                     3.21   \n",
      "...                       ...                    ...                      ...   \n",
      "217994                   5.22                   5.28                     5.31   \n",
      "217995                   5.19                   5.31                     5.33   \n",
      "217996                   5.17                   5.33                     5.32   \n",
      "217997                   5.14                   5.32                     5.30   \n",
      "217998                   5.11                   5.30                     5.27   \n",
      "\n",
      "        Paimboeuf Hauteur (t+2)  ...  Cordemais Hauteur (t+2)  LP Hauteur (t)  \\\n",
      "24                         3.37  ...                     3.53            3.87   \n",
      "25                         3.32  ...                     3.49            3.84   \n",
      "26                         3.27  ...                     3.42            3.81   \n",
      "27                         3.21  ...                     3.37            3.78   \n",
      "28                         3.16  ...                     3.31            3.75   \n",
      "...                         ...  ...                      ...             ...   \n",
      "217994                     5.33  ...                     5.32            5.41   \n",
      "217995                     5.32  ...                     5.34            5.40   \n",
      "217996                     5.30  ...                     5.37            5.38   \n",
      "217997                     5.27  ...                     5.39            5.36   \n",
      "217998                     5.24  ...                     5.38            5.36   \n",
      "\n",
      "        LP Hauteur (t+1)  LP Hauteur (t+2)  NUB Hauteur (t)  \\\n",
      "24                  3.84              3.81             4.05   \n",
      "25                  3.81              3.78             4.03   \n",
      "26                  3.78              3.75             4.02   \n",
      "27                  3.75              3.72             4.00   \n",
      "28                  3.72              3.68             3.98   \n",
      "...                  ...               ...              ...   \n",
      "217994              5.40              5.38             5.69   \n",
      "217995              5.38              5.36             5.69   \n",
      "217996              5.36              5.36             5.68   \n",
      "217997              5.36              5.37             5.68   \n",
      "217998              5.37              5.43             5.69   \n",
      "\n",
      "        NUB Hauteur (t+1)  NUB Hauteur (t+2)  NSAL Hauteur (t)  \\\n",
      "24                   4.03               4.02              4.14   \n",
      "25                   4.02               4.00              4.12   \n",
      "26                   4.00               3.98              4.12   \n",
      "27                   3.98               3.96              4.10   \n",
      "28                   3.96               3.93              4.09   \n",
      "...                   ...                ...               ...   \n",
      "217994               5.69               5.68              5.85   \n",
      "217995               5.68               5.68              5.85   \n",
      "217996               5.68               5.69              5.86   \n",
      "217997               5.69               5.68              5.87   \n",
      "217998               5.68               5.68              5.86   \n",
      "\n",
      "        NSAL Hauteur (t+1)  NSAL Hauteur (t+2)  \n",
      "24                    4.12                4.12  \n",
      "25                    4.12                4.10  \n",
      "26                    4.10                4.09  \n",
      "27                    4.09                4.07  \n",
      "28                    4.07                4.05  \n",
      "...                    ...                 ...  \n",
      "217994                5.85                5.86  \n",
      "217995                5.86                5.87  \n",
      "217996                5.87                5.86  \n",
      "217997                5.86                5.87  \n",
      "217998                5.87                5.88  \n",
      "\n",
      "[198007 rows x 22 columns]\n"
     ]
    },
    {
     "data": {
      "text/plain": [
       "24        2012-01-01 02:00:00\n",
       "25        2012-01-01 02:05:00\n",
       "26        2012-01-01 02:10:00\n",
       "27        2012-01-01 02:15:00\n",
       "28        2012-01-01 02:20:00\n",
       "                 ...         \n",
       "217994    2014-01-27 01:40:00\n",
       "217995    2014-01-27 01:45:00\n",
       "217996    2014-01-27 01:50:00\n",
       "217997    2014-01-27 01:55:00\n",
       "217998    2014-01-27 02:00:00\n",
       "Name: Date, Length: 198007, dtype: object"
      ]
     },
     "execution_count": 3,
     "metadata": {},
     "output_type": "execute_result"
    }
   ],
   "source": [
    "chunks = pd.read_csv(\"Datas/Y_tides.csv\", index_col=0, chunksize = 1e6, iterator = True, low_memory = False)\n",
    "Y = pd.DataFrame()\n",
    "for chunk in chunks:\n",
    "    Y = pd.concat((Y,chunk))\n",
    "\n",
    "print(Y)\n",
    "Y.pop('Date')"
   ]
  },
  {
   "cell_type": "markdown",
   "id": "72098433",
   "metadata": {},
   "source": [
    "### Longueur d'entrée et de sortie"
   ]
  },
  {
   "cell_type": "code",
   "execution_count": 4,
   "id": "2635e9b9",
   "metadata": {},
   "outputs": [],
   "source": [
    "# Ces longueurs sont définies par les fichiers .csv\n",
    "input_length = 24\n",
    "output_length = 3"
   ]
  },
  {
   "attachments": {},
   "cell_type": "markdown",
   "id": "424944fb",
   "metadata": {},
   "source": [
    "### Réorganisation des données"
   ]
  },
  {
   "cell_type": "code",
   "execution_count": 5,
   "id": "abeaa61f",
   "metadata": {},
   "outputs": [
    {
     "name": "stdout",
     "output_type": "stream",
     "text": [
      "Number of features : 9\n",
      "Number of Label : 7\n"
     ]
    }
   ],
   "source": [
    "# Input features\n",
    "Nb_features = int(X.shape[1]/input_length)\n",
    "print(f\"Number of features : {Nb_features}\")\n",
    "\n",
    "Nb_labels = int(Y.shape[1]/output_length)\n",
    "print(f\"Number of Label : {Nb_labels}\")"
   ]
  },
  {
   "cell_type": "code",
   "execution_count": 6,
   "id": "fc4a8211",
   "metadata": {},
   "outputs": [
    {
     "name": "stdout",
     "output_type": "stream",
     "text": [
      "<bound method NDFrame.head of         SN Hauteur (t-24)  SN Hauteur (t-23)  SN Hauteur (t-22)  \\\n",
      "24                   3.96               3.94               3.93   \n",
      "25                   3.94               3.93               3.91   \n",
      "26                   3.93               3.91               3.89   \n",
      "27                   3.91               3.89               3.87   \n",
      "28                   3.89               3.87               3.85   \n",
      "...                   ...                ...                ...   \n",
      "217994               4.77               4.82               4.84   \n",
      "217995               4.82               4.84               4.87   \n",
      "217996               4.84               4.87               4.88   \n",
      "217997               4.87               4.88               4.89   \n",
      "217998               4.88               4.89               4.92   \n",
      "\n",
      "        SN Hauteur (t-21)  SN Hauteur (t-20)  SN Hauteur (t-19)  \\\n",
      "24                   3.91               3.89               3.87   \n",
      "25                   3.89               3.87               3.85   \n",
      "26                   3.87               3.85               3.82   \n",
      "27                   3.85               3.82               3.79   \n",
      "28                   3.82               3.79               3.76   \n",
      "...                   ...                ...                ...   \n",
      "217994               4.87               4.88               4.89   \n",
      "217995               4.88               4.89               4.92   \n",
      "217996               4.89               4.92               4.91   \n",
      "217997               4.92               4.91               4.92   \n",
      "217998               4.91               4.92               4.96   \n",
      "\n",
      "        SN Hauteur (t-18)  SN Hauteur (t-17)  SN Hauteur (t-16)  \\\n",
      "24                   3.85               3.82               3.79   \n",
      "25                   3.82               3.79               3.76   \n",
      "26                   3.79               3.76               3.72   \n",
      "27                   3.76               3.72               3.70   \n",
      "28                   3.72               3.70               3.67   \n",
      "...                   ...                ...                ...   \n",
      "217994               4.92               4.91               4.92   \n",
      "217995               4.91               4.92               4.96   \n",
      "217996               4.92               4.96               4.97   \n",
      "217997               4.96               4.97               4.98   \n",
      "217998               4.97               4.98               4.98   \n",
      "\n",
      "        SN Hauteur (t-15)  ...  Nantes Patm (t-10)  Nantes Patm (t-9)  \\\n",
      "24                   3.76  ...              1018.1             1017.9   \n",
      "25                   3.72  ...              1017.9             1018.2   \n",
      "26                   3.70  ...              1018.2             1018.2   \n",
      "27                   3.67  ...              1018.2             1018.5   \n",
      "28                   3.63  ...              1018.5             1018.0   \n",
      "...                   ...  ...                 ...                ...   \n",
      "217994               4.96  ...              1004.9             1004.9   \n",
      "217995               4.97  ...              1004.9             1004.4   \n",
      "217996               4.98  ...              1004.4             1005.3   \n",
      "217997               4.98  ...              1005.3             1004.2   \n",
      "217998               5.03  ...              1004.2             1004.1   \n",
      "\n",
      "        Nantes Patm (t-8)  Nantes Patm (t-7)  Nantes Patm (t-6)  \\\n",
      "24                 1018.2             1018.2             1018.5   \n",
      "25                 1018.2             1018.5             1018.0   \n",
      "26                 1018.5             1018.0             1017.6   \n",
      "27                 1018.0             1017.6             1017.7   \n",
      "28                 1017.6             1017.7             1018.0   \n",
      "...                   ...                ...                ...   \n",
      "217994             1004.4             1005.3             1004.2   \n",
      "217995             1005.3             1004.2             1004.1   \n",
      "217996             1004.2             1004.1             1004.9   \n",
      "217997             1004.1             1004.9             1005.1   \n",
      "217998             1004.9             1005.1             1005.1   \n",
      "\n",
      "        Nantes Patm (t-5)  Nantes Patm (t-4)  Nantes Patm (t-3)  \\\n",
      "24                 1018.0             1017.6             1017.7   \n",
      "25                 1017.6             1017.7             1018.0   \n",
      "26                 1017.7             1018.0             1017.7   \n",
      "27                 1018.0             1017.7             1017.5   \n",
      "28                 1017.7             1017.5             1017.5   \n",
      "...                   ...                ...                ...   \n",
      "217994             1004.1             1004.9             1005.1   \n",
      "217995             1004.9             1005.1             1005.1   \n",
      "217996             1005.1             1005.1             1004.6   \n",
      "217997             1005.1             1004.6             1004.7   \n",
      "217998             1004.6             1004.7             1004.3   \n",
      "\n",
      "        Nantes Patm (t-2)  Nantes Patm (t-1)  \n",
      "24                 1018.0             1017.7  \n",
      "25                 1017.7             1017.5  \n",
      "26                 1017.5             1017.5  \n",
      "27                 1017.5             1017.7  \n",
      "28                 1017.7             1018.1  \n",
      "...                   ...                ...  \n",
      "217994             1005.1             1004.6  \n",
      "217995             1004.6             1004.7  \n",
      "217996             1004.7             1004.3  \n",
      "217997             1004.3             1004.5  \n",
      "217998             1004.5             1004.3  \n",
      "\n",
      "[198007 rows x 216 columns]>\n",
      "<bound method NDFrame.head of         SN Hauteur (t)  SN Hauteur (t+1)  SN Hauteur (t+2)  \\\n",
      "24                3.12              3.07              3.01   \n",
      "25                3.07              3.01              2.95   \n",
      "26                3.01              2.95              2.89   \n",
      "27                2.95              2.89              2.83   \n",
      "28                2.89              2.83              2.77   \n",
      "...                ...               ...               ...   \n",
      "217994            5.09              5.08              5.07   \n",
      "217995            5.08              5.07              5.06   \n",
      "217996            5.07              5.06              5.06   \n",
      "217997            5.06              5.06              5.07   \n",
      "217998            5.06              5.07              5.07   \n",
      "\n",
      "        Montoir Hauteur (t)  Montoir Hauteur (t+1)  Montoir Hauteur (t+2)  \\\n",
      "24                     3.37                   3.32                   3.27   \n",
      "25                     3.32                   3.27                   3.22   \n",
      "26                     3.27                   3.22                   3.16   \n",
      "27                     3.22                   3.16                   3.10   \n",
      "28                     3.16                   3.10                   3.03   \n",
      "...                     ...                    ...                    ...   \n",
      "217994                 5.25                   5.25                   5.22   \n",
      "217995                 5.25                   5.22                   5.19   \n",
      "217996                 5.22                   5.19                   5.17   \n",
      "217997                 5.19                   5.17                   5.14   \n",
      "217998                 5.17                   5.14                   5.11   \n",
      "\n",
      "        Paimboeuf Hauteur (t)  Paimboeuf Hauteur (t+1)  \\\n",
      "24                       3.48                     3.43   \n",
      "25                       3.43                     3.37   \n",
      "26                       3.37                     3.32   \n",
      "27                       3.32                     3.27   \n",
      "28                       3.27                     3.21   \n",
      "...                       ...                      ...   \n",
      "217994                   5.28                     5.31   \n",
      "217995                   5.31                     5.33   \n",
      "217996                   5.33                     5.32   \n",
      "217997                   5.32                     5.30   \n",
      "217998                   5.30                     5.27   \n",
      "\n",
      "        Paimboeuf Hauteur (t+2)  Cordemais Hauteur (t)  ...  \\\n",
      "24                         3.37                   3.62  ...   \n",
      "25                         3.32                   3.58  ...   \n",
      "26                         3.27                   3.53  ...   \n",
      "27                         3.21                   3.49  ...   \n",
      "28                         3.16                   3.42  ...   \n",
      "...                         ...                    ...  ...   \n",
      "217994                     5.33                   5.23  ...   \n",
      "217995                     5.32                   5.29  ...   \n",
      "217996                     5.30                   5.32  ...   \n",
      "217997                     5.27                   5.34  ...   \n",
      "217998                     5.24                   5.37  ...   \n",
      "\n",
      "        Cordemais Hauteur (t+2)  LP Hauteur (t)  LP Hauteur (t+1)  \\\n",
      "24                         3.53            3.87              3.84   \n",
      "25                         3.49            3.84              3.81   \n",
      "26                         3.42            3.81              3.78   \n",
      "27                         3.37            3.78              3.75   \n",
      "28                         3.31            3.75              3.72   \n",
      "...                         ...             ...               ...   \n",
      "217994                     5.32            5.41              5.40   \n",
      "217995                     5.34            5.40              5.38   \n",
      "217996                     5.37            5.38              5.36   \n",
      "217997                     5.39            5.36              5.36   \n",
      "217998                     5.38            5.36              5.37   \n",
      "\n",
      "        LP Hauteur (t+2)  NUB Hauteur (t)  NUB Hauteur (t+1)  \\\n",
      "24                  3.81             4.05               4.03   \n",
      "25                  3.78             4.03               4.02   \n",
      "26                  3.75             4.02               4.00   \n",
      "27                  3.72             4.00               3.98   \n",
      "28                  3.68             3.98               3.96   \n",
      "...                  ...              ...                ...   \n",
      "217994              5.38             5.69               5.69   \n",
      "217995              5.36             5.69               5.68   \n",
      "217996              5.36             5.68               5.68   \n",
      "217997              5.37             5.68               5.69   \n",
      "217998              5.43             5.69               5.68   \n",
      "\n",
      "        NUB Hauteur (t+2)  NSAL Hauteur (t)  NSAL Hauteur (t+1)  \\\n",
      "24                   4.02              4.14                4.12   \n",
      "25                   4.00              4.12                4.12   \n",
      "26                   3.98              4.12                4.10   \n",
      "27                   3.96              4.10                4.09   \n",
      "28                   3.93              4.09                4.07   \n",
      "...                   ...               ...                 ...   \n",
      "217994               5.68              5.85                5.85   \n",
      "217995               5.68              5.85                5.86   \n",
      "217996               5.69              5.86                5.87   \n",
      "217997               5.68              5.87                5.86   \n",
      "217998               5.68              5.86                5.87   \n",
      "\n",
      "        NSAL Hauteur (t+2)  \n",
      "24                    4.12  \n",
      "25                    4.10  \n",
      "26                    4.09  \n",
      "27                    4.07  \n",
      "28                    4.05  \n",
      "...                    ...  \n",
      "217994                5.86  \n",
      "217995                5.87  \n",
      "217996                5.86  \n",
      "217997                5.87  \n",
      "217998                5.88  \n",
      "\n",
      "[198007 rows x 21 columns]>\n"
     ]
    }
   ],
   "source": [
    "print(X.head)\n",
    "print(Y.head)\n",
    "\n",
    "X_datas = X.values\n",
    "X_datas = X_datas.reshape((X.shape[0], input_length, Nb_features), order = 'F')\n",
    "Y_datas = Y.values\n",
    "Y_datas = Y_datas.reshape((Y.shape[0], output_length, Nb_labels), order ='F')"
   ]
  },
  {
   "cell_type": "code",
   "execution_count": 7,
   "id": "58d35f66",
   "metadata": {},
   "outputs": [
    {
     "data": {
      "text/plain": [
       "array([[[   3.96,    4.08,    4.09, ...,    4.68, 1017.9 , 1018.8 ],\n",
       "        [   3.94,    4.07,    4.07, ...,    4.64, 1017.4 , 1018.2 ],\n",
       "        [   3.93,    4.05,    4.06, ...,    4.61, 1018.1 , 1018.4 ],\n",
       "        ...,\n",
       "        [   3.27,    3.5 ,    3.63, ...,    4.17, 1017.2 , 1017.7 ],\n",
       "        [   3.23,    3.47,    3.59, ...,    4.16, 1016.7 , 1018.  ],\n",
       "        [   3.18,    3.42,    3.54, ...,    4.15, 1016.8 , 1017.7 ]],\n",
       "\n",
       "       [[   3.94,    4.07,    4.07, ...,    4.64, 1017.4 , 1018.2 ],\n",
       "        [   3.93,    4.05,    4.06, ...,    4.61, 1018.1 , 1018.4 ],\n",
       "        [   3.91,    4.03,    4.03, ...,    4.57, 1017.4 , 1019.  ],\n",
       "        ...,\n",
       "        [   3.23,    3.47,    3.59, ...,    4.16, 1016.7 , 1018.  ],\n",
       "        [   3.18,    3.42,    3.54, ...,    4.15, 1016.8 , 1017.7 ],\n",
       "        [   3.12,    3.37,    3.48, ...,    4.14, 1017.  , 1017.5 ]],\n",
       "\n",
       "       [[   3.93,    4.05,    4.06, ...,    4.61, 1018.1 , 1018.4 ],\n",
       "        [   3.91,    4.03,    4.03, ...,    4.57, 1017.4 , 1019.  ],\n",
       "        [   3.89,    4.02,    4.02, ...,    4.54, 1017.6 , 1019.3 ],\n",
       "        ...,\n",
       "        [   3.18,    3.42,    3.54, ...,    4.15, 1016.8 , 1017.7 ],\n",
       "        [   3.12,    3.37,    3.48, ...,    4.14, 1017.  , 1017.5 ],\n",
       "        [   3.07,    3.32,    3.43, ...,    4.12, 1017.2 , 1017.5 ]],\n",
       "\n",
       "       ...,\n",
       "\n",
       "       [[   4.44,    4.43,    4.46, ...,    5.05, 1017.7 , 1017.3 ],\n",
       "        [   4.45,    4.44,    4.46, ...,    5.02, 1017.1 , 1017.3 ],\n",
       "        [   4.45,    4.45,    4.46, ...,    4.98, 1018.  , 1016.7 ],\n",
       "        ...,\n",
       "        [   4.3 ,    4.38,    4.45, ...,    4.44, 1017.1 , 1015.9 ],\n",
       "        [   4.26,    4.36,    4.43, ...,    4.44, 1016.7 , 1015.5 ],\n",
       "        [   4.23,    4.33,    4.4 , ...,    4.44, 1017.3 , 1016.2 ]],\n",
       "\n",
       "       [[   4.45,    4.44,    4.46, ...,    5.02, 1017.1 , 1017.3 ],\n",
       "        [   4.45,    4.45,    4.46, ...,    4.98, 1018.  , 1016.7 ],\n",
       "        [   4.44,    4.46,    4.47, ...,    4.95, 1017.9 , 1016.7 ],\n",
       "        ...,\n",
       "        [   4.26,    4.36,    4.43, ...,    4.44, 1016.7 , 1015.5 ],\n",
       "        [   4.23,    4.33,    4.4 , ...,    4.44, 1017.3 , 1016.2 ],\n",
       "        [   4.2 ,    4.3 ,    4.37, ...,    4.44, 1016.7 , 1015.4 ]],\n",
       "\n",
       "       [[   4.45,    4.45,    4.46, ...,    4.98, 1018.  , 1016.7 ],\n",
       "        [   4.44,    4.46,    4.47, ...,    4.95, 1017.9 , 1016.7 ],\n",
       "        [   4.44,    4.47,    4.48, ...,    4.91, 1018.6 , 1016.9 ],\n",
       "        ...,\n",
       "        [   4.23,    4.33,    4.4 , ...,    4.44, 1017.3 , 1016.2 ],\n",
       "        [   4.2 ,    4.3 ,    4.37, ...,    4.44, 1016.7 , 1015.4 ],\n",
       "        [   4.16,    4.26,    4.34, ...,    4.44, 1017.1 , 1016.2 ]]])"
      ]
     },
     "execution_count": 7,
     "metadata": {},
     "output_type": "execute_result"
    }
   ],
   "source": [
    "n = len(X_datas)\n",
    "# Train dataset\n",
    "X_train = X_datas[:int(0.7*n)]\n",
    "Y_train = Y_datas[:int(0.7*n)]\n",
    "\n",
    "# Validation dataset\n",
    "X_val = X_datas[int(0.7*n):int(0.9*n)]\n",
    "Y_val = Y_datas[int(0.7*n):int(0.9*n)]\n",
    "\n",
    "# Test dataset\n",
    "X_test = X_datas[int(0.9*n):]\n",
    "Y_test = Y_datas[int(0.9*n):]\n",
    "\n",
    "X_train"
   ]
  },
  {
   "cell_type": "code",
   "execution_count": 8,
   "id": "df33d84b",
   "metadata": {},
   "outputs": [
    {
     "name": "stdout",
     "output_type": "stream",
     "text": [
      "                             X: 327.8 MiB\n",
      "                         chunk: 47.6 MiB\n",
      "                             Y: 33.2 MiB\n",
      "                            __: 15.9 MiB\n",
      "                           ___: 15.9 MiB\n",
      "                            _2: 15.9 MiB\n",
      "                            _3: 15.9 MiB\n",
      "                           _i2:  681.0 B\n",
      "                           _i8:  587.0 B\n",
      "                            _i:  328.0 B\n"
     ]
    }
   ],
   "source": [
    "import sys\n",
    "def sizeof_fmt(num, suffix='B'):\n",
    "    ''' by Fred Cirera,  https://stackoverflow.com/a/1094933/1870254, modified'''\n",
    "    for unit in ['','Ki','Mi','Gi','Ti','Pi','Ei','Zi']:\n",
    "        if abs(num) < 1024.0:\n",
    "            return \"%3.1f %s%s\" % (num, unit, suffix)\n",
    "        num /= 1024.0\n",
    "    return \"%.1f %s%s\" % (num, 'Yi', suffix)\n",
    "\n",
    "for name, size in sorted(((name, sys.getsizeof(value)) for name, value in locals().items()),\n",
    "                         key= lambda x: -x[1])[:10]:\n",
    "    print(\"{:>30}: {:>8}\".format(name, sizeof_fmt(size)))"
   ]
  },
  {
   "cell_type": "markdown",
   "id": "ec545eea",
   "metadata": {},
   "source": [
    "### Création du modèle"
   ]
  },
  {
   "cell_type": "code",
   "execution_count": 10,
   "id": "fc747b90",
   "metadata": {},
   "outputs": [
    {
     "name": "stderr",
     "output_type": "stream",
     "text": [
      "2023-02-15 16:46:14.944526: I tensorflow/compiler/xla/stream_executor/cuda/cuda_gpu_executor.cc:967] could not open file to read NUMA node: /sys/bus/pci/devices/0000:01:00.0/numa_node\n",
      "Your kernel may have been built without NUMA support.\n",
      "2023-02-15 16:46:15.057822: I tensorflow/compiler/xla/stream_executor/cuda/cuda_gpu_executor.cc:967] could not open file to read NUMA node: /sys/bus/pci/devices/0000:01:00.0/numa_node\n",
      "Your kernel may have been built without NUMA support.\n",
      "2023-02-15 16:46:15.058130: I tensorflow/compiler/xla/stream_executor/cuda/cuda_gpu_executor.cc:967] could not open file to read NUMA node: /sys/bus/pci/devices/0000:01:00.0/numa_node\n",
      "Your kernel may have been built without NUMA support.\n",
      "2023-02-15 16:46:15.060030: I tensorflow/core/platform/cpu_feature_guard.cc:193] This TensorFlow binary is optimized with oneAPI Deep Neural Network Library (oneDNN) to use the following CPU instructions in performance-critical operations:  AVX2 FMA\n",
      "To enable them in other operations, rebuild TensorFlow with the appropriate compiler flags.\n",
      "2023-02-15 16:46:15.061343: I tensorflow/compiler/xla/stream_executor/cuda/cuda_gpu_executor.cc:967] could not open file to read NUMA node: /sys/bus/pci/devices/0000:01:00.0/numa_node\n",
      "Your kernel may have been built without NUMA support.\n",
      "2023-02-15 16:46:15.061565: I tensorflow/compiler/xla/stream_executor/cuda/cuda_gpu_executor.cc:967] could not open file to read NUMA node: /sys/bus/pci/devices/0000:01:00.0/numa_node\n",
      "Your kernel may have been built without NUMA support.\n",
      "2023-02-15 16:46:15.061745: I tensorflow/compiler/xla/stream_executor/cuda/cuda_gpu_executor.cc:967] could not open file to read NUMA node: /sys/bus/pci/devices/0000:01:00.0/numa_node\n",
      "Your kernel may have been built without NUMA support.\n",
      "2023-02-15 16:46:17.780119: I tensorflow/compiler/xla/stream_executor/cuda/cuda_gpu_executor.cc:967] could not open file to read NUMA node: /sys/bus/pci/devices/0000:01:00.0/numa_node\n",
      "Your kernel may have been built without NUMA support.\n",
      "2023-02-15 16:46:17.781025: I tensorflow/compiler/xla/stream_executor/cuda/cuda_gpu_executor.cc:967] could not open file to read NUMA node: /sys/bus/pci/devices/0000:01:00.0/numa_node\n",
      "Your kernel may have been built without NUMA support.\n",
      "2023-02-15 16:46:17.781044: I tensorflow/core/common_runtime/gpu/gpu_device.cc:1700] Could not identify NUMA node of platform GPU id 0, defaulting to 0.  Your kernel may not have been built with NUMA support.\n",
      "2023-02-15 16:46:17.781312: I tensorflow/compiler/xla/stream_executor/cuda/cuda_gpu_executor.cc:967] could not open file to read NUMA node: /sys/bus/pci/devices/0000:01:00.0/numa_node\n",
      "Your kernel may have been built without NUMA support.\n",
      "2023-02-15 16:46:17.782004: I tensorflow/core/common_runtime/gpu/gpu_device.cc:1613] Created device /job:localhost/replica:0/task:0/device:GPU:0 with 2081 MB memory:  -> device: 0, name: NVIDIA GeForce GTX 1650, pci bus id: 0000:01:00.0, compute capability: 7.5\n"
     ]
    },
    {
     "name": "stdout",
     "output_type": "stream",
     "text": [
      "Model: \"sequential\"\n",
      "_________________________________________________________________\n",
      " Layer (type)                Output Shape              Param #   \n",
      "=================================================================\n",
      " conv1d (Conv1D)             (None, 10, 32)            800       \n",
      "                                                                 \n",
      " flatten (Flatten)           (None, 320)               0         \n",
      "                                                                 \n",
      " dense (Dense)               (None, 18)                5778      \n",
      "                                                                 \n",
      " reshape (Reshape)           (None, 3, 6)              0         \n",
      "                                                                 \n",
      "=================================================================\n",
      "Total params: 6,578\n",
      "Trainable params: 6,578\n",
      "Non-trainable params: 0\n",
      "_________________________________________________________________\n"
     ]
    }
   ],
   "source": [
    "multi_conv_model = tf.keras.Sequential([\n",
    "    # Shape => [batch, 1, conv_units]\n",
    "    tf.keras.layers.Conv1D(32, activation='relu', kernel_size=(3), input_shape = (input_length, Nb_features)),\n",
    "    tf.keras.layers.Flatten(),\n",
    "    # Shape => [batch, 1,  out_steps*features]\n",
    "    tf.keras.layers.Dense(output_length*Nb_labels,\n",
    "                          kernel_initializer=tf.initializers.zeros()),\n",
    "    # Shape => [batch, out_steps, features]\n",
    "    tf.keras.layers.Reshape([output_length, Nb_labels])\n",
    "])\n",
    "multi_conv_model.summary()"
   ]
  },
  {
   "cell_type": "code",
   "execution_count": 9,
   "id": "59c1aefa",
   "metadata": {},
   "outputs": [
    {
     "name": "stderr",
     "output_type": "stream",
     "text": [
      "2023-02-15 17:51:25.946404: I tensorflow/compiler/xla/stream_executor/cuda/cuda_gpu_executor.cc:967] could not open file to read NUMA node: /sys/bus/pci/devices/0000:01:00.0/numa_node\n",
      "Your kernel may have been built without NUMA support.\n",
      "2023-02-15 17:51:26.057108: I tensorflow/compiler/xla/stream_executor/cuda/cuda_gpu_executor.cc:967] could not open file to read NUMA node: /sys/bus/pci/devices/0000:01:00.0/numa_node\n",
      "Your kernel may have been built without NUMA support.\n",
      "2023-02-15 17:51:26.057424: I tensorflow/compiler/xla/stream_executor/cuda/cuda_gpu_executor.cc:967] could not open file to read NUMA node: /sys/bus/pci/devices/0000:01:00.0/numa_node\n",
      "Your kernel may have been built without NUMA support.\n",
      "2023-02-15 17:51:26.058843: I tensorflow/core/platform/cpu_feature_guard.cc:193] This TensorFlow binary is optimized with oneAPI Deep Neural Network Library (oneDNN) to use the following CPU instructions in performance-critical operations:  AVX2 FMA\n",
      "To enable them in other operations, rebuild TensorFlow with the appropriate compiler flags.\n",
      "2023-02-15 17:51:26.060203: I tensorflow/compiler/xla/stream_executor/cuda/cuda_gpu_executor.cc:967] could not open file to read NUMA node: /sys/bus/pci/devices/0000:01:00.0/numa_node\n",
      "Your kernel may have been built without NUMA support.\n",
      "2023-02-15 17:51:26.060542: I tensorflow/compiler/xla/stream_executor/cuda/cuda_gpu_executor.cc:967] could not open file to read NUMA node: /sys/bus/pci/devices/0000:01:00.0/numa_node\n",
      "Your kernel may have been built without NUMA support.\n",
      "2023-02-15 17:51:26.060813: I tensorflow/compiler/xla/stream_executor/cuda/cuda_gpu_executor.cc:967] could not open file to read NUMA node: /sys/bus/pci/devices/0000:01:00.0/numa_node\n",
      "Your kernel may have been built without NUMA support.\n",
      "2023-02-15 17:51:27.929928: I tensorflow/compiler/xla/stream_executor/cuda/cuda_gpu_executor.cc:967] could not open file to read NUMA node: /sys/bus/pci/devices/0000:01:00.0/numa_node\n",
      "Your kernel may have been built without NUMA support.\n",
      "2023-02-15 17:51:27.930913: I tensorflow/compiler/xla/stream_executor/cuda/cuda_gpu_executor.cc:967] could not open file to read NUMA node: /sys/bus/pci/devices/0000:01:00.0/numa_node\n",
      "Your kernel may have been built without NUMA support.\n",
      "2023-02-15 17:51:27.930930: I tensorflow/core/common_runtime/gpu/gpu_device.cc:1700] Could not identify NUMA node of platform GPU id 0, defaulting to 0.  Your kernel may not have been built with NUMA support.\n",
      "2023-02-15 17:51:27.931231: I tensorflow/compiler/xla/stream_executor/cuda/cuda_gpu_executor.cc:967] could not open file to read NUMA node: /sys/bus/pci/devices/0000:01:00.0/numa_node\n",
      "Your kernel may have been built without NUMA support.\n",
      "2023-02-15 17:51:27.931827: I tensorflow/core/common_runtime/gpu/gpu_device.cc:1613] Created device /job:localhost/replica:0/task:0/device:GPU:0 with 2081 MB memory:  -> device: 0, name: NVIDIA GeForce GTX 1650, pci bus id: 0000:01:00.0, compute capability: 7.5\n"
     ]
    },
    {
     "name": "stdout",
     "output_type": "stream",
     "text": [
      "Model: \"sequential\"\n",
      "_________________________________________________________________\n",
      " Layer (type)                Output Shape              Param #   \n",
      "=================================================================\n",
      " lstm (LSTM)                 (None, 256)               272384    \n",
      "                                                                 \n",
      " dense (Dense)               (None, 21)                5397      \n",
      "                                                                 \n",
      " reshape (Reshape)           (None, 3, 7)              0         \n",
      "                                                                 \n",
      "=================================================================\n",
      "Total params: 277,781\n",
      "Trainable params: 277,781\n",
      "Non-trainable params: 0\n",
      "_________________________________________________________________\n"
     ]
    }
   ],
   "source": [
    "multi_lstm_model =  tf.keras.Sequential([\n",
    "    # Shape => [batch, 1, conv_units]\n",
    "    tf.keras.layers.LSTM(256, activation='tanh', input_shape = (input_length, Nb_features)),\n",
    "    #tf.keras.layers.Dropout(0.2),\n",
    "    # Shape => [batch, 1,  out_steps*features]\n",
    "    tf.keras.layers.Dense(output_length*Nb_labels, kernel_initializer=tf.initializers.zeros()),\n",
    "    # Shape => [batch, out_steps, features]\n",
    "    tf.keras.layers.Reshape([output_length, Nb_labels])\n",
    "])\n",
    "multi_lstm_model.summary()"
   ]
  },
  {
   "cell_type": "markdown",
   "id": "75672471",
   "metadata": {},
   "source": [
    "### Compilation"
   ]
  },
  {
   "cell_type": "code",
   "execution_count": 10,
   "id": "bec515fe",
   "metadata": {},
   "outputs": [],
   "source": [
    "early_stopping = tf.keras.callbacks.EarlyStopping(monitor='loss',\n",
    "                                                patience=2,\n",
    "                                                mode='min')\n",
    "\n",
    "\n",
    "multi_lstm_model.compile(loss=tf.losses.MeanSquaredError(),\n",
    "            optimizer=tf.optimizers.Adam(),\n",
    "            metrics=[tf.metrics.MeanAbsoluteError()])\n"
   ]
  },
  {
   "cell_type": "markdown",
   "id": "3103a6f3",
   "metadata": {},
   "source": [
    "### Entrainement"
   ]
  },
  {
   "cell_type": "code",
   "execution_count": 11,
   "id": "855a8be3",
   "metadata": {
    "scrolled": true
   },
   "outputs": [
    {
     "name": "stderr",
     "output_type": "stream",
     "text": [
      "2023-02-15 17:51:35.494216: W tensorflow/tsl/framework/cpu_allocator_impl.cc:82] Allocation of 119753856 exceeds 10% of free system memory.\n",
      "2023-02-15 17:51:35.945905: W tensorflow/tsl/framework/cpu_allocator_impl.cc:82] Allocation of 119753856 exceeds 10% of free system memory.\n"
     ]
    },
    {
     "name": "stdout",
     "output_type": "stream",
     "text": [
      "Epoch 1/10\n"
     ]
    },
    {
     "name": "stderr",
     "output_type": "stream",
     "text": [
      "2023-02-15 17:51:43.495355: I tensorflow/compiler/xla/stream_executor/cuda/cuda_dnn.cc:428] Loaded cuDNN version 8700\n",
      "2023-02-15 17:51:45.084022: I tensorflow/compiler/xla/service/service.cc:173] XLA service 0x7f399806eda0 initialized for platform CUDA (this does not guarantee that XLA will be used). Devices:\n",
      "2023-02-15 17:51:45.084105: I tensorflow/compiler/xla/service/service.cc:181]   StreamExecutor device (0): NVIDIA GeForce GTX 1650, Compute Capability 7.5\n",
      "2023-02-15 17:51:45.503226: I tensorflow/compiler/mlir/tensorflow/utils/dump_mlir_util.cc:268] disabling MLIR crash reproducer, set env var `MLIR_CRASH_REPRODUCER_DIRECTORY` to enable.\n",
      "2023-02-15 17:51:47.091620: I tensorflow/compiler/jit/xla_compilation_cache.cc:477] Compiled cluster using XLA!  This line is logged at most once for the lifetime of the process.\n"
     ]
    },
    {
     "name": "stdout",
     "output_type": "stream",
     "text": [
      "136/136 [==============================] - 18s 54ms/step - loss: 5.5324 - mean_absolute_error: 1.7028 - val_loss: 3.8687 - val_mean_absolute_error: 1.2820\n",
      "Epoch 2/10\n",
      "136/136 [==============================] - 6s 42ms/step - loss: 2.8864 - mean_absolute_error: 1.1556 - val_loss: 3.6217 - val_mean_absolute_error: 1.1997\n",
      "Epoch 3/10\n",
      "136/136 [==============================] - 6s 41ms/step - loss: 2.6971 - mean_absolute_error: 1.0857 - val_loss: 3.4522 - val_mean_absolute_error: 1.1367\n",
      "Epoch 4/10\n",
      "136/136 [==============================] - 6s 41ms/step - loss: 2.5571 - mean_absolute_error: 1.0300 - val_loss: 3.3183 - val_mean_absolute_error: 1.0844\n",
      "Epoch 5/10\n",
      "136/136 [==============================] - 6s 42ms/step - loss: 2.4388 - mean_absolute_error: 0.9811 - val_loss: 3.1976 - val_mean_absolute_error: 1.0347\n",
      "Epoch 6/10\n",
      "136/136 [==============================] - 6s 42ms/step - loss: 2.3354 - mean_absolute_error: 0.9371 - val_loss: 3.0943 - val_mean_absolute_error: 0.9904\n",
      "Epoch 7/10\n",
      "136/136 [==============================] - 6s 42ms/step - loss: 2.2433 - mean_absolute_error: 0.8964 - val_loss: 2.9964 - val_mean_absolute_error: 0.9523\n",
      "Epoch 8/10\n",
      "136/136 [==============================] - 6s 42ms/step - loss: 2.1607 - mean_absolute_error: 0.8594 - val_loss: 2.9092 - val_mean_absolute_error: 0.9119\n",
      "Epoch 9/10\n",
      "136/136 [==============================] - 6s 42ms/step - loss: 2.0859 - mean_absolute_error: 0.8250 - val_loss: 2.8307 - val_mean_absolute_error: 0.8783\n",
      "Epoch 10/10\n",
      "136/136 [==============================] - 6s 42ms/step - loss: 2.0186 - mean_absolute_error: 0.7934 - val_loss: 2.7563 - val_mean_absolute_error: 0.8456\n"
     ]
    }
   ],
   "source": [
    "MAX_EPOCHS = 10\n",
    "history = multi_lstm_model.fit(X_train, Y_train, epochs=MAX_EPOCHS, callbacks=[early_stopping], batch_size = 1024, validation_data=(X_val, Y_val))"
   ]
  },
  {
   "cell_type": "code",
   "execution_count": 12,
   "id": "8edd5f02",
   "metadata": {},
   "outputs": [
    {
     "data": {
      "image/png": "[encoded data removed]",
      "text/plain": [
       "<Figure size 640x480 with 1 Axes>"
      ]
     },
     "metadata": {},
     "output_type": "display_data"
    }
   ],
   "source": [
    "plt.plot(history.history[\"loss\"], label = \"Loss\")\n",
    "plt.plot(history.history[\"val_loss\"], label = \"Validation loss\")\n",
    "\n",
    "plt.legend()\n",
    "plt.show()"
   ]
  },
  {
   "cell_type": "code",
   "execution_count": 68,
   "id": "22ab4eeb",
   "metadata": {},
   "outputs": [],
   "source": [
    "multi_lstm_model.save(\"models/MultiLSTM\", save_format=\"h5\")"
   ]
  },
  {
   "cell_type": "code",
   "execution_count": 13,
   "id": "8732cb49",
   "metadata": {},
   "outputs": [
    {
     "name": "stdout",
     "output_type": "stream",
     "text": [
      "619/619 [==============================] - 5s 8ms/step - loss: 18.6275 - mean_absolute_error: 0.5878\n"
     ]
    },
    {
     "data": {
      "text/plain": [
       "[18.627513885498047, 0.5877549052238464]"
      ]
     },
     "execution_count": 13,
     "metadata": {},
     "output_type": "execute_result"
    }
   ],
   "source": [
    "multi_lstm_model.evaluate(X_test, Y_test)"
   ]
  },
  {
   "cell_type": "code",
   "execution_count": 20,
   "id": "94f541dc",
   "metadata": {},
   "outputs": [
    {
     "data": {
      "text/plain": [
       "array([[[   3.96,    4.08,    4.09,    4.06,    4.26,    4.53,    4.68,\n",
       "         1017.9 ],\n",
       "        [   3.94,    4.07,    4.07,    4.06,    4.23,    4.5 ,    4.64,\n",
       "         1017.4 ],\n",
       "        [   3.93,    4.05,    4.06,    4.05,    4.22,    4.47,    4.61,\n",
       "         1018.1 ],\n",
       "        [   3.91,    4.03,    4.03,    4.04,    4.19,    4.44,    4.57,\n",
       "         1017.4 ],\n",
       "        [   3.89,    4.02,    4.02,    4.02,    4.18,    4.4 ,    4.54,\n",
       "         1017.6 ],\n",
       "        [   3.87,    4.  ,    4.01,    4.01,    4.16,    4.38,    4.51,\n",
       "         1017.9 ],\n",
       "        [   3.85,    3.98,    3.99,    3.99,    4.15,    4.35,    4.48,\n",
       "         1017.6 ],\n",
       "        [   3.82,    3.98,    3.98,    3.97,    4.14,    4.33,    4.45,\n",
       "         1017.9 ],\n",
       "        [   3.79,    3.96,    3.96,    3.96,    4.13,    4.31,    4.43,\n",
       "         1018.2 ],\n",
       "        [   3.76,    3.93,    3.96,    3.94,    4.12,    4.29,    4.4 ,\n",
       "         1017.5 ],\n",
       "        [   3.72,    3.92,    3.95,    3.93,    4.09,    4.27,    4.38,\n",
       "         1018.  ],\n",
       "        [   3.7 ,    3.89,    3.93,    3.92,    4.08,    4.26,    4.36,\n",
       "         1017.6 ],\n",
       "        [   3.67,    3.86,    3.92,    3.92,    4.06,    4.24,    4.33,\n",
       "         1016.9 ],\n",
       "        [   3.63,    3.83,    3.89,    3.91,    4.04,    4.22,    4.32,\n",
       "         1017.7 ],\n",
       "        [   3.59,    3.81,    3.87,    3.9 ,    4.02,    4.19,    4.3 ,\n",
       "         1016.4 ],\n",
       "        [   3.56,    3.77,    3.84,    3.89,    4.01,    4.17,    4.28,\n",
       "         1017.1 ],\n",
       "        [   3.52,    3.72,    3.81,    3.87,    3.99,    4.16,    4.26,\n",
       "         1017.1 ],\n",
       "        [   3.46,    3.69,    3.77,    3.84,    3.97,    4.14,    4.25,\n",
       "         1017.8 ],\n",
       "        [   3.41,    3.66,    3.74,    3.82,    3.97,    4.12,    4.22,\n",
       "         1018.1 ],\n",
       "        [   3.38,    3.61,    3.7 ,    3.8 ,    3.95,    4.11,    4.2 ,\n",
       "         1016.6 ],\n",
       "        [   3.33,    3.56,    3.67,    3.76,    3.95,    4.09,    4.19,\n",
       "         1016.6 ],\n",
       "        [   3.27,    3.5 ,    3.63,    3.73,    3.94,    4.07,    4.17,\n",
       "         1017.2 ],\n",
       "        [   3.23,    3.47,    3.59,    3.7 ,    3.92,    4.07,    4.16,\n",
       "         1016.7 ],\n",
       "        [   3.18,    3.42,    3.54,    3.66,    3.89,    4.06,    4.15,\n",
       "         1016.8 ]]])"
      ]
     },
     "execution_count": 20,
     "metadata": {},
     "output_type": "execute_result"
    }
   ],
   "source": [
    "test = np.array([X_train[0]])\n",
    "real = np.array([Y_train[0]])\n",
    "test"
   ]
  },
  {
   "cell_type": "code",
   "execution_count": 21,
   "id": "a253c128",
   "metadata": {},
   "outputs": [
    {
     "name": "stdout",
     "output_type": "stream",
     "text": [
      "1/1 [==============================] - 0s 29ms/step\n"
     ]
    }
   ],
   "source": [
    "pred = multi_lstm_model.predict(test)"
   ]
  },
  {
   "cell_type": "code",
   "execution_count": 22,
   "id": "b086bd94",
   "metadata": {},
   "outputs": [
    {
     "data": {
      "text/plain": [
       "array([[[3.3163755, 3.4371192, 3.4697008, 3.5435083, 3.8459442,\n",
       "         4.0641975],\n",
       "        [3.3243287, 3.4388878, 3.4750857, 3.5759676, 3.8468966,\n",
       "         4.064637 ],\n",
       "        [3.336919 , 3.4401093, 3.473131 , 3.550187 , 3.8343782,\n",
       "         4.0638857]]], dtype=float32)"
      ]
     },
     "execution_count": 22,
     "metadata": {},
     "output_type": "execute_result"
    }
   ],
   "source": [
    "pred"
   ]
  },
  {
   "cell_type": "code",
   "execution_count": 29,
   "id": "99eb080a",
   "metadata": {},
   "outputs": [
    {
     "data": {
      "image/png": "[encoded data removed]",
      "text/plain": [
       "<Figure size 1000x800 with 6 Axes>"
      ]
     },
     "metadata": {},
     "output_type": "display_data"
    },
    {
     "ename": "",
     "evalue": "",
     "output_type": "error",
     "traceback": [
      "\u001b[1;31mThe Kernel crashed while executing code in the the current cell or a previous cell. Please review the code in the cell(s) to identify a possible cause of the failure. Click <a href='https://aka.ms/vscodeJupyterKernelCrash'>here</a> for more info. View Jupyter <a href='command:jupyter.viewOutput'>log</a> for further details."
     ]
    }
   ],
   "source": [
    "ports =[\"Saint Nazaire\", \"Montoir\", \"Paimboeuf\", \"Cordemais\", \"Le Pellerin\", \"Nantes - UB\"]\n",
    "abs = [i for i in range(input_length+output_length)]\n",
    "fig, axs = plt.subplots(3,2, figsize = (10,8))\n",
    "axs = axs.reshape([axs.shape[0]*axs.shape[1]])\n",
    "for ax,i in zip(axs,range(pred.shape[2])):\n",
    "    ax.set_title(ports[i])\n",
    "    ax.get_xaxis().set_visible(False)\n",
    "    ax.scatter(abs[:input_length], test[0,:,i], label = \"Previous steps\", marker=\"x\")\n",
    "    ax.scatter(abs[input_length:], pred[0,:,i], label = \"Predicted steps\", marker=\"x\")\n",
    "    ax.scatter(abs[input_length:], real[0,:,i], label = \"Real steps\", marker=\"x\")\n",
    "\n",
    "handles, labels = ax.get_legend_handles_labels()\n",
    "\n",
    "# plt.subplot(2,1,1)\n",
    "# plt.plot()\n",
    "\n",
    "\n",
    "fig.legend(handles, labels, loc='upper center')\n",
    "plt.show()\n",
    "fig.savefig(\"Predictions.png\")"
   ]
  },
  {
   "cell_type": "code",
   "execution_count": null,
   "id": "1a4f5912",
   "metadata": {},
   "outputs": [],
   "source": []
  }
 ],
 "metadata": {
  "kernelspec": {
   "display_name": "base",
   "language": "python",
   "name": "python3"
  },
  "language_info": {
   "codemirror_mode": {
    "name": "ipython",
    "version": 3
   },
   "file_extension": ".py",
   "mimetype": "text/x-python",
   "name": "python",
   "nbconvert_exporter": "python",
   "pygments_lexer": "ipython3",
   "version": "3.10.6"
  },
  "vscode": {
   "interpreter": {
    "hash": "cfd8684c7f53546f7fdc85df00f20bbd1266ef94d3e3b65674cf698d02319b94"
   }
  }
 },
 "nbformat": 4,
 "nbformat_minor": 5
}
