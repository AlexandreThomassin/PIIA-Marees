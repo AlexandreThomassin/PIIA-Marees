{
 "cells": [
  {
   "cell_type": "code",
   "execution_count": 1,
   "id": "8a425900",
   "metadata": {},
   "outputs": [
    {
     "name": "stderr",
     "output_type": "stream",
     "text": [
      "2023-02-15 20:04:22.434064: I tensorflow/core/platform/cpu_feature_guard.cc:193] This TensorFlow binary is optimized with oneAPI Deep Neural Network Library (oneDNN) to use the following CPU instructions in performance-critical operations:  AVX2 FMA\n",
      "To enable them in other operations, rebuild TensorFlow with the appropriate compiler flags.\n",
      "2023-02-15 20:04:25.348216: W tensorflow/compiler/xla/stream_executor/platform/default/dso_loader.cc:64] Could not load dynamic library 'libnvinfer.so.7'; dlerror: libnvinfer.so.7: cannot open shared object file: No such file or directory; LD_LIBRARY_PATH: /usr/lib/cuda-11.7/lib64:\n",
      "2023-02-15 20:04:25.352217: W tensorflow/compiler/xla/stream_executor/platform/default/dso_loader.cc:64] Could not load dynamic library 'libnvinfer_plugin.so.7'; dlerror: libnvinfer_plugin.so.7: cannot open shared object file: No such file or directory; LD_LIBRARY_PATH: /usr/lib/cuda-11.7/lib64:\n",
      "2023-02-15 20:04:25.352245: W tensorflow/compiler/tf2tensorrt/utils/py_utils.cc:38] TF-TRT Warning: Cannot dlopen some TensorRT libraries. If you would like to use Nvidia GPU with TensorRT, please make sure the missing libraries mentioned above are installed properly.\n"
     ]
    }
   ],
   "source": [
    "import numba\n",
    "import pandas as pd\n",
    "from matplotlib import pyplot as plt\n",
    "import numpy as np\n",
    "import tensorflow as tf\n",
    "import IPython\n",
    "import IPython.display"
   ]
  },
  {
   "cell_type": "markdown",
   "id": "2b437457",
   "metadata": {},
   "source": [
    "## Récupération des données"
   ]
  },
  {
   "cell_type": "code",
   "execution_count": 2,
   "id": "c8200c8e",
   "metadata": {},
   "outputs": [
    {
     "name": "stdout",
     "output_type": "stream",
     "text": [
      "                       Date  SN Hauteur (t-24)  SN Hauteur (t-23)  \\\n",
      "24      2012-01-01 02:00:00               3.96               3.94   \n",
      "25      2012-01-01 02:05:00               3.94               3.93   \n",
      "26      2012-01-01 02:10:00               3.93               3.91   \n",
      "27      2012-01-01 02:15:00               3.91               3.89   \n",
      "28      2012-01-01 02:20:00               3.89               3.87   \n",
      "...                     ...                ...                ...   \n",
      "217994  2014-01-27 01:40:00               4.77               4.82   \n",
      "217995  2014-01-27 01:45:00               4.82               4.84   \n",
      "217996  2014-01-27 01:50:00               4.84               4.87   \n",
      "217997  2014-01-27 01:55:00               4.87               4.88   \n",
      "217998  2014-01-27 02:00:00               4.88               4.89   \n",
      "\n",
      "        SN Hauteur (t-22)  SN Hauteur (t-21)  SN Hauteur (t-20)  \\\n",
      "24                   3.93               3.91               3.89   \n",
      "25                   3.91               3.89               3.87   \n",
      "26                   3.89               3.87               3.85   \n",
      "27                   3.87               3.85               3.82   \n",
      "28                   3.85               3.82               3.79   \n",
      "...                   ...                ...                ...   \n",
      "217994               4.84               4.87               4.88   \n",
      "217995               4.87               4.88               4.89   \n",
      "217996               4.88               4.89               4.92   \n",
      "217997               4.89               4.92               4.91   \n",
      "217998               4.92               4.91               4.92   \n",
      "\n",
      "        SN Hauteur (t-19)  SN Hauteur (t-18)  SN Hauteur (t-17)  \\\n",
      "24                   3.87               3.85               3.82   \n",
      "25                   3.85               3.82               3.79   \n",
      "26                   3.82               3.79               3.76   \n",
      "27                   3.79               3.76               3.72   \n",
      "28                   3.76               3.72               3.70   \n",
      "...                   ...                ...                ...   \n",
      "217994               4.89               4.92               4.91   \n",
      "217995               4.92               4.91               4.92   \n",
      "217996               4.91               4.92               4.96   \n",
      "217997               4.92               4.96               4.97   \n",
      "217998               4.96               4.97               4.98   \n",
      "\n",
      "        SN Hauteur (t-16)  ...  NSAL Hauteur (t-10)  NSAL Hauteur (t-9)  \\\n",
      "24                   3.79  ...                 4.30                4.28   \n",
      "25                   3.76  ...                 4.28                4.26   \n",
      "26                   3.72  ...                 4.26                4.25   \n",
      "27                   3.70  ...                 4.25                4.22   \n",
      "28                   3.67  ...                 4.22                4.20   \n",
      "...                   ...  ...                  ...                 ...   \n",
      "217994               4.92  ...                 5.70                5.69   \n",
      "217995               4.96  ...                 5.69                5.67   \n",
      "217996               4.97  ...                 5.67                5.68   \n",
      "217997               4.98  ...                 5.68                5.67   \n",
      "217998               4.98  ...                 5.67                5.68   \n",
      "\n",
      "        NSAL Hauteur (t-8)  NSAL Hauteur (t-7)  NSAL Hauteur (t-6)  \\\n",
      "24                    4.26                4.25                4.22   \n",
      "25                    4.25                4.22                4.20   \n",
      "26                    4.22                4.20                4.19   \n",
      "27                    4.20                4.19                4.17   \n",
      "28                    4.19                4.17                4.16   \n",
      "...                    ...                 ...                 ...   \n",
      "217994                5.67                5.68                5.67   \n",
      "217995                5.68                5.67                5.68   \n",
      "217996                5.67                5.68                5.71   \n",
      "217997                5.68                5.71                5.74   \n",
      "217998                5.71                5.74                5.78   \n",
      "\n",
      "        NSAL Hauteur (t-5)  NSAL Hauteur (t-4)  NSAL Hauteur (t-3)  \\\n",
      "24                    4.20                4.19                4.17   \n",
      "25                    4.19                4.17                4.16   \n",
      "26                    4.17                4.16                4.15   \n",
      "27                    4.16                4.15                4.14   \n",
      "28                    4.15                4.14                4.12   \n",
      "...                    ...                 ...                 ...   \n",
      "217994                5.68                5.71                5.74   \n",
      "217995                5.71                5.74                5.78   \n",
      "217996                5.74                5.78                5.82   \n",
      "217997                5.78                5.82                5.85   \n",
      "217998                5.82                5.85                5.85   \n",
      "\n",
      "        NSAL Hauteur (t-2)  NSAL Hauteur (t-1)  \n",
      "24                    4.16                4.15  \n",
      "25                    4.15                4.14  \n",
      "26                    4.14                4.12  \n",
      "27                    4.12                4.12  \n",
      "28                    4.12                4.10  \n",
      "...                    ...                 ...  \n",
      "217994                5.78                5.82  \n",
      "217995                5.82                5.85  \n",
      "217996                5.85                5.85  \n",
      "217997                5.85                5.86  \n",
      "217998                5.86                5.87  \n",
      "\n",
      "[198007 rows x 169 columns]\n"
     ]
    },
    {
     "data": {
      "text/plain": [
       "24        2012-01-01 02:00:00\n",
       "25        2012-01-01 02:05:00\n",
       "26        2012-01-01 02:10:00\n",
       "27        2012-01-01 02:15:00\n",
       "28        2012-01-01 02:20:00\n",
       "                 ...         \n",
       "217994    2014-01-27 01:40:00\n",
       "217995    2014-01-27 01:45:00\n",
       "217996    2014-01-27 01:50:00\n",
       "217997    2014-01-27 01:55:00\n",
       "217998    2014-01-27 02:00:00\n",
       "Name: Date, Length: 198007, dtype: object"
      ]
     },
     "execution_count": 2,
     "metadata": {},
     "output_type": "execute_result"
    }
   ],
   "source": [
    "chunks = pd.read_csv(\"Datas/X_tides.csv\", index_col=0, chunksize = 1e6, iterator = True, low_memory = False)\n",
    "X = pd.DataFrame()\n",
    "for chunk in chunks:\n",
    "    X = pd.concat((X,chunk))\n",
    "\n",
    "print(X)\n",
    "X.pop('Date')"
   ]
  },
  {
   "cell_type": "code",
   "execution_count": 3,
   "id": "d6535043",
   "metadata": {},
   "outputs": [
    {
     "name": "stdout",
     "output_type": "stream",
     "text": [
      "                       Date  SN Hauteur (t)  SN Hauteur (t+1)  \\\n",
      "24      2012-01-01 02:00:00            3.12              3.07   \n",
      "25      2012-01-01 02:05:00            3.07              3.01   \n",
      "26      2012-01-01 02:10:00            3.01              2.95   \n",
      "27      2012-01-01 02:15:00            2.95              2.89   \n",
      "28      2012-01-01 02:20:00            2.89              2.83   \n",
      "...                     ...             ...               ...   \n",
      "217994  2014-01-27 01:40:00            5.09              5.08   \n",
      "217995  2014-01-27 01:45:00            5.08              5.07   \n",
      "217996  2014-01-27 01:50:00            5.07              5.06   \n",
      "217997  2014-01-27 01:55:00            5.06              5.06   \n",
      "217998  2014-01-27 02:00:00            5.06              5.07   \n",
      "\n",
      "        SN Hauteur (t+2)  Montoir Hauteur (t)  Montoir Hauteur (t+1)  \\\n",
      "24                  3.01                 3.37                   3.32   \n",
      "25                  2.95                 3.32                   3.27   \n",
      "26                  2.89                 3.27                   3.22   \n",
      "27                  2.83                 3.22                   3.16   \n",
      "28                  2.77                 3.16                   3.10   \n",
      "...                  ...                  ...                    ...   \n",
      "217994              5.07                 5.25                   5.25   \n",
      "217995              5.06                 5.25                   5.22   \n",
      "217996              5.06                 5.22                   5.19   \n",
      "217997              5.07                 5.19                   5.17   \n",
      "217998              5.07                 5.17                   5.14   \n",
      "\n",
      "        Montoir Hauteur (t+2)  Paimboeuf Hauteur (t)  Paimboeuf Hauteur (t+1)  \\\n",
      "24                       3.27                   3.48                     3.43   \n",
      "25                       3.22                   3.43                     3.37   \n",
      "26                       3.16                   3.37                     3.32   \n",
      "27                       3.10                   3.32                     3.27   \n",
      "28                       3.03                   3.27                     3.21   \n",
      "...                       ...                    ...                      ...   \n",
      "217994                   5.22                   5.28                     5.31   \n",
      "217995                   5.19                   5.31                     5.33   \n",
      "217996                   5.17                   5.33                     5.32   \n",
      "217997                   5.14                   5.32                     5.30   \n",
      "217998                   5.11                   5.30                     5.27   \n",
      "\n",
      "        Paimboeuf Hauteur (t+2)  ...  Cordemais Hauteur (t+2)  LP Hauteur (t)  \\\n",
      "24                         3.37  ...                     3.53            3.87   \n",
      "25                         3.32  ...                     3.49            3.84   \n",
      "26                         3.27  ...                     3.42            3.81   \n",
      "27                         3.21  ...                     3.37            3.78   \n",
      "28                         3.16  ...                     3.31            3.75   \n",
      "...                         ...  ...                      ...             ...   \n",
      "217994                     5.33  ...                     5.32            5.41   \n",
      "217995                     5.32  ...                     5.34            5.40   \n",
      "217996                     5.30  ...                     5.37            5.38   \n",
      "217997                     5.27  ...                     5.39            5.36   \n",
      "217998                     5.24  ...                     5.38            5.36   \n",
      "\n",
      "        LP Hauteur (t+1)  LP Hauteur (t+2)  NUB Hauteur (t)  \\\n",
      "24                  3.84              3.81             4.05   \n",
      "25                  3.81              3.78             4.03   \n",
      "26                  3.78              3.75             4.02   \n",
      "27                  3.75              3.72             4.00   \n",
      "28                  3.72              3.68             3.98   \n",
      "...                  ...               ...              ...   \n",
      "217994              5.40              5.38             5.69   \n",
      "217995              5.38              5.36             5.69   \n",
      "217996              5.36              5.36             5.68   \n",
      "217997              5.36              5.37             5.68   \n",
      "217998              5.37              5.43             5.69   \n",
      "\n",
      "        NUB Hauteur (t+1)  NUB Hauteur (t+2)  NSAL Hauteur (t)  \\\n",
      "24                   4.03               4.02              4.14   \n",
      "25                   4.02               4.00              4.12   \n",
      "26                   4.00               3.98              4.12   \n",
      "27                   3.98               3.96              4.10   \n",
      "28                   3.96               3.93              4.09   \n",
      "...                   ...                ...               ...   \n",
      "217994               5.69               5.68              5.85   \n",
      "217995               5.68               5.68              5.85   \n",
      "217996               5.68               5.69              5.86   \n",
      "217997               5.69               5.68              5.87   \n",
      "217998               5.68               5.68              5.86   \n",
      "\n",
      "        NSAL Hauteur (t+1)  NSAL Hauteur (t+2)  \n",
      "24                    4.12                4.12  \n",
      "25                    4.12                4.10  \n",
      "26                    4.10                4.09  \n",
      "27                    4.09                4.07  \n",
      "28                    4.07                4.05  \n",
      "...                    ...                 ...  \n",
      "217994                5.85                5.86  \n",
      "217995                5.86                5.87  \n",
      "217996                5.87                5.86  \n",
      "217997                5.86                5.87  \n",
      "217998                5.87                5.88  \n",
      "\n",
      "[198007 rows x 22 columns]\n"
     ]
    },
    {
     "data": {
      "text/plain": [
       "24        2012-01-01 02:00:00\n",
       "25        2012-01-01 02:05:00\n",
       "26        2012-01-01 02:10:00\n",
       "27        2012-01-01 02:15:00\n",
       "28        2012-01-01 02:20:00\n",
       "                 ...         \n",
       "217994    2014-01-27 01:40:00\n",
       "217995    2014-01-27 01:45:00\n",
       "217996    2014-01-27 01:50:00\n",
       "217997    2014-01-27 01:55:00\n",
       "217998    2014-01-27 02:00:00\n",
       "Name: Date, Length: 198007, dtype: object"
      ]
     },
     "execution_count": 3,
     "metadata": {},
     "output_type": "execute_result"
    }
   ],
   "source": [
    "chunks = pd.read_csv(\"Datas/Y_tides.csv\", index_col=0, chunksize = 1e6, iterator = True, low_memory = False)\n",
    "Y = pd.DataFrame()\n",
    "for chunk in chunks:\n",
    "    Y = pd.concat((Y,chunk))\n",
    "\n",
    "print(Y)\n",
    "Y.pop('Date')"
   ]
  },
  {
   "cell_type": "markdown",
   "id": "72098433",
   "metadata": {},
   "source": [
    "### Longueur d'entrée et de sortie"
   ]
  },
  {
   "cell_type": "code",
   "execution_count": 5,
   "id": "2635e9b9",
   "metadata": {},
   "outputs": [],
   "source": [
    "# Ces longueurs sont définies par les fichiers .csv\n",
    "input_length = 24\n",
    "output_length = 3"
   ]
  },
  {
   "cell_type": "markdown",
   "id": "424944fb",
   "metadata": {},
   "source": [
    "### Réorganisation des données"
   ]
  },
  {
   "cell_type": "code",
   "execution_count": 6,
   "id": "abeaa61f",
   "metadata": {},
   "outputs": [
    {
     "name": "stdout",
     "output_type": "stream",
     "text": [
      "Number of features : 7\n",
      "Number of Label : 7\n"
     ]
    }
   ],
   "source": [
    "# Input features\n",
    "Nb_features = int(X.shape[1]/input_length)\n",
    "print(f\"Number of features : {Nb_features}\")\n",
    "\n",
    "Nb_labels = int(Y.shape[1]/output_length)\n",
    "print(f\"Number of Label : {Nb_labels}\")"
   ]
  },
  {
   "cell_type": "code",
   "execution_count": 7,
   "id": "fc4a8211",
   "metadata": {},
   "outputs": [
    {
     "name": "stdout",
     "output_type": "stream",
     "text": [
      "<bound method NDFrame.head of         SN Hauteur (t-24)  SN Hauteur (t-23)  SN Hauteur (t-22)  \\\n",
      "24                   3.96               3.94               3.93   \n",
      "25                   3.94               3.93               3.91   \n",
      "26                   3.93               3.91               3.89   \n",
      "27                   3.91               3.89               3.87   \n",
      "28                   3.89               3.87               3.85   \n",
      "...                   ...                ...                ...   \n",
      "217994               4.77               4.82               4.84   \n",
      "217995               4.82               4.84               4.87   \n",
      "217996               4.84               4.87               4.88   \n",
      "217997               4.87               4.88               4.89   \n",
      "217998               4.88               4.89               4.92   \n",
      "\n",
      "        SN Hauteur (t-21)  SN Hauteur (t-20)  SN Hauteur (t-19)  \\\n",
      "24                   3.91               3.89               3.87   \n",
      "25                   3.89               3.87               3.85   \n",
      "26                   3.87               3.85               3.82   \n",
      "27                   3.85               3.82               3.79   \n",
      "28                   3.82               3.79               3.76   \n",
      "...                   ...                ...                ...   \n",
      "217994               4.87               4.88               4.89   \n",
      "217995               4.88               4.89               4.92   \n",
      "217996               4.89               4.92               4.91   \n",
      "217997               4.92               4.91               4.92   \n",
      "217998               4.91               4.92               4.96   \n",
      "\n",
      "        SN Hauteur (t-18)  SN Hauteur (t-17)  SN Hauteur (t-16)  \\\n",
      "24                   3.85               3.82               3.79   \n",
      "25                   3.82               3.79               3.76   \n",
      "26                   3.79               3.76               3.72   \n",
      "27                   3.76               3.72               3.70   \n",
      "28                   3.72               3.70               3.67   \n",
      "...                   ...                ...                ...   \n",
      "217994               4.92               4.91               4.92   \n",
      "217995               4.91               4.92               4.96   \n",
      "217996               4.92               4.96               4.97   \n",
      "217997               4.96               4.97               4.98   \n",
      "217998               4.97               4.98               4.98   \n",
      "\n",
      "        SN Hauteur (t-15)  ...  NSAL Hauteur (t-10)  NSAL Hauteur (t-9)  \\\n",
      "24                   3.76  ...                 4.30                4.28   \n",
      "25                   3.72  ...                 4.28                4.26   \n",
      "26                   3.70  ...                 4.26                4.25   \n",
      "27                   3.67  ...                 4.25                4.22   \n",
      "28                   3.63  ...                 4.22                4.20   \n",
      "...                   ...  ...                  ...                 ...   \n",
      "217994               4.96  ...                 5.70                5.69   \n",
      "217995               4.97  ...                 5.69                5.67   \n",
      "217996               4.98  ...                 5.67                5.68   \n",
      "217997               4.98  ...                 5.68                5.67   \n",
      "217998               5.03  ...                 5.67                5.68   \n",
      "\n",
      "        NSAL Hauteur (t-8)  NSAL Hauteur (t-7)  NSAL Hauteur (t-6)  \\\n",
      "24                    4.26                4.25                4.22   \n",
      "25                    4.25                4.22                4.20   \n",
      "26                    4.22                4.20                4.19   \n",
      "27                    4.20                4.19                4.17   \n",
      "28                    4.19                4.17                4.16   \n",
      "...                    ...                 ...                 ...   \n",
      "217994                5.67                5.68                5.67   \n",
      "217995                5.68                5.67                5.68   \n",
      "217996                5.67                5.68                5.71   \n",
      "217997                5.68                5.71                5.74   \n",
      "217998                5.71                5.74                5.78   \n",
      "\n",
      "        NSAL Hauteur (t-5)  NSAL Hauteur (t-4)  NSAL Hauteur (t-3)  \\\n",
      "24                    4.20                4.19                4.17   \n",
      "25                    4.19                4.17                4.16   \n",
      "26                    4.17                4.16                4.15   \n",
      "27                    4.16                4.15                4.14   \n",
      "28                    4.15                4.14                4.12   \n",
      "...                    ...                 ...                 ...   \n",
      "217994                5.68                5.71                5.74   \n",
      "217995                5.71                5.74                5.78   \n",
      "217996                5.74                5.78                5.82   \n",
      "217997                5.78                5.82                5.85   \n",
      "217998                5.82                5.85                5.85   \n",
      "\n",
      "        NSAL Hauteur (t-2)  NSAL Hauteur (t-1)  \n",
      "24                    4.16                4.15  \n",
      "25                    4.15                4.14  \n",
      "26                    4.14                4.12  \n",
      "27                    4.12                4.12  \n",
      "28                    4.12                4.10  \n",
      "...                    ...                 ...  \n",
      "217994                5.78                5.82  \n",
      "217995                5.82                5.85  \n",
      "217996                5.85                5.85  \n",
      "217997                5.85                5.86  \n",
      "217998                5.86                5.87  \n",
      "\n",
      "[198007 rows x 168 columns]>\n",
      "<bound method NDFrame.head of         SN Hauteur (t)  SN Hauteur (t+1)  SN Hauteur (t+2)  \\\n",
      "24                3.12              3.07              3.01   \n",
      "25                3.07              3.01              2.95   \n",
      "26                3.01              2.95              2.89   \n",
      "27                2.95              2.89              2.83   \n",
      "28                2.89              2.83              2.77   \n",
      "...                ...               ...               ...   \n",
      "217994            5.09              5.08              5.07   \n",
      "217995            5.08              5.07              5.06   \n",
      "217996            5.07              5.06              5.06   \n",
      "217997            5.06              5.06              5.07   \n",
      "217998            5.06              5.07              5.07   \n",
      "\n",
      "        Montoir Hauteur (t)  Montoir Hauteur (t+1)  Montoir Hauteur (t+2)  \\\n",
      "24                     3.37                   3.32                   3.27   \n",
      "25                     3.32                   3.27                   3.22   \n",
      "26                     3.27                   3.22                   3.16   \n",
      "27                     3.22                   3.16                   3.10   \n",
      "28                     3.16                   3.10                   3.03   \n",
      "...                     ...                    ...                    ...   \n",
      "217994                 5.25                   5.25                   5.22   \n",
      "217995                 5.25                   5.22                   5.19   \n",
      "217996                 5.22                   5.19                   5.17   \n",
      "217997                 5.19                   5.17                   5.14   \n",
      "217998                 5.17                   5.14                   5.11   \n",
      "\n",
      "        Paimboeuf Hauteur (t)  Paimboeuf Hauteur (t+1)  \\\n",
      "24                       3.48                     3.43   \n",
      "25                       3.43                     3.37   \n",
      "26                       3.37                     3.32   \n",
      "27                       3.32                     3.27   \n",
      "28                       3.27                     3.21   \n",
      "...                       ...                      ...   \n",
      "217994                   5.28                     5.31   \n",
      "217995                   5.31                     5.33   \n",
      "217996                   5.33                     5.32   \n",
      "217997                   5.32                     5.30   \n",
      "217998                   5.30                     5.27   \n",
      "\n",
      "        Paimboeuf Hauteur (t+2)  Cordemais Hauteur (t)  ...  \\\n",
      "24                         3.37                   3.62  ...   \n",
      "25                         3.32                   3.58  ...   \n",
      "26                         3.27                   3.53  ...   \n",
      "27                         3.21                   3.49  ...   \n",
      "28                         3.16                   3.42  ...   \n",
      "...                         ...                    ...  ...   \n",
      "217994                     5.33                   5.23  ...   \n",
      "217995                     5.32                   5.29  ...   \n",
      "217996                     5.30                   5.32  ...   \n",
      "217997                     5.27                   5.34  ...   \n",
      "217998                     5.24                   5.37  ...   \n",
      "\n",
      "        Cordemais Hauteur (t+2)  LP Hauteur (t)  LP Hauteur (t+1)  \\\n",
      "24                         3.53            3.87              3.84   \n",
      "25                         3.49            3.84              3.81   \n",
      "26                         3.42            3.81              3.78   \n",
      "27                         3.37            3.78              3.75   \n",
      "28                         3.31            3.75              3.72   \n",
      "...                         ...             ...               ...   \n",
      "217994                     5.32            5.41              5.40   \n",
      "217995                     5.34            5.40              5.38   \n",
      "217996                     5.37            5.38              5.36   \n",
      "217997                     5.39            5.36              5.36   \n",
      "217998                     5.38            5.36              5.37   \n",
      "\n",
      "        LP Hauteur (t+2)  NUB Hauteur (t)  NUB Hauteur (t+1)  \\\n",
      "24                  3.81             4.05               4.03   \n",
      "25                  3.78             4.03               4.02   \n",
      "26                  3.75             4.02               4.00   \n",
      "27                  3.72             4.00               3.98   \n",
      "28                  3.68             3.98               3.96   \n",
      "...                  ...              ...                ...   \n",
      "217994              5.38             5.69               5.69   \n",
      "217995              5.36             5.69               5.68   \n",
      "217996              5.36             5.68               5.68   \n",
      "217997              5.37             5.68               5.69   \n",
      "217998              5.43             5.69               5.68   \n",
      "\n",
      "        NUB Hauteur (t+2)  NSAL Hauteur (t)  NSAL Hauteur (t+1)  \\\n",
      "24                   4.02              4.14                4.12   \n",
      "25                   4.00              4.12                4.12   \n",
      "26                   3.98              4.12                4.10   \n",
      "27                   3.96              4.10                4.09   \n",
      "28                   3.93              4.09                4.07   \n",
      "...                   ...               ...                 ...   \n",
      "217994               5.68              5.85                5.85   \n",
      "217995               5.68              5.85                5.86   \n",
      "217996               5.69              5.86                5.87   \n",
      "217997               5.68              5.87                5.86   \n",
      "217998               5.68              5.86                5.87   \n",
      "\n",
      "        NSAL Hauteur (t+2)  \n",
      "24                    4.12  \n",
      "25                    4.10  \n",
      "26                    4.09  \n",
      "27                    4.07  \n",
      "28                    4.05  \n",
      "...                    ...  \n",
      "217994                5.86  \n",
      "217995                5.87  \n",
      "217996                5.86  \n",
      "217997                5.87  \n",
      "217998                5.88  \n",
      "\n",
      "[198007 rows x 21 columns]>\n"
     ]
    }
   ],
   "source": [
    "print(X.head)\n",
    "print(Y.head)\n",
    "\n",
    "X_datas = X.values\n",
    "X_datas = X_datas.reshape((X.shape[0], input_length, Nb_features), order = 'F')\n",
    "Y_datas = Y.values\n",
    "Y_datas = Y_datas.reshape((Y.shape[0], output_length, Nb_labels), order ='F')"
   ]
  },
  {
   "cell_type": "code",
   "execution_count": 8,
   "id": "58d35f66",
   "metadata": {},
   "outputs": [
    {
     "data": {
      "text/plain": [
       "array([[[3.96, 4.08, 4.09, ..., 4.26, 4.53, 4.68],\n",
       "        [3.94, 4.07, 4.07, ..., 4.23, 4.5 , 4.64],\n",
       "        [3.93, 4.05, 4.06, ..., 4.22, 4.47, 4.61],\n",
       "        ...,\n",
       "        [3.27, 3.5 , 3.63, ..., 3.94, 4.07, 4.17],\n",
       "        [3.23, 3.47, 3.59, ..., 3.92, 4.07, 4.16],\n",
       "        [3.18, 3.42, 3.54, ..., 3.89, 4.06, 4.15]],\n",
       "\n",
       "       [[3.94, 4.07, 4.07, ..., 4.23, 4.5 , 4.64],\n",
       "        [3.93, 4.05, 4.06, ..., 4.22, 4.47, 4.61],\n",
       "        [3.91, 4.03, 4.03, ..., 4.19, 4.44, 4.57],\n",
       "        ...,\n",
       "        [3.23, 3.47, 3.59, ..., 3.92, 4.07, 4.16],\n",
       "        [3.18, 3.42, 3.54, ..., 3.89, 4.06, 4.15],\n",
       "        [3.12, 3.37, 3.48, ..., 3.87, 4.05, 4.14]],\n",
       "\n",
       "       [[3.93, 4.05, 4.06, ..., 4.22, 4.47, 4.61],\n",
       "        [3.91, 4.03, 4.03, ..., 4.19, 4.44, 4.57],\n",
       "        [3.89, 4.02, 4.02, ..., 4.18, 4.4 , 4.54],\n",
       "        ...,\n",
       "        [3.18, 3.42, 3.54, ..., 3.89, 4.06, 4.15],\n",
       "        [3.12, 3.37, 3.48, ..., 3.87, 4.05, 4.14],\n",
       "        [3.07, 3.32, 3.43, ..., 3.84, 4.03, 4.12]],\n",
       "\n",
       "       ...,\n",
       "\n",
       "       [[4.44, 4.43, 4.46, ..., 4.71, 4.95, 5.05],\n",
       "        [4.45, 4.44, 4.46, ..., 4.69, 4.92, 5.02],\n",
       "        [4.45, 4.45, 4.46, ..., 4.67, 4.88, 4.98],\n",
       "        ...,\n",
       "        [4.3 , 4.38, 4.45, ..., 4.47, 4.44, 4.44],\n",
       "        [4.26, 4.36, 4.43, ..., 4.47, 4.44, 4.44],\n",
       "        [4.23, 4.33, 4.4 , ..., 4.46, 4.44, 4.44]],\n",
       "\n",
       "       [[4.45, 4.44, 4.46, ..., 4.69, 4.92, 5.02],\n",
       "        [4.45, 4.45, 4.46, ..., 4.67, 4.88, 4.98],\n",
       "        [4.44, 4.46, 4.47, ..., 4.64, 4.85, 4.95],\n",
       "        ...,\n",
       "        [4.26, 4.36, 4.43, ..., 4.47, 4.44, 4.44],\n",
       "        [4.23, 4.33, 4.4 , ..., 4.46, 4.44, 4.44],\n",
       "        [4.2 , 4.3 , 4.37, ..., 4.46, 4.44, 4.44]],\n",
       "\n",
       "       [[4.45, 4.45, 4.46, ..., 4.67, 4.88, 4.98],\n",
       "        [4.44, 4.46, 4.47, ..., 4.64, 4.85, 4.95],\n",
       "        [4.44, 4.47, 4.48, ..., 4.62, 4.82, 4.91],\n",
       "        ...,\n",
       "        [4.23, 4.33, 4.4 , ..., 4.46, 4.44, 4.44],\n",
       "        [4.2 , 4.3 , 4.37, ..., 4.46, 4.44, 4.44],\n",
       "        [4.16, 4.26, 4.34, ..., 4.45, 4.44, 4.44]]])"
      ]
     },
     "execution_count": 8,
     "metadata": {},
     "output_type": "execute_result"
    }
   ],
   "source": [
    "n = len(X_datas)\n",
    "# Train dataset\n",
    "X_train = X_datas[:int(0.7*n)]\n",
    "Y_train = Y_datas[:int(0.7*n)]\n",
    "\n",
    "# Validation dataset\n",
    "X_val = X_datas[int(0.7*n):int(0.9*n)]\n",
    "Y_val = Y_datas[int(0.7*n):int(0.9*n)]\n",
    "\n",
    "# Test dataset\n",
    "X_test = X_datas[int(0.9*n):]\n",
    "Y_test = Y_datas[int(0.9*n):]\n",
    "\n",
    "X_train"
   ]
  },
  {
   "cell_type": "code",
   "execution_count": 9,
   "id": "df33d84b",
   "metadata": {},
   "outputs": [
    {
     "name": "stdout",
     "output_type": "stream",
     "text": [
      "                             X: 255.3 MiB\n",
      "                         chunk: 47.6 MiB\n",
      "                             Y: 33.2 MiB\n",
      "                            __: 15.9 MiB\n",
      "                           ___: 15.9 MiB\n",
      "                            _2: 15.9 MiB\n",
      "                            _3: 15.9 MiB\n",
      "                           _i9:  587.0 B\n",
      "                            _i:  328.0 B\n",
      "                           _i8:  328.0 B\n"
     ]
    }
   ],
   "source": [
    "import sys\n",
    "def sizeof_fmt(num, suffix='B'):\n",
    "    ''' by Fred Cirera,  https://stackoverflow.com/a/1094933/1870254, modified'''\n",
    "    for unit in ['','Ki','Mi','Gi','Ti','Pi','Ei','Zi']:\n",
    "        if abs(num) < 1024.0:\n",
    "            return \"%3.1f %s%s\" % (num, unit, suffix)\n",
    "        num /= 1024.0\n",
    "    return \"%.1f %s%s\" % (num, 'Yi', suffix)\n",
    "\n",
    "for name, size in sorted(((name, sys.getsizeof(value)) for name, value in locals().items()),\n",
    "                         key= lambda x: -x[1])[:10]:\n",
    "    print(\"{:>30}: {:>8}\".format(name, sizeof_fmt(size)))"
   ]
  },
  {
   "cell_type": "markdown",
   "id": "ec545eea",
   "metadata": {},
   "source": [
    "### Création du modèle"
   ]
  },
  {
   "cell_type": "code",
   "execution_count": 10,
   "id": "fc747b90",
   "metadata": {},
   "outputs": [
    {
     "name": "stdout",
     "output_type": "stream",
     "text": [
      "Model: \"sequential\"\n",
      "_________________________________________________________________\n",
      " Layer (type)                Output Shape              Param #   \n",
      "=================================================================\n",
      " conv1d (Conv1D)             (None, 22, 32)            704       \n",
      "                                                                 \n",
      " flatten (Flatten)           (None, 704)               0         \n",
      "                                                                 \n",
      " dense (Dense)               (None, 21)                14805     \n",
      "                                                                 \n",
      " reshape (Reshape)           (None, 3, 7)              0         \n",
      "                                                                 \n",
      "=================================================================\n"
     ]
    },
    {
     "name": "stderr",
     "output_type": "stream",
     "text": [
      "2023-02-15 20:05:25.831670: I tensorflow/compiler/xla/stream_executor/cuda/cuda_gpu_executor.cc:967] could not open file to read NUMA node: /sys/bus/pci/devices/0000:01:00.0/numa_node\n",
      "Your kernel may have been built without NUMA support.\n",
      "2023-02-15 20:05:25.977907: I tensorflow/compiler/xla/stream_executor/cuda/cuda_gpu_executor.cc:967] could not open file to read NUMA node: /sys/bus/pci/devices/0000:01:00.0/numa_node\n",
      "Your kernel may have been built without NUMA support.\n",
      "2023-02-15 20:05:25.978459: I tensorflow/compiler/xla/stream_executor/cuda/cuda_gpu_executor.cc:967] could not open file to read NUMA node: /sys/bus/pci/devices/0000:01:00.0/numa_node\n",
      "Your kernel may have been built without NUMA support.\n",
      "2023-02-15 20:05:25.980412: I tensorflow/core/platform/cpu_feature_guard.cc:193] This TensorFlow binary is optimized with oneAPI Deep Neural Network Library (oneDNN) to use the following CPU instructions in performance-critical operations:  AVX2 FMA\n",
      "To enable them in other operations, rebuild TensorFlow with the appropriate compiler flags.\n",
      "2023-02-15 20:05:25.982612: I tensorflow/compiler/xla/stream_executor/cuda/cuda_gpu_executor.cc:967] could not open file to read NUMA node: /sys/bus/pci/devices/0000:01:00.0/numa_node\n",
      "Your kernel may have been built without NUMA support.\n",
      "2023-02-15 20:05:25.983196: I tensorflow/compiler/xla/stream_executor/cuda/cuda_gpu_executor.cc:967] could not open file to read NUMA node: /sys/bus/pci/devices/0000:01:00.0/numa_node\n",
      "Your kernel may have been built without NUMA support.\n",
      "2023-02-15 20:05:25.983669: I tensorflow/compiler/xla/stream_executor/cuda/cuda_gpu_executor.cc:967] could not open file to read NUMA node: /sys/bus/pci/devices/0000:01:00.0/numa_node\n",
      "Your kernel may have been built without NUMA support.\n",
      "2023-02-15 20:05:28.196333: I tensorflow/compiler/xla/stream_executor/cuda/cuda_gpu_executor.cc:967] could not open file to read NUMA node: /sys/bus/pci/devices/0000:01:00.0/numa_node\n",
      "Your kernel may have been built without NUMA support.\n",
      "2023-02-15 20:05:28.198226: I tensorflow/compiler/xla/stream_executor/cuda/cuda_gpu_executor.cc:967] could not open file to read NUMA node: /sys/bus/pci/devices/0000:01:00.0/numa_node\n",
      "Your kernel may have been built without NUMA support.\n",
      "2023-02-15 20:05:28.198275: I tensorflow/core/common_runtime/gpu/gpu_device.cc:1700] Could not identify NUMA node of platform GPU id 0, defaulting to 0.  Your kernel may not have been built with NUMA support.\n",
      "2023-02-15 20:05:28.199098: I tensorflow/compiler/xla/stream_executor/cuda/cuda_gpu_executor.cc:967] could not open file to read NUMA node: /sys/bus/pci/devices/0000:01:00.0/numa_node\n",
      "Your kernel may have been built without NUMA support.\n",
      "2023-02-15 20:05:28.200196: I tensorflow/core/common_runtime/gpu/gpu_device.cc:1613] Created device /job:localhost/replica:0/task:0/device:GPU:0 with 2081 MB memory:  -> device: 0, name: NVIDIA GeForce GTX 1650, pci bus id: 0000:01:00.0, compute capability: 7.5\n"
     ]
    },
    {
     "name": "stdout",
     "output_type": "stream",
     "text": [
      "Total params: 15,509\n",
      "Trainable params: 15,509\n",
      "Non-trainable params: 0\n",
      "_________________________________________________________________\n"
     ]
    }
   ],
   "source": [
    "multi_conv_model = tf.keras.Sequential([\n",
    "    # Shape => [batch, 1, conv_units]\n",
    "    tf.keras.layers.Conv1D(32, activation='relu', kernel_size=(3), input_shape = (input_length, Nb_features)),\n",
    "    tf.keras.layers.Flatten(),\n",
    "    # Shape => [batch, 1,  out_steps*features]\n",
    "    tf.keras.layers.Dense(output_length*Nb_labels,\n",
    "                          kernel_initializer=tf.initializers.zeros()),\n",
    "    # Shape => [batch, out_steps, features]\n",
    "    tf.keras.layers.Reshape([output_length, Nb_labels])\n",
    "])\n",
    "multi_conv_model.summary()"
   ]
  },
  {
   "cell_type": "code",
   "execution_count": 11,
   "id": "59c1aefa",
   "metadata": {},
   "outputs": [
    {
     "name": "stdout",
     "output_type": "stream",
     "text": [
      "Model: \"sequential_1\"\n",
      "_________________________________________________________________\n",
      " Layer (type)                Output Shape              Param #   \n",
      "=================================================================\n",
      " lstm (LSTM)                 (None, 256)               270336    \n",
      "                                                                 \n",
      " dense_1 (Dense)             (None, 21)                5397      \n",
      "                                                                 \n",
      " reshape_1 (Reshape)         (None, 3, 7)              0         \n",
      "                                                                 \n",
      "=================================================================\n",
      "Total params: 275,733\n",
      "Trainable params: 275,733\n",
      "Non-trainable params: 0\n",
      "_________________________________________________________________\n"
     ]
    }
   ],
   "source": [
    "multi_lstm_model =  tf.keras.Sequential([\n",
    "    # Shape => [batch, 1, conv_units]\n",
    "    tf.keras.layers.LSTM(256, activation='tanh', input_shape = (input_length, Nb_features)),\n",
    "    #tf.keras.layers.Dropout(0.2),\n",
    "    # Shape => [batch, 1,  out_steps*features]\n",
    "    tf.keras.layers.Dense(output_length*Nb_labels, kernel_initializer=tf.initializers.zeros()),\n",
    "    # Shape => [batch, out_steps, features]\n",
    "    tf.keras.layers.Reshape([output_length, Nb_labels])\n",
    "])\n",
    "multi_lstm_model.summary()"
   ]
  },
  {
   "cell_type": "markdown",
   "id": "75672471",
   "metadata": {},
   "source": [
    "### Compilation"
   ]
  },
  {
   "cell_type": "code",
   "execution_count": 12,
   "id": "bec515fe",
   "metadata": {},
   "outputs": [],
   "source": [
    "early_stopping = tf.keras.callbacks.EarlyStopping(monitor='loss',\n",
    "                                                patience=2,\n",
    "                                                mode='min')\n",
    "\n",
    "\n",
    "multi_lstm_model.compile(loss=tf.losses.MeanSquaredError(),\n",
    "            optimizer=tf.optimizers.Adam(),\n",
    "            metrics=[tf.metrics.MeanAbsoluteError()])\n"
   ]
  },
  {
   "cell_type": "markdown",
   "id": "3103a6f3",
   "metadata": {},
   "source": [
    "### Entrainement"
   ]
  },
  {
   "cell_type": "code",
   "execution_count": 13,
   "id": "855a8be3",
   "metadata": {
    "scrolled": false
   },
   "outputs": [
    {
     "name": "stderr",
     "output_type": "stream",
     "text": [
      "2023-02-15 20:05:53.537996: W tensorflow/tsl/framework/cpu_allocator_impl.cc:82] Allocation of 93141888 exceeds 10% of free system memory.\n",
      "2023-02-15 20:05:53.733605: W tensorflow/tsl/framework/cpu_allocator_impl.cc:82] Allocation of 93141888 exceeds 10% of free system memory.\n"
     ]
    },
    {
     "name": "stdout",
     "output_type": "stream",
     "text": [
      "Epoch 1/100\n"
     ]
    },
    {
     "name": "stderr",
     "output_type": "stream",
     "text": [
      "2023-02-15 20:06:05.283428: I tensorflow/compiler/xla/stream_executor/cuda/cuda_dnn.cc:428] Loaded cuDNN version 8700\n",
      "2023-02-15 20:06:06.631477: I tensorflow/compiler/xla/service/service.cc:173] XLA service 0x7f8ebc116bc0 initialized for platform CUDA (this does not guarantee that XLA will be used). Devices:\n",
      "2023-02-15 20:06:06.631589: I tensorflow/compiler/xla/service/service.cc:181]   StreamExecutor device (0): NVIDIA GeForce GTX 1650, Compute Capability 7.5\n",
      "2023-02-15 20:06:06.720900: I tensorflow/compiler/mlir/tensorflow/utils/dump_mlir_util.cc:268] disabling MLIR crash reproducer, set env var `MLIR_CRASH_REPRODUCER_DIRECTORY` to enable.\n",
      "2023-02-15 20:06:08.326373: I tensorflow/compiler/jit/xla_compilation_cache.cc:477] Compiled cluster using XLA!  This line is logged at most once for the lifetime of the process.\n"
     ]
    },
    {
     "name": "stdout",
     "output_type": "stream",
     "text": [
      "136/136 [==============================] - 23s 60ms/step - loss: 3.9136 - mean_absolute_error: 1.3600 - val_loss: 3.1389 - val_mean_absolute_error: 1.0457\n",
      "Epoch 2/100\n",
      "136/136 [==============================] - 7s 52ms/step - loss: 1.4760 - mean_absolute_error: 0.4992 - val_loss: 1.9175 - val_mean_absolute_error: 0.3778\n",
      "Epoch 3/100\n",
      "136/136 [==============================] - 7s 52ms/step - loss: 1.2669 - mean_absolute_error: 0.3537 - val_loss: 1.8845 - val_mean_absolute_error: 0.3412\n",
      "Epoch 4/100\n",
      "136/136 [==============================] - 7s 52ms/step - loss: 1.1812 - mean_absolute_error: 0.2738 - val_loss: 1.7386 - val_mean_absolute_error: 0.1771\n",
      "Epoch 5/100\n",
      "136/136 [==============================] - 13s 95ms/step - loss: 1.0544 - mean_absolute_error: 0.1325 - val_loss: 1.7066 - val_mean_absolute_error: 0.1343\n",
      "Epoch 6/100\n",
      "136/136 [==============================] - 8s 57ms/step - loss: 1.0266 - mean_absolute_error: 0.1102 - val_loss: 1.7003 - val_mean_absolute_error: 0.1274\n",
      "Epoch 7/100\n",
      "136/136 [==============================] - 13s 95ms/step - loss: 1.0017 - mean_absolute_error: 0.1002 - val_loss: 1.6957 - val_mean_absolute_error: 0.1102\n",
      "Epoch 8/100\n",
      "136/136 [==============================] - 8s 59ms/step - loss: 0.9746 - mean_absolute_error: 0.0927 - val_loss: 1.6945 - val_mean_absolute_error: 0.1120\n",
      "Epoch 9/100\n",
      "136/136 [==============================] - 11s 85ms/step - loss: 0.9452 - mean_absolute_error: 0.0888 - val_loss: 1.6916 - val_mean_absolute_error: 0.0996\n",
      "Epoch 10/100\n",
      "136/136 [==============================] - 9s 68ms/step - loss: 0.9142 - mean_absolute_error: 0.0854 - val_loss: 1.6903 - val_mean_absolute_error: 0.1023\n",
      "Epoch 11/100\n",
      "136/136 [==============================] - 10s 72ms/step - loss: 0.8820 - mean_absolute_error: 0.0816 - val_loss: 1.6885 - val_mean_absolute_error: 0.1100\n",
      "Epoch 12/100\n",
      "136/136 [==============================] - 11s 80ms/step - loss: 0.8506 - mean_absolute_error: 0.0795 - val_loss: 1.6852 - val_mean_absolute_error: 0.0874\n",
      "Epoch 13/100\n",
      "136/136 [==============================] - 8s 57ms/step - loss: 0.8194 - mean_absolute_error: 0.0755 - val_loss: 1.6840 - val_mean_absolute_error: 0.0851\n",
      "Epoch 14/100\n",
      "136/136 [==============================] - 13s 94ms/step - loss: 0.7904 - mean_absolute_error: 0.0748 - val_loss: 1.6826 - val_mean_absolute_error: 0.0912\n",
      "Epoch 15/100\n",
      "136/136 [==============================] - 8s 56ms/step - loss: 0.7632 - mean_absolute_error: 0.0717 - val_loss: 1.6816 - val_mean_absolute_error: 0.0891\n",
      "Epoch 16/100\n",
      "136/136 [==============================] - 13s 97ms/step - loss: 0.7396 - mean_absolute_error: 0.0718 - val_loss: 1.6772 - val_mean_absolute_error: 0.0800\n",
      "Epoch 17/100\n",
      "136/136 [==============================] - 7s 55ms/step - loss: 0.7190 - mean_absolute_error: 0.0671 - val_loss: 1.6777 - val_mean_absolute_error: 0.0854\n",
      "Epoch 18/100\n",
      "136/136 [==============================] - 13s 98ms/step - loss: 0.7004 - mean_absolute_error: 0.0656 - val_loss: 1.6756 - val_mean_absolute_error: 0.0807\n",
      "Epoch 19/100\n",
      "136/136 [==============================] - 7s 52ms/step - loss: 0.6875 - mean_absolute_error: 0.0717 - val_loss: 1.6731 - val_mean_absolute_error: 0.0777\n",
      "Epoch 20/100\n",
      "136/136 [==============================] - 13s 99ms/step - loss: 0.6727 - mean_absolute_error: 0.0630 - val_loss: 1.6720 - val_mean_absolute_error: 0.0995\n",
      "Epoch 21/100\n",
      "136/136 [==============================] - 7s 53ms/step - loss: 0.6642 - mean_absolute_error: 0.0668 - val_loss: 1.6700 - val_mean_absolute_error: 0.0893\n",
      "Epoch 22/100\n",
      "136/136 [==============================] - 13s 98ms/step - loss: 0.6550 - mean_absolute_error: 0.0633 - val_loss: 1.6676 - val_mean_absolute_error: 0.0717\n",
      "Epoch 23/100\n",
      "136/136 [==============================] - 8s 56ms/step - loss: 0.6484 - mean_absolute_error: 0.0604 - val_loss: 1.6731 - val_mean_absolute_error: 0.1060\n",
      "Epoch 24/100\n",
      "136/136 [==============================] - 13s 96ms/step - loss: 0.6443 - mean_absolute_error: 0.0678 - val_loss: 1.6655 - val_mean_absolute_error: 0.0763\n",
      "Epoch 25/100\n",
      "136/136 [==============================] - 8s 57ms/step - loss: 0.6380 - mean_absolute_error: 0.0582 - val_loss: 1.6631 - val_mean_absolute_error: 0.0744\n",
      "Epoch 26/100\n",
      "136/136 [==============================] - 13s 96ms/step - loss: 0.6345 - mean_absolute_error: 0.0560 - val_loss: 1.6618 - val_mean_absolute_error: 0.0734\n",
      "Epoch 27/100\n",
      "136/136 [==============================] - 8s 59ms/step - loss: 0.6321 - mean_absolute_error: 0.0559 - val_loss: 1.6616 - val_mean_absolute_error: 0.0791\n",
      "Epoch 28/100\n",
      "136/136 [==============================] - 12s 86ms/step - loss: 0.6302 - mean_absolute_error: 0.0548 - val_loss: 1.6623 - val_mean_absolute_error: 0.0976\n",
      "Epoch 29/100\n",
      "136/136 [==============================] - 9s 68ms/step - loss: 0.6289 - mean_absolute_error: 0.0558 - val_loss: 1.6625 - val_mean_absolute_error: 0.0926\n",
      "Epoch 30/100\n",
      "136/136 [==============================] - 7s 53ms/step - loss: 0.6275 - mean_absolute_error: 0.0539 - val_loss: 1.6597 - val_mean_absolute_error: 0.0819\n",
      "Epoch 31/100\n",
      "136/136 [==============================] - 8s 61ms/step - loss: 0.6266 - mean_absolute_error: 0.0532 - val_loss: 1.6588 - val_mean_absolute_error: 0.0764\n",
      "Epoch 32/100\n",
      "136/136 [==============================] - 7s 53ms/step - loss: 0.6255 - mean_absolute_error: 0.0515 - val_loss: 1.6591 - val_mean_absolute_error: 0.0743\n",
      "Epoch 33/100\n",
      "136/136 [==============================] - 8s 55ms/step - loss: 0.6251 - mean_absolute_error: 0.0531 - val_loss: 1.6584 - val_mean_absolute_error: 0.0763\n",
      "Epoch 34/100\n",
      "136/136 [==============================] - 13s 98ms/step - loss: 0.6249 - mean_absolute_error: 0.0550 - val_loss: 1.6581 - val_mean_absolute_error: 0.0854\n",
      "Epoch 35/100\n",
      "136/136 [==============================] - 7s 53ms/step - loss: 0.6243 - mean_absolute_error: 0.0564 - val_loss: 1.6576 - val_mean_absolute_error: 0.0688\n",
      "Epoch 36/100\n",
      "136/136 [==============================] - 13s 99ms/step - loss: 0.6233 - mean_absolute_error: 0.0515 - val_loss: 1.6576 - val_mean_absolute_error: 0.0742\n",
      "Epoch 37/100\n",
      "136/136 [==============================] - 7s 54ms/step - loss: 0.6226 - mean_absolute_error: 0.0508 - val_loss: 1.6578 - val_mean_absolute_error: 0.0753\n",
      "Epoch 38/100\n",
      "136/136 [==============================] - 13s 99ms/step - loss: 0.6228 - mean_absolute_error: 0.0519 - val_loss: 1.6578 - val_mean_absolute_error: 0.0754\n",
      "Epoch 39/100\n",
      "136/136 [==============================] - 7s 54ms/step - loss: 0.6221 - mean_absolute_error: 0.0516 - val_loss: 1.6587 - val_mean_absolute_error: 0.0830\n",
      "Epoch 40/100\n",
      "136/136 [==============================] - 13s 98ms/step - loss: 0.6219 - mean_absolute_error: 0.0531 - val_loss: 1.6600 - val_mean_absolute_error: 0.0906\n",
      "Epoch 41/100\n",
      "136/136 [==============================] - 8s 56ms/step - loss: 0.6217 - mean_absolute_error: 0.0528 - val_loss: 1.6599 - val_mean_absolute_error: 0.0832\n",
      "Epoch 42/100\n",
      "136/136 [==============================] - 7s 53ms/step - loss: 0.6213 - mean_absolute_error: 0.0520 - val_loss: 1.6576 - val_mean_absolute_error: 0.0804\n",
      "Epoch 43/100\n",
      "136/136 [==============================] - 9s 64ms/step - loss: 0.6402 - mean_absolute_error: 0.0808 - val_loss: 1.6576 - val_mean_absolute_error: 0.0744\n",
      "Epoch 44/100\n",
      "136/136 [==============================] - 9s 69ms/step - loss: 0.6322 - mean_absolute_error: 0.0615 - val_loss: 1.6582 - val_mean_absolute_error: 0.0806\n"
     ]
    }
   ],
   "source": [
    "MAX_EPOCHS = 100\n",
    "history = multi_lstm_model.fit(X_train, Y_train, epochs=MAX_EPOCHS, callbacks=[early_stopping], batch_size = 1024, validation_data=(X_val, Y_val))"
   ]
  },
  {
   "cell_type": "code",
   "execution_count": 14,
   "id": "8edd5f02",
   "metadata": {},
   "outputs": [
    {
     "data": {
      "image/png": "[encoded data removed]",
      "text/plain": [
       "<Figure size 640x480 with 1 Axes>"
      ]
     },
     "metadata": {},
     "output_type": "display_data"
    }
   ],
   "source": [
    "plt.plot(history.history[\"loss\"], label = \"Loss\")\n",
    "plt.plot(history.history[\"val_loss\"], label = \"Validation loss\")\n",
    "\n",
    "plt.legend()\n",
    "plt.show()"
   ]
  },
  {
   "cell_type": "code",
   "execution_count": 68,
   "id": "22ab4eeb",
   "metadata": {},
   "outputs": [],
   "source": [
    "multi_lstm_model.save(\"models/MultiLSTM\", save_format=\"h5\")"
   ]
  },
  {
   "cell_type": "code",
   "execution_count": 15,
   "id": "8732cb49",
   "metadata": {},
   "outputs": [
    {
     "name": "stdout",
     "output_type": "stream",
     "text": [
      "619/619 [==============================] - 6s 10ms/step - loss: 15.4084 - mean_absolute_error: 0.2489\n"
     ]
    },
    {
     "data": {
      "text/plain": [
       "[15.408414840698242, 0.24891774356365204]"
      ]
     },
     "execution_count": 15,
     "metadata": {},
     "output_type": "execute_result"
    }
   ],
   "source": [
    "multi_lstm_model.evaluate(X_test, Y_test)"
   ]
  },
  {
   "cell_type": "code",
   "execution_count": 16,
   "id": "94f541dc",
   "metadata": {},
   "outputs": [
    {
     "data": {
      "text/plain": [
       "array([[[3.96, 4.08, 4.09, 4.06, 4.26, 4.53, 4.68],\n",
       "        [3.94, 4.07, 4.07, 4.06, 4.23, 4.5 , 4.64],\n",
       "        [3.93, 4.05, 4.06, 4.05, 4.22, 4.47, 4.61],\n",
       "        [3.91, 4.03, 4.03, 4.04, 4.19, 4.44, 4.57],\n",
       "        [3.89, 4.02, 4.02, 4.02, 4.18, 4.4 , 4.54],\n",
       "        [3.87, 4.  , 4.01, 4.01, 4.16, 4.38, 4.51],\n",
       "        [3.85, 3.98, 3.99, 3.99, 4.15, 4.35, 4.48],\n",
       "        [3.82, 3.98, 3.98, 3.97, 4.14, 4.33, 4.45],\n",
       "        [3.79, 3.96, 3.96, 3.96, 4.13, 4.31, 4.43],\n",
       "        [3.76, 3.93, 3.96, 3.94, 4.12, 4.29, 4.4 ],\n",
       "        [3.72, 3.92, 3.95, 3.93, 4.09, 4.27, 4.38],\n",
       "        [3.7 , 3.89, 3.93, 3.92, 4.08, 4.26, 4.36],\n",
       "        [3.67, 3.86, 3.92, 3.92, 4.06, 4.24, 4.33],\n",
       "        [3.63, 3.83, 3.89, 3.91, 4.04, 4.22, 4.32],\n",
       "        [3.59, 3.81, 3.87, 3.9 , 4.02, 4.19, 4.3 ],\n",
       "        [3.56, 3.77, 3.84, 3.89, 4.01, 4.17, 4.28],\n",
       "        [3.52, 3.72, 3.81, 3.87, 3.99, 4.16, 4.26],\n",
       "        [3.46, 3.69, 3.77, 3.84, 3.97, 4.14, 4.25],\n",
       "        [3.41, 3.66, 3.74, 3.82, 3.97, 4.12, 4.22],\n",
       "        [3.38, 3.61, 3.7 , 3.8 , 3.95, 4.11, 4.2 ],\n",
       "        [3.33, 3.56, 3.67, 3.76, 3.95, 4.09, 4.19],\n",
       "        [3.27, 3.5 , 3.63, 3.73, 3.94, 4.07, 4.17],\n",
       "        [3.23, 3.47, 3.59, 3.7 , 3.92, 4.07, 4.16],\n",
       "        [3.18, 3.42, 3.54, 3.66, 3.89, 4.06, 4.15]]])"
      ]
     },
     "execution_count": 16,
     "metadata": {},
     "output_type": "execute_result"
    }
   ],
   "source": [
    "test = np.array([X_train[0]])\n",
    "real = np.array([Y_train[0]])\n",
    "test"
   ]
  },
  {
   "cell_type": "code",
   "execution_count": 17,
   "id": "a253c128",
   "metadata": {},
   "outputs": [
    {
     "name": "stdout",
     "output_type": "stream",
     "text": [
      "1/1 [==============================] - 1s 886ms/step\n"
     ]
    }
   ],
   "source": [
    "pred = multi_lstm_model.predict(test)"
   ]
  },
  {
   "cell_type": "code",
   "execution_count": 18,
   "id": "b086bd94",
   "metadata": {},
   "outputs": [
    {
     "data": {
      "text/plain": [
       "array([[[3.2017872, 3.3570573, 3.459701 , 3.5438318, 3.8246005,\n",
       "         4.0722833, 4.29194  ],\n",
       "        [3.135948 , 3.3198693, 3.4260058, 3.5102   , 3.7978885,\n",
       "         4.0443316, 4.166992 ],\n",
       "        [3.100982 , 3.280936 , 3.3850863, 3.4744606, 3.7485936,\n",
       "         4.0155416, 4.215123 ]]], dtype=float32)"
      ]
     },
     "execution_count": 18,
     "metadata": {},
     "output_type": "execute_result"
    }
   ],
   "source": [
    "pred"
   ]
  },
  {
   "cell_type": "code",
   "execution_count": 37,
   "id": "99eb080a",
   "metadata": {},
   "outputs": [
    {
     "data": {
      "image/png": "[encoded data removed]",
      "text/plain": [
       "<Figure size 1000x800 with 7 Axes>"
      ]
     },
     "metadata": {},
     "output_type": "display_data"
    }
   ],
   "source": [
    "ports =[\"Saint Nazaire\", \"Montoir\", \"Paimboeuf\", \"Cordemais\", \"Le Pellerin\", \"Nantes - UB\", \"Nantes - SAL\"]\n",
    "abs = [i for i in range(input_length+output_length)]\n",
    "fig, axs = plt.subplots(4,2, figsize = (10,8))\n",
    "gs = axs[1, 1].get_gridspec()\n",
    "\n",
    "axs = axs.reshape([axs.shape[0]*axs.shape[1]])\n",
    "for ax,i in zip(axs,range(pred.shape[2]-1)):\n",
    "    ax.set_title(ports[i])\n",
    "    ax.get_xaxis().set_visible(False)\n",
    "    ax.scatter(abs[:input_length], test[0,:,i], label = \"Previous steps\", marker=\"x\")\n",
    "    ax.scatter(abs[input_length:], pred[0,:,i], label = \"Predicted steps\", marker=\"x\")\n",
    "    ax.scatter(abs[input_length:], real[0,:,i], label = \"Real steps\", marker=\"x\")\n",
    "\n",
    "handles, labels = ax.get_legend_handles_labels()\n",
    "\n",
    "for ax in axs[-2:]:\n",
    "    ax.remove()\n",
    "    \n",
    "axbig = fig.add_subplot(gs[-1, :])\n",
    "axbig.get_xaxis().set_visible(False)\n",
    "axbig.set_title(ports[-1])\n",
    "axbig.scatter(abs[:input_length], test[0,:,-1], marker = \"x\")\n",
    "axbig.scatter(abs[input_length:], pred[0,:,-1], marker = \"x\")\n",
    "axbig.scatter(abs[input_length:], real[0,:,-1], marker=\"x\")\n",
    "\n",
    "\n",
    "fig.suptitle('Water level forecast along the Nantes estuary', fontsize=16)\n",
    "fig.legend(handles, labels, loc='upper right')\n",
    "plt.show()\n",
    "fig.savefig(\"Predictions.png\")"
   ]
  },
  {
   "cell_type": "code",
   "execution_count": null,
   "id": "1a4f5912",
   "metadata": {},
   "outputs": [],
   "source": []
  }
 ],
 "metadata": {
  "kernelspec": {
   "display_name": "Python 3 (ipykernel)",
   "language": "python",
   "name": "python3"
  },
  "language_info": {
   "codemirror_mode": {
    "name": "ipython",
    "version": 3
   },
   "file_extension": ".py",
   "mimetype": "text/x-python",
   "name": "python",
   "nbconvert_exporter": "python",
   "pygments_lexer": "ipython3",
   "version": "3.10.6"
  },
  "vscode": {
   "interpreter": {
    "hash": "cfd8684c7f53546f7fdc85df00f20bbd1266ef94d3e3b65674cf698d02319b94"
   }
  }
 },
 "nbformat": 4,
 "nbformat_minor": 5
}
